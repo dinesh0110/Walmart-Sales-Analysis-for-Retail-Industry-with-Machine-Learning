{
  "nbformat": 4,
  "nbformat_minor": 0,
  "metadata": {
    "colab": {
      "provenance": []
    },
    "kernelspec": {
      "name": "python3",
      "display_name": "Python 3"
    },
    "language_info": {
      "name": "python"
    }
  },
  "cells": [
    {
      "cell_type": "markdown",
      "source": [
        "**AI ASSIGNMENT 1**\n",
        "\n",
        "\n",
        "\n",
        "\n"
      ],
      "metadata": {
        "id": "rwolh03_4gdR"
      }
    },
    {
      "cell_type": "markdown",
      "source": [
        "1. Write a python Program to display the last digit of number(hint: Any number divide by 10 will return last digit)"
      ],
      "metadata": {
        "id": "0qEHtvtK6Tke"
      }
    },
    {
      "cell_type": "code",
      "source": [
        "number = int(input(\"Please Enter any Number: \"))\n",
        "last_digit = number%10\n",
        "print(\"last digit of number =\",last_digit)"
      ],
      "metadata": {
        "colab": {
          "base_uri": "https://localhost:8080/"
        },
        "id": "XpTNrYRxf0Ob",
        "outputId": "43ef893f-468d-49f9-9e11-51850aaae721"
      },
      "execution_count": null,
      "outputs": [
        {
          "output_type": "stream",
          "name": "stdout",
          "text": [
            "Please Enter any Number: 66\n",
            "last digit of number = 6\n"
          ]
        }
      ]
    },
    {
      "cell_type": "markdown",
      "source": [
        "2. Write a function to Calculate Area and Perimeter of Rectangle"
      ],
      "metadata": {
        "id": "heU4XmV16VkJ"
      }
    },
    {
      "cell_type": "code",
      "source": [
        "def rectangle(length, breadth):\n",
        "  area = length * breadth\n",
        "  perimeter = 2 * (length + breadth)\n",
        "  return area, perimeter\n",
        "\n",
        "length = int(input(\"Enter the length of the rectangle: \"))\n",
        "breadth = int(input(\"Enter the width of the rectangle: \"))\n",
        "\n",
        "area,perimeter = rectangle(length,breadth)\n",
        "print(\"area of rectangle:\", area)\n",
        "print(\"perimeter of rectangle:\",perimeter)"
      ],
      "metadata": {
        "colab": {
          "base_uri": "https://localhost:8080/"
        },
        "id": "o_jJBEsKg5fO",
        "outputId": "fe6bc6a6-dedd-4431-88b6-a151dbcf6e09"
      },
      "execution_count": null,
      "outputs": [
        {
          "output_type": "stream",
          "name": "stdout",
          "text": [
            "Enter the length of the rectangle: 25\n",
            "Enter the width of the rectangle: 30\n",
            "area of rectangle: 750\n",
            "perimeter of rectangle: 110\n"
          ]
        }
      ]
    },
    {
      "cell_type": "markdown",
      "source": [
        "3. Write a python Program to find out given No is Prime or Not\\.\n"
      ],
      "metadata": {
        "id": "Wqp4d9mQ6aRq"
      }
    },
    {
      "cell_type": "code",
      "source": [
        "number = int(input(\"Please Enter any Number: \"))\n",
        "for i in range (2,number):\n",
        "  if number%i==0:\n",
        "    print(number,\"is not a prime number\")\n",
        "    break\n",
        "  else:\n",
        "    print(number,\"is a prime number\")\n"
      ],
      "metadata": {
        "colab": {
          "base_uri": "https://localhost:8080/"
        },
        "id": "oldxca6kn5XG",
        "outputId": "8a363dea-09f1-4097-fd71-347ac2e30caa"
      },
      "execution_count": null,
      "outputs": [
        {
          "output_type": "stream",
          "name": "stdout",
          "text": [
            "Please Enter any Number: 12\n",
            "12 is not a prime number\n"
          ]
        }
      ]
    },
    {
      "cell_type": "markdown",
      "source": [
        "4. Write a Python program that prompts the user to input three numbers and then determines and\n",
        "prints the largest among them."
      ],
      "metadata": {
        "id": "Sj-3sBDF6l7Z"
      }
    },
    {
      "cell_type": "code",
      "source": [
        "num1 = float(input(\"Enter the first number: \"))\n",
        "num2 = float(input(\"Enter the second number: \"))\n",
        "num3 = float(input(\"Enter the third number: \"))\n",
        "result=max(num1,num2,num3)\n",
        "print(\"largest number:\",result)"
      ],
      "metadata": {
        "colab": {
          "base_uri": "https://localhost:8080/"
        },
        "id": "KmLC5uvQtIfa",
        "outputId": "f601e2d2-c597-4ec7-de56-758c75106cb6"
      },
      "execution_count": null,
      "outputs": [
        {
          "output_type": "stream",
          "name": "stdout",
          "text": [
            "Enter the first number: 45\n",
            "Enter the second number: 52\n",
            "Enter the third number: 30\n",
            "largest number: 52.0\n"
          ]
        }
      ]
    },
    {
      "cell_type": "markdown",
      "source": [
        "5. Write a Python program to calculate electricity bill (accept no of unit from user) according to following criteria: Unit Price\n",
        "First 100 units  no charge\n",
        "Next 100 units Rs 5 per Unit\n",
        "After 200 Units Rs 10 per Unit\n",
        "(For Example if input unit is 350 then total bill amount is 2000)"
      ],
      "metadata": {
        "id": "FOIyQFuq6n4Y"
      }
    },
    {
      "cell_type": "code",
      "source": [
        "units = int(input(\"Please enter the number of units consumed: \"))\n",
        "\n",
        "if units <= 100:\n",
        "    total_bill = 0\n",
        "elif units <= 200:\n",
        "    total_bill = (units - 100) * 5\n",
        "else:\n",
        "    total_bill = 100 * 5 + 100 * 10 + (units - 200) * 10\n",
        "\n",
        "print(f\"Total electricity bill: Rs {total_bill:.2f}\")"
      ],
      "metadata": {
        "colab": {
          "base_uri": "https://localhost:8080/"
        },
        "id": "Q0YPBXBMwXXh",
        "outputId": "594133ca-e27c-4d16-8e9a-7f70b7124c72"
      },
      "execution_count": null,
      "outputs": [
        {
          "output_type": "stream",
          "name": "stdout",
          "text": [
            "Please enter the number of units consumed: 300\n",
            "Total electricity bill: Rs 3000.00\n"
          ]
        }
      ]
    },
    {
      "cell_type": "markdown",
      "source": [
        "6. Write a program to accept numbers from 1-7 and display name of day like- 1 for sunday, 2 for Monday and so on."
      ],
      "metadata": {
        "id": "GPchIstz6qf6"
      }
    },
    {
      "cell_type": "code",
      "source": [
        "day_number = int(input(\"Enter a number from 1 to 7: \"))\n",
        "\n",
        "days = {1: \"Sunday\", 2: \"Monday\", 3: \"Tuesday\", 4: \"Wednesday\", 5: \"Thursday\", 6: \"Friday\", 7: \"Saturday\"}\n",
        "\n",
        "if day_number in days:\n",
        "    print(f\"{day_number} is {days[day_number]}\")\n",
        "else:\n",
        "    print(\"Invalid input! Please enter a number between 1 and 7.\")"
      ],
      "metadata": {
        "colab": {
          "base_uri": "https://localhost:8080/"
        },
        "id": "KBFHdq7dxut5",
        "outputId": "c83eb897-fda2-4a38-f3ff-eac5ca6dcdc3"
      },
      "execution_count": null,
      "outputs": [
        {
          "output_type": "stream",
          "name": "stdout",
          "text": [
            "Enter a number from 1 to 7: 2\n",
            "2 is Monday\n"
          ]
        }
      ]
    },
    {
      "cell_type": "markdown",
      "source": [
        "7. Write a python program to check given word is Palindrome or not"
      ],
      "metadata": {
        "id": "YBu4Q-t-6tuS"
      }
    },
    {
      "cell_type": "code",
      "source": [
        "word =str(input(\"Enter any word: \"))\n",
        "if word==word[::-1]:\n",
        "  print(word,\"is a palindrome\")\n",
        "else:\n",
        "  print(word,\"is not a palindromr\")"
      ],
      "metadata": {
        "colab": {
          "base_uri": "https://localhost:8080/"
        },
        "id": "XwyIGUyl4X6g",
        "outputId": "87d94284-08f3-4840-cfa9-5205141bbdf8"
      },
      "execution_count": null,
      "outputs": [
        {
          "output_type": "stream",
          "name": "stdout",
          "text": [
            "Enter any word: racecar\n",
            "racecar is a palindrome\n"
          ]
        }
      ]
    },
    {
      "cell_type": "markdown",
      "source": [
        "8. Download the Dataset- https://www.kaggle.com/datasets/mohamedafsal007/house-price-dataset-of-india\n",
        "Load the dataset."
      ],
      "metadata": {
        "id": "jOxjIpQI6vig"
      }
    },
    {
      "cell_type": "code",
      "source": [
        "from google.colab import files\n",
        "\n",
        "\n",
        "uploaded = files.upload()"
      ],
      "metadata": {
        "colab": {
          "base_uri": "https://localhost:8080/",
          "height": 73
        },
        "id": "_i_RJx1G7Aht",
        "outputId": "7f846248-b834-48a8-ec4e-5aef5f48d526"
      },
      "execution_count": 1,
      "outputs": [
        {
          "output_type": "display_data",
          "data": {
            "text/plain": [
              "<IPython.core.display.HTML object>"
            ],
            "text/html": [
              "\n",
              "     <input type=\"file\" id=\"files-9efdcb3a-eb80-47de-9402-a0564f15fdd3\" name=\"files[]\" multiple disabled\n",
              "        style=\"border:none\" />\n",
              "     <output id=\"result-9efdcb3a-eb80-47de-9402-a0564f15fdd3\">\n",
              "      Upload widget is only available when the cell has been executed in the\n",
              "      current browser session. Please rerun this cell to enable.\n",
              "      </output>\n",
              "      <script>// Copyright 2017 Google LLC\n",
              "//\n",
              "// Licensed under the Apache License, Version 2.0 (the \"License\");\n",
              "// you may not use this file except in compliance with the License.\n",
              "// You may obtain a copy of the License at\n",
              "//\n",
              "//      http://www.apache.org/licenses/LICENSE-2.0\n",
              "//\n",
              "// Unless required by applicable law or agreed to in writing, software\n",
              "// distributed under the License is distributed on an \"AS IS\" BASIS,\n",
              "// WITHOUT WARRANTIES OR CONDITIONS OF ANY KIND, either express or implied.\n",
              "// See the License for the specific language governing permissions and\n",
              "// limitations under the License.\n",
              "\n",
              "/**\n",
              " * @fileoverview Helpers for google.colab Python module.\n",
              " */\n",
              "(function(scope) {\n",
              "function span(text, styleAttributes = {}) {\n",
              "  const element = document.createElement('span');\n",
              "  element.textContent = text;\n",
              "  for (const key of Object.keys(styleAttributes)) {\n",
              "    element.style[key] = styleAttributes[key];\n",
              "  }\n",
              "  return element;\n",
              "}\n",
              "\n",
              "// Max number of bytes which will be uploaded at a time.\n",
              "const MAX_PAYLOAD_SIZE = 100 * 1024;\n",
              "\n",
              "function _uploadFiles(inputId, outputId) {\n",
              "  const steps = uploadFilesStep(inputId, outputId);\n",
              "  const outputElement = document.getElementById(outputId);\n",
              "  // Cache steps on the outputElement to make it available for the next call\n",
              "  // to uploadFilesContinue from Python.\n",
              "  outputElement.steps = steps;\n",
              "\n",
              "  return _uploadFilesContinue(outputId);\n",
              "}\n",
              "\n",
              "// This is roughly an async generator (not supported in the browser yet),\n",
              "// where there are multiple asynchronous steps and the Python side is going\n",
              "// to poll for completion of each step.\n",
              "// This uses a Promise to block the python side on completion of each step,\n",
              "// then passes the result of the previous step as the input to the next step.\n",
              "function _uploadFilesContinue(outputId) {\n",
              "  const outputElement = document.getElementById(outputId);\n",
              "  const steps = outputElement.steps;\n",
              "\n",
              "  const next = steps.next(outputElement.lastPromiseValue);\n",
              "  return Promise.resolve(next.value.promise).then((value) => {\n",
              "    // Cache the last promise value to make it available to the next\n",
              "    // step of the generator.\n",
              "    outputElement.lastPromiseValue = value;\n",
              "    return next.value.response;\n",
              "  });\n",
              "}\n",
              "\n",
              "/**\n",
              " * Generator function which is called between each async step of the upload\n",
              " * process.\n",
              " * @param {string} inputId Element ID of the input file picker element.\n",
              " * @param {string} outputId Element ID of the output display.\n",
              " * @return {!Iterable<!Object>} Iterable of next steps.\n",
              " */\n",
              "function* uploadFilesStep(inputId, outputId) {\n",
              "  const inputElement = document.getElementById(inputId);\n",
              "  inputElement.disabled = false;\n",
              "\n",
              "  const outputElement = document.getElementById(outputId);\n",
              "  outputElement.innerHTML = '';\n",
              "\n",
              "  const pickedPromise = new Promise((resolve) => {\n",
              "    inputElement.addEventListener('change', (e) => {\n",
              "      resolve(e.target.files);\n",
              "    });\n",
              "  });\n",
              "\n",
              "  const cancel = document.createElement('button');\n",
              "  inputElement.parentElement.appendChild(cancel);\n",
              "  cancel.textContent = 'Cancel upload';\n",
              "  const cancelPromise = new Promise((resolve) => {\n",
              "    cancel.onclick = () => {\n",
              "      resolve(null);\n",
              "    };\n",
              "  });\n",
              "\n",
              "  // Wait for the user to pick the files.\n",
              "  const files = yield {\n",
              "    promise: Promise.race([pickedPromise, cancelPromise]),\n",
              "    response: {\n",
              "      action: 'starting',\n",
              "    }\n",
              "  };\n",
              "\n",
              "  cancel.remove();\n",
              "\n",
              "  // Disable the input element since further picks are not allowed.\n",
              "  inputElement.disabled = true;\n",
              "\n",
              "  if (!files) {\n",
              "    return {\n",
              "      response: {\n",
              "        action: 'complete',\n",
              "      }\n",
              "    };\n",
              "  }\n",
              "\n",
              "  for (const file of files) {\n",
              "    const li = document.createElement('li');\n",
              "    li.append(span(file.name, {fontWeight: 'bold'}));\n",
              "    li.append(span(\n",
              "        `(${file.type || 'n/a'}) - ${file.size} bytes, ` +\n",
              "        `last modified: ${\n",
              "            file.lastModifiedDate ? file.lastModifiedDate.toLocaleDateString() :\n",
              "                                    'n/a'} - `));\n",
              "    const percent = span('0% done');\n",
              "    li.appendChild(percent);\n",
              "\n",
              "    outputElement.appendChild(li);\n",
              "\n",
              "    const fileDataPromise = new Promise((resolve) => {\n",
              "      const reader = new FileReader();\n",
              "      reader.onload = (e) => {\n",
              "        resolve(e.target.result);\n",
              "      };\n",
              "      reader.readAsArrayBuffer(file);\n",
              "    });\n",
              "    // Wait for the data to be ready.\n",
              "    let fileData = yield {\n",
              "      promise: fileDataPromise,\n",
              "      response: {\n",
              "        action: 'continue',\n",
              "      }\n",
              "    };\n",
              "\n",
              "    // Use a chunked sending to avoid message size limits. See b/62115660.\n",
              "    let position = 0;\n",
              "    do {\n",
              "      const length = Math.min(fileData.byteLength - position, MAX_PAYLOAD_SIZE);\n",
              "      const chunk = new Uint8Array(fileData, position, length);\n",
              "      position += length;\n",
              "\n",
              "      const base64 = btoa(String.fromCharCode.apply(null, chunk));\n",
              "      yield {\n",
              "        response: {\n",
              "          action: 'append',\n",
              "          file: file.name,\n",
              "          data: base64,\n",
              "        },\n",
              "      };\n",
              "\n",
              "      let percentDone = fileData.byteLength === 0 ?\n",
              "          100 :\n",
              "          Math.round((position / fileData.byteLength) * 100);\n",
              "      percent.textContent = `${percentDone}% done`;\n",
              "\n",
              "    } while (position < fileData.byteLength);\n",
              "  }\n",
              "\n",
              "  // All done.\n",
              "  yield {\n",
              "    response: {\n",
              "      action: 'complete',\n",
              "    }\n",
              "  };\n",
              "}\n",
              "\n",
              "scope.google = scope.google || {};\n",
              "scope.google.colab = scope.google.colab || {};\n",
              "scope.google.colab._files = {\n",
              "  _uploadFiles,\n",
              "  _uploadFilesContinue,\n",
              "};\n",
              "})(self);\n",
              "</script> "
            ]
          },
          "metadata": {}
        },
        {
          "output_type": "stream",
          "name": "stdout",
          "text": [
            "Saving House Price India.csv to House Price India.csv\n"
          ]
        }
      ]
    },
    {
      "cell_type": "code",
      "source": [
        "import pandas as pd\n",
        "data = pd.read_csv(\"House Price India.csv\")\n",
        "data"
      ],
      "metadata": {
        "colab": {
          "base_uri": "https://localhost:8080/",
          "height": 496
        },
        "id": "oclzu_cd74dg",
        "outputId": "5486abc3-32e8-4448-d086-ddc288680f46"
      },
      "execution_count": 2,
      "outputs": [
        {
          "output_type": "execute_result",
          "data": {
            "text/plain": [
              "               id   Date  number of bedrooms  number of bathrooms  \\\n",
              "0      6762810145  42491                   5                 2.50   \n",
              "1      6762810635  42491                   4                 2.50   \n",
              "2      6762810998  42491                   5                 2.75   \n",
              "3      6762812605  42491                   4                 2.50   \n",
              "4      6762812919  42491                   3                 2.00   \n",
              "...           ...    ...                 ...                  ...   \n",
              "14615  6762830250  42734                   2                 1.50   \n",
              "14616  6762830339  42734                   3                 2.00   \n",
              "14617  6762830618  42734                   2                 1.00   \n",
              "14618  6762830709  42734                   4                 1.00   \n",
              "14619  6762831463  42734                   3                 1.00   \n",
              "\n",
              "       living area  lot area  number of floors  waterfront present  \\\n",
              "0             3650      9050               2.0                   0   \n",
              "1             2920      4000               1.5                   0   \n",
              "2             2910      9480               1.5                   0   \n",
              "3             3310     42998               2.0                   0   \n",
              "4             2710      4500               1.5                   0   \n",
              "...            ...       ...               ...                 ...   \n",
              "14615         1556     20000               1.0                   0   \n",
              "14616         1680      7000               1.5                   0   \n",
              "14617         1070      6120               1.0                   0   \n",
              "14618         1030      6621               1.0                   0   \n",
              "14619          900      4770               1.0                   0   \n",
              "\n",
              "       number of views  condition of the house  ...  Built Year  \\\n",
              "0                    4                       5  ...        1921   \n",
              "1                    0                       5  ...        1909   \n",
              "2                    0                       3  ...        1939   \n",
              "3                    0                       3  ...        2001   \n",
              "4                    0                       4  ...        1929   \n",
              "...                ...                     ...  ...         ...   \n",
              "14615                0                       4  ...        1957   \n",
              "14616                0                       4  ...        1968   \n",
              "14617                0                       3  ...        1962   \n",
              "14618                0                       4  ...        1955   \n",
              "14619                0                       3  ...        1969   \n",
              "\n",
              "       Renovation Year  Postal Code  Lattitude  Longitude  living_area_renov  \\\n",
              "0                    0       122003    52.8645   -114.557               2880   \n",
              "1                    0       122004    52.8878   -114.470               2470   \n",
              "2                    0       122004    52.8852   -114.468               2940   \n",
              "3                    0       122005    52.9532   -114.321               3350   \n",
              "4                    0       122006    52.9047   -114.485               2060   \n",
              "...                ...          ...        ...        ...                ...   \n",
              "14615                0       122066    52.6191   -114.472               2250   \n",
              "14616                0       122072    52.5075   -114.393               1540   \n",
              "14617                0       122056    52.7289   -114.507               1130   \n",
              "14618                0       122042    52.7157   -114.411               1420   \n",
              "14619             2009       122018    52.5338   -114.552                900   \n",
              "\n",
              "       lot_area_renov  Number of schools nearby  Distance from the airport  \\\n",
              "0                5400                         2                         58   \n",
              "1                4000                         2                         51   \n",
              "2                6600                         1                         53   \n",
              "3               42847                         3                         76   \n",
              "4                4500                         1                         51   \n",
              "...               ...                       ...                        ...   \n",
              "14615           17286                         3                         76   \n",
              "14616            7480                         3                         59   \n",
              "14617            6120                         2                         64   \n",
              "14618            6631                         3                         54   \n",
              "14619            3480                         2                         55   \n",
              "\n",
              "         Price  \n",
              "0      2380000  \n",
              "1      1400000  \n",
              "2      1200000  \n",
              "3       838000  \n",
              "4       805000  \n",
              "...        ...  \n",
              "14615   221700  \n",
              "14616   219200  \n",
              "14617   209000  \n",
              "14618   205000  \n",
              "14619   146000  \n",
              "\n",
              "[14620 rows x 23 columns]"
            ],
            "text/html": [
              "\n",
              "  <div id=\"df-63811e21-e7b7-4c20-bc58-d6c22cb753be\" class=\"colab-df-container\">\n",
              "    <div>\n",
              "<style scoped>\n",
              "    .dataframe tbody tr th:only-of-type {\n",
              "        vertical-align: middle;\n",
              "    }\n",
              "\n",
              "    .dataframe tbody tr th {\n",
              "        vertical-align: top;\n",
              "    }\n",
              "\n",
              "    .dataframe thead th {\n",
              "        text-align: right;\n",
              "    }\n",
              "</style>\n",
              "<table border=\"1\" class=\"dataframe\">\n",
              "  <thead>\n",
              "    <tr style=\"text-align: right;\">\n",
              "      <th></th>\n",
              "      <th>id</th>\n",
              "      <th>Date</th>\n",
              "      <th>number of bedrooms</th>\n",
              "      <th>number of bathrooms</th>\n",
              "      <th>living area</th>\n",
              "      <th>lot area</th>\n",
              "      <th>number of floors</th>\n",
              "      <th>waterfront present</th>\n",
              "      <th>number of views</th>\n",
              "      <th>condition of the house</th>\n",
              "      <th>...</th>\n",
              "      <th>Built Year</th>\n",
              "      <th>Renovation Year</th>\n",
              "      <th>Postal Code</th>\n",
              "      <th>Lattitude</th>\n",
              "      <th>Longitude</th>\n",
              "      <th>living_area_renov</th>\n",
              "      <th>lot_area_renov</th>\n",
              "      <th>Number of schools nearby</th>\n",
              "      <th>Distance from the airport</th>\n",
              "      <th>Price</th>\n",
              "    </tr>\n",
              "  </thead>\n",
              "  <tbody>\n",
              "    <tr>\n",
              "      <th>0</th>\n",
              "      <td>6762810145</td>\n",
              "      <td>42491</td>\n",
              "      <td>5</td>\n",
              "      <td>2.50</td>\n",
              "      <td>3650</td>\n",
              "      <td>9050</td>\n",
              "      <td>2.0</td>\n",
              "      <td>0</td>\n",
              "      <td>4</td>\n",
              "      <td>5</td>\n",
              "      <td>...</td>\n",
              "      <td>1921</td>\n",
              "      <td>0</td>\n",
              "      <td>122003</td>\n",
              "      <td>52.8645</td>\n",
              "      <td>-114.557</td>\n",
              "      <td>2880</td>\n",
              "      <td>5400</td>\n",
              "      <td>2</td>\n",
              "      <td>58</td>\n",
              "      <td>2380000</td>\n",
              "    </tr>\n",
              "    <tr>\n",
              "      <th>1</th>\n",
              "      <td>6762810635</td>\n",
              "      <td>42491</td>\n",
              "      <td>4</td>\n",
              "      <td>2.50</td>\n",
              "      <td>2920</td>\n",
              "      <td>4000</td>\n",
              "      <td>1.5</td>\n",
              "      <td>0</td>\n",
              "      <td>0</td>\n",
              "      <td>5</td>\n",
              "      <td>...</td>\n",
              "      <td>1909</td>\n",
              "      <td>0</td>\n",
              "      <td>122004</td>\n",
              "      <td>52.8878</td>\n",
              "      <td>-114.470</td>\n",
              "      <td>2470</td>\n",
              "      <td>4000</td>\n",
              "      <td>2</td>\n",
              "      <td>51</td>\n",
              "      <td>1400000</td>\n",
              "    </tr>\n",
              "    <tr>\n",
              "      <th>2</th>\n",
              "      <td>6762810998</td>\n",
              "      <td>42491</td>\n",
              "      <td>5</td>\n",
              "      <td>2.75</td>\n",
              "      <td>2910</td>\n",
              "      <td>9480</td>\n",
              "      <td>1.5</td>\n",
              "      <td>0</td>\n",
              "      <td>0</td>\n",
              "      <td>3</td>\n",
              "      <td>...</td>\n",
              "      <td>1939</td>\n",
              "      <td>0</td>\n",
              "      <td>122004</td>\n",
              "      <td>52.8852</td>\n",
              "      <td>-114.468</td>\n",
              "      <td>2940</td>\n",
              "      <td>6600</td>\n",
              "      <td>1</td>\n",
              "      <td>53</td>\n",
              "      <td>1200000</td>\n",
              "    </tr>\n",
              "    <tr>\n",
              "      <th>3</th>\n",
              "      <td>6762812605</td>\n",
              "      <td>42491</td>\n",
              "      <td>4</td>\n",
              "      <td>2.50</td>\n",
              "      <td>3310</td>\n",
              "      <td>42998</td>\n",
              "      <td>2.0</td>\n",
              "      <td>0</td>\n",
              "      <td>0</td>\n",
              "      <td>3</td>\n",
              "      <td>...</td>\n",
              "      <td>2001</td>\n",
              "      <td>0</td>\n",
              "      <td>122005</td>\n",
              "      <td>52.9532</td>\n",
              "      <td>-114.321</td>\n",
              "      <td>3350</td>\n",
              "      <td>42847</td>\n",
              "      <td>3</td>\n",
              "      <td>76</td>\n",
              "      <td>838000</td>\n",
              "    </tr>\n",
              "    <tr>\n",
              "      <th>4</th>\n",
              "      <td>6762812919</td>\n",
              "      <td>42491</td>\n",
              "      <td>3</td>\n",
              "      <td>2.00</td>\n",
              "      <td>2710</td>\n",
              "      <td>4500</td>\n",
              "      <td>1.5</td>\n",
              "      <td>0</td>\n",
              "      <td>0</td>\n",
              "      <td>4</td>\n",
              "      <td>...</td>\n",
              "      <td>1929</td>\n",
              "      <td>0</td>\n",
              "      <td>122006</td>\n",
              "      <td>52.9047</td>\n",
              "      <td>-114.485</td>\n",
              "      <td>2060</td>\n",
              "      <td>4500</td>\n",
              "      <td>1</td>\n",
              "      <td>51</td>\n",
              "      <td>805000</td>\n",
              "    </tr>\n",
              "    <tr>\n",
              "      <th>...</th>\n",
              "      <td>...</td>\n",
              "      <td>...</td>\n",
              "      <td>...</td>\n",
              "      <td>...</td>\n",
              "      <td>...</td>\n",
              "      <td>...</td>\n",
              "      <td>...</td>\n",
              "      <td>...</td>\n",
              "      <td>...</td>\n",
              "      <td>...</td>\n",
              "      <td>...</td>\n",
              "      <td>...</td>\n",
              "      <td>...</td>\n",
              "      <td>...</td>\n",
              "      <td>...</td>\n",
              "      <td>...</td>\n",
              "      <td>...</td>\n",
              "      <td>...</td>\n",
              "      <td>...</td>\n",
              "      <td>...</td>\n",
              "      <td>...</td>\n",
              "    </tr>\n",
              "    <tr>\n",
              "      <th>14615</th>\n",
              "      <td>6762830250</td>\n",
              "      <td>42734</td>\n",
              "      <td>2</td>\n",
              "      <td>1.50</td>\n",
              "      <td>1556</td>\n",
              "      <td>20000</td>\n",
              "      <td>1.0</td>\n",
              "      <td>0</td>\n",
              "      <td>0</td>\n",
              "      <td>4</td>\n",
              "      <td>...</td>\n",
              "      <td>1957</td>\n",
              "      <td>0</td>\n",
              "      <td>122066</td>\n",
              "      <td>52.6191</td>\n",
              "      <td>-114.472</td>\n",
              "      <td>2250</td>\n",
              "      <td>17286</td>\n",
              "      <td>3</td>\n",
              "      <td>76</td>\n",
              "      <td>221700</td>\n",
              "    </tr>\n",
              "    <tr>\n",
              "      <th>14616</th>\n",
              "      <td>6762830339</td>\n",
              "      <td>42734</td>\n",
              "      <td>3</td>\n",
              "      <td>2.00</td>\n",
              "      <td>1680</td>\n",
              "      <td>7000</td>\n",
              "      <td>1.5</td>\n",
              "      <td>0</td>\n",
              "      <td>0</td>\n",
              "      <td>4</td>\n",
              "      <td>...</td>\n",
              "      <td>1968</td>\n",
              "      <td>0</td>\n",
              "      <td>122072</td>\n",
              "      <td>52.5075</td>\n",
              "      <td>-114.393</td>\n",
              "      <td>1540</td>\n",
              "      <td>7480</td>\n",
              "      <td>3</td>\n",
              "      <td>59</td>\n",
              "      <td>219200</td>\n",
              "    </tr>\n",
              "    <tr>\n",
              "      <th>14617</th>\n",
              "      <td>6762830618</td>\n",
              "      <td>42734</td>\n",
              "      <td>2</td>\n",
              "      <td>1.00</td>\n",
              "      <td>1070</td>\n",
              "      <td>6120</td>\n",
              "      <td>1.0</td>\n",
              "      <td>0</td>\n",
              "      <td>0</td>\n",
              "      <td>3</td>\n",
              "      <td>...</td>\n",
              "      <td>1962</td>\n",
              "      <td>0</td>\n",
              "      <td>122056</td>\n",
              "      <td>52.7289</td>\n",
              "      <td>-114.507</td>\n",
              "      <td>1130</td>\n",
              "      <td>6120</td>\n",
              "      <td>2</td>\n",
              "      <td>64</td>\n",
              "      <td>209000</td>\n",
              "    </tr>\n",
              "    <tr>\n",
              "      <th>14618</th>\n",
              "      <td>6762830709</td>\n",
              "      <td>42734</td>\n",
              "      <td>4</td>\n",
              "      <td>1.00</td>\n",
              "      <td>1030</td>\n",
              "      <td>6621</td>\n",
              "      <td>1.0</td>\n",
              "      <td>0</td>\n",
              "      <td>0</td>\n",
              "      <td>4</td>\n",
              "      <td>...</td>\n",
              "      <td>1955</td>\n",
              "      <td>0</td>\n",
              "      <td>122042</td>\n",
              "      <td>52.7157</td>\n",
              "      <td>-114.411</td>\n",
              "      <td>1420</td>\n",
              "      <td>6631</td>\n",
              "      <td>3</td>\n",
              "      <td>54</td>\n",
              "      <td>205000</td>\n",
              "    </tr>\n",
              "    <tr>\n",
              "      <th>14619</th>\n",
              "      <td>6762831463</td>\n",
              "      <td>42734</td>\n",
              "      <td>3</td>\n",
              "      <td>1.00</td>\n",
              "      <td>900</td>\n",
              "      <td>4770</td>\n",
              "      <td>1.0</td>\n",
              "      <td>0</td>\n",
              "      <td>0</td>\n",
              "      <td>3</td>\n",
              "      <td>...</td>\n",
              "      <td>1969</td>\n",
              "      <td>2009</td>\n",
              "      <td>122018</td>\n",
              "      <td>52.5338</td>\n",
              "      <td>-114.552</td>\n",
              "      <td>900</td>\n",
              "      <td>3480</td>\n",
              "      <td>2</td>\n",
              "      <td>55</td>\n",
              "      <td>146000</td>\n",
              "    </tr>\n",
              "  </tbody>\n",
              "</table>\n",
              "<p>14620 rows × 23 columns</p>\n",
              "</div>\n",
              "    <div class=\"colab-df-buttons\">\n",
              "\n",
              "  <div class=\"colab-df-container\">\n",
              "    <button class=\"colab-df-convert\" onclick=\"convertToInteractive('df-63811e21-e7b7-4c20-bc58-d6c22cb753be')\"\n",
              "            title=\"Convert this dataframe to an interactive table.\"\n",
              "            style=\"display:none;\">\n",
              "\n",
              "  <svg xmlns=\"http://www.w3.org/2000/svg\" height=\"24px\" viewBox=\"0 -960 960 960\">\n",
              "    <path d=\"M120-120v-720h720v720H120Zm60-500h600v-160H180v160Zm220 220h160v-160H400v160Zm0 220h160v-160H400v160ZM180-400h160v-160H180v160Zm440 0h160v-160H620v160ZM180-180h160v-160H180v160Zm440 0h160v-160H620v160Z\"/>\n",
              "  </svg>\n",
              "    </button>\n",
              "\n",
              "  <style>\n",
              "    .colab-df-container {\n",
              "      display:flex;\n",
              "      gap: 12px;\n",
              "    }\n",
              "\n",
              "    .colab-df-convert {\n",
              "      background-color: #E8F0FE;\n",
              "      border: none;\n",
              "      border-radius: 50%;\n",
              "      cursor: pointer;\n",
              "      display: none;\n",
              "      fill: #1967D2;\n",
              "      height: 32px;\n",
              "      padding: 0 0 0 0;\n",
              "      width: 32px;\n",
              "    }\n",
              "\n",
              "    .colab-df-convert:hover {\n",
              "      background-color: #E2EBFA;\n",
              "      box-shadow: 0px 1px 2px rgba(60, 64, 67, 0.3), 0px 1px 3px 1px rgba(60, 64, 67, 0.15);\n",
              "      fill: #174EA6;\n",
              "    }\n",
              "\n",
              "    .colab-df-buttons div {\n",
              "      margin-bottom: 4px;\n",
              "    }\n",
              "\n",
              "    [theme=dark] .colab-df-convert {\n",
              "      background-color: #3B4455;\n",
              "      fill: #D2E3FC;\n",
              "    }\n",
              "\n",
              "    [theme=dark] .colab-df-convert:hover {\n",
              "      background-color: #434B5C;\n",
              "      box-shadow: 0px 1px 3px 1px rgba(0, 0, 0, 0.15);\n",
              "      filter: drop-shadow(0px 1px 2px rgba(0, 0, 0, 0.3));\n",
              "      fill: #FFFFFF;\n",
              "    }\n",
              "  </style>\n",
              "\n",
              "    <script>\n",
              "      const buttonEl =\n",
              "        document.querySelector('#df-63811e21-e7b7-4c20-bc58-d6c22cb753be button.colab-df-convert');\n",
              "      buttonEl.style.display =\n",
              "        google.colab.kernel.accessAllowed ? 'block' : 'none';\n",
              "\n",
              "      async function convertToInteractive(key) {\n",
              "        const element = document.querySelector('#df-63811e21-e7b7-4c20-bc58-d6c22cb753be');\n",
              "        const dataTable =\n",
              "          await google.colab.kernel.invokeFunction('convertToInteractive',\n",
              "                                                    [key], {});\n",
              "        if (!dataTable) return;\n",
              "\n",
              "        const docLinkHtml = 'Like what you see? Visit the ' +\n",
              "          '<a target=\"_blank\" href=https://colab.research.google.com/notebooks/data_table.ipynb>data table notebook</a>'\n",
              "          + ' to learn more about interactive tables.';\n",
              "        element.innerHTML = '';\n",
              "        dataTable['output_type'] = 'display_data';\n",
              "        await google.colab.output.renderOutput(dataTable, element);\n",
              "        const docLink = document.createElement('div');\n",
              "        docLink.innerHTML = docLinkHtml;\n",
              "        element.appendChild(docLink);\n",
              "      }\n",
              "    </script>\n",
              "  </div>\n",
              "\n",
              "\n",
              "<div id=\"df-3a22ad06-0dca-4f36-bcf3-36da4a837e60\">\n",
              "  <button class=\"colab-df-quickchart\" onclick=\"quickchart('df-3a22ad06-0dca-4f36-bcf3-36da4a837e60')\"\n",
              "            title=\"Suggest charts\"\n",
              "            style=\"display:none;\">\n",
              "\n",
              "<svg xmlns=\"http://www.w3.org/2000/svg\" height=\"24px\"viewBox=\"0 0 24 24\"\n",
              "     width=\"24px\">\n",
              "    <g>\n",
              "        <path d=\"M19 3H5c-1.1 0-2 .9-2 2v14c0 1.1.9 2 2 2h14c1.1 0 2-.9 2-2V5c0-1.1-.9-2-2-2zM9 17H7v-7h2v7zm4 0h-2V7h2v10zm4 0h-2v-4h2v4z\"/>\n",
              "    </g>\n",
              "</svg>\n",
              "  </button>\n",
              "\n",
              "<style>\n",
              "  .colab-df-quickchart {\n",
              "      --bg-color: #E8F0FE;\n",
              "      --fill-color: #1967D2;\n",
              "      --hover-bg-color: #E2EBFA;\n",
              "      --hover-fill-color: #174EA6;\n",
              "      --disabled-fill-color: #AAA;\n",
              "      --disabled-bg-color: #DDD;\n",
              "  }\n",
              "\n",
              "  [theme=dark] .colab-df-quickchart {\n",
              "      --bg-color: #3B4455;\n",
              "      --fill-color: #D2E3FC;\n",
              "      --hover-bg-color: #434B5C;\n",
              "      --hover-fill-color: #FFFFFF;\n",
              "      --disabled-bg-color: #3B4455;\n",
              "      --disabled-fill-color: #666;\n",
              "  }\n",
              "\n",
              "  .colab-df-quickchart {\n",
              "    background-color: var(--bg-color);\n",
              "    border: none;\n",
              "    border-radius: 50%;\n",
              "    cursor: pointer;\n",
              "    display: none;\n",
              "    fill: var(--fill-color);\n",
              "    height: 32px;\n",
              "    padding: 0;\n",
              "    width: 32px;\n",
              "  }\n",
              "\n",
              "  .colab-df-quickchart:hover {\n",
              "    background-color: var(--hover-bg-color);\n",
              "    box-shadow: 0 1px 2px rgba(60, 64, 67, 0.3), 0 1px 3px 1px rgba(60, 64, 67, 0.15);\n",
              "    fill: var(--button-hover-fill-color);\n",
              "  }\n",
              "\n",
              "  .colab-df-quickchart-complete:disabled,\n",
              "  .colab-df-quickchart-complete:disabled:hover {\n",
              "    background-color: var(--disabled-bg-color);\n",
              "    fill: var(--disabled-fill-color);\n",
              "    box-shadow: none;\n",
              "  }\n",
              "\n",
              "  .colab-df-spinner {\n",
              "    border: 2px solid var(--fill-color);\n",
              "    border-color: transparent;\n",
              "    border-bottom-color: var(--fill-color);\n",
              "    animation:\n",
              "      spin 1s steps(1) infinite;\n",
              "  }\n",
              "\n",
              "  @keyframes spin {\n",
              "    0% {\n",
              "      border-color: transparent;\n",
              "      border-bottom-color: var(--fill-color);\n",
              "      border-left-color: var(--fill-color);\n",
              "    }\n",
              "    20% {\n",
              "      border-color: transparent;\n",
              "      border-left-color: var(--fill-color);\n",
              "      border-top-color: var(--fill-color);\n",
              "    }\n",
              "    30% {\n",
              "      border-color: transparent;\n",
              "      border-left-color: var(--fill-color);\n",
              "      border-top-color: var(--fill-color);\n",
              "      border-right-color: var(--fill-color);\n",
              "    }\n",
              "    40% {\n",
              "      border-color: transparent;\n",
              "      border-right-color: var(--fill-color);\n",
              "      border-top-color: var(--fill-color);\n",
              "    }\n",
              "    60% {\n",
              "      border-color: transparent;\n",
              "      border-right-color: var(--fill-color);\n",
              "    }\n",
              "    80% {\n",
              "      border-color: transparent;\n",
              "      border-right-color: var(--fill-color);\n",
              "      border-bottom-color: var(--fill-color);\n",
              "    }\n",
              "    90% {\n",
              "      border-color: transparent;\n",
              "      border-bottom-color: var(--fill-color);\n",
              "    }\n",
              "  }\n",
              "</style>\n",
              "\n",
              "  <script>\n",
              "    async function quickchart(key) {\n",
              "      const quickchartButtonEl =\n",
              "        document.querySelector('#' + key + ' button');\n",
              "      quickchartButtonEl.disabled = true;  // To prevent multiple clicks.\n",
              "      quickchartButtonEl.classList.add('colab-df-spinner');\n",
              "      try {\n",
              "        const charts = await google.colab.kernel.invokeFunction(\n",
              "            'suggestCharts', [key], {});\n",
              "      } catch (error) {\n",
              "        console.error('Error during call to suggestCharts:', error);\n",
              "      }\n",
              "      quickchartButtonEl.classList.remove('colab-df-spinner');\n",
              "      quickchartButtonEl.classList.add('colab-df-quickchart-complete');\n",
              "    }\n",
              "    (() => {\n",
              "      let quickchartButtonEl =\n",
              "        document.querySelector('#df-3a22ad06-0dca-4f36-bcf3-36da4a837e60 button');\n",
              "      quickchartButtonEl.style.display =\n",
              "        google.colab.kernel.accessAllowed ? 'block' : 'none';\n",
              "    })();\n",
              "  </script>\n",
              "</div>\n",
              "\n",
              "  <div id=\"id_11e240da-7994-4e81-b174-ea41ce68e4f0\">\n",
              "    <style>\n",
              "      .colab-df-generate {\n",
              "        background-color: #E8F0FE;\n",
              "        border: none;\n",
              "        border-radius: 50%;\n",
              "        cursor: pointer;\n",
              "        display: none;\n",
              "        fill: #1967D2;\n",
              "        height: 32px;\n",
              "        padding: 0 0 0 0;\n",
              "        width: 32px;\n",
              "      }\n",
              "\n",
              "      .colab-df-generate:hover {\n",
              "        background-color: #E2EBFA;\n",
              "        box-shadow: 0px 1px 2px rgba(60, 64, 67, 0.3), 0px 1px 3px 1px rgba(60, 64, 67, 0.15);\n",
              "        fill: #174EA6;\n",
              "      }\n",
              "\n",
              "      [theme=dark] .colab-df-generate {\n",
              "        background-color: #3B4455;\n",
              "        fill: #D2E3FC;\n",
              "      }\n",
              "\n",
              "      [theme=dark] .colab-df-generate:hover {\n",
              "        background-color: #434B5C;\n",
              "        box-shadow: 0px 1px 3px 1px rgba(0, 0, 0, 0.15);\n",
              "        filter: drop-shadow(0px 1px 2px rgba(0, 0, 0, 0.3));\n",
              "        fill: #FFFFFF;\n",
              "      }\n",
              "    </style>\n",
              "    <button class=\"colab-df-generate\" onclick=\"generateWithVariable('data')\"\n",
              "            title=\"Generate code using this dataframe.\"\n",
              "            style=\"display:none;\">\n",
              "\n",
              "  <svg xmlns=\"http://www.w3.org/2000/svg\" height=\"24px\"viewBox=\"0 0 24 24\"\n",
              "       width=\"24px\">\n",
              "    <path d=\"M7,19H8.4L18.45,9,17,7.55,7,17.6ZM5,21V16.75L18.45,3.32a2,2,0,0,1,2.83,0l1.4,1.43a1.91,1.91,0,0,1,.58,1.4,1.91,1.91,0,0,1-.58,1.4L9.25,21ZM18.45,9,17,7.55Zm-12,3A5.31,5.31,0,0,0,4.9,8.1,5.31,5.31,0,0,0,1,6.5,5.31,5.31,0,0,0,4.9,4.9,5.31,5.31,0,0,0,6.5,1,5.31,5.31,0,0,0,8.1,4.9,5.31,5.31,0,0,0,12,6.5,5.46,5.46,0,0,0,6.5,12Z\"/>\n",
              "  </svg>\n",
              "    </button>\n",
              "    <script>\n",
              "      (() => {\n",
              "      const buttonEl =\n",
              "        document.querySelector('#id_11e240da-7994-4e81-b174-ea41ce68e4f0 button.colab-df-generate');\n",
              "      buttonEl.style.display =\n",
              "        google.colab.kernel.accessAllowed ? 'block' : 'none';\n",
              "\n",
              "      buttonEl.onclick = () => {\n",
              "        google.colab.notebook.generateWithVariable('data');\n",
              "      }\n",
              "      })();\n",
              "    </script>\n",
              "  </div>\n",
              "\n",
              "    </div>\n",
              "  </div>\n"
            ],
            "application/vnd.google.colaboratory.intrinsic+json": {
              "type": "dataframe",
              "variable_name": "data"
            }
          },
          "metadata": {},
          "execution_count": 2
        }
      ]
    },
    {
      "cell_type": "markdown",
      "source": [
        "9. Perform Univariate Analysis"
      ],
      "metadata": {
        "id": "DAK97Oan6x9g"
      }
    },
    {
      "cell_type": "code",
      "source": [
        "data.head()"
      ],
      "metadata": {
        "colab": {
          "base_uri": "https://localhost:8080/",
          "height": 307
        },
        "id": "FJI3moiVYahC",
        "outputId": "42cf6e44-4dbc-4201-a7f9-703a45985816"
      },
      "execution_count": 3,
      "outputs": [
        {
          "output_type": "execute_result",
          "data": {
            "text/plain": [
              "           id   Date  number of bedrooms  number of bathrooms  living area  \\\n",
              "0  6762810145  42491                   5                 2.50         3650   \n",
              "1  6762810635  42491                   4                 2.50         2920   \n",
              "2  6762810998  42491                   5                 2.75         2910   \n",
              "3  6762812605  42491                   4                 2.50         3310   \n",
              "4  6762812919  42491                   3                 2.00         2710   \n",
              "\n",
              "   lot area  number of floors  waterfront present  number of views  \\\n",
              "0      9050               2.0                   0                4   \n",
              "1      4000               1.5                   0                0   \n",
              "2      9480               1.5                   0                0   \n",
              "3     42998               2.0                   0                0   \n",
              "4      4500               1.5                   0                0   \n",
              "\n",
              "   condition of the house  ...  Built Year  Renovation Year  Postal Code  \\\n",
              "0                       5  ...        1921                0       122003   \n",
              "1                       5  ...        1909                0       122004   \n",
              "2                       3  ...        1939                0       122004   \n",
              "3                       3  ...        2001                0       122005   \n",
              "4                       4  ...        1929                0       122006   \n",
              "\n",
              "   Lattitude  Longitude  living_area_renov  lot_area_renov  \\\n",
              "0    52.8645   -114.557               2880            5400   \n",
              "1    52.8878   -114.470               2470            4000   \n",
              "2    52.8852   -114.468               2940            6600   \n",
              "3    52.9532   -114.321               3350           42847   \n",
              "4    52.9047   -114.485               2060            4500   \n",
              "\n",
              "   Number of schools nearby  Distance from the airport    Price  \n",
              "0                         2                         58  2380000  \n",
              "1                         2                         51  1400000  \n",
              "2                         1                         53  1200000  \n",
              "3                         3                         76   838000  \n",
              "4                         1                         51   805000  \n",
              "\n",
              "[5 rows x 23 columns]"
            ],
            "text/html": [
              "\n",
              "  <div id=\"df-2a8b8735-340d-46c3-a907-ab11b6ae9c16\" class=\"colab-df-container\">\n",
              "    <div>\n",
              "<style scoped>\n",
              "    .dataframe tbody tr th:only-of-type {\n",
              "        vertical-align: middle;\n",
              "    }\n",
              "\n",
              "    .dataframe tbody tr th {\n",
              "        vertical-align: top;\n",
              "    }\n",
              "\n",
              "    .dataframe thead th {\n",
              "        text-align: right;\n",
              "    }\n",
              "</style>\n",
              "<table border=\"1\" class=\"dataframe\">\n",
              "  <thead>\n",
              "    <tr style=\"text-align: right;\">\n",
              "      <th></th>\n",
              "      <th>id</th>\n",
              "      <th>Date</th>\n",
              "      <th>number of bedrooms</th>\n",
              "      <th>number of bathrooms</th>\n",
              "      <th>living area</th>\n",
              "      <th>lot area</th>\n",
              "      <th>number of floors</th>\n",
              "      <th>waterfront present</th>\n",
              "      <th>number of views</th>\n",
              "      <th>condition of the house</th>\n",
              "      <th>...</th>\n",
              "      <th>Built Year</th>\n",
              "      <th>Renovation Year</th>\n",
              "      <th>Postal Code</th>\n",
              "      <th>Lattitude</th>\n",
              "      <th>Longitude</th>\n",
              "      <th>living_area_renov</th>\n",
              "      <th>lot_area_renov</th>\n",
              "      <th>Number of schools nearby</th>\n",
              "      <th>Distance from the airport</th>\n",
              "      <th>Price</th>\n",
              "    </tr>\n",
              "  </thead>\n",
              "  <tbody>\n",
              "    <tr>\n",
              "      <th>0</th>\n",
              "      <td>6762810145</td>\n",
              "      <td>42491</td>\n",
              "      <td>5</td>\n",
              "      <td>2.50</td>\n",
              "      <td>3650</td>\n",
              "      <td>9050</td>\n",
              "      <td>2.0</td>\n",
              "      <td>0</td>\n",
              "      <td>4</td>\n",
              "      <td>5</td>\n",
              "      <td>...</td>\n",
              "      <td>1921</td>\n",
              "      <td>0</td>\n",
              "      <td>122003</td>\n",
              "      <td>52.8645</td>\n",
              "      <td>-114.557</td>\n",
              "      <td>2880</td>\n",
              "      <td>5400</td>\n",
              "      <td>2</td>\n",
              "      <td>58</td>\n",
              "      <td>2380000</td>\n",
              "    </tr>\n",
              "    <tr>\n",
              "      <th>1</th>\n",
              "      <td>6762810635</td>\n",
              "      <td>42491</td>\n",
              "      <td>4</td>\n",
              "      <td>2.50</td>\n",
              "      <td>2920</td>\n",
              "      <td>4000</td>\n",
              "      <td>1.5</td>\n",
              "      <td>0</td>\n",
              "      <td>0</td>\n",
              "      <td>5</td>\n",
              "      <td>...</td>\n",
              "      <td>1909</td>\n",
              "      <td>0</td>\n",
              "      <td>122004</td>\n",
              "      <td>52.8878</td>\n",
              "      <td>-114.470</td>\n",
              "      <td>2470</td>\n",
              "      <td>4000</td>\n",
              "      <td>2</td>\n",
              "      <td>51</td>\n",
              "      <td>1400000</td>\n",
              "    </tr>\n",
              "    <tr>\n",
              "      <th>2</th>\n",
              "      <td>6762810998</td>\n",
              "      <td>42491</td>\n",
              "      <td>5</td>\n",
              "      <td>2.75</td>\n",
              "      <td>2910</td>\n",
              "      <td>9480</td>\n",
              "      <td>1.5</td>\n",
              "      <td>0</td>\n",
              "      <td>0</td>\n",
              "      <td>3</td>\n",
              "      <td>...</td>\n",
              "      <td>1939</td>\n",
              "      <td>0</td>\n",
              "      <td>122004</td>\n",
              "      <td>52.8852</td>\n",
              "      <td>-114.468</td>\n",
              "      <td>2940</td>\n",
              "      <td>6600</td>\n",
              "      <td>1</td>\n",
              "      <td>53</td>\n",
              "      <td>1200000</td>\n",
              "    </tr>\n",
              "    <tr>\n",
              "      <th>3</th>\n",
              "      <td>6762812605</td>\n",
              "      <td>42491</td>\n",
              "      <td>4</td>\n",
              "      <td>2.50</td>\n",
              "      <td>3310</td>\n",
              "      <td>42998</td>\n",
              "      <td>2.0</td>\n",
              "      <td>0</td>\n",
              "      <td>0</td>\n",
              "      <td>3</td>\n",
              "      <td>...</td>\n",
              "      <td>2001</td>\n",
              "      <td>0</td>\n",
              "      <td>122005</td>\n",
              "      <td>52.9532</td>\n",
              "      <td>-114.321</td>\n",
              "      <td>3350</td>\n",
              "      <td>42847</td>\n",
              "      <td>3</td>\n",
              "      <td>76</td>\n",
              "      <td>838000</td>\n",
              "    </tr>\n",
              "    <tr>\n",
              "      <th>4</th>\n",
              "      <td>6762812919</td>\n",
              "      <td>42491</td>\n",
              "      <td>3</td>\n",
              "      <td>2.00</td>\n",
              "      <td>2710</td>\n",
              "      <td>4500</td>\n",
              "      <td>1.5</td>\n",
              "      <td>0</td>\n",
              "      <td>0</td>\n",
              "      <td>4</td>\n",
              "      <td>...</td>\n",
              "      <td>1929</td>\n",
              "      <td>0</td>\n",
              "      <td>122006</td>\n",
              "      <td>52.9047</td>\n",
              "      <td>-114.485</td>\n",
              "      <td>2060</td>\n",
              "      <td>4500</td>\n",
              "      <td>1</td>\n",
              "      <td>51</td>\n",
              "      <td>805000</td>\n",
              "    </tr>\n",
              "  </tbody>\n",
              "</table>\n",
              "<p>5 rows × 23 columns</p>\n",
              "</div>\n",
              "    <div class=\"colab-df-buttons\">\n",
              "\n",
              "  <div class=\"colab-df-container\">\n",
              "    <button class=\"colab-df-convert\" onclick=\"convertToInteractive('df-2a8b8735-340d-46c3-a907-ab11b6ae9c16')\"\n",
              "            title=\"Convert this dataframe to an interactive table.\"\n",
              "            style=\"display:none;\">\n",
              "\n",
              "  <svg xmlns=\"http://www.w3.org/2000/svg\" height=\"24px\" viewBox=\"0 -960 960 960\">\n",
              "    <path d=\"M120-120v-720h720v720H120Zm60-500h600v-160H180v160Zm220 220h160v-160H400v160Zm0 220h160v-160H400v160ZM180-400h160v-160H180v160Zm440 0h160v-160H620v160ZM180-180h160v-160H180v160Zm440 0h160v-160H620v160Z\"/>\n",
              "  </svg>\n",
              "    </button>\n",
              "\n",
              "  <style>\n",
              "    .colab-df-container {\n",
              "      display:flex;\n",
              "      gap: 12px;\n",
              "    }\n",
              "\n",
              "    .colab-df-convert {\n",
              "      background-color: #E8F0FE;\n",
              "      border: none;\n",
              "      border-radius: 50%;\n",
              "      cursor: pointer;\n",
              "      display: none;\n",
              "      fill: #1967D2;\n",
              "      height: 32px;\n",
              "      padding: 0 0 0 0;\n",
              "      width: 32px;\n",
              "    }\n",
              "\n",
              "    .colab-df-convert:hover {\n",
              "      background-color: #E2EBFA;\n",
              "      box-shadow: 0px 1px 2px rgba(60, 64, 67, 0.3), 0px 1px 3px 1px rgba(60, 64, 67, 0.15);\n",
              "      fill: #174EA6;\n",
              "    }\n",
              "\n",
              "    .colab-df-buttons div {\n",
              "      margin-bottom: 4px;\n",
              "    }\n",
              "\n",
              "    [theme=dark] .colab-df-convert {\n",
              "      background-color: #3B4455;\n",
              "      fill: #D2E3FC;\n",
              "    }\n",
              "\n",
              "    [theme=dark] .colab-df-convert:hover {\n",
              "      background-color: #434B5C;\n",
              "      box-shadow: 0px 1px 3px 1px rgba(0, 0, 0, 0.15);\n",
              "      filter: drop-shadow(0px 1px 2px rgba(0, 0, 0, 0.3));\n",
              "      fill: #FFFFFF;\n",
              "    }\n",
              "  </style>\n",
              "\n",
              "    <script>\n",
              "      const buttonEl =\n",
              "        document.querySelector('#df-2a8b8735-340d-46c3-a907-ab11b6ae9c16 button.colab-df-convert');\n",
              "      buttonEl.style.display =\n",
              "        google.colab.kernel.accessAllowed ? 'block' : 'none';\n",
              "\n",
              "      async function convertToInteractive(key) {\n",
              "        const element = document.querySelector('#df-2a8b8735-340d-46c3-a907-ab11b6ae9c16');\n",
              "        const dataTable =\n",
              "          await google.colab.kernel.invokeFunction('convertToInteractive',\n",
              "                                                    [key], {});\n",
              "        if (!dataTable) return;\n",
              "\n",
              "        const docLinkHtml = 'Like what you see? Visit the ' +\n",
              "          '<a target=\"_blank\" href=https://colab.research.google.com/notebooks/data_table.ipynb>data table notebook</a>'\n",
              "          + ' to learn more about interactive tables.';\n",
              "        element.innerHTML = '';\n",
              "        dataTable['output_type'] = 'display_data';\n",
              "        await google.colab.output.renderOutput(dataTable, element);\n",
              "        const docLink = document.createElement('div');\n",
              "        docLink.innerHTML = docLinkHtml;\n",
              "        element.appendChild(docLink);\n",
              "      }\n",
              "    </script>\n",
              "  </div>\n",
              "\n",
              "\n",
              "<div id=\"df-2243f47a-8aec-42f0-a1f1-a7794a56503a\">\n",
              "  <button class=\"colab-df-quickchart\" onclick=\"quickchart('df-2243f47a-8aec-42f0-a1f1-a7794a56503a')\"\n",
              "            title=\"Suggest charts\"\n",
              "            style=\"display:none;\">\n",
              "\n",
              "<svg xmlns=\"http://www.w3.org/2000/svg\" height=\"24px\"viewBox=\"0 0 24 24\"\n",
              "     width=\"24px\">\n",
              "    <g>\n",
              "        <path d=\"M19 3H5c-1.1 0-2 .9-2 2v14c0 1.1.9 2 2 2h14c1.1 0 2-.9 2-2V5c0-1.1-.9-2-2-2zM9 17H7v-7h2v7zm4 0h-2V7h2v10zm4 0h-2v-4h2v4z\"/>\n",
              "    </g>\n",
              "</svg>\n",
              "  </button>\n",
              "\n",
              "<style>\n",
              "  .colab-df-quickchart {\n",
              "      --bg-color: #E8F0FE;\n",
              "      --fill-color: #1967D2;\n",
              "      --hover-bg-color: #E2EBFA;\n",
              "      --hover-fill-color: #174EA6;\n",
              "      --disabled-fill-color: #AAA;\n",
              "      --disabled-bg-color: #DDD;\n",
              "  }\n",
              "\n",
              "  [theme=dark] .colab-df-quickchart {\n",
              "      --bg-color: #3B4455;\n",
              "      --fill-color: #D2E3FC;\n",
              "      --hover-bg-color: #434B5C;\n",
              "      --hover-fill-color: #FFFFFF;\n",
              "      --disabled-bg-color: #3B4455;\n",
              "      --disabled-fill-color: #666;\n",
              "  }\n",
              "\n",
              "  .colab-df-quickchart {\n",
              "    background-color: var(--bg-color);\n",
              "    border: none;\n",
              "    border-radius: 50%;\n",
              "    cursor: pointer;\n",
              "    display: none;\n",
              "    fill: var(--fill-color);\n",
              "    height: 32px;\n",
              "    padding: 0;\n",
              "    width: 32px;\n",
              "  }\n",
              "\n",
              "  .colab-df-quickchart:hover {\n",
              "    background-color: var(--hover-bg-color);\n",
              "    box-shadow: 0 1px 2px rgba(60, 64, 67, 0.3), 0 1px 3px 1px rgba(60, 64, 67, 0.15);\n",
              "    fill: var(--button-hover-fill-color);\n",
              "  }\n",
              "\n",
              "  .colab-df-quickchart-complete:disabled,\n",
              "  .colab-df-quickchart-complete:disabled:hover {\n",
              "    background-color: var(--disabled-bg-color);\n",
              "    fill: var(--disabled-fill-color);\n",
              "    box-shadow: none;\n",
              "  }\n",
              "\n",
              "  .colab-df-spinner {\n",
              "    border: 2px solid var(--fill-color);\n",
              "    border-color: transparent;\n",
              "    border-bottom-color: var(--fill-color);\n",
              "    animation:\n",
              "      spin 1s steps(1) infinite;\n",
              "  }\n",
              "\n",
              "  @keyframes spin {\n",
              "    0% {\n",
              "      border-color: transparent;\n",
              "      border-bottom-color: var(--fill-color);\n",
              "      border-left-color: var(--fill-color);\n",
              "    }\n",
              "    20% {\n",
              "      border-color: transparent;\n",
              "      border-left-color: var(--fill-color);\n",
              "      border-top-color: var(--fill-color);\n",
              "    }\n",
              "    30% {\n",
              "      border-color: transparent;\n",
              "      border-left-color: var(--fill-color);\n",
              "      border-top-color: var(--fill-color);\n",
              "      border-right-color: var(--fill-color);\n",
              "    }\n",
              "    40% {\n",
              "      border-color: transparent;\n",
              "      border-right-color: var(--fill-color);\n",
              "      border-top-color: var(--fill-color);\n",
              "    }\n",
              "    60% {\n",
              "      border-color: transparent;\n",
              "      border-right-color: var(--fill-color);\n",
              "    }\n",
              "    80% {\n",
              "      border-color: transparent;\n",
              "      border-right-color: var(--fill-color);\n",
              "      border-bottom-color: var(--fill-color);\n",
              "    }\n",
              "    90% {\n",
              "      border-color: transparent;\n",
              "      border-bottom-color: var(--fill-color);\n",
              "    }\n",
              "  }\n",
              "</style>\n",
              "\n",
              "  <script>\n",
              "    async function quickchart(key) {\n",
              "      const quickchartButtonEl =\n",
              "        document.querySelector('#' + key + ' button');\n",
              "      quickchartButtonEl.disabled = true;  // To prevent multiple clicks.\n",
              "      quickchartButtonEl.classList.add('colab-df-spinner');\n",
              "      try {\n",
              "        const charts = await google.colab.kernel.invokeFunction(\n",
              "            'suggestCharts', [key], {});\n",
              "      } catch (error) {\n",
              "        console.error('Error during call to suggestCharts:', error);\n",
              "      }\n",
              "      quickchartButtonEl.classList.remove('colab-df-spinner');\n",
              "      quickchartButtonEl.classList.add('colab-df-quickchart-complete');\n",
              "    }\n",
              "    (() => {\n",
              "      let quickchartButtonEl =\n",
              "        document.querySelector('#df-2243f47a-8aec-42f0-a1f1-a7794a56503a button');\n",
              "      quickchartButtonEl.style.display =\n",
              "        google.colab.kernel.accessAllowed ? 'block' : 'none';\n",
              "    })();\n",
              "  </script>\n",
              "</div>\n",
              "\n",
              "    </div>\n",
              "  </div>\n"
            ],
            "application/vnd.google.colaboratory.intrinsic+json": {
              "type": "dataframe",
              "variable_name": "data"
            }
          },
          "metadata": {},
          "execution_count": 3
        }
      ]
    },
    {
      "cell_type": "code",
      "source": [
        "data.shape"
      ],
      "metadata": {
        "colab": {
          "base_uri": "https://localhost:8080/",
          "height": 0
        },
        "id": "zRXJwj60Ypwo",
        "outputId": "25ea625c-f19c-4ec1-e87d-f779ea15b03b"
      },
      "execution_count": 4,
      "outputs": [
        {
          "output_type": "execute_result",
          "data": {
            "text/plain": [
              "(14620, 23)"
            ]
          },
          "metadata": {},
          "execution_count": 4
        }
      ]
    },
    {
      "cell_type": "code",
      "source": [
        "data.columns"
      ],
      "metadata": {
        "colab": {
          "base_uri": "https://localhost:8080/",
          "height": 0
        },
        "id": "8Gex6eRTZTs_",
        "outputId": "648e20ee-7fcc-4319-c1b8-c3ae35738b4c"
      },
      "execution_count": 5,
      "outputs": [
        {
          "output_type": "execute_result",
          "data": {
            "text/plain": [
              "Index(['id', 'Date', 'number of bedrooms', 'number of bathrooms',\n",
              "       'living area', 'lot area', 'number of floors', 'waterfront present',\n",
              "       'number of views', 'condition of the house', 'grade of the house',\n",
              "       'Area of the house(excluding basement)', 'Area of the basement',\n",
              "       'Built Year', 'Renovation Year', 'Postal Code', 'Lattitude',\n",
              "       'Longitude', 'living_area_renov', 'lot_area_renov',\n",
              "       'Number of schools nearby', 'Distance from the airport', 'Price'],\n",
              "      dtype='object')"
            ]
          },
          "metadata": {},
          "execution_count": 5
        }
      ]
    },
    {
      "cell_type": "code",
      "source": [
        "data.dtypes"
      ],
      "metadata": {
        "colab": {
          "base_uri": "https://localhost:8080/",
          "height": 0
        },
        "id": "Ap2M4n7fZZeZ",
        "outputId": "4d6c5904-dfe2-4d71-eee3-b14e8d0af9b8"
      },
      "execution_count": 6,
      "outputs": [
        {
          "output_type": "execute_result",
          "data": {
            "text/plain": [
              "id                                         int64\n",
              "Date                                       int64\n",
              "number of bedrooms                         int64\n",
              "number of bathrooms                      float64\n",
              "living area                                int64\n",
              "lot area                                   int64\n",
              "number of floors                         float64\n",
              "waterfront present                         int64\n",
              "number of views                            int64\n",
              "condition of the house                     int64\n",
              "grade of the house                         int64\n",
              "Area of the house(excluding basement)      int64\n",
              "Area of the basement                       int64\n",
              "Built Year                                 int64\n",
              "Renovation Year                            int64\n",
              "Postal Code                                int64\n",
              "Lattitude                                float64\n",
              "Longitude                                float64\n",
              "living_area_renov                          int64\n",
              "lot_area_renov                             int64\n",
              "Number of schools nearby                   int64\n",
              "Distance from the airport                  int64\n",
              "Price                                      int64\n",
              "dtype: object"
            ]
          },
          "metadata": {},
          "execution_count": 6
        }
      ]
    },
    {
      "cell_type": "code",
      "source": [
        "data.isnull().sum()"
      ],
      "metadata": {
        "colab": {
          "base_uri": "https://localhost:8080/",
          "height": 0
        },
        "id": "a-QfGONBZ4D4",
        "outputId": "c79f02e0-1ac5-44fd-e1d0-fd4e1e76c234"
      },
      "execution_count": 7,
      "outputs": [
        {
          "output_type": "execute_result",
          "data": {
            "text/plain": [
              "id                                       0\n",
              "Date                                     0\n",
              "number of bedrooms                       0\n",
              "number of bathrooms                      0\n",
              "living area                              0\n",
              "lot area                                 0\n",
              "number of floors                         0\n",
              "waterfront present                       0\n",
              "number of views                          0\n",
              "condition of the house                   0\n",
              "grade of the house                       0\n",
              "Area of the house(excluding basement)    0\n",
              "Area of the basement                     0\n",
              "Built Year                               0\n",
              "Renovation Year                          0\n",
              "Postal Code                              0\n",
              "Lattitude                                0\n",
              "Longitude                                0\n",
              "living_area_renov                        0\n",
              "lot_area_renov                           0\n",
              "Number of schools nearby                 0\n",
              "Distance from the airport                0\n",
              "Price                                    0\n",
              "dtype: int64"
            ]
          },
          "metadata": {},
          "execution_count": 7
        }
      ]
    },
    {
      "cell_type": "code",
      "source": [
        "data.duplicated()"
      ],
      "metadata": {
        "colab": {
          "base_uri": "https://localhost:8080/",
          "height": 0
        },
        "id": "tWLRI8FYaBlP",
        "outputId": "bc169045-293c-46ce-d1ce-92ecd377d534"
      },
      "execution_count": 8,
      "outputs": [
        {
          "output_type": "execute_result",
          "data": {
            "text/plain": [
              "0        False\n",
              "1        False\n",
              "2        False\n",
              "3        False\n",
              "4        False\n",
              "         ...  \n",
              "14615    False\n",
              "14616    False\n",
              "14617    False\n",
              "14618    False\n",
              "14619    False\n",
              "Length: 14620, dtype: bool"
            ]
          },
          "metadata": {},
          "execution_count": 8
        }
      ]
    },
    {
      "cell_type": "code",
      "source": [
        "#Average price of houses in india\n",
        "avg = data['Price'].mean()\n",
        "print(f\"Average price of Houses in india: \\u20B9{avg:,.2f}\")"
      ],
      "metadata": {
        "colab": {
          "base_uri": "https://localhost:8080/",
          "height": 0
        },
        "id": "w9AIaLzm_7pk",
        "outputId": "667cc5bf-a958-4cc5-b0af-bd258cb7c695"
      },
      "execution_count": 10,
      "outputs": [
        {
          "output_type": "stream",
          "name": "stdout",
          "text": [
            "Average price of Houses in india: ₹538,932.22\n"
          ]
        }
      ]
    },
    {
      "cell_type": "code",
      "source": [
        "#minimum price of houses in india\n",
        "min = data['Price'].min()\n",
        "print(f\"Minimum price of Houses in india: \\u20B9{min:,.2f}\")"
      ],
      "metadata": {
        "colab": {
          "base_uri": "https://localhost:8080/",
          "height": 0
        },
        "id": "4WWfxLvGDDLx",
        "outputId": "55f19d57-91bf-4992-e38c-e124d1d3179d"
      },
      "execution_count": 11,
      "outputs": [
        {
          "output_type": "stream",
          "name": "stdout",
          "text": [
            "Minimum price of Houses in india: ₹78,000.00\n"
          ]
        }
      ]
    },
    {
      "cell_type": "code",
      "source": [
        "#maximum price of houses in india\n",
        "max = data['Price'].max()\n",
        "print(f\"Maximum price of Houses in india: \\u20B9{max:,.2f}\")"
      ],
      "metadata": {
        "colab": {
          "base_uri": "https://localhost:8080/",
          "height": 0
        },
        "id": "4A4J-eTbEuBm",
        "outputId": "7f071865-f557-41a9-8605-0a33308b5792"
      },
      "execution_count": 12,
      "outputs": [
        {
          "output_type": "stream",
          "name": "stdout",
          "text": [
            "Maximum price of Houses in india: ₹7,700,000.00\n"
          ]
        }
      ]
    },
    {
      "cell_type": "code",
      "source": [
        "#middle price of houses in india\n",
        "med = data['Price'].median()\n",
        "print(f\"middle price of Houses in india: \\u20B9{med:,.2f}\")"
      ],
      "metadata": {
        "colab": {
          "base_uri": "https://localhost:8080/",
          "height": 0
        },
        "id": "alWsos5gHnO7",
        "outputId": "2fb95672-e9aa-4344-da29-76e8743c9673"
      },
      "execution_count": 13,
      "outputs": [
        {
          "output_type": "stream",
          "name": "stdout",
          "text": [
            "middle price of Houses in india: ₹450,000.00\n"
          ]
        }
      ]
    },
    {
      "cell_type": "code",
      "source": [
        "#most common price of houses in india\n",
        "mod = data['Price'].mode()\n",
        "print(f\"Most common price of Houses in india: {mod}\")"
      ],
      "metadata": {
        "colab": {
          "base_uri": "https://localhost:8080/",
          "height": 0
        },
        "id": "HuKrjOvIIdBN",
        "outputId": "26a6f92b-aaae-42fc-ddb4-22d58e06c3a8"
      },
      "execution_count": 14,
      "outputs": [
        {
          "output_type": "stream",
          "name": "stdout",
          "text": [
            "Most common price of Houses in india: 0    450000\n",
            "Name: Price, dtype: int64\n"
          ]
        }
      ]
    },
    {
      "cell_type": "code",
      "source": [
        "# spread of price variability\n",
        "standardev = data[\"Price\"].std()\n",
        "print(standardev)"
      ],
      "metadata": {
        "colab": {
          "base_uri": "https://localhost:8080/",
          "height": 0
        },
        "id": "NNrSvoyrKqDV",
        "outputId": "4255a5c8-8318-4dae-d616-7815964b3add"
      },
      "execution_count": 15,
      "outputs": [
        {
          "output_type": "stream",
          "name": "stdout",
          "text": [
            "367532.38080396695\n"
          ]
        }
      ]
    },
    {
      "cell_type": "code",
      "source": [
        "# range of house price\n",
        "range=max-min\n",
        "range"
      ],
      "metadata": {
        "colab": {
          "base_uri": "https://localhost:8080/",
          "height": 0
        },
        "id": "Q2qsu91AL9Hs",
        "outputId": "ed386075-daae-4f5a-bc9f-8159c5ea1534"
      },
      "execution_count": 16,
      "outputs": [
        {
          "output_type": "execute_result",
          "data": {
            "text/plain": [
              "7622000"
            ]
          },
          "metadata": {},
          "execution_count": 16
        }
      ]
    },
    {
      "cell_type": "code",
      "source": [
        "import matplotlib.pyplot as plt"
      ],
      "metadata": {
        "id": "lVZ3gH7arQJB"
      },
      "execution_count": 22,
      "outputs": []
    },
    {
      "cell_type": "code",
      "source": [
        "# Histogram of house prices\n",
        "plt.figure(figsize=(10, 6))\n",
        "plt.hist(data['Price'], bins=10, edgecolor='black')\n",
        "plt.xlabel('House Price (in lakhs)')\n",
        "plt.ylabel('Number of houses')\n",
        "plt.title('Distribution of House Prices in India')\n",
        "plt.show()"
      ],
      "metadata": {
        "colab": {
          "base_uri": "https://localhost:8080/",
          "height": 535
        },
        "id": "VExrtGxKscuj",
        "outputId": "3fb3774c-bcad-483b-a6e2-c2e50a0b3ee0"
      },
      "execution_count": 18,
      "outputs": [
        {
          "output_type": "execute_result",
          "data": {
            "text/plain": [
              "(array([1.2916e+04, 1.4260e+03, 1.9100e+02, 6.0000e+01, 1.9000e+01,\n",
              "        2.0000e+00, 2.0000e+00, 1.0000e+00, 1.0000e+00, 2.0000e+00]),\n",
              " array([  78000.,  840200., 1602400., 2364600., 3126800., 3889000.,\n",
              "        4651200., 5413400., 6175600., 6937800., 7700000.]),\n",
              " <BarContainer object of 10 artists>)"
            ]
          },
          "metadata": {},
          "execution_count": 18
        },
        {
          "output_type": "display_data",
          "data": {
            "text/plain": [
              "<Figure size 640x480 with 1 Axes>"
            ],
            "image/png": "[encoded data removed]"
          },
          "metadata": {}
        }
      ]
    },
    {
      "cell_type": "code",
      "source": [
        "data['Price'].value_counts()"
      ],
      "metadata": {
        "colab": {
          "base_uri": "https://localhost:8080/",
          "height": 0
        },
        "id": "KZ1B4QtWs4T5",
        "outputId": "70c3ba83-5bbd-4a4f-f1c7-cf786eed6cc9"
      },
      "execution_count": 25,
      "outputs": [
        {
          "output_type": "execute_result",
          "data": {
            "text/plain": [
              "Price\n",
              "450000    114\n",
              "350000    113\n",
              "400000    104\n",
              "375000    103\n",
              "550000    102\n",
              "         ... \n",
              "561600      1\n",
              "856500      1\n",
              "907687      1\n",
              "307999      1\n",
              "146000      1\n",
              "Name: count, Length: 2901, dtype: int64"
            ]
          },
          "metadata": {},
          "execution_count": 25
        }
      ]
    },
    {
      "cell_type": "code",
      "source": [
        "# box plot\n",
        "plt.boxplot(data['Price'])"
      ],
      "metadata": {
        "colab": {
          "base_uri": "https://localhost:8080/",
          "height": 584
        },
        "id": "64jmVf1ytJjq",
        "outputId": "8a0c4359-6f94-4737-dfb3-9e5548f35690"
      },
      "execution_count": 26,
      "outputs": [
        {
          "output_type": "execute_result",
          "data": {
            "text/plain": [
              "{'whiskers': [<matplotlib.lines.Line2D at 0x7fd28dc4df30>,\n",
              "  <matplotlib.lines.Line2D at 0x7fd28dc4dcf0>],\n",
              " 'caps': [<matplotlib.lines.Line2D at 0x7fd28dc4c3a0>,\n",
              "  <matplotlib.lines.Line2D at 0x7fd28dc4e950>],\n",
              " 'boxes': [<matplotlib.lines.Line2D at 0x7fd28dc4dc90>],\n",
              " 'medians': [<matplotlib.lines.Line2D at 0x7fd28dc4f280>],\n",
              " 'fliers': [<matplotlib.lines.Line2D at 0x7fd28dc4f670>],\n",
              " 'means': []}"
            ]
          },
          "metadata": {},
          "execution_count": 26
        },
        {
          "output_type": "display_data",
          "data": {
            "text/plain": [
              "<Figure size 640x480 with 1 Axes>"
            ],
            "image/png": "[encoded data removed]"
          },
          "metadata": {}
        }
      ]
    },
    {
      "cell_type": "code",
      "source": [
        "import seaborn as sns"
      ],
      "metadata": {
        "id": "W9_wjcdmtUOK"
      },
      "execution_count": 20,
      "outputs": []
    },
    {
      "cell_type": "code",
      "source": [
        "sns.distplot(data.Price)"
      ],
      "metadata": {
        "colab": {
          "base_uri": "https://localhost:8080/",
          "height": 673
        },
        "id": "UkGZgoMztkcv",
        "outputId": "0a7670d8-6515-48ea-f2b7-fc5e40e56b1f"
      },
      "execution_count": 21,
      "outputs": [
        {
          "output_type": "stream",
          "name": "stderr",
          "text": [
            "<ipython-input-21-dbe2555afa70>:1: UserWarning: \n",
            "\n",
            "`distplot` is a deprecated function and will be removed in seaborn v0.14.0.\n",
            "\n",
            "Please adapt your code to use either `displot` (a figure-level function with\n",
            "similar flexibility) or `histplot` (an axes-level function for histograms).\n",
            "\n",
            "For a guide to updating your code to use the new functions, please see\n",
            "https://gist.github.com/mwaskom/de44147ed2974457ad6372750bbe5751\n",
            "\n",
            "  sns.distplot(data.Price)\n"
          ]
        },
        {
          "output_type": "execute_result",
          "data": {
            "text/plain": [
              "<Axes: xlabel='Price', ylabel='Density'>"
            ]
          },
          "metadata": {},
          "execution_count": 21
        },
        {
          "output_type": "display_data",
          "data": {
            "text/plain": [
              "<Figure size 640x480 with 1 Axes>"
            ],
            "image/png": "[encoded data removed]"
          },
          "metadata": {}
        }
      ]
    },
    {
      "cell_type": "markdown",
      "source": [
        "10. Perform Bivariate Analysis"
      ],
      "metadata": {
        "id": "zUXt-neR60sH"
      }
    },
    {
      "cell_type": "code",
      "source": [
        "# scatter plot\n",
        "sns.scatterplot(x = \"living area\", y = \"Price\", data = data)\n",
        "plt.show()\n"
      ],
      "metadata": {
        "colab": {
          "base_uri": "https://localhost:8080/",
          "height": 465
        },
        "id": "iI72SE386qZn",
        "outputId": "4c1a9f61-6136-4e52-c9dc-f4195bd3ab18"
      },
      "execution_count": 31,
      "outputs": [
        {
          "output_type": "display_data",
          "data": {
            "text/plain": [
              "<Figure size 640x480 with 1 Axes>"
            ],
            "image/png": "[encoded data removed]"
          },
          "metadata": {}
        }
      ]
    },
    {
      "cell_type": "code",
      "source": [
        "#scatterchart\n",
        "sns.scatterplot(x='Price',y = 'number of bedrooms',data=data)\n",
        "plt.show()"
      ],
      "metadata": {
        "colab": {
          "base_uri": "https://localhost:8080/",
          "height": 449
        },
        "id": "pIUpGvHIwbgW",
        "outputId": "8ad61595-26d6-4e0d-889d-cc057a8554cc"
      },
      "execution_count": 37,
      "outputs": [
        {
          "output_type": "display_data",
          "data": {
            "text/plain": [
              "<Figure size 640x480 with 1 Axes>"
            ],
            "image/png": "[encoded data removed]"
          },
          "metadata": {}
        }
      ]
    },
    {
      "cell_type": "markdown",
      "source": [
        "[link text](https://)11. Perform Descriptive Statistics"
      ],
      "metadata": {
        "id": "yk7oDlSC62_E"
      }
    },
    {
      "cell_type": "code",
      "source": [
        "#Pie chart\n",
        "import plotly.express as px\n",
        "\n",
        "fig = px.pie(data, values='number of bedrooms', names='number of bedrooms', title='Number of Bedrooms Distribution')\n",
        "fig.update_traces(textposition='inside', textinfo='percent+label')\n",
        "fig.show()"
      ],
      "metadata": {
        "colab": {
          "base_uri": "https://localhost:8080/",
          "height": 542
        },
        "id": "YHjut9RD4j_5",
        "outputId": "6f6e39ed-7336-4340-cc9a-77a6172c41e6"
      },
      "execution_count": 44,
      "outputs": [
        {
          "output_type": "display_data",
          "data": {
            "text/html": [
              "<html>\n",
              "<head><meta charset=\"utf-8\" /></head>\n",
              "<body>\n",
              "    <div>            <script src=\"https://cdnjs.cloudflare.com/ajax/libs/mathjax/2.7.5/MathJax.js?config=TeX-AMS-MML_SVG\"></script><script type=\"text/javascript\">if (window.MathJax && window.MathJax.Hub && window.MathJax.Hub.Config) {window.MathJax.Hub.Config({SVG: {font: \"STIX-Web\"}});}</script>                <script type=\"text/javascript\">window.PlotlyConfig = {MathJaxConfig: 'local'};</script>\n",
              "        <script charset=\"utf-8\" src=\"https://cdn.plot.ly/plotly-2.24.1.min.js\"></script>                <div id=\"3b44ea8b-0e23-451d-bf57-5284624bce60\" class=\"plotly-graph-div\" style=\"height:525px; width:100%;\"></div>            <script type=\"text/javascript\">                                    window.PLOTLYENV=window.PLOTLYENV || {};                                    if (document.getElementById(\"3b44ea8b-0e23-451d-bf57-5284624bce60\")) {                    Plotly.newPlot(                        \"3b44ea8b-0e23-451d-bf57-5284624bce60\",                        [{\"domain\":{\"x\":[0.0,1.0],\"y\":[0.0,1.0]},\"hovertemplate\":\"number of bedrooms=%{value}\\u003cextra\\u003e\\u003c\\u002fextra\\u003e\",\"labels\":[5,4,5,4,3,3,5,3,3,4,5,4,4,4,3,4,4,3,4,3,3,4,4,3,4,4,4,2,4,5,3,3,3,3,4,2,3,3,3,4,4,3,3,3,3,4,3,4,4,3,3,2,3,3,3,2,3,2,3,4,3,3,3,4,3,3,2,4,2,3,3,3,2,4,3,4,7,2,5,4,5,3,4,5,4,4,4,4,6,5,3,3,4,3,4,4,4,4,3,3,4,4,3,4,4,3,3,4,3,3,2,2,3,3,3,2,4,5,2,5,3,3,4,4,6,4,4,3,4,5,2,3,3,3,3,3,2,2,2,3,5,4,3,5,2,2,4,4,3,3,3,3,3,2,4,4,3,5,2,3,5,5,4,4,4,3,3,3,4,4,4,4,4,4,2,4,3,5,4,4,4,4,4,4,3,4,5,3,3,5,5,3,3,3,3,4,3,2,5,3,2,4,6,2,3,2,5,2,4,4,4,4,3,5,3,3,4,3,3,3,3,4,3,4,3,2,4,3,4,3,4,3,3,3,3,3,2,3,3,3,3,3,2,7,5,6,3,4,4,4,4,5,4,3,4,3,4,4,3,3,4,3,3,3,2,3,3,3,9,3,4,4,3,3,3,7,3,3,3,2,3,3,4,3,2,3,3,4,4,3,4,2,3,3,2,2,2,3,3,4,4,3,5,2,3,5,2,5,3,3,2,3,3,3,3,3,3,3,2,3,3,5,5,3,1,3,4,3,3,3,3,3,3,4,2,2,6,3,5,4,4,4,3,5,3,3,4,5,3,4,4,3,4,3,3,4,2,2,3,2,4,2,2,3,6,4,4,4,3,3,4,3,2,3,2,3,5,3,2,2,3,3,3,2,3,3,3,6,2,4,3,4,3,2,4,2,3,3,2,3,4,3,4,4,4,3,3,2,3,3,3,4,4,3,2,2,2,3,5,5,4,4,4,4,3,4,4,4,4,4,4,3,4,2,3,4,4,4,4,4,3,4,4,4,4,3,5,3,3,3,3,2,3,4,2,4,4,2,4,3,4,4,3,3,3,2,3,3,4,3,4,3,4,4,5,4,4,3,4,3,4,3,3,3,3,3,2,2,3,3,3,4,3,3,4,2,3,2,4,5,3,3,4,4,3,5,5,4,4,4,4,4,3,3,4,4,3,5,4,3,4,3,4,4,3,4,4,4,5,4,3,4,4,3,4,4,4,4,4,3,4,3,2,4,4,3,4,4,4,4,2,3,2,3,3,3,2,3,4,5,2,3,4,4,2,3,3,3,5,3,5,2,2,3,2,2,1,3,3,3,3,2,3,3,3,4,5,4,5,5,5,5,4,4,4,4,4,5,6,3,3,3,3,3,3,4,5,3,4,4,4,3,4,4,3,3,3,4,4,5,3,3,3,4,7,2,3,5,3,3,3,4,4,5,4,3,5,3,4,3,3,3,4,3,4,4,3,3,5,3,3,3,3,3,3,3,3,3,3,3,4,4,5,3,2,3,4,3,3,2,2,4,3,4,4,4,5,5,4,3,4,3,3,3,3,5,4,4,4,4,3,3,4,4,5,5,2,4,3,3,3,2,4,3,4,3,3,3,3,4,3,4,4,3,3,3,4,2,2,2,4,3,3,4,3,5,3,3,3,5,3,3,4,3,3,3,3,4,3,2,2,3,3,3,4,4,3,2,2,3,2,3,4,4,4,4,5,4,4,3,4,5,4,3,5,4,4,3,4,3,4,4,4,4,4,5,4,3,2,4,3,3,3,4,4,7,3,3,3,3,2,3,4,3,3,3,3,3,3,3,4,4,3,3,3,3,4,3,3,3,4,2,3,4,3,3,3,4,3,3,3,4,3,3,3,3,3,3,3,4,3,3,3,3,5,4,3,4,5,4,3,4,4,5,3,2,5,5,4,3,3,3,3,2,3,3,2,1,3,3,2,3,2,4,3,4,3,3,3,4,3,3,3,3,3,3,3,3,4,4,3,1,4,4,3,3,3,3,3,4,3,3,2,3,4,2,3,3,4,2,4,5,4,3,5,3,2,3,3,4,3,2,3,3,5,5,4,4,4,4,2,3,4,5,4,2,4,5,4,4,3,3,2,4,5,2,3,4,3,4,4,3,4,3,3,4,3,2,3,3,4,3,2,4,3,3,5,2,5,3,2,3,3,2,4,4,3,3,2,2,4,3,3,4,4,3,4,3,3,5,3,4,5,4,1,3,3,2,4,3,2,2,2,3,3,2,3,2,4,4,3,4,4,4,6,3,4,4,4,4,4,3,4,3,4,4,6,3,4,2,4,4,4,3,4,4,3,3,4,3,5,4,2,3,3,3,4,4,4,3,3,5,4,3,5,2,4,3,4,3,1,4,3,2,3,3,3,4,4,2,3,3,5,2,3,4,4,2,3,3,4,3,2,4,4,5,3,3,2,3,4,3,4,6,4,3,3,2,3,2,3,3,6,3,3,3,3,4,2,2,3,4,3,3,4,4,2,3,4,4,3,1,2,3,5,3,3,4,4,3,4,2,3,4,5,4,5,5,4,4,3,4,4,4,4,4,4,4,4,4,4,3,4,3,3,3,5,3,3,4,2,3,3,4,3,3,4,4,2,4,3,3,3,1,3,3,3,3,3,5,3,3,2,3,3,4,4,3,3,3,4,2,3,2,3,3,3,3,6,3,3,3,2,3,2,5,2,3,4,3,3,4,4,3,2,2,3,3,4,3,3,3,6,4,4,4,4,4,4,3,4,4,4,4,4,3,4,3,3,4,4,4,4,3,4,4,3,4,4,4,3,2,2,4,5,4,3,3,3,3,4,2,3,3,2,4,3,2,5,2,4,3,3,2,3,2,1,4,3,3,5,4,3,3,3,3,2,3,4,3,6,5,4,1,4,2,3,4,2,4,4,4,2,3,3,2,4,2,2,4,4,4,3,4,5,4,4,3,4,4,4,3,4,4,3,3,4,4,3,3,3,3,3,2,3,3,5,4,3,3,3,4,3,4,1,3,2,2,3,3,4,3,3,3,3,3,4,4,4,3,3,4,3,3,4,3,2,5,2,3,3,3,3,4,4,3,2,4,2,4,3,3,4,4,2,2,3,4,2,3,3,2,1,5,4,4,2,3,3,3,4,4,3,2,3,3,4,3,3,3,4,2,3,3,4,3,3,4,5,4,3,4,4,4,3,4,3,5,3,5,4,4,4,4,3,4,3,2,5,3,3,4,3,2,4,3,3,3,3,3,3,5,4,2,4,3,3,5,4,3,3,4,3,3,3,4,3,4,2,3,3,3,3,3,4,4,3,3,3,2,3,5,3,2,2,3,4,5,3,3,2,3,3,4,2,4,4,3,3,2,3,3,4,3,4,3,5,4,5,4,3,3,3,4,3,3,3,3,3,4,2,4,8,4,4,4,4,3,2,7,6,4,3,6,5,3,3,4,4,4,3,4,4,4,3,2,4,3,2,4,4,3,3,4,3,4,3,4,3,4,3,3,5,7,3,4,4,3,3,4,3,4,4,4,3,2,6,3,4,3,3,3,3,2,4,3,3,3,3,4,3,4,2,3,2,4,3,2,3,3,3,3,3,2,4,3,3,3,3,2,3,3,3,3,3,4,3,3,3,3,2,3,2,2,2,2,3,2,2,3,2,3,6,4,4,4,5,4,3,4,5,5,4,3,4,3,3,4,3,4,3,3,4,4,4,3,3,4,5,3,3,3,5,3,3,3,4,3,6,4,4,4,4,2,3,3,5,2,4,4,5,4,2,2,2,4,4,3,3,2,2,2,3,4,3,4,4,3,2,2,3,4,2,3,3,3,2,4,4,5,6,3,4,4,4,3,7,3,2,3,4,5,4,4,4,4,4,4,2,2,3,4,4,4,3,4,3,4,3,3,2,4,3,5,5,3,3,3,2,2,4,3,3,3,3,3,3,2,3,2,2,3,4,3,3,2,3,4,3,3,3,2,3,3,3,4,5,3,5,4,4,4,3,1,3,4,5,3,3,3,4,3,4,4,3,4,2,3,4,4,4,3,3,4,4,4,3,4,3,3,4,5,5,4,3,3,3,3,3,4,3,4,3,3,3,3,3,2,2,2,4,2,3,3,2,4,4,2,3,3,1,3,2,3,3,3,2,3,5,3,3,2,3,4,3,3,2,3,3,4,4,3,1,4,4,4,4,4,5,4,5,4,2,4,3,5,4,3,3,3,4,3,3,3,3,4,3,3,4,5,3,3,5,5,3,4,4,4,4,3,4,3,3,3,4,3,3,3,3,3,4,5,3,3,4,5,2,3,5,3,3,3,4,3,3,3,2,3,2,3,3,3,3,6,3,4,3,3,3,3,5,4,3,5,2,3,2,3,3,3,2,3,3,3,3,2,3,2,3,3,3,3,3,3,3,2,3,5,6,3,5,5,5,3,5,4,4,3,3,4,3,3,3,4,3,4,4,4,3,3,4,3,4,4,3,4,4,3,6,3,5,3,4,5,3,3,3,4,3,3,2,5,3,3,3,3,3,3,5,2,4,3,4,3,3,3,3,4,3,3,4,2,3,2,4,2,3,4,3,4,3,3,3,3,1,3,3,3,2,3,2,3,3,3,4,3,3,3,3,3,5,2,2,4,1,1,3,5,4,6,4,5,4,4,3,5,4,3,4,4,3,4,3,3,3,3,3,3,4,4,4,4,4,3,3,3,4,4,4,3,2,3,4,4,4,3,3,3,3,5,4,3,3,3,3,4,4,4,3,4,3,4,4,3,4,3,3,3,4,3,3,4,2,3,4,4,3,3,4,4,4,5,3,3,4,3,3,3,3,4,4,3,3,3,3,2,2,4,3,3,4,2,4,4,3,5,4,4,4,4,4,5,2,4,5,3,4,4,3,3,3,4,4,4,4,4,3,3,4,3,3,3,5,3,4,4,2,3,4,4,4,2,3,4,4,2,3,3,3,4,2,3,2,3,4,3,3,3,4,3,2,5,4,2,2,3,3,6,4,3,4,4,4,3,4,5,3,4,3,2,4,4,5,4,4,4,3,4,4,4,3,4,4,4,4,4,4,4,3,4,3,3,4,3,3,4,4,2,3,4,3,3,2,3,4,3,3,3,3,3,3,4,3,4,4,4,3,4,3,3,2,3,2,2,3,3,2,2,4,3,4,3,4,2,3,4,3,3,2,3,3,2,4,3,3,3,4,3,2,4,3,3,2,4,2,2,3,5,4,3,3,3,4,3,4,2,5,4,5,4,5,3,5,5,6,4,5,4,3,5,3,4,3,3,3,5,3,3,4,3,3,3,3,4,4,4,4,5,4,3,4,3,4,5,3,3,3,2,2,3,4,4,4,5,2,3,2,3,5,3,3,3,2,4,3,2,4,2,4,4,4,3,4,4,3,4,3,2,3,3,4,2,3,4,3,4,2,4,2,4,3,2,3,3,3,4,3,3,3,3,6,3,3,4,5,5,3,5,5,4,5,4,4,3,4,4,4,3,3,3,4,4,4,5,3,6,4,2,4,5,4,4,4,3,3,3,3,2,5,3,2,3,4,3,3,6,2,3,3,4,4,4,3,4,4,3,4,4,3,2,3,3,3,3,1,3,3,3,3,4,2,3,3,3,3,3,5,4,2,3,3,3,2,3,2,5,3,3,5,3,3,2,1,2,5,4,4,5,5,4,4,4,4,4,4,3,4,4,3,4,3,4,3,3,3,3,4,3,3,3,3,4,5,2,4,3,5,4,3,5,4,2,3,4,3,3,4,3,3,5,4,3,4,4,3,5,2,3,5,3,3,3,4,3,3,3,3,3,2,3,4,3,3,2,4,2,2,3,2,5,4,3,3,3,4,1,4,4,3,2,4,4,2,3,2,5,6,5,4,5,4,5,4,4,4,2,4,5,3,3,4,4,4,5,3,4,3,4,5,3,4,4,3,3,3,3,3,3,5,3,3,4,3,3,3,3,3,4,4,3,3,4,4,3,4,4,3,2,4,3,3,2,3,3,4,3,3,4,3,3,4,4,3,3,2,2,2,3,3,4,3,2,4,5,4,3,4,2,3,3,4,4,3,3,5,3,3,4,4,3,4,4,4,4,4,4,4,4,4,4,4,3,4,3,3,4,4,2,4,4,3,6,4,3,5,4,4,4,4,3,3,3,4,3,4,2,3,4,4,3,3,5,3,3,3,3,3,2,2,2,6,3,3,3,5,3,4,4,4,4,4,4,3,4,2,5,4,4,4,3,3,2,4,3,3,1,3,3,4,5,3,4,3,3,3,2,2,3,4,3,3,3,3,2,5,3,4,4,3,3,4,4,3,4,3,4,3,3,5,4,5,4,4,5,7,3,3,3,4,3,3,4,4,6,4,3,3,4,3,3,5,5,3,4,3,2,4,4,4,4,4,3,3,4,3,2,3,2,3,4,2,2,4,4,4,4,2,3,3,3,3,4,3,3,3,2,4,4,5,3,3,2,4,3,3,2,3,3,4,3,4,3,4,3,4,3,2,3,3,3,3,3,2,4,3,3,3,3,3,3,1,3,4,3,3,4,4,4,4,6,3,4,4,4,4,4,6,4,5,4,4,3,4,4,3,4,3,3,5,3,3,5,4,4,5,4,5,4,5,2,5,2,3,5,3,4,3,3,3,4,4,3,5,4,2,3,3,5,3,3,3,3,4,3,3,4,4,4,5,3,3,2,3,3,2,3,3,4,3,4,3,3,3,5,3,4,3,5,3,3,4,4,4,4,2,3,2,3,2,3,2,3,1,3,2,6,5,5,4,3,4,4,4,5,5,3,2,5,4,4,2,3,4,4,3,4,3,4,3,4,3,3,6,4,4,4,4,4,3,3,4,3,4,4,3,4,4,3,5,3,3,4,3,2,3,3,3,3,3,3,3,3,4,3,2,2,3,4,6,2,4,4,4,3,3,4,3,3,4,3,2,3,3,4,3,4,2,3,4,3,3,3,3,4,3,3,4,4,3,3,3,3,3,3,3,3,2,6,3,7,5,4,4,5,7,5,6,3,4,3,3,4,3,4,4,3,4,3,4,3,5,3,4,4,3,4,2,4,6,3,4,5,4,4,3,4,2,4,3,3,4,2,3,3,4,5,3,4,4,4,4,4,3,3,3,3,4,3,4,4,3,5,3,3,5,5,2,3,3,4,4,4,3,3,3,4,4,3,5,4,2,3,3,4,3,3,3,2,3,4,3,4,4,1,1,3,2,4,2,3,3,3,2,2,3,3,4,3,4,4,4,2,4,4,3,4,4,2,4,4,2,3,4,4,3,4,3,4,3,4,4,4,5,3,4,5,4,3,4,4,4,3,4,3,4,4,2,2,4,3,5,3,4,3,2,4,5,6,3,4,3,3,4,3,3,4,3,3,2,5,6,3,3,3,4,4,3,3,3,3,5,4,3,4,4,3,4,2,3,4,3,2,3,2,3,3,4,2,3,3,2,4,3,3,3,3,4,4,4,2,3,4,7,3,3,3,3,3,3,3,3,3,1,4,3,3,4,4,3,4,5,3,4,4,2,3,2,3,3,3,2,2,3,4,3,3,3,3,4,3,2,3,3,3,6,4,2,3,3,3,3,2,3,5,3,3,4,5,5,4,4,3,2,4,3,4,4,4,4,4,4,4,3,3,3,4,4,4,4,4,3,4,3,3,6,2,4,4,2,3,4,2,3,4,4,5,4,3,4,3,2,3,2,3,4,3,3,3,2,3,3,4,2,4,3,3,4,3,4,3,3,3,3,3,3,3,3,3,4,3,3,3,3,3,4,3,3,2,2,4,4,3,4,2,4,3,3,2,2,3,3,4,5,4,4,4,3,2,2,3,3,3,3,2,3,4,4,3,3,3,2,3,3,3,2,4,5,3,3,4,4,4,3,4,5,4,3,5,5,5,5,4,4,5,4,2,4,4,4,3,5,4,5,3,4,4,5,4,3,4,4,3,33,5,4,3,4,3,3,4,5,4,3,4,3,3,2,3,2,3,4,4,5,4,3,3,3,3,5,3,3,4,2,3,2,3,4,3,2,4,3,2,4,4,3,2,3,3,3,4,4,3,2,3,6,3,4,4,2,3,3,6,3,3,3,3,2,3,3,3,7,3,4,2,3,2,3,2,3,5,3,4,3,3,3,3,4,3,3,3,3,3,3,1,3,2,5,4,4,3,4,3,3,4,4,4,4,3,4,4,4,4,4,3,4,3,3,4,4,3,4,3,4,4,6,3,3,5,4,3,4,2,3,3,3,3,3,3,6,3,3,4,5,4,4,4,5,4,3,3,4,3,3,3,2,3,4,5,3,2,2,4,4,3,4,4,3,4,3,3,3,4,2,4,3,4,3,5,5,3,3,4,4,3,2,3,4,3,2,3,4,4,4,3,2,4,2,4,3,4,2,3,3,3,5,3,4,3,3,3,4,4,5,3,2,3,4,3,3,3,2,2,2,3,3,3,3,4,4,5,4,3,4,5,4,3,4,3,3,3,2,3,3,4,3,2,3,5,4,4,4,3,3,4,4,4,2,5,1,2,2,4,3,4,2,4,4,4,4,4,4,2,2,3,3,4,3,3,3,3,3,3,5,4,4,2,3,5,3,4,5,4,6,3,1,4,2,1,3,2,2,3,3,3,3,3,3,1,4,3,2,3,2,2,3,2,2,2,3,3,4,4,2,4,5,3,3,3,3,4,3,2,3,2,4,3,3,5,3,4,5,5,5,4,3,4,3,4,4,4,4,2,5,4,4,4,3,4,5,4,4,3,3,3,3,4,3,3,4,3,4,4,3,3,4,4,3,3,4,4,2,3,4,4,2,2,1,5,2,4,3,4,3,4,3,3,2,4,4,4,3,3,2,3,4,2,4,3,2,3,3,3,2,2,2,2,5,3,4,4,3,4,4,6,4,4,5,3,4,4,3,4,4,5,4,5,4,4,3,4,3,5,2,4,3,3,3,3,4,3,4,2,3,4,4,2,5,2,4,3,4,3,4,4,4,3,3,4,4,3,2,3,2,3,3,4,3,2,5,4,3,4,3,3,4,3,2,3,3,4,3,4,4,3,3,4,4,2,3,4,5,3,3,2,3,3,2,3,2,3,4,4,3,3,3,3,4,3,1,4,2,3,3,3,3,3,3,1,2,3,2,5,4,4,3,2,4,3,4,4,6,3,4,4,5,3,4,2,2,3,4,4,3,3,5,5,4,3,4,3,3,4,5,4,3,3,4,3,3,4,3,3,3,2,3,5,3,2,3,4,3,3,5,4,4,4,4,3,3,3,4,4,4,3,5,4,3,2,4,4,2,3,2,3,2,3,3,2,4,5,4,4,4,4,2,3,3,3,5,4,2,4,4,3,4,5,5,3,4,4,4,4,3,4,6,4,3,3,4,4,3,3,3,3,4,3,3,4,3,5,5,3,4,3,4,3,4,5,2,3,3,3,3,3,3,4,2,4,2,5,4,4,2,2,4,4,3,8,3,4,2,3,3,5,4,3,3,3,4,2,3,3,4,4,2,3,3,4,4,4,4,3,3,4,2,3,3,4,4,4,3,3,3,4,4,5,3,4,4,4,3,3,4,6,5,5,4,4,3,3,4,3,3,2,3,4,3,3,2,3,6,3,3,2,4,3,3,2,4,3,5,3,3,2,5,3,3,3,3,4,3,2,3,2,4,3,3,3,2,3,3,3,3,4,3,4,3,3,3,4,2,3,3,3,3,3,3,2,2,4,6,3,4,4,4,3,5,3,4,2,4,4,4,5,3,3,4,4,3,4,2,3,4,2,4,4,4,4,5,4,4,3,4,4,2,3,2,3,4,3,2,4,4,3,4,4,3,3,3,2,5,2,3,4,2,3,4,3,4,4,4,4,3,4,2,4,4,3,2,4,3,4,4,3,3,4,3,3,4,3,3,3,3,4,5,2,4,3,3,4,3,4,3,3,3,2,2,3,2,4,4,3,3,3,2,3,3,3,2,4,3,5,2,3,3,3,3,3,3,3,3,1,3,3,2,1,5,5,5,6,4,4,5,4,4,5,4,3,4,4,4,4,4,3,4,2,4,3,2,4,4,3,4,4,3,4,3,4,4,4,3,4,3,3,3,3,7,4,4,3,3,3,6,3,3,4,3,2,3,4,4,3,3,3,4,4,4,3,2,3,4,4,5,4,4,4,5,3,3,3,4,2,3,4,4,3,5,3,5,2,4,2,3,3,3,3,3,3,1,3,3,3,3,4,3,2,3,5,4,3,4,3,4,4,3,3,2,3,4,3,4,3,3,2,4,3,3,6,4,4,5,6,3,4,6,4,5,5,5,5,4,3,3,6,5,4,3,3,2,3,4,3,4,4,3,4,3,3,4,4,4,4,2,5,4,2,2,3,3,5,4,2,2,3,4,3,5,2,4,4,2,4,3,4,3,4,4,3,4,4,4,3,3,2,3,3,3,4,2,2,3,2,4,4,3,3,3,3,3,3,2,3,4,2,3,3,2,4,8,4,3,6,5,4,3,5,4,4,4,3,3,5,3,4,4,3,4,4,4,5,7,3,4,4,4,5,4,3,5,3,4,3,4,3,2,4,3,3,3,3,4,4,3,3,3,4,3,2,3,3,4,4,4,3,4,3,3,3,3,3,4,3,3,2,3,3,3,2,3,3,3,3,3,3,2,2,2,2,3,4,4,2,2,3,3,3,4,3,4,3,3,4,4,5,4,2,4,3,3,5,4,4,4,5,4,3,4,3,3,3,4,3,4,6,4,3,5,4,3,3,2,4,2,4,3,4,1,3,4,4,3,3,4,2,3,4,5,4,3,3,3,4,5,4,4,4,3,3,3,3,2,3,3,5,3,3,3,3,4,4,3,3,2,4,3,3,3,4,3,3,2,2,4,3,3,3,3,3,3,3,3,3,4,4,3,3,3,4,4,3,3,3,3,2,3,3,3,3,4,2,3,2,1,1,3,3,3,3,5,5,4,3,5,5,3,4,4,4,6,4,5,3,5,4,4,4,4,4,4,2,4,5,4,3,3,4,3,2,3,3,4,4,3,3,3,4,4,3,5,4,3,5,3,2,2,4,3,3,2,3,3,2,3,3,5,3,4,3,1,4,4,4,3,3,3,2,4,3,3,3,3,2,3,4,3,2,3,4,3,3,4,4,3,3,2,4,3,4,4,3,3,3,2,4,5,3,3,3,2,3,3,5,5,4,4,4,3,4,4,3,3,3,4,4,3,4,4,3,3,4,3,3,5,3,5,3,4,4,5,3,4,3,3,3,3,4,4,5,4,2,3,2,3,3,3,3,4,4,2,3,3,3,5,4,2,3,4,3,3,3,2,4,4,3,3,3,3,3,3,3,3,4,3,3,2,3,3,3,3,3,3,3,3,4,4,4,3,4,3,1,2,2,4,3,3,3,3,3,2,3,4,2,3,3,2,3,3,4,3,2,2,6,4,4,4,3,5,4,5,2,4,4,4,4,5,3,3,3,4,4,3,4,4,4,3,3,5,5,3,3,2,3,2,3,6,3,3,3,3,3,4,4,4,5,3,4,4,3,6,4,2,1,4,2,4,3,3,2,3,3,5,3,4,5,3,3,3,2,3,4,3,3,3,3,2,3,3,3,2,4,3,3,5,3,2,2,5,4,4,4,3,5,4,4,5,3,5,4,4,3,3,3,2,4,4,4,3,4,3,2,3,4,4,3,3,4,4,3,4,3,4,5,3,4,4,4,3,3,3,4,3,3,4,4,4,3,4,3,2,5,3,3,3,2,2,4,4,3,5,2,5,4,2,4,2,2,4,3,4,3,4,3,4,3,3,4,3,3,3,3,2,2,3,3,3,3,3,2,2,3,3,3,2,2,3,3,3,4,4,3,3,4,3,6,4,4,4,3,4,4,3,3,4,5,4,4,4,3,3,3,4,4,3,3,3,3,5,4,3,6,3,4,3,3,4,3,4,3,4,4,2,4,3,3,2,4,3,3,4,3,2,3,4,3,4,2,5,2,3,2,3,3,4,3,3,3,2,3,3,3,4,3,3,4,3,4,4,3,3,3,4,4,3,5,4,2,2,3,3,4,3,3,3,3,3,3,3,4,2,4,3,3,2,2,2,3,4,4,4,4,2,6,4,4,4,4,4,4,5,2,3,5,4,4,3,3,4,4,3,3,3,4,3,5,3,3,5,3,4,3,3,4,4,6,6,3,3,3,3,3,3,4,5,2,3,5,3,3,3,3,4,4,2,3,3,2,2,3,2,3,3,2,4,3,4,4,2,3,4,4,4,2,3,2,3,4,2,3,3,3,3,4,3,4,3,3,3,3,3,4,4,3,4,4,3,4,3,2,3,2,3,4,3,4,4,4,4,4,4,4,4,3,4,4,4,2,4,3,5,5,5,2,4,3,3,3,4,4,4,3,2,4,3,3,3,3,3,4,3,4,2,4,2,4,6,3,4,4,3,3,4,4,3,3,3,3,4,3,6,3,5,3,4,2,4,3,3,3,3,3,2,4,4,3,5,3,3,3,2,3,3,3,3,3,2,3,3,4,3,3,2,2,3,2,3,3,4,3,4,2,4,4,4,3,2,4,4,2,6,4,4,4,4,4,4,2,3,4,5,4,3,4,4,4,3,4,4,4,3,5,4,4,4,4,4,4,4,4,4,3,2,4,3,3,2,3,4,5,3,3,4,4,4,4,3,4,4,4,3,5,3,2,2,4,3,3,5,3,3,3,3,2,3,3,3,2,2,3,3,3,3,4,3,2,3,3,2,4,2,3,3,3,4,3,2,3,3,2,3,3,3,2,3,3,4,4,5,3,4,3,4,3,4,3,3,3,3,3,5,3,4,3,3,3,3,4,5,3,3,4,4,3,3,4,3,2,4,4,5,4,4,3,3,2,4,3,4,3,3,4,3,3,3,4,3,4,3,3,3,3,5,3,2,4,3,4,2,5,3,5,5,4,4,4,2,4,3,4,3,4,3,3,4,3,3,4,4,3,4,3,3,3,3,3,3,5,3,4,3,3,3,2,2,1,4,4,2,3,3,2,2,3,2,4,3,5,3,4,4,4,3,4,4,3,3,3,5,4,3,4,3,5,4,3,3,4,4,5,4,3,3,5,3,3,3,2,3,3,4,4,2,2,4,5,4,3,2,4,2,3,4,3,6,6,3,4,3,3,2,3,3,4,3,4,4,3,3,5,4,2,3,2,3,3,3,4,4,3,3,3,4,3,4,3,4,4,3,3,3,3,3,3,3,3,4,3,3,5,4,4,4,3,4,4,4,3,4,4,3,4,3,4,4,4,4,4,4,4,4,3,4,3,3,3,5,4,4,3,4,4,4,4,3,4,4,3,5,4,4,4,3,3,3,3,3,4,2,2,4,5,5,4,3,3,3,4,3,4,4,4,3,2,3,5,3,3,2,3,4,3,3,4,3,2,3,4,4,3,2,3,2,3,3,3,3,4,3,4,5,3,4,3,4,4,3,3,3,3,3,3,5,3,4,3,3,4,3,3,3,5,4,4,4,4,3,4,4,5,4,4,3,4,3,4,2,4,5,3,3,4,4,4,4,3,4,4,2,3,2,2,3,3,3,3,5,3,3,3,3,3,3,3,3,3,3,4,4,3,3,3,4,3,4,3,2,5,4,3,3,2,3,3,3,2,3,2,3,4,3,3,4,3,1,3,4,4,5,4,4,4,4,4,5,3,4,4,3,4,3,4,3,4,2,3,3,3,3,4,3,4,5,3,3,3,3,3,3,3,3,4,3,4,3,3,2,3,4,3,4,3,3,3,3,3,2,3,2,3,3,3,4,3,4,5,2,3,4,3,6,3,3,3,3,2,4,3,3,3,3,3,3,3,3,3,2,3,2,4,4,5,3,5,3,4,4,3,4,4,4,4,4,4,2,3,4,5,4,3,4,4,3,3,4,3,4,3,3,5,3,4,3,3,4,3,3,4,4,3,3,3,2,4,3,3,4,3,3,3,3,3,4,3,3,4,3,4,4,4,2,4,3,3,3,5,2,4,5,2,4,3,2,3,3,3,2,3,3,3,4,3,2,3,2,4,5,4,5,5,4,4,5,4,4,5,5,5,4,4,4,4,5,3,3,4,5,4,1,3,2,3,3,4,4,3,4,3,3,3,5,3,2,3,3,4,3,3,3,3,4,3,3,2,2,4,4,3,3,3,2,2,3,3,3,3,3,3,6,3,4,3,3,3,3,3,3,4,2,3,4,3,3,3,3,3,3,2,3,2,2,3,1,3,3,2,2,4,4,5,4,5,4,6,4,5,4,5,3,4,4,4,5,4,4,4,4,4,5,3,4,4,3,3,4,3,3,3,4,6,3,3,5,3,3,4,2,5,3,3,4,4,4,3,3,3,3,3,3,3,4,4,3,3,4,3,3,3,3,4,4,4,3,3,5,2,3,2,3,4,3,3,3,3,3,4,4,3,3,3,3,3,1,4,3,5,3,5,3,3,1,3,3,3,6,4,3,2,3,4,4,2,3,2,3,4,3,5,5,4,4,3,5,3,3,4,2,4,4,4,4,3,4,4,3,4,4,4,3,4,3,4,3,4,3,3,3,5,3,5,3,3,3,3,4,5,2,3,6,4,4,2,4,4,4,2,4,4,3,5,2,3,2,3,2,3,3,3,4,4,2,4,3,2,3,3,3,2,3,4,3,3,4,2,3,2,4,3,2,4,2,4,4,5,3,5,4,2,4,3,4,3,3,5,3,4,4,4,4,3,2,3,3,3,4,4,3,3,3,3,4,3,4,4,3,4,3,3,4,2,4,5,2,3,4,3,4,4,4,3,2,4,3,2,4,2,2,3,2,2,2,3,3,7,3,4,4,4,9,4,4,4,3,5,4,4,3,4,4,3,3,3,4,4,3,3,3,3,6,2,4,4,4,4,5,3,5,2,4,3,3,3,2,5,5,3,2,2,2,3,3,3,4,3,3,3,3,4,4,3,4,5,3,2,3,3,3,4,3,3,5,3,3,4,2,4,3,2,4,2,2,3,3,3,3,4,3,4,3,4,4,4,3,4,5,4,3,5,5,4,2,5,4,3,5,4,4,4,3,3,3,3,5,4,4,3,4,2,3,4,4,4,3,3,2,3,4,3,5,3,3,3,3,5,6,2,3,3,3,3,3,3,9,3,4,3,3,3,3,4,4,3,3,4,2,4,3,3,4,3,3,3,3,3,3,3,3,2,2,2,4,4,3,3,3,3,3,2,3,2,3,3,4,3,2,3,3,3,3,3,1,3,2,4,5,4,4,3,4,4,4,3,3,4,2,4,3,4,2,1,4,3,3,4,5,3,4,4,4,3,5,3,3,3,2,5,3,2,5,4,2,3,4,3,3,3,3,2,2,4,4,4,3,4,4,3,4,5,4,4,3,4,4,5,4,4,6,3,3,2,4,3,4,2,4,4,3,4,4,4,4,4,3,3,3,4,5,3,3,3,3,3,2,3,3,3,2,2,3,2,2,2,3,4,4,4,4,3,4,4,3,3,4,3,2,2,4,4,4,4,3,3,3,4,4,3,5,4,3,3,3,3,4,4,4,3,3,3,3,5,6,2,3,3,3,3,4,4,3,3,6,3,3,1,3,3,4,2,2,3,3,2,6,4,4,3,3,3,5,3,3,2,4,3,5,4,1,4,4,3,3,3,1,4,2,3,3,4,4,3,3,3,3,3,3,5,2,3,3,5,3,5,5,5,10,3,4,3,6,4,4,4,4,6,3,3,5,4,4,4,7,4,4,3,5,8,3,5,5,4,4,4,4,4,4,4,4,3,6,3,3,3,5,2,3,3,3,3,4,3,3,3,3,3,3,4,2,6,3,3,4,4,4,3,1,3,2,2,4,4,2,5,3,4,3,4,3,4,4,3,1,3,3,2,3,3,3,3,3,3,3,3,5,4,4,4,3,4,4,4,4,4,3,3,4,4,3,4,3,4,3,2,3,3,3,4,3,3,2,4,3,2,3,3,4,3,5,3,3,3,2,3,3,4,1,3,3,4,3,4,2,2,3,3,4,3,3,3,2,2,2,4,5,3,2,4,3,3,3,4,5,4,4,4,3,4,3,5,6,4,4,4,3,3,2,3,4,2,5,3,3,4,5,3,3,4,4,3,3,3,2,2,3,2,4,4,4,4,3,3,2,3,3,4,3,1,3,3,3,4,2,3,3,2,3,3,3,3,3,2,2,2,3,3,2,4,3,3,3,4,2,3,3,3,5,3,3,3,4,3,2,5,3,4,4,4,5,2,3,4,5,4,6,4,5,4,4,4,3,4,4,4,4,4,3,3,3,3,3,2,4,2,3,3,3,4,4,4,3,3,2,2,3,3,3,4,3,3,3,3,3,5,3,3,2,3,3,4,2,3,3,3,3,4,4,3,4,4,2,3,2,3,2,4,2,2,3,4,3,4,4,4,3,2,3,5,2,4,2,2,3,3,3,3,3,3,3,4,4,3,4,2,4,3,3,3,3,3,3,4,4,3,3,4,4,4,3,4,3,3,4,4,3,3,3,3,3,3,3,3,3,3,5,4,4,4,3,3,4,4,3,4,3,2,4,3,3,4,4,3,3,3,3,5,3,4,3,3,3,3,3,4,3,4,4,2,3,3,3,5,4,3,2,3,2,4,3,2,2,2,3,2,3,2,4,4,4,3,4,4,3,5,3,3,3,3,4,2,3,3,3,3,3,2,3,3,3,3,3,3,4,3,2,4,4,4,5,4,4,3,2,3,3,3,5,3,4,4,3,3,3,2,3,3,3,3,11,4,4,3,4,3,3,2,2,3,3,2,3,3,3,2,2,4,4,3,3,3,2,4,4,2,3,3,4,4,2,3,3,4,4,3,4,3,3,3,3,3,3,4,3,4,5,3,3,2,3,3,3,3,3,3,2,2,2,3,2,4,5,4,3,3,3,3,4,5,4,5,3,5,5,4,3,2,3,4,4,3,3,2,4,4,2,4,3,5,4,3,4,4,2,4,4,5,3,3,3,2,3,4,2,3,2,3,4,3,4,3,2,4,4,4,3,2,3,2,3,4,3,3,3,3,3,4,2,4,3,3,4,3,2,1,4,3,3,4,3,3,3,3,4,3,4,3,3,3,4,3,3,3,2,2,3,3,4,3,2,2,2,3,4,4,4,3,3,4,2,3,4,3,3,4,5,4,4,5,4,4,3,3,3,3,5,4,4,4,4,2,4,3,4,4,4,3,4,3,3,4,2,3,4,4,5,3,4,4,3,3,5,4,3,4,3,2,3,3,3,2,4,2,3,3,4,3,2,3,4,3,4,2,3,3,3,4,3,2,1,3,4,3,3,4,4,2,3,4,4,3,3,4,3,4,4,4,3,4,3,2,3,3,3,2,3,4,3,1,4,4,3,3,3,3,3,3,3,3,3,1,4,3,4,4,4,4,5,4,3,4,4,4,4,3,4,4,4,6,3,4,3,5,3,4,3,3,4,3,3,4,3,5,4,3,3,3,4,4,4,2,4,4,2,2,4,5,4,4,2,3,3,4,4,2,4,3,4,2,3,2,4,3,3,3,4,3,3,3,3,3,3,2,2,3,4,2,3,5,4,3,3,3,3,3,5,3,3,3,3,3,3,3,3,3,4,3,3,3,2,4,2,3,3,3,3,3,2,2,2,3,2,4,3,3,2,2,1,4,4,4,4,4,4,3,4,3,5,3,3,4,4,5,2,3,4,2,4,4,3,3,2,3,2,3,4,5,3,3,4,3,3,4,4,5,4,5,4,4,4,3,4,3,3,3,3,5,4,4,4,4,4,4,4,2,3,3,3,3,3,3,3,4,1,4,3,3,3,4,3,3,3,3,4,3,4,3,3,3,3,3,3,3,3,3,3,3,5,3,3,2,4,3,3,4,3,4,3,3,4,5,5,2,6,4,3,2,2,5,4,5,4,3,3,4,4,2,3,2,2,4,5,3,3,4,3,2,4,3,4,4,3,3,3,4,4,3,3,3,4,3,3,3,3,2,2,3,5,5,3,4,3,5,3,5,3,4,3,4,3,2,3,2,3,4,3,3,3,3,3,3,2,4,2,4,3,2,3,4,4,4,4,3,3,3,6,4,3,4,5,5,4,3,3,2,4,4,4,3,3,2,3,3,3,2,4,2,2,3,3,3,4,3,3,4,3,4,3,3,3,2,3,5,3,4,3,3,3,3,3,3,1,3,4,3,3,5,5,4,3,3,4,3,3,3,4,4,4,4,3,4,4,4,4,3,2,5,3,3,4,5,4,3,3,3,4,4,4,4,3,3,3,4,4,3,3,3,5,3,4,4,2,3,3,3,3,3,3,3,3,4,3,3,4,3,2,3,3,3,3,3,4,4,4,5,2,5,3,3,3,4,3,4,4,3,3,3,2,2,3,4,3,3,4,3,4,4,4,4,4,5,3,4,4,3,3,4,4,4,3,5,3,4,3,3,3,3,3,2,4,3,3,4,3,2,2,3,3,2,3,2,2,2,4,3,3,3,2,2,3,4,4,3,3,3,3,3,4,3,2,2,3,2,5,3,3,3,3,3,2,4,3,3,4,2,3,4,3,6,1,3,3,3,4,4,3,3,3,3,3,5,4,6,2,4,6,6,3,4,3,4,4,4,3,3,4,3,4,5,4,5,4,5,3,3,4,4,4,3,3,3,5,4,4,3,3,3,3,3,5,1,4,3,4,3,3,3,3,3,3,1,3,4,3,3,3,3,3,2,4,1,3,4,3,3,5,3,3,4,3,5,3,3,4,3,1,1,3,2,5,3,3,4,4,4,3,4,6,5,4,4,4,3,4,5,4,3,3,3,4,3,4,4,3,3,3,6,3,4,3,3,3,3,3,4,5,4,4,3,3,6,3,3,4,5,3,4,3,4,3,2,4,4,6,3,3,4,2,3,4,4,2,4,2,3,3,3,3,4,3,4,2,4,3,3,3,3,4,3,2,4,3,2,2,3,2,2,2,3,2,4,3,4,5,4,4,4,4,4,4,5,3,5,3,3,4,3,4,3,3,2,3,2,3,3,4,4,3,3,4,3,4,3,3,4,3,3,3,4,4,4,3,1,4,4,3,3,4,2,3,3,4,2,3,4,3,3,3,3,3,3,1,3,2,3,3,3,2,3,3,3,3,2,3,3,3,4,4,4,5,4,4,3,4,4,4,5,2,3,5,4,4,4,4,4,3,5,3,3,3,4,2,4,3,4,4,4,4,3,5,5,3,4,4,3,6,4,2,4,3,5,3,3,3,7,3,5,3,2,3,3,3,3,5,3,4,3,6,2,4,3,4,3,3,3,3,4,3,3,3,3,2,3,3,2,3,5,3,3,3,2,2,3,5,3,3,4,4,3,2,5,5,5,3,4,4,4,4,2,3,3,4,3,5,3,4,4,4,4,2,3,3,2,3,4,4,3,2,4,3,4,3,3,5,3,2,5,4,3,4,3,3,2,4,3,7,1,4,5,5,2,4,4,3,3,4,4,2,3,3,2,4,3,5,4,3,3,2,3,4,5,3,3,3,2,3,2,3,3,5,3,3,3,3,3,3,3,4,2,6,4,5,4,3,4,3,3,4,4,4,5,4,2,4,4,4,3,3,4,3,4,3,2,4,3,2,5,3,6,4,3,3,3,3,5,4,4,3,4,3,2,3,4,4,3,4,2,4,3,3,5,4,3,4,2,3,4,3,2,4,3,5,2,2,3,4,3,5,3,2,2,3,4,3,2,4,4,2,3,3,4,2,3,4,5,5,5,4,4,4,3,3,3,3,3,4,3,4,4,3,3,4,4,5,3,4,3,3,4,3,3,3,3,3,3,3,3,2,3,3,4,2,4,4,3,2,3,3,2,3,2,4,3,3,3,3,2,3,2,4,2,3,4,3,4,3,4,3,2,4,4,2,4,4,3,4,4,4,4,3,5,4,3,3,2,4,3,5,3,3,4,3,4,3,3,3,3,5,4,4,3,2,4,3,3,4,3,3,3,2,3,3,4,2,2,3,3,2,3,3,4,2,3,5,2,3,3,4,4,5,3,3,2,3,3,5,3,3,4,4,2,3,4,3,4,4,2,3,1,2,3,3,4,4,4,4,4,3,3,3,5,4,3,4,5,4,4,5,4,3,3,3,4,4,3,2,2,4,3,4,2,3,4,3,3,3,3,3,2,3,4,2,3,4,5,3,4,4,2,4,2,2,4,5,3,3,3,4,3,3,4,3,3,4,3,3,3,4,4,2,3,6,4,3,2,3,1,4,3,3,3,4,3,3,3,2,3,3,2,3,3,2,2,4,4,4,6,3,3,4,4,5,4,3,4,4,5,4,4,3,4,2,5,4,2,3,3,4,4,3,3,3,3,3,3,4,5,4,3,3,2,3,3,4,2,3,3,6,3,3,2,3,4,3,3,3,3,3,3,3,4,3,6,4,3,3,3,1,3,3,3,2,2,4,3,2,2,5,4,3,5,4,3,2,4,3,3,4,4,5,4,5,4,4,4,3,3,3,3,3,3,4,3,5,3,3,3,3,5,2,4,2,2,4,3,3,3,3,3,3,3,3,4,3,3,3,3,2,4,3,3,5,2,3,4,3,3,2,4,5,3,3,4,4,4,1,4,3,3,3,3,3,3,4,3,2,6,3,3,4,4,4,4,4,4,3,3,3,3,4,4,3,2,2,4,3,3,3,4,2,4,4,5,3,3,2,2,3,4,3,4,4,3,3,5,3,3,3,2,2,3,4,4,4,4,4,3,3,4,3,3,3,3,4,4,3,4,3,4,2,5,4,3,4,3,5,3,3,3,3,4,2,2,4,3,5,3,5,2,5,4,2,4,4,4,2,4,5,3,3,4,4,4,4,4,3,4,2,3,3,4,5,4,2,3,4,4,7,3,3,4,3,3,3,1,4,4,3,4,3,3,3,3,3,4,3,3,3,3,3,4,3,3,3,4,3,4,3,3,3,4,4,3,3,3,3,3,3,4,3,4,3,4,3,3,3,4,4,2,2,4,3,3,3,4,3,3,3,3,4,3,3,3,6,4,4,5,5,5,6,5,3,3,3,3,5,4,4,4,4,3,3,4,5,4,3,3,4,4,4,3,4,4,4,4,4,5,4,4,3,4,3,2,4,6,2,3,3,3,3,3,5,3,4,3,3,4,3,4,5,3,3,2,3,3,4,2,3,3,4,3,3,4,4,3,4,4,2,4,4,2,4,4,4,1,3,3,4,4,3,2,2,3,4,3,3,3,3,3,2,3,4,4,3,3,2,4,4,4,3,4,3,2,4,4,6,5,2,3,3,3,3,3,4,4,5,4,4,4,5,3,4,4,3,2,4,3,1,4,5,3,2,4,4,3,2,4,4,3,3,3,4,2,2,2,2,4,1,3,2,4,3,4,3,3,3,2,3,5,4,3,4,4,2,3,4,4,4,4,2,5,3,3,3,3,3,3,3,4,3,2,2,3,5,3,3,4,2,3,3,3,3,3,2,3,4,3,3,5,4,4,2,3,3,3,4,4,4,4,4,4,2,3,3,3,2,3,4,3,3,3,4,3,4,3,3,3,5,1,4,2,4,3,2,4,3,2,5,3,3,3,3,4,4,4,4,3,3,3,3,3,4,3,4,3,4,3,3,3,4,3,5,5,3,4,3,3,3,2,2,3,3,2,4,7,5,4,3,4,4,4,3,4,4,2,4,4,4,4,4,4,3,5,2,3,3,4,5,4,4,4,4,4,3,3,3,3,4,4,2,4,3,3,4,3,3,3,3,3,2,2,3,2,2,4,3,3,3,3,2,3,4,4,3,4,4,4,3,3,3,3,3,4,4,3,4,4,2,4,3,3,3,3,3,3,3,3,4,3,3,3,2,3,3,4,4,4,2,3,4,4,3,4,4,4,4,4,3,5,3,4,5,4,5,5,4,3,4,4,6,4,4,4,4,4,3,3,4,2,3,4,4,2,3,3,3,3,4,4,4,4,3,4,2,4,3,3,4,2,3,2,5,2,4,4,3,4,2,4,4,4,4,3,1,2,3,4,4,3,3,3,4,4,3,2,5,3,3,3,4,2,3,3,3,3,7,4,3,4,3,4,4,3,3,3,3,2,3,4,5,2,4,3,5,5,3,1,2,2,2,3,2,3,4,4,4,3,4,3,3,3,3,4,5,3,3,3,2,4,3,3,4,3,3,2,3,1,3,2,3,4,3,5,4,4,4,3,4,3,3,4,4,4,2,4,4,4,4,3,3,3,2,2,4,3,3,3,4,3,4,3,3,4,3,4,3,2,4,3,3,3,2,4,3,3,3,2,3,2,3,2,2,3,3,3,3,3,2,3,5,4,2,3,4,2,3,4,4,3,3,3,3,3,4,3,4,3,4,4,3,4,3,2,3,2,2,5,4,4,4,7,4,4,6,4,4,3,4,3,3,4,4,3,5,4,4,4,3,4,2,4,4,3,4,4,4,3,4,3,3,3,2,5,2,3,3,2,3,3,3,4,4,4,3,3,3,2,4,4,3,3,3,3,3,4,4,3,3,3,4,3,3,5,4,3,4,2,2,1,4,4,5,4,4,3,3,4,3,4,3,5,3,4,3,4,4,3,4,4,2,4,3,4,3,4,4,4,3,3,4,4,3,2,3,4,4,4,3,2,4,4,3,4,3,3,4,2,3,2,3,3,4,2,3,3,2,2,4,3,2,3,3,3,3,5,1,4,2,1,3,4,3,3,4,4,5,6,6,4,4,3,3,4,5,3,4,4,4,4,3,4,3,3,4,3,2,4,3,3,2,2,3,3,4,3,3,3,4,2,3,3,4,5,3,4,3,5,2,2,3,4,4,3,3,3,3,4,2,5,4,4,4,4,2,3,3,3,2,3,4,3,3,5,8,3,4,3,5,3,5,4,4,7,4,4,2,4,4,5,2,3,6,4,3,4,3,4,4,2,4,2,4,5,3,5,4,5,2,4,4,4,4,2,3,3,4,3,3,4,3,3,3,4,3,3,3,3,4,3,3,3,5,3,2,3,5,3,4,5,3,3,2,3,2,2,2,4,3,3,3,3,3,2,4,2,3,3,3,3,3,4,3,1,3,2,5,3,3,3,3,4,4,3,3,4,4,4,4,3,4,3,4,3,4,3,2,3,3,2,4,3,3,3,3,4,3,4,3,4,3,5,2,3,3,3,3,4,4,3,3,3,3,3,4,3,2,3,5,4,4,3,2,3,5,2,3,2,4,3,3,3,3,3,3,2,3,4,3,4,4,3,4,5,3,4,3,4,5,3,5,4,3,5,4,4,4,3,6,5,3,4,3,3,3,3,4,3,3,3,2,3,5,4,5,3,4,4,4,3,3,3,2,3,4,3,4,3,2,4,3,3,4,5,1,4,2,3,4,2,3,2,3,3,3,2,3,4,3,3,2,4,2,3,4,2,2,3,4,3,5,3,3,4,5,4,3,5,3,4,3,2,3,5,5,4,5,4,2,4,3,5,3,5,3,3,3,4,3,3,3,4,4,3,3,4,3,3,3,4,4,2,3,4,5,3,3,3,3,4,3,4,1,2,3,3,2,4,3,4,3,2,5,3,3,3,4,4,3,3,5,3,4,3,3,3,2,2,2,3,3,2,2,2,5,1,4,3,4,6,3,4,4,2,4,4,3,4,4,4,4,3,5,4,4,4,2,4,3,4,4,4,3,3,3,4,5,3,4,3,5,5,2,2,3,3,5,4,4,3,4,2,4,4,2,3,3,4,1,3,2,2,4,4,1,3,4,4,3,3,3,6,4,3,3,4,4,4,4,4,3,2,4,4,5,3,3,4,4,4,3,3,4,3,3,4,5,4,4,3,4,4,3,4,4,3,4,3,3,2,3,4,2,4,4,2,4,3,3,3,2,2,3,3,3,5,3,4,2,3,3,3,3,3,3,4,3,3,4,2,2,4,3,4,4,4,3,3,3,4,2,3,3,3,2,3,4,3,3,3,3,5,5,4,4,5,4,2,4,3,4,3,4,3,4,4,4,4,4,4,3,4,7,4,2,3,4,4,5,5,5,4,4,4,4,2,3,2,4,4,3,4,4,2,4,3,3,4,4,4,6,3,4,4,4,3,2,2,4,2,3,3,1,4,2,3,3,3,3,3,3,3,3,4,2,4,4,3,3,2,4,2,3,3,3,2,3,4,4,4,5,3,3,3,8,4,3,4,3,5,6,4,4,4,4,3,4,3,4,3,4,4,4,4,3,5,4,5,4,5,3,3,3,2,3,4,4,4,3,2,3,4,2,3,3,2,4,2,4,4,3,3,3,4,4,5,4,3,2,2,3,1,2,1,1,2,2,5,3,4,4,3,4,3,3,3,3,3,4,3,5,3,2,4,2,3,2,4,2,4,4,4,4,3,2,3,4,4,4,2,4,5,3,4,3,6,3,4,4,3,2,4,4,3,4,3,2,2,3,5,3,3,3,4,3,3,3,3,3,3,4,3,4,3,3,4,4,3,4,3,4,4,3,4,4,3,3,5,3,2,2,3,3,3,3,3,3,2,3,2,2,5,3,4,5,5,3,3,5,3,3,5,8,4,5,5,5,3,4,4,4,3,4,3,3,3,4,4,2,3,4,4,4,5,3,4,2,4,4,4,7,3,4,2,4,4,3,3,3,3,4,3,4,3,4,3,4,3,4,3,2,3,3,4,3,3,2,5,5,3,3,3,3,4,4,4,4,2,3,4,3,3,5,6,3,3,3,2,3,4,2,2,3,1,3,4,5,4,4,4,5,4,5,4,5,4,3,4,3,4,3,4,3,4,5,4,4,3,2,2,3,3,3,3,4,3,2,2,2,2,4,3,3,4,3,2,4,3,4,3,3,2,4,3,3,3,3,3,4,4,3,2,4,2,3,3,3,3,3,3,3,3,3,4,4,3,3,3,3,4,3,3,3,2,3,3,3,3,3,3,4,2,2,2,1,4,5,3,5,4,4,3,5,4,4,4,5,3,4,4,3,3,4,4,3,5,4,4,3,3,3,5,4,4,4,3,3,2,3,2,3,4,4,2,3,4,2,3,3,3,2,3,3,3,4,4,3,2,4,3,4,3,3,3,3,4,3,3,3,4,3,3,3,3,3,3,2,3,2,4,3,3,3,2,3,5,4,3,4,4,3,3,4,5,5,4,3,3,3,4,4,3,2,3,3,4,3,3,3,3,3,4,3,3,4,2,2,2,2,3,3,3,3,4,3,5,4,4,3,3,3,4,4,3,2,4,4,3,1,3,3,3,3,3,3,3,1,3,4,3,2,3,4,2,5,3,3,1,3,4,4,5,4,7,4,3,4,3,3,4,4,4,3,4,5,4,3,5,3,4,2,3,3,4,4,3,4,1,4,3,3,2,5,3,3,4,3,3,3,2,3,4,2,2,3,3,4,3,4,3,4,3,3,3,3,4,3,3,2,3,3,3,4,5,3,4,2,4,5,3,4,5,4,5,4,4,4,5,4,3,4,3,3,4,3,4,4,2,4,3,3,3,3,4,4,3,3,3,4,2,3,6,4,4,5,2,3,3,4,2,3,4,4,3,3,4,3,1,2,3,4,3,3,3,3,3,4,3,3,4,4,4,3,3,3,4,2,3,2,2,3,4,2,2,4,3,3,3,3,3,3,4,4,3,4,3,3,3,3,3,3,2,3,3,3,5,4,3,4,4,4,3,4,5,3,4,4,4,4,5,3,3,4,3,3,3,3,3,4,3,4,4,3,4,4,3,4,7,4,3,3,3,3,3,3,2,3,3,2,2,2,4,3,3,4,4,2,2,5,3,3,3,5,4,3,3,4,3,2,5,3,2,3,3,4,3,3,4,2,2,4,3,4,4,2,3,5,3,4,3,3,2,2,2,2,3,2,2,2,3,3,4,3,3,3,3,3,4,2,4,3,3,2,4,3,2,3,3,2,2,4,4,5,5,5,3,5,5,5,4,2,4,4,5,4,5,3,4,4,5,3,3,3,10,4,4,3,4,3,3,2,4,3,5,3,3,1,3,4,4,3,3,4,3,3,3,4,3,3,3,3,2,3,3,4,3,2,3,5,3,5,3,1,4,4,2,4,3,3,3,3,3,3,4,3,3,3,2,5,3,4,3,3,3,3,5,3,4,3,4,3,3,4,4,4,4,3,3,4,5,3,4,5,4,3,3,3,4,4,3,4,4,4,4,3,3,3,5,4,3,3,3,3,3,2,5,4,3,4,2,2,3,2,3,3,4,5,3,3,3,3,2,2,3,3,3,2,2,3,2,3,3,3,2,3,5,2,4,3,4,3,3,5,4,2,4,6,3,3,2,3,3,3,3,2,3,2,5,4,5,3,4,3,3,4,3,3,4,3,5,4,3,4,2,3,3,4,4,3,3,3,3,2,3,3,2,3,3,4,4,4,4,3,3,5,3,4,4,4,3,3,3,4,4,4,3,4,4,3,5,3,3,3,4,4,3,3,2,4,4,5,5,3,3,5,3,3,2,4,3,4,5,3,4,4,4,3,4,4,3,4,3,3,3,2,4,2,3,2,3,2,2,4,5,3,3,5,2,2,3,2,4,3,3,4,3,3,2,3,3,2,3,3,3,2,3,4,3,6,4,3,4,4,5,3,5,3,3,2,3,4,2,4,3,4,3,4,3,4,3,2,4,6,4,4,4,4,3,4,4,3,3,4,3,3,3,2,3,2,4,4,6,3,3,3,4,4,3,3,3,1,3,3,7,4,3,4,4,4,4,3,3,4,3,4,3,2,3,4,3,3,4,4,5,3,2,5,4,4,4,3,4,4,4,3,3,4,4,5,3,5,4,3,5,3,3,4,3,3,3,4,3,3,3,3,2,3,3,2,4,3,3,3,4,4,2,2,3,4,2,2,5,4,2,4,3,3,3,3,4,5,3,4,3,3,3,3,4,2,3,3,3,3,1,3,4,3,4,4,4,5,4,5,2,4,3,4,4,3,3,4,4,4,4,4,2,4,4,2,3,4,2,2,3,3,4,5,4,3,3,3,3,2,3,4,2,3,3,5,3,3,4,4,4,4,3,4,3,4,4,3,4,1,2,2,2,3,3,3,4,2,3,3,2,2,3,2,3,3,2,3,2,3,6,4,4,4,4,4,3,4,4,4,3,3,3,4,3,4,4,4,4,3,4,5,4,4,4,4,3,3,3,3,4,5,3,3,4,3,2,4,3,3,4,3,3,3,3,3,4,3,4,3,4,3,3,3,3,3,3,4,4,3,2,3,3,2,3,3,3,3,2,3,2,3,3,2,5,3,3,4,3,3,3,3,3,5,5,3,3,3,4,4,4,3,4,4,2,4,2,4,3,3,3,3,3,2,4,5,3,4,4,3,3,3,3,3,5,4,4,5,4,3,2,3,3,3,2,2,4,5,3,2,3,3,3,4,3,2,4,3,2,3,4,3,3,3,3,4,5,3,4,4,3,2,3,2,3,3,3,3,3,3,2,2,2,4,3,5,5,4,4,4,5,3,4,4,5,3,5,5,3,3,4,4,3,4,4,5,2,4,4,3,3,4,3,4,4,4,3,3,2,4,3,3,2,3,3,3,3,3,4,3,2,3,3,4,4,5,4,4,2,4,4,4,4,4,4,4,7,4,4,3,4,3,3,2,4,3,4,4,4,5,4,3,5,4,4,2,4,3,6,3,3,3,3,3,3,4,4,3,3,5,2,2,5,3,2,3,3,2,3,4,3,3,2,5,3,3,2,4,2,3,4,3,3,3,4,3,3,4,3,2,3,2,3,3,2,5,3,4,3,4,5,2,3,4,4,4,2,5,2,4,4,3,4,4,2,3,3,3,3,3,3,3,3,5,4,2,3,5,4,3,3,4,3,3,2,4,3,3,3,2,3,3,2,4,3,3,6,2,4,3,4,3,3,2,3,2,4,3,3,4,2,6,2,5,3,2,4,3,4,4,4,2,3,3,2,2,2,3,4,4,3,2,2,2,3,3,3,3,3,3,1,3,3,2,2,4,4,4,4,3,5,3,4,5,4,5,4,3,3,3,5,3,3,3,4,2,3,4,4,4,4,3,3,3,5,4,4,2,3,3,4,5,4,3,3,2,6,5,4,5,2,5,3,3,5,3,4,2,4,3,3,3,3,3,3,3,1,2,3,3,1,3,3,2,5,4,4,6,4,3,4,4,4,4,3,4,3,4,5,4,4,4,4,3,3,3,6,4,4,3,4,5,4,4,3,3,3,3,4,5,5,4,3,2,4,3,4,5,3,2,3,4,3,2,4,2,3,4,4,3,3,3,2,4,3,3,3,3,4,4,4,4,1,4,2,4,3,4,3,3,2,3,2,2,2,3,3,3,3,3,3,3,3,5,3,5,3,4,3,4,4,3,5,3,4,3,3,4,4,4,6,4,4,3,3,3,5,5,3,3,5,2,4,5,4,3,5,2,2,4,3,2,4,2,3,3,2,4,3,4,4,3,3,3,3,3,2,3,3,3,4,5,3,3,3,4,3,3,3,2,3,3,3,3,3,3,4,2,4,3,3,3,3,3,4,3,3,1,2,4,4,3,4,3,3,2,4,4,3,3,3,4,4,3,3,3,4,1,4,4,4,3,3,3,3,2,4,5,3,3,3,3,4,3,5,4,2,3,3,4,3,3,3,2,3,3,3,2,2,3,3,4,3,4,3,3,4,3,3,3,3,3,1,1,3,2,4,3,3,4,3,2,3,3,4,3,2,2,3,2,2,3,4,5,4,4,4,5,3,4,5,5,4,5,4,4,4,2,4,5,3,2,3,2,4,3,5,3,5,4,3,2,4,2,2,4,3,3,3,4,2,3,4,2,4,3,3,3,3,4,3,3,4,4,4,3,3,2,4,3,4,3,3,3,3,3,3,2,4,3,4,4,3,4,2,3,2,2,3,2,2,3,3,3,2,3,2,4,6,4,3,5,5,4,4,3,4,4,3,5,3,4,2,4,4,3,3,4,5,3,4,5,4,5,4,5,2,3,3,3,3,4,3,3,2,3,2,4,3,4,3,5,3,4,2,3,4,4,4,2,4,3,3,2,3,3,3,4,3,6,2,4,4,4,4,3,3,3,4,3,2,3,3,2,2,3,3,3,3,3,3,4,2,4,3,2,3,3,3,2,3,5,4,3,6,5,4,5,3,4,5,4,4,4,3,3,3,3,4,4,4,3,3,4,3,4,3,2,4,4,3,3,3,3,3,2,3,3,3,4,3,3,4,2,4,4,2,3,2,4,3,3,3,3,4,3,4,3,3,4,3,2,3,4,3,2,4,3,3,3,3,3,3,3,2,2,2,3,3,4,4,5,4,5,3,5,3,4,3,3,4,4,4,4,3,4,6,2,3,4,3,8,4,3,2,2,3,4,4,4,4,4,4,3,3,3,4,2,3,3,2,4,3,4,4,2,3,3,2,6,4,1,3,3,4,3,2,2,4,3,3,4,1,4,3,2,3,3,2,2,4,4,4,5,4,3,3,4,5,4,4,4,4,3,2,3,3,3,3,3,4,3,1,2,3,4,3,2,3,4,5,4,5,5,3,3,3,3,3,3,4,3,3,2,3,3,1,4,3,4,3,3,3,5,4,3,6,5,4,4,4,4,4,4,4,5,2,3,3,6,4,3,3,5,3,3,4,4,3,3,4,3,4,4,2,4,4,3,4,4,4,2,5,3,4,4,3,3,4,3,3,2,4,3,4,2,2,3,3,3,2,3,4,3,4,3,3,4,3,3,5,3,4,2,3,3,2,4,3,3,4,5,2,3,3,3,3,3,3,3,2,4,3,2,4,2,3,3,3,4,6,4,4,4,4,3,3,3,3,3,3,2,5,4,6,4,3,5,6,4,3,4,4,3,2,3,4,3,3,2,3,3,4,4,3,3,3,2,5,3,4,4,4,6,3,2,3,3,3,3,2,3,3,3,3,4,4,4,3,3,3,3,3,5,4,3,2,2,2,3,2,3,2,4,2,2,3,3,5,3,3,3,3,3,3,3,2,2,3,6,3,3,4,3,3,3,4,4,5,5,5,4,4,3,6,3,3,4,3,3,3,4,4,3,3,3,2,2,3,3,5,3,4,3,3,4,3,2,3,3,2,2,3,2,4,4,3,3,2,4,3,3,3,5,4,4,4,4,2,2,4,1,4,3,2,3,4,3,3,4,3,4,3,3,4,4,4,3,2,3,3,3,3,3,2,5,5,5,4,4,3,4,5,3,3,2,2,4,4,2,4,4,3,3,5,4,3,8,3,3,4,3,4,3,4,3,3,3,4,2,5,4,2,1,2,4,4,3,3,4,5,3,3,3,4,3,3,4,4,5,4,3,3,3,2,3,3,3,3,3,3,3,4,3,5,4,4,3,4,4,4,4,3,4,3,4,3,3,3,2,2,5,3,3,5,3,2,2,5,2,2,2,4,5,5,4,3,3,3,4,4,4,4,3,4,4,4,4,4,2,3,3,2,3,3,4,3,3,3,2,2,2,3,3,3,2,4,2,3,3,6,4,4,4,5,5,5,4,3,5,4,4,3,5,4,4,4,4,5,4,4,5,4,3,3,3,3,3,3,2,3,4,4,4,3,4,3,2,4,3,3,4,2,3,4,5,4,2,2,3,3,3,4,4,4,3,3,4,3,3,4,2,4,2,3,1,4,3,3,2,3,3,2,2,4,3,5,4,4,5,5,4,4,4,5,6,2,3,4,4,4,6,4,5,4,4,4,4,3,3,3,4,3,3,3,3,4,4,5,2,2,3,4,4,3,3,2,3,6,4,5,2,3,4,3,4,3,2,3,3,4,3,2,5,4,4,2,4,4,3,3,2,3,4,4,3,3,3,3,3,3,3,2,5,4,4,3,5,3,3,4,3,4,3,3,4,4,4,3,3,3,4,3,3,3,3,3,3,3,3,3,3,3,5,3,4,1,5,5,4,3,3,3,4,4,4,5,3,3,5,4,4,6,3,3,3,3,4,2,4,3,2,4,3,4,5,3,4,3,4,3,3,3,3,3,3,3,5,5,4,4,5,4,3,3,3,4,4,3,3,4,4,3,3,3,3,3,3,4,3,3,2,4,2,3,4,3,4,2,2,2,3,4,4,3,2,3,4,8,4,3,3,2,2,3,4,4,5,3,3,3,2,4,3,3,3,4,3,3,2,3,3,3,3,4,3,4,4,3,3,3,2,3,4,5,4,3,4,5,4,4,4,4,4,3,3,4,5,4,4,4,2,3,4,4,2,3,3,4,4,4,3,4,4,3,2,2,3,3,3,4,5,3,4,4,3,4,4,5,4,3,3,3,4,2,4,4,3,3,4,2,2,4,3,3,5,3,2,2,3,3,2,4,4,3,3,4,2,3,4,4,3,5,3,3,3,4,4,5,4,4,5,2,4,4,4,2,5,3,4,4,6,3,4,3,3,4,5,3,2,3,3,3,2,4,2,4,3,3,4,4,4,3,4,4,4,2,2,3,2,3,2,4,2,3,3,3,3,3,4,3,3,3,2,2,3,4,4,2,3,3,3,3,4,4,2,3,3,3,4,4,4,5,4,5,4,5,2,3,6,4,2,5,2,3,4,4,2,4,4,3,4,4,3,3,4,1,3,4,4,3,3,3,4,3,4,4,3,4,4,3,3,4,3,3,2,3,3,2,2,3,3,4,4,3,4,3,1,2,2,3,3,3,3,3,3,3,3,3,4,4,3,6,4,4,4,4,4,4,3,4,4,4,4,6,4,1,3,3,4,2,3,3,4,4,3,3,3,4,4,4,2,2,4,3,4,3,4,4,3,3,3,3,3,2,2,3,4,2,3,4,2,4,3,3,3,3,2,4,3,5,4,3,4,4,3,4,4,5,4,3,4,4,4,3,5,4,4,2,2,3,3,2,3,4,3,3,3,3,3,4,3,3,2,3,3,2,3,3,3,5,2,3,3,4,3,3,2,3,3,2,4,3,3,3,5,1,4,3,2,3,3,2,4,3,4,3,3,2,4,4,3,3,8,3,4,4,4,3,5,3,3,3,3,2,4,3,1,3,2,3,3,2,3,3,2,3,3,3,3,4,3,3,3,3,2,4,3,4,3,3,4,3,2,4,2,4,4,5,4,2,5,3,4,3,4,3,5,3,3,3,5,4,4,4,4,6,3,5,3,3,4,4,5,3,3,3,4,3,5,2,3,4,3,4,4,3,3,3,4,4,2,3,4,5,4,2,3,4,2,3,3,4,3,2,3,3,3,4,3,4,3,4,3,3,1,3,2,4,4,4,4,4,3,4,4,4,3,4,4,3,3,1,6,4,4,4,3,5,2,4,3,4,3,3,4,3,2,3,3,4,4,3,3,3,5,3,3,4,4,4,4,3,2,3,4,4,3,3,5,3,3,3,3,3,3,3,3,3,3,5,4,4,3,5,4,2,2,3,2,4,5,3,2,3,3,3,4,3,4,2,3,3,2,2,3,3,3,3,2,3,4,6,4,5,4,4,4,4,3,3,4,4,3,3,3,3,4,5,3,2,4,3,4,3,3,2,3,2,4,6,3,4,3,4,2,3,4,3,4,3,5,5,4,5,4,4,4,4,3,3,4,5,6,10,2,4,5,3,3,4,4,5,2,3,5,3,5,3,3,3,5,3,4,3,3,5,2,3,4,3,4,4,3,2,3,3,3,4,3,5,3,2,3,3,3,4,3,2,3,2,2,3,3,3,3,4,5,4,5,3,3,4,4,3,3,4,6,4,4,2,3,4,3,4,3,3,3,4,3,4,3,4,3,3,3,4,5,1,2,6,3,2,3,3,3,4,2,4,3,3,3,3,4,3,3,3,4,4,5,6,3,3,3,3,4,5,4,4,4,3,3,3,4,3,3,3,3,3,3,3,4,3,4,3,3,3,3,2,3,2,4,3],\"legendgroup\":\"\",\"name\":\"\",\"showlegend\":true,\"values\":[5,4,5,4,3,3,5,3,3,4,5,4,4,4,3,4,4,3,4,3,3,4,4,3,4,4,4,2,4,5,3,3,3,3,4,2,3,3,3,4,4,3,3,3,3,4,3,4,4,3,3,2,3,3,3,2,3,2,3,4,3,3,3,4,3,3,2,4,2,3,3,3,2,4,3,4,7,2,5,4,5,3,4,5,4,4,4,4,6,5,3,3,4,3,4,4,4,4,3,3,4,4,3,4,4,3,3,4,3,3,2,2,3,3,3,2,4,5,2,5,3,3,4,4,6,4,4,3,4,5,2,3,3,3,3,3,2,2,2,3,5,4,3,5,2,2,4,4,3,3,3,3,3,2,4,4,3,5,2,3,5,5,4,4,4,3,3,3,4,4,4,4,4,4,2,4,3,5,4,4,4,4,4,4,3,4,5,3,3,5,5,3,3,3,3,4,3,2,5,3,2,4,6,2,3,2,5,2,4,4,4,4,3,5,3,3,4,3,3,3,3,4,3,4,3,2,4,3,4,3,4,3,3,3,3,3,2,3,3,3,3,3,2,7,5,6,3,4,4,4,4,5,4,3,4,3,4,4,3,3,4,3,3,3,2,3,3,3,9,3,4,4,3,3,3,7,3,3,3,2,3,3,4,3,2,3,3,4,4,3,4,2,3,3,2,2,2,3,3,4,4,3,5,2,3,5,2,5,3,3,2,3,3,3,3,3,3,3,2,3,3,5,5,3,1,3,4,3,3,3,3,3,3,4,2,2,6,3,5,4,4,4,3,5,3,3,4,5,3,4,4,3,4,3,3,4,2,2,3,2,4,2,2,3,6,4,4,4,3,3,4,3,2,3,2,3,5,3,2,2,3,3,3,2,3,3,3,6,2,4,3,4,3,2,4,2,3,3,2,3,4,3,4,4,4,3,3,2,3,3,3,4,4,3,2,2,2,3,5,5,4,4,4,4,3,4,4,4,4,4,4,3,4,2,3,4,4,4,4,4,3,4,4,4,4,3,5,3,3,3,3,2,3,4,2,4,4,2,4,3,4,4,3,3,3,2,3,3,4,3,4,3,4,4,5,4,4,3,4,3,4,3,3,3,3,3,2,2,3,3,3,4,3,3,4,2,3,2,4,5,3,3,4,4,3,5,5,4,4,4,4,4,3,3,4,4,3,5,4,3,4,3,4,4,3,4,4,4,5,4,3,4,4,3,4,4,4,4,4,3,4,3,2,4,4,3,4,4,4,4,2,3,2,3,3,3,2,3,4,5,2,3,4,4,2,3,3,3,5,3,5,2,2,3,2,2,1,3,3,3,3,2,3,3,3,4,5,4,5,5,5,5,4,4,4,4,4,5,6,3,3,3,3,3,3,4,5,3,4,4,4,3,4,4,3,3,3,4,4,5,3,3,3,4,7,2,3,5,3,3,3,4,4,5,4,3,5,3,4,3,3,3,4,3,4,4,3,3,5,3,3,3,3,3,3,3,3,3,3,3,4,4,5,3,2,3,4,3,3,2,2,4,3,4,4,4,5,5,4,3,4,3,3,3,3,5,4,4,4,4,3,3,4,4,5,5,2,4,3,3,3,2,4,3,4,3,3,3,3,4,3,4,4,3,3,3,4,2,2,2,4,3,3,4,3,5,3,3,3,5,3,3,4,3,3,3,3,4,3,2,2,3,3,3,4,4,3,2,2,3,2,3,4,4,4,4,5,4,4,3,4,5,4,3,5,4,4,3,4,3,4,4,4,4,4,5,4,3,2,4,3,3,3,4,4,7,3,3,3,3,2,3,4,3,3,3,3,3,3,3,4,4,3,3,3,3,4,3,3,3,4,2,3,4,3,3,3,4,3,3,3,4,3,3,3,3,3,3,3,4,3,3,3,3,5,4,3,4,5,4,3,4,4,5,3,2,5,5,4,3,3,3,3,2,3,3,2,1,3,3,2,3,2,4,3,4,3,3,3,4,3,3,3,3,3,3,3,3,4,4,3,1,4,4,3,3,3,3,3,4,3,3,2,3,4,2,3,3,4,2,4,5,4,3,5,3,2,3,3,4,3,2,3,3,5,5,4,4,4,4,2,3,4,5,4,2,4,5,4,4,3,3,2,4,5,2,3,4,3,4,4,3,4,3,3,4,3,2,3,3,4,3,2,4,3,3,5,2,5,3,2,3,3,2,4,4,3,3,2,2,4,3,3,4,4,3,4,3,3,5,3,4,5,4,1,3,3,2,4,3,2,2,2,3,3,2,3,2,4,4,3,4,4,4,6,3,4,4,4,4,4,3,4,3,4,4,6,3,4,2,4,4,4,3,4,4,3,3,4,3,5,4,2,3,3,3,4,4,4,3,3,5,4,3,5,2,4,3,4,3,1,4,3,2,3,3,3,4,4,2,3,3,5,2,3,4,4,2,3,3,4,3,2,4,4,5,3,3,2,3,4,3,4,6,4,3,3,2,3,2,3,3,6,3,3,3,3,4,2,2,3,4,3,3,4,4,2,3,4,4,3,1,2,3,5,3,3,4,4,3,4,2,3,4,5,4,5,5,4,4,3,4,4,4,4,4,4,4,4,4,4,3,4,3,3,3,5,3,3,4,2,3,3,4,3,3,4,4,2,4,3,3,3,1,3,3,3,3,3,5,3,3,2,3,3,4,4,3,3,3,4,2,3,2,3,3,3,3,6,3,3,3,2,3,2,5,2,3,4,3,3,4,4,3,2,2,3,3,4,3,3,3,6,4,4,4,4,4,4,3,4,4,4,4,4,3,4,3,3,4,4,4,4,3,4,4,3,4,4,4,3,2,2,4,5,4,3,3,3,3,4,2,3,3,2,4,3,2,5,2,4,3,3,2,3,2,1,4,3,3,5,4,3,3,3,3,2,3,4,3,6,5,4,1,4,2,3,4,2,4,4,4,2,3,3,2,4,2,2,4,4,4,3,4,5,4,4,3,4,4,4,3,4,4,3,3,4,4,3,3,3,3,3,2,3,3,5,4,3,3,3,4,3,4,1,3,2,2,3,3,4,3,3,3,3,3,4,4,4,3,3,4,3,3,4,3,2,5,2,3,3,3,3,4,4,3,2,4,2,4,3,3,4,4,2,2,3,4,2,3,3,2,1,5,4,4,2,3,3,3,4,4,3,2,3,3,4,3,3,3,4,2,3,3,4,3,3,4,5,4,3,4,4,4,3,4,3,5,3,5,4,4,4,4,3,4,3,2,5,3,3,4,3,2,4,3,3,3,3,3,3,5,4,2,4,3,3,5,4,3,3,4,3,3,3,4,3,4,2,3,3,3,3,3,4,4,3,3,3,2,3,5,3,2,2,3,4,5,3,3,2,3,3,4,2,4,4,3,3,2,3,3,4,3,4,3,5,4,5,4,3,3,3,4,3,3,3,3,3,4,2,4,8,4,4,4,4,3,2,7,6,4,3,6,5,3,3,4,4,4,3,4,4,4,3,2,4,3,2,4,4,3,3,4,3,4,3,4,3,4,3,3,5,7,3,4,4,3,3,4,3,4,4,4,3,2,6,3,4,3,3,3,3,2,4,3,3,3,3,4,3,4,2,3,2,4,3,2,3,3,3,3,3,2,4,3,3,3,3,2,3,3,3,3,3,4,3,3,3,3,2,3,2,2,2,2,3,2,2,3,2,3,6,4,4,4,5,4,3,4,5,5,4,3,4,3,3,4,3,4,3,3,4,4,4,3,3,4,5,3,3,3,5,3,3,3,4,3,6,4,4,4,4,2,3,3,5,2,4,4,5,4,2,2,2,4,4,3,3,2,2,2,3,4,3,4,4,3,2,2,3,4,2,3,3,3,2,4,4,5,6,3,4,4,4,3,7,3,2,3,4,5,4,4,4,4,4,4,2,2,3,4,4,4,3,4,3,4,3,3,2,4,3,5,5,3,3,3,2,2,4,3,3,3,3,3,3,2,3,2,2,3,4,3,3,2,3,4,3,3,3,2,3,3,3,4,5,3,5,4,4,4,3,1,3,4,5,3,3,3,4,3,4,4,3,4,2,3,4,4,4,3,3,4,4,4,3,4,3,3,4,5,5,4,3,3,3,3,3,4,3,4,3,3,3,3,3,2,2,2,4,2,3,3,2,4,4,2,3,3,1,3,2,3,3,3,2,3,5,3,3,2,3,4,3,3,2,3,3,4,4,3,1,4,4,4,4,4,5,4,5,4,2,4,3,5,4,3,3,3,4,3,3,3,3,4,3,3,4,5,3,3,5,5,3,4,4,4,4,3,4,3,3,3,4,3,3,3,3,3,4,5,3,3,4,5,2,3,5,3,3,3,4,3,3,3,2,3,2,3,3,3,3,6,3,4,3,3,3,3,5,4,3,5,2,3,2,3,3,3,2,3,3,3,3,2,3,2,3,3,3,3,3,3,3,2,3,5,6,3,5,5,5,3,5,4,4,3,3,4,3,3,3,4,3,4,4,4,3,3,4,3,4,4,3,4,4,3,6,3,5,3,4,5,3,3,3,4,3,3,2,5,3,3,3,3,3,3,5,2,4,3,4,3,3,3,3,4,3,3,4,2,3,2,4,2,3,4,3,4,3,3,3,3,1,3,3,3,2,3,2,3,3,3,4,3,3,3,3,3,5,2,2,4,1,1,3,5,4,6,4,5,4,4,3,5,4,3,4,4,3,4,3,3,3,3,3,3,4,4,4,4,4,3,3,3,4,4,4,3,2,3,4,4,4,3,3,3,3,5,4,3,3,3,3,4,4,4,3,4,3,4,4,3,4,3,3,3,4,3,3,4,2,3,4,4,3,3,4,4,4,5,3,3,4,3,3,3,3,4,4,3,3,3,3,2,2,4,3,3,4,2,4,4,3,5,4,4,4,4,4,5,2,4,5,3,4,4,3,3,3,4,4,4,4,4,3,3,4,3,3,3,5,3,4,4,2,3,4,4,4,2,3,4,4,2,3,3,3,4,2,3,2,3,4,3,3,3,4,3,2,5,4,2,2,3,3,6,4,3,4,4,4,3,4,5,3,4,3,2,4,4,5,4,4,4,3,4,4,4,3,4,4,4,4,4,4,4,3,4,3,3,4,3,3,4,4,2,3,4,3,3,2,3,4,3,3,3,3,3,3,4,3,4,4,4,3,4,3,3,2,3,2,2,3,3,2,2,4,3,4,3,4,2,3,4,3,3,2,3,3,2,4,3,3,3,4,3,2,4,3,3,2,4,2,2,3,5,4,3,3,3,4,3,4,2,5,4,5,4,5,3,5,5,6,4,5,4,3,5,3,4,3,3,3,5,3,3,4,3,3,3,3,4,4,4,4,5,4,3,4,3,4,5,3,3,3,2,2,3,4,4,4,5,2,3,2,3,5,3,3,3,2,4,3,2,4,2,4,4,4,3,4,4,3,4,3,2,3,3,4,2,3,4,3,4,2,4,2,4,3,2,3,3,3,4,3,3,3,3,6,3,3,4,5,5,3,5,5,4,5,4,4,3,4,4,4,3,3,3,4,4,4,5,3,6,4,2,4,5,4,4,4,3,3,3,3,2,5,3,2,3,4,3,3,6,2,3,3,4,4,4,3,4,4,3,4,4,3,2,3,3,3,3,1,3,3,3,3,4,2,3,3,3,3,3,5,4,2,3,3,3,2,3,2,5,3,3,5,3,3,2,1,2,5,4,4,5,5,4,4,4,4,4,4,3,4,4,3,4,3,4,3,3,3,3,4,3,3,3,3,4,5,2,4,3,5,4,3,5,4,2,3,4,3,3,4,3,3,5,4,3,4,4,3,5,2,3,5,3,3,3,4,3,3,3,3,3,2,3,4,3,3,2,4,2,2,3,2,5,4,3,3,3,4,1,4,4,3,2,4,4,2,3,2,5,6,5,4,5,4,5,4,4,4,2,4,5,3,3,4,4,4,5,3,4,3,4,5,3,4,4,3,3,3,3,3,3,5,3,3,4,3,3,3,3,3,4,4,3,3,4,4,3,4,4,3,2,4,3,3,2,3,3,4,3,3,4,3,3,4,4,3,3,2,2,2,3,3,4,3,2,4,5,4,3,4,2,3,3,4,4,3,3,5,3,3,4,4,3,4,4,4,4,4,4,4,4,4,4,4,3,4,3,3,4,4,2,4,4,3,6,4,3,5,4,4,4,4,3,3,3,4,3,4,2,3,4,4,3,3,5,3,3,3,3,3,2,2,2,6,3,3,3,5,3,4,4,4,4,4,4,3,4,2,5,4,4,4,3,3,2,4,3,3,1,3,3,4,5,3,4,3,3,3,2,2,3,4,3,3,3,3,2,5,3,4,4,3,3,4,4,3,4,3,4,3,3,5,4,5,4,4,5,7,3,3,3,4,3,3,4,4,6,4,3,3,4,3,3,5,5,3,4,3,2,4,4,4,4,4,3,3,4,3,2,3,2,3,4,2,2,4,4,4,4,2,3,3,3,3,4,3,3,3,2,4,4,5,3,3,2,4,3,3,2,3,3,4,3,4,3,4,3,4,3,2,3,3,3,3,3,2,4,3,3,3,3,3,3,1,3,4,3,3,4,4,4,4,6,3,4,4,4,4,4,6,4,5,4,4,3,4,4,3,4,3,3,5,3,3,5,4,4,5,4,5,4,5,2,5,2,3,5,3,4,3,3,3,4,4,3,5,4,2,3,3,5,3,3,3,3,4,3,3,4,4,4,5,3,3,2,3,3,2,3,3,4,3,4,3,3,3,5,3,4,3,5,3,3,4,4,4,4,2,3,2,3,2,3,2,3,1,3,2,6,5,5,4,3,4,4,4,5,5,3,2,5,4,4,2,3,4,4,3,4,3,4,3,4,3,3,6,4,4,4,4,4,3,3,4,3,4,4,3,4,4,3,5,3,3,4,3,2,3,3,3,3,3,3,3,3,4,3,2,2,3,4,6,2,4,4,4,3,3,4,3,3,4,3,2,3,3,4,3,4,2,3,4,3,3,3,3,4,3,3,4,4,3,3,3,3,3,3,3,3,2,6,3,7,5,4,4,5,7,5,6,3,4,3,3,4,3,4,4,3,4,3,4,3,5,3,4,4,3,4,2,4,6,3,4,5,4,4,3,4,2,4,3,3,4,2,3,3,4,5,3,4,4,4,4,4,3,3,3,3,4,3,4,4,3,5,3,3,5,5,2,3,3,4,4,4,3,3,3,4,4,3,5,4,2,3,3,4,3,3,3,2,3,4,3,4,4,1,1,3,2,4,2,3,3,3,2,2,3,3,4,3,4,4,4,2,4,4,3,4,4,2,4,4,2,3,4,4,3,4,3,4,3,4,4,4,5,3,4,5,4,3,4,4,4,3,4,3,4,4,2,2,4,3,5,3,4,3,2,4,5,6,3,4,3,3,4,3,3,4,3,3,2,5,6,3,3,3,4,4,3,3,3,3,5,4,3,4,4,3,4,2,3,4,3,2,3,2,3,3,4,2,3,3,2,4,3,3,3,3,4,4,4,2,3,4,7,3,3,3,3,3,3,3,3,3,1,4,3,3,4,4,3,4,5,3,4,4,2,3,2,3,3,3,2,2,3,4,3,3,3,3,4,3,2,3,3,3,6,4,2,3,3,3,3,2,3,5,3,3,4,5,5,4,4,3,2,4,3,4,4,4,4,4,4,4,3,3,3,4,4,4,4,4,3,4,3,3,6,2,4,4,2,3,4,2,3,4,4,5,4,3,4,3,2,3,2,3,4,3,3,3,2,3,3,4,2,4,3,3,4,3,4,3,3,3,3,3,3,3,3,3,4,3,3,3,3,3,4,3,3,2,2,4,4,3,4,2,4,3,3,2,2,3,3,4,5,4,4,4,3,2,2,3,3,3,3,2,3,4,4,3,3,3,2,3,3,3,2,4,5,3,3,4,4,4,3,4,5,4,3,5,5,5,5,4,4,5,4,2,4,4,4,3,5,4,5,3,4,4,5,4,3,4,4,3,33,5,4,3,4,3,3,4,5,4,3,4,3,3,2,3,2,3,4,4,5,4,3,3,3,3,5,3,3,4,2,3,2,3,4,3,2,4,3,2,4,4,3,2,3,3,3,4,4,3,2,3,6,3,4,4,2,3,3,6,3,3,3,3,2,3,3,3,7,3,4,2,3,2,3,2,3,5,3,4,3,3,3,3,4,3,3,3,3,3,3,1,3,2,5,4,4,3,4,3,3,4,4,4,4,3,4,4,4,4,4,3,4,3,3,4,4,3,4,3,4,4,6,3,3,5,4,3,4,2,3,3,3,3,3,3,6,3,3,4,5,4,4,4,5,4,3,3,4,3,3,3,2,3,4,5,3,2,2,4,4,3,4,4,3,4,3,3,3,4,2,4,3,4,3,5,5,3,3,4,4,3,2,3,4,3,2,3,4,4,4,3,2,4,2,4,3,4,2,3,3,3,5,3,4,3,3,3,4,4,5,3,2,3,4,3,3,3,2,2,2,3,3,3,3,4,4,5,4,3,4,5,4,3,4,3,3,3,2,3,3,4,3,2,3,5,4,4,4,3,3,4,4,4,2,5,1,2,2,4,3,4,2,4,4,4,4,4,4,2,2,3,3,4,3,3,3,3,3,3,5,4,4,2,3,5,3,4,5,4,6,3,1,4,2,1,3,2,2,3,3,3,3,3,3,1,4,3,2,3,2,2,3,2,2,2,3,3,4,4,2,4,5,3,3,3,3,4,3,2,3,2,4,3,3,5,3,4,5,5,5,4,3,4,3,4,4,4,4,2,5,4,4,4,3,4,5,4,4,3,3,3,3,4,3,3,4,3,4,4,3,3,4,4,3,3,4,4,2,3,4,4,2,2,1,5,2,4,3,4,3,4,3,3,2,4,4,4,3,3,2,3,4,2,4,3,2,3,3,3,2,2,2,2,5,3,4,4,3,4,4,6,4,4,5,3,4,4,3,4,4,5,4,5,4,4,3,4,3,5,2,4,3,3,3,3,4,3,4,2,3,4,4,2,5,2,4,3,4,3,4,4,4,3,3,4,4,3,2,3,2,3,3,4,3,2,5,4,3,4,3,3,4,3,2,3,3,4,3,4,4,3,3,4,4,2,3,4,5,3,3,2,3,3,2,3,2,3,4,4,3,3,3,3,4,3,1,4,2,3,3,3,3,3,3,1,2,3,2,5,4,4,3,2,4,3,4,4,6,3,4,4,5,3,4,2,2,3,4,4,3,3,5,5,4,3,4,3,3,4,5,4,3,3,4,3,3,4,3,3,3,2,3,5,3,2,3,4,3,3,5,4,4,4,4,3,3,3,4,4,4,3,5,4,3,2,4,4,2,3,2,3,2,3,3,2,4,5,4,4,4,4,2,3,3,3,5,4,2,4,4,3,4,5,5,3,4,4,4,4,3,4,6,4,3,3,4,4,3,3,3,3,4,3,3,4,3,5,5,3,4,3,4,3,4,5,2,3,3,3,3,3,3,4,2,4,2,5,4,4,2,2,4,4,3,8,3,4,2,3,3,5,4,3,3,3,4,2,3,3,4,4,2,3,3,4,4,4,4,3,3,4,2,3,3,4,4,4,3,3,3,4,4,5,3,4,4,4,3,3,4,6,5,5,4,4,3,3,4,3,3,2,3,4,3,3,2,3,6,3,3,2,4,3,3,2,4,3,5,3,3,2,5,3,3,3,3,4,3,2,3,2,4,3,3,3,2,3,3,3,3,4,3,4,3,3,3,4,2,3,3,3,3,3,3,2,2,4,6,3,4,4,4,3,5,3,4,2,4,4,4,5,3,3,4,4,3,4,2,3,4,2,4,4,4,4,5,4,4,3,4,4,2,3,2,3,4,3,2,4,4,3,4,4,3,3,3,2,5,2,3,4,2,3,4,3,4,4,4,4,3,4,2,4,4,3,2,4,3,4,4,3,3,4,3,3,4,3,3,3,3,4,5,2,4,3,3,4,3,4,3,3,3,2,2,3,2,4,4,3,3,3,2,3,3,3,2,4,3,5,2,3,3,3,3,3,3,3,3,1,3,3,2,1,5,5,5,6,4,4,5,4,4,5,4,3,4,4,4,4,4,3,4,2,4,3,2,4,4,3,4,4,3,4,3,4,4,4,3,4,3,3,3,3,7,4,4,3,3,3,6,3,3,4,3,2,3,4,4,3,3,3,4,4,4,3,2,3,4,4,5,4,4,4,5,3,3,3,4,2,3,4,4,3,5,3,5,2,4,2,3,3,3,3,3,3,1,3,3,3,3,4,3,2,3,5,4,3,4,3,4,4,3,3,2,3,4,3,4,3,3,2,4,3,3,6,4,4,5,6,3,4,6,4,5,5,5,5,4,3,3,6,5,4,3,3,2,3,4,3,4,4,3,4,3,3,4,4,4,4,2,5,4,2,2,3,3,5,4,2,2,3,4,3,5,2,4,4,2,4,3,4,3,4,4,3,4,4,4,3,3,2,3,3,3,4,2,2,3,2,4,4,3,3,3,3,3,3,2,3,4,2,3,3,2,4,8,4,3,6,5,4,3,5,4,4,4,3,3,5,3,4,4,3,4,4,4,5,7,3,4,4,4,5,4,3,5,3,4,3,4,3,2,4,3,3,3,3,4,4,3,3,3,4,3,2,3,3,4,4,4,3,4,3,3,3,3,3,4,3,3,2,3,3,3,2,3,3,3,3,3,3,2,2,2,2,3,4,4,2,2,3,3,3,4,3,4,3,3,4,4,5,4,2,4,3,3,5,4,4,4,5,4,3,4,3,3,3,4,3,4,6,4,3,5,4,3,3,2,4,2,4,3,4,1,3,4,4,3,3,4,2,3,4,5,4,3,3,3,4,5,4,4,4,3,3,3,3,2,3,3,5,3,3,3,3,4,4,3,3,2,4,3,3,3,4,3,3,2,2,4,3,3,3,3,3,3,3,3,3,4,4,3,3,3,4,4,3,3,3,3,2,3,3,3,3,4,2,3,2,1,1,3,3,3,3,5,5,4,3,5,5,3,4,4,4,6,4,5,3,5,4,4,4,4,4,4,2,4,5,4,3,3,4,3,2,3,3,4,4,3,3,3,4,4,3,5,4,3,5,3,2,2,4,3,3,2,3,3,2,3,3,5,3,4,3,1,4,4,4,3,3,3,2,4,3,3,3,3,2,3,4,3,2,3,4,3,3,4,4,3,3,2,4,3,4,4,3,3,3,2,4,5,3,3,3,2,3,3,5,5,4,4,4,3,4,4,3,3,3,4,4,3,4,4,3,3,4,3,3,5,3,5,3,4,4,5,3,4,3,3,3,3,4,4,5,4,2,3,2,3,3,3,3,4,4,2,3,3,3,5,4,2,3,4,3,3,3,2,4,4,3,3,3,3,3,3,3,3,4,3,3,2,3,3,3,3,3,3,3,3,4,4,4,3,4,3,1,2,2,4,3,3,3,3,3,2,3,4,2,3,3,2,3,3,4,3,2,2,6,4,4,4,3,5,4,5,2,4,4,4,4,5,3,3,3,4,4,3,4,4,4,3,3,5,5,3,3,2,3,2,3,6,3,3,3,3,3,4,4,4,5,3,4,4,3,6,4,2,1,4,2,4,3,3,2,3,3,5,3,4,5,3,3,3,2,3,4,3,3,3,3,2,3,3,3,2,4,3,3,5,3,2,2,5,4,4,4,3,5,4,4,5,3,5,4,4,3,3,3,2,4,4,4,3,4,3,2,3,4,4,3,3,4,4,3,4,3,4,5,3,4,4,4,3,3,3,4,3,3,4,4,4,3,4,3,2,5,3,3,3,2,2,4,4,3,5,2,5,4,2,4,2,2,4,3,4,3,4,3,4,3,3,4,3,3,3,3,2,2,3,3,3,3,3,2,2,3,3,3,2,2,3,3,3,4,4,3,3,4,3,6,4,4,4,3,4,4,3,3,4,5,4,4,4,3,3,3,4,4,3,3,3,3,5,4,3,6,3,4,3,3,4,3,4,3,4,4,2,4,3,3,2,4,3,3,4,3,2,3,4,3,4,2,5,2,3,2,3,3,4,3,3,3,2,3,3,3,4,3,3,4,3,4,4,3,3,3,4,4,3,5,4,2,2,3,3,4,3,3,3,3,3,3,3,4,2,4,3,3,2,2,2,3,4,4,4,4,2,6,4,4,4,4,4,4,5,2,3,5,4,4,3,3,4,4,3,3,3,4,3,5,3,3,5,3,4,3,3,4,4,6,6,3,3,3,3,3,3,4,5,2,3,5,3,3,3,3,4,4,2,3,3,2,2,3,2,3,3,2,4,3,4,4,2,3,4,4,4,2,3,2,3,4,2,3,3,3,3,4,3,4,3,3,3,3,3,4,4,3,4,4,3,4,3,2,3,2,3,4,3,4,4,4,4,4,4,4,4,3,4,4,4,2,4,3,5,5,5,2,4,3,3,3,4,4,4,3,2,4,3,3,3,3,3,4,3,4,2,4,2,4,6,3,4,4,3,3,4,4,3,3,3,3,4,3,6,3,5,3,4,2,4,3,3,3,3,3,2,4,4,3,5,3,3,3,2,3,3,3,3,3,2,3,3,4,3,3,2,2,3,2,3,3,4,3,4,2,4,4,4,3,2,4,4,2,6,4,4,4,4,4,4,2,3,4,5,4,3,4,4,4,3,4,4,4,3,5,4,4,4,4,4,4,4,4,4,3,2,4,3,3,2,3,4,5,3,3,4,4,4,4,3,4,4,4,3,5,3,2,2,4,3,3,5,3,3,3,3,2,3,3,3,2,2,3,3,3,3,4,3,2,3,3,2,4,2,3,3,3,4,3,2,3,3,2,3,3,3,2,3,3,4,4,5,3,4,3,4,3,4,3,3,3,3,3,5,3,4,3,3,3,3,4,5,3,3,4,4,3,3,4,3,2,4,4,5,4,4,3,3,2,4,3,4,3,3,4,3,3,3,4,3,4,3,3,3,3,5,3,2,4,3,4,2,5,3,5,5,4,4,4,2,4,3,4,3,4,3,3,4,3,3,4,4,3,4,3,3,3,3,3,3,5,3,4,3,3,3,2,2,1,4,4,2,3,3,2,2,3,2,4,3,5,3,4,4,4,3,4,4,3,3,3,5,4,3,4,3,5,4,3,3,4,4,5,4,3,3,5,3,3,3,2,3,3,4,4,2,2,4,5,4,3,2,4,2,3,4,3,6,6,3,4,3,3,2,3,3,4,3,4,4,3,3,5,4,2,3,2,3,3,3,4,4,3,3,3,4,3,4,3,4,4,3,3,3,3,3,3,3,3,4,3,3,5,4,4,4,3,4,4,4,3,4,4,3,4,3,4,4,4,4,4,4,4,4,3,4,3,3,3,5,4,4,3,4,4,4,4,3,4,4,3,5,4,4,4,3,3,3,3,3,4,2,2,4,5,5,4,3,3,3,4,3,4,4,4,3,2,3,5,3,3,2,3,4,3,3,4,3,2,3,4,4,3,2,3,2,3,3,3,3,4,3,4,5,3,4,3,4,4,3,3,3,3,3,3,5,3,4,3,3,4,3,3,3,5,4,4,4,4,3,4,4,5,4,4,3,4,3,4,2,4,5,3,3,4,4,4,4,3,4,4,2,3,2,2,3,3,3,3,5,3,3,3,3,3,3,3,3,3,3,4,4,3,3,3,4,3,4,3,2,5,4,3,3,2,3,3,3,2,3,2,3,4,3,3,4,3,1,3,4,4,5,4,4,4,4,4,5,3,4,4,3,4,3,4,3,4,2,3,3,3,3,4,3,4,5,3,3,3,3,3,3,3,3,4,3,4,3,3,2,3,4,3,4,3,3,3,3,3,2,3,2,3,3,3,4,3,4,5,2,3,4,3,6,3,3,3,3,2,4,3,3,3,3,3,3,3,3,3,2,3,2,4,4,5,3,5,3,4,4,3,4,4,4,4,4,4,2,3,4,5,4,3,4,4,3,3,4,3,4,3,3,5,3,4,3,3,4,3,3,4,4,3,3,3,2,4,3,3,4,3,3,3,3,3,4,3,3,4,3,4,4,4,2,4,3,3,3,5,2,4,5,2,4,3,2,3,3,3,2,3,3,3,4,3,2,3,2,4,5,4,5,5,4,4,5,4,4,5,5,5,4,4,4,4,5,3,3,4,5,4,1,3,2,3,3,4,4,3,4,3,3,3,5,3,2,3,3,4,3,3,3,3,4,3,3,2,2,4,4,3,3,3,2,2,3,3,3,3,3,3,6,3,4,3,3,3,3,3,3,4,2,3,4,3,3,3,3,3,3,2,3,2,2,3,1,3,3,2,2,4,4,5,4,5,4,6,4,5,4,5,3,4,4,4,5,4,4,4,4,4,5,3,4,4,3,3,4,3,3,3,4,6,3,3,5,3,3,4,2,5,3,3,4,4,4,3,3,3,3,3,3,3,4,4,3,3,4,3,3,3,3,4,4,4,3,3,5,2,3,2,3,4,3,3,3,3,3,4,4,3,3,3,3,3,1,4,3,5,3,5,3,3,1,3,3,3,6,4,3,2,3,4,4,2,3,2,3,4,3,5,5,4,4,3,5,3,3,4,2,4,4,4,4,3,4,4,3,4,4,4,3,4,3,4,3,4,3,3,3,5,3,5,3,3,3,3,4,5,2,3,6,4,4,2,4,4,4,2,4,4,3,5,2,3,2,3,2,3,3,3,4,4,2,4,3,2,3,3,3,2,3,4,3,3,4,2,3,2,4,3,2,4,2,4,4,5,3,5,4,2,4,3,4,3,3,5,3,4,4,4,4,3,2,3,3,3,4,4,3,3,3,3,4,3,4,4,3,4,3,3,4,2,4,5,2,3,4,3,4,4,4,3,2,4,3,2,4,2,2,3,2,2,2,3,3,7,3,4,4,4,9,4,4,4,3,5,4,4,3,4,4,3,3,3,4,4,3,3,3,3,6,2,4,4,4,4,5,3,5,2,4,3,3,3,2,5,5,3,2,2,2,3,3,3,4,3,3,3,3,4,4,3,4,5,3,2,3,3,3,4,3,3,5,3,3,4,2,4,3,2,4,2,2,3,3,3,3,4,3,4,3,4,4,4,3,4,5,4,3,5,5,4,2,5,4,3,5,4,4,4,3,3,3,3,5,4,4,3,4,2,3,4,4,4,3,3,2,3,4,3,5,3,3,3,3,5,6,2,3,3,3,3,3,3,9,3,4,3,3,3,3,4,4,3,3,4,2,4,3,3,4,3,3,3,3,3,3,3,3,2,2,2,4,4,3,3,3,3,3,2,3,2,3,3,4,3,2,3,3,3,3,3,1,3,2,4,5,4,4,3,4,4,4,3,3,4,2,4,3,4,2,1,4,3,3,4,5,3,4,4,4,3,5,3,3,3,2,5,3,2,5,4,2,3,4,3,3,3,3,2,2,4,4,4,3,4,4,3,4,5,4,4,3,4,4,5,4,4,6,3,3,2,4,3,4,2,4,4,3,4,4,4,4,4,3,3,3,4,5,3,3,3,3,3,2,3,3,3,2,2,3,2,2,2,3,4,4,4,4,3,4,4,3,3,4,3,2,2,4,4,4,4,3,3,3,4,4,3,5,4,3,3,3,3,4,4,4,3,3,3,3,5,6,2,3,3,3,3,4,4,3,3,6,3,3,1,3,3,4,2,2,3,3,2,6,4,4,3,3,3,5,3,3,2,4,3,5,4,1,4,4,3,3,3,1,4,2,3,3,4,4,3,3,3,3,3,3,5,2,3,3,5,3,5,5,5,10,3,4,3,6,4,4,4,4,6,3,3,5,4,4,4,7,4,4,3,5,8,3,5,5,4,4,4,4,4,4,4,4,3,6,3,3,3,5,2,3,3,3,3,4,3,3,3,3,3,3,4,2,6,3,3,4,4,4,3,1,3,2,2,4,4,2,5,3,4,3,4,3,4,4,3,1,3,3,2,3,3,3,3,3,3,3,3,5,4,4,4,3,4,4,4,4,4,3,3,4,4,3,4,3,4,3,2,3,3,3,4,3,3,2,4,3,2,3,3,4,3,5,3,3,3,2,3,3,4,1,3,3,4,3,4,2,2,3,3,4,3,3,3,2,2,2,4,5,3,2,4,3,3,3,4,5,4,4,4,3,4,3,5,6,4,4,4,3,3,2,3,4,2,5,3,3,4,5,3,3,4,4,3,3,3,2,2,3,2,4,4,4,4,3,3,2,3,3,4,3,1,3,3,3,4,2,3,3,2,3,3,3,3,3,2,2,2,3,3,2,4,3,3,3,4,2,3,3,3,5,3,3,3,4,3,2,5,3,4,4,4,5,2,3,4,5,4,6,4,5,4,4,4,3,4,4,4,4,4,3,3,3,3,3,2,4,2,3,3,3,4,4,4,3,3,2,2,3,3,3,4,3,3,3,3,3,5,3,3,2,3,3,4,2,3,3,3,3,4,4,3,4,4,2,3,2,3,2,4,2,2,3,4,3,4,4,4,3,2,3,5,2,4,2,2,3,3,3,3,3,3,3,4,4,3,4,2,4,3,3,3,3,3,3,4,4,3,3,4,4,4,3,4,3,3,4,4,3,3,3,3,3,3,3,3,3,3,5,4,4,4,3,3,4,4,3,4,3,2,4,3,3,4,4,3,3,3,3,5,3,4,3,3,3,3,3,4,3,4,4,2,3,3,3,5,4,3,2,3,2,4,3,2,2,2,3,2,3,2,4,4,4,3,4,4,3,5,3,3,3,3,4,2,3,3,3,3,3,2,3,3,3,3,3,3,4,3,2,4,4,4,5,4,4,3,2,3,3,3,5,3,4,4,3,3,3,2,3,3,3,3,11,4,4,3,4,3,3,2,2,3,3,2,3,3,3,2,2,4,4,3,3,3,2,4,4,2,3,3,4,4,2,3,3,4,4,3,4,3,3,3,3,3,3,4,3,4,5,3,3,2,3,3,3,3,3,3,2,2,2,3,2,4,5,4,3,3,3,3,4,5,4,5,3,5,5,4,3,2,3,4,4,3,3,2,4,4,2,4,3,5,4,3,4,4,2,4,4,5,3,3,3,2,3,4,2,3,2,3,4,3,4,3,2,4,4,4,3,2,3,2,3,4,3,3,3,3,3,4,2,4,3,3,4,3,2,1,4,3,3,4,3,3,3,3,4,3,4,3,3,3,4,3,3,3,2,2,3,3,4,3,2,2,2,3,4,4,4,3,3,4,2,3,4,3,3,4,5,4,4,5,4,4,3,3,3,3,5,4,4,4,4,2,4,3,4,4,4,3,4,3,3,4,2,3,4,4,5,3,4,4,3,3,5,4,3,4,3,2,3,3,3,2,4,2,3,3,4,3,2,3,4,3,4,2,3,3,3,4,3,2,1,3,4,3,3,4,4,2,3,4,4,3,3,4,3,4,4,4,3,4,3,2,3,3,3,2,3,4,3,1,4,4,3,3,3,3,3,3,3,3,3,1,4,3,4,4,4,4,5,4,3,4,4,4,4,3,4,4,4,6,3,4,3,5,3,4,3,3,4,3,3,4,3,5,4,3,3,3,4,4,4,2,4,4,2,2,4,5,4,4,2,3,3,4,4,2,4,3,4,2,3,2,4,3,3,3,4,3,3,3,3,3,3,2,2,3,4,2,3,5,4,3,3,3,3,3,5,3,3,3,3,3,3,3,3,3,4,3,3,3,2,4,2,3,3,3,3,3,2,2,2,3,2,4,3,3,2,2,1,4,4,4,4,4,4,3,4,3,5,3,3,4,4,5,2,3,4,2,4,4,3,3,2,3,2,3,4,5,3,3,4,3,3,4,4,5,4,5,4,4,4,3,4,3,3,3,3,5,4,4,4,4,4,4,4,2,3,3,3,3,3,3,3,4,1,4,3,3,3,4,3,3,3,3,4,3,4,3,3,3,3,3,3,3,3,3,3,3,5,3,3,2,4,3,3,4,3,4,3,3,4,5,5,2,6,4,3,2,2,5,4,5,4,3,3,4,4,2,3,2,2,4,5,3,3,4,3,2,4,3,4,4,3,3,3,4,4,3,3,3,4,3,3,3,3,2,2,3,5,5,3,4,3,5,3,5,3,4,3,4,3,2,3,2,3,4,3,3,3,3,3,3,2,4,2,4,3,2,3,4,4,4,4,3,3,3,6,4,3,4,5,5,4,3,3,2,4,4,4,3,3,2,3,3,3,2,4,2,2,3,3,3,4,3,3,4,3,4,3,3,3,2,3,5,3,4,3,3,3,3,3,3,1,3,4,3,3,5,5,4,3,3,4,3,3,3,4,4,4,4,3,4,4,4,4,3,2,5,3,3,4,5,4,3,3,3,4,4,4,4,3,3,3,4,4,3,3,3,5,3,4,4,2,3,3,3,3,3,3,3,3,4,3,3,4,3,2,3,3,3,3,3,4,4,4,5,2,5,3,3,3,4,3,4,4,3,3,3,2,2,3,4,3,3,4,3,4,4,4,4,4,5,3,4,4,3,3,4,4,4,3,5,3,4,3,3,3,3,3,2,4,3,3,4,3,2,2,3,3,2,3,2,2,2,4,3,3,3,2,2,3,4,4,3,3,3,3,3,4,3,2,2,3,2,5,3,3,3,3,3,2,4,3,3,4,2,3,4,3,6,1,3,3,3,4,4,3,3,3,3,3,5,4,6,2,4,6,6,3,4,3,4,4,4,3,3,4,3,4,5,4,5,4,5,3,3,4,4,4,3,3,3,5,4,4,3,3,3,3,3,5,1,4,3,4,3,3,3,3,3,3,1,3,4,3,3,3,3,3,2,4,1,3,4,3,3,5,3,3,4,3,5,3,3,4,3,1,1,3,2,5,3,3,4,4,4,3,4,6,5,4,4,4,3,4,5,4,3,3,3,4,3,4,4,3,3,3,6,3,4,3,3,3,3,3,4,5,4,4,3,3,6,3,3,4,5,3,4,3,4,3,2,4,4,6,3,3,4,2,3,4,4,2,4,2,3,3,3,3,4,3,4,2,4,3,3,3,3,4,3,2,4,3,2,2,3,2,2,2,3,2,4,3,4,5,4,4,4,4,4,4,5,3,5,3,3,4,3,4,3,3,2,3,2,3,3,4,4,3,3,4,3,4,3,3,4,3,3,3,4,4,4,3,1,4,4,3,3,4,2,3,3,4,2,3,4,3,3,3,3,3,3,1,3,2,3,3,3,2,3,3,3,3,2,3,3,3,4,4,4,5,4,4,3,4,4,4,5,2,3,5,4,4,4,4,4,3,5,3,3,3,4,2,4,3,4,4,4,4,3,5,5,3,4,4,3,6,4,2,4,3,5,3,3,3,7,3,5,3,2,3,3,3,3,5,3,4,3,6,2,4,3,4,3,3,3,3,4,3,3,3,3,2,3,3,2,3,5,3,3,3,2,2,3,5,3,3,4,4,3,2,5,5,5,3,4,4,4,4,2,3,3,4,3,5,3,4,4,4,4,2,3,3,2,3,4,4,3,2,4,3,4,3,3,5,3,2,5,4,3,4,3,3,2,4,3,7,1,4,5,5,2,4,4,3,3,4,4,2,3,3,2,4,3,5,4,3,3,2,3,4,5,3,3,3,2,3,2,3,3,5,3,3,3,3,3,3,3,4,2,6,4,5,4,3,4,3,3,4,4,4,5,4,2,4,4,4,3,3,4,3,4,3,2,4,3,2,5,3,6,4,3,3,3,3,5,4,4,3,4,3,2,3,4,4,3,4,2,4,3,3,5,4,3,4,2,3,4,3,2,4,3,5,2,2,3,4,3,5,3,2,2,3,4,3,2,4,4,2,3,3,4,2,3,4,5,5,5,4,4,4,3,3,3,3,3,4,3,4,4,3,3,4,4,5,3,4,3,3,4,3,3,3,3,3,3,3,3,2,3,3,4,2,4,4,3,2,3,3,2,3,2,4,3,3,3,3,2,3,2,4,2,3,4,3,4,3,4,3,2,4,4,2,4,4,3,4,4,4,4,3,5,4,3,3,2,4,3,5,3,3,4,3,4,3,3,3,3,5,4,4,3,2,4,3,3,4,3,3,3,2,3,3,4,2,2,3,3,2,3,3,4,2,3,5,2,3,3,4,4,5,3,3,2,3,3,5,3,3,4,4,2,3,4,3,4,4,2,3,1,2,3,3,4,4,4,4,4,3,3,3,5,4,3,4,5,4,4,5,4,3,3,3,4,4,3,2,2,4,3,4,2,3,4,3,3,3,3,3,2,3,4,2,3,4,5,3,4,4,2,4,2,2,4,5,3,3,3,4,3,3,4,3,3,4,3,3,3,4,4,2,3,6,4,3,2,3,1,4,3,3,3,4,3,3,3,2,3,3,2,3,3,2,2,4,4,4,6,3,3,4,4,5,4,3,4,4,5,4,4,3,4,2,5,4,2,3,3,4,4,3,3,3,3,3,3,4,5,4,3,3,2,3,3,4,2,3,3,6,3,3,2,3,4,3,3,3,3,3,3,3,4,3,6,4,3,3,3,1,3,3,3,2,2,4,3,2,2,5,4,3,5,4,3,2,4,3,3,4,4,5,4,5,4,4,4,3,3,3,3,3,3,4,3,5,3,3,3,3,5,2,4,2,2,4,3,3,3,3,3,3,3,3,4,3,3,3,3,2,4,3,3,5,2,3,4,3,3,2,4,5,3,3,4,4,4,1,4,3,3,3,3,3,3,4,3,2,6,3,3,4,4,4,4,4,4,3,3,3,3,4,4,3,2,2,4,3,3,3,4,2,4,4,5,3,3,2,2,3,4,3,4,4,3,3,5,3,3,3,2,2,3,4,4,4,4,4,3,3,4,3,3,3,3,4,4,3,4,3,4,2,5,4,3,4,3,5,3,3,3,3,4,2,2,4,3,5,3,5,2,5,4,2,4,4,4,2,4,5,3,3,4,4,4,4,4,3,4,2,3,3,4,5,4,2,3,4,4,7,3,3,4,3,3,3,1,4,4,3,4,3,3,3,3,3,4,3,3,3,3,3,4,3,3,3,4,3,4,3,3,3,4,4,3,3,3,3,3,3,4,3,4,3,4,3,3,3,4,4,2,2,4,3,3,3,4,3,3,3,3,4,3,3,3,6,4,4,5,5,5,6,5,3,3,3,3,5,4,4,4,4,3,3,4,5,4,3,3,4,4,4,3,4,4,4,4,4,5,4,4,3,4,3,2,4,6,2,3,3,3,3,3,5,3,4,3,3,4,3,4,5,3,3,2,3,3,4,2,3,3,4,3,3,4,4,3,4,4,2,4,4,2,4,4,4,1,3,3,4,4,3,2,2,3,4,3,3,3,3,3,2,3,4,4,3,3,2,4,4,4,3,4,3,2,4,4,6,5,2,3,3,3,3,3,4,4,5,4,4,4,5,3,4,4,3,2,4,3,1,4,5,3,2,4,4,3,2,4,4,3,3,3,4,2,2,2,2,4,1,3,2,4,3,4,3,3,3,2,3,5,4,3,4,4,2,3,4,4,4,4,2,5,3,3,3,3,3,3,3,4,3,2,2,3,5,3,3,4,2,3,3,3,3,3,2,3,4,3,3,5,4,4,2,3,3,3,4,4,4,4,4,4,2,3,3,3,2,3,4,3,3,3,4,3,4,3,3,3,5,1,4,2,4,3,2,4,3,2,5,3,3,3,3,4,4,4,4,3,3,3,3,3,4,3,4,3,4,3,3,3,4,3,5,5,3,4,3,3,3,2,2,3,3,2,4,7,5,4,3,4,4,4,3,4,4,2,4,4,4,4,4,4,3,5,2,3,3,4,5,4,4,4,4,4,3,3,3,3,4,4,2,4,3,3,4,3,3,3,3,3,2,2,3,2,2,4,3,3,3,3,2,3,4,4,3,4,4,4,3,3,3,3,3,4,4,3,4,4,2,4,3,3,3,3,3,3,3,3,4,3,3,3,2,3,3,4,4,4,2,3,4,4,3,4,4,4,4,4,3,5,3,4,5,4,5,5,4,3,4,4,6,4,4,4,4,4,3,3,4,2,3,4,4,2,3,3,3,3,4,4,4,4,3,4,2,4,3,3,4,2,3,2,5,2,4,4,3,4,2,4,4,4,4,3,1,2,3,4,4,3,3,3,4,4,3,2,5,3,3,3,4,2,3,3,3,3,7,4,3,4,3,4,4,3,3,3,3,2,3,4,5,2,4,3,5,5,3,1,2,2,2,3,2,3,4,4,4,3,4,3,3,3,3,4,5,3,3,3,2,4,3,3,4,3,3,2,3,1,3,2,3,4,3,5,4,4,4,3,4,3,3,4,4,4,2,4,4,4,4,3,3,3,2,2,4,3,3,3,4,3,4,3,3,4,3,4,3,2,4,3,3,3,2,4,3,3,3,2,3,2,3,2,2,3,3,3,3,3,2,3,5,4,2,3,4,2,3,4,4,3,3,3,3,3,4,3,4,3,4,4,3,4,3,2,3,2,2,5,4,4,4,7,4,4,6,4,4,3,4,3,3,4,4,3,5,4,4,4,3,4,2,4,4,3,4,4,4,3,4,3,3,3,2,5,2,3,3,2,3,3,3,4,4,4,3,3,3,2,4,4,3,3,3,3,3,4,4,3,3,3,4,3,3,5,4,3,4,2,2,1,4,4,5,4,4,3,3,4,3,4,3,5,3,4,3,4,4,3,4,4,2,4,3,4,3,4,4,4,3,3,4,4,3,2,3,4,4,4,3,2,4,4,3,4,3,3,4,2,3,2,3,3,4,2,3,3,2,2,4,3,2,3,3,3,3,5,1,4,2,1,3,4,3,3,4,4,5,6,6,4,4,3,3,4,5,3,4,4,4,4,3,4,3,3,4,3,2,4,3,3,2,2,3,3,4,3,3,3,4,2,3,3,4,5,3,4,3,5,2,2,3,4,4,3,3,3,3,4,2,5,4,4,4,4,2,3,3,3,2,3,4,3,3,5,8,3,4,3,5,3,5,4,4,7,4,4,2,4,4,5,2,3,6,4,3,4,3,4,4,2,4,2,4,5,3,5,4,5,2,4,4,4,4,2,3,3,4,3,3,4,3,3,3,4,3,3,3,3,4,3,3,3,5,3,2,3,5,3,4,5,3,3,2,3,2,2,2,4,3,3,3,3,3,2,4,2,3,3,3,3,3,4,3,1,3,2,5,3,3,3,3,4,4,3,3,4,4,4,4,3,4,3,4,3,4,3,2,3,3,2,4,3,3,3,3,4,3,4,3,4,3,5,2,3,3,3,3,4,4,3,3,3,3,3,4,3,2,3,5,4,4,3,2,3,5,2,3,2,4,3,3,3,3,3,3,2,3,4,3,4,4,3,4,5,3,4,3,4,5,3,5,4,3,5,4,4,4,3,6,5,3,4,3,3,3,3,4,3,3,3,2,3,5,4,5,3,4,4,4,3,3,3,2,3,4,3,4,3,2,4,3,3,4,5,1,4,2,3,4,2,3,2,3,3,3,2,3,4,3,3,2,4,2,3,4,2,2,3,4,3,5,3,3,4,5,4,3,5,3,4,3,2,3,5,5,4,5,4,2,4,3,5,3,5,3,3,3,4,3,3,3,4,4,3,3,4,3,3,3,4,4,2,3,4,5,3,3,3,3,4,3,4,1,2,3,3,2,4,3,4,3,2,5,3,3,3,4,4,3,3,5,3,4,3,3,3,2,2,2,3,3,2,2,2,5,1,4,3,4,6,3,4,4,2,4,4,3,4,4,4,4,3,5,4,4,4,2,4,3,4,4,4,3,3,3,4,5,3,4,3,5,5,2,2,3,3,5,4,4,3,4,2,4,4,2,3,3,4,1,3,2,2,4,4,1,3,4,4,3,3,3,6,4,3,3,4,4,4,4,4,3,2,4,4,5,3,3,4,4,4,3,3,4,3,3,4,5,4,4,3,4,4,3,4,4,3,4,3,3,2,3,4,2,4,4,2,4,3,3,3,2,2,3,3,3,5,3,4,2,3,3,3,3,3,3,4,3,3,4,2,2,4,3,4,4,4,3,3,3,4,2,3,3,3,2,3,4,3,3,3,3,5,5,4,4,5,4,2,4,3,4,3,4,3,4,4,4,4,4,4,3,4,7,4,2,3,4,4,5,5,5,4,4,4,4,2,3,2,4,4,3,4,4,2,4,3,3,4,4,4,6,3,4,4,4,3,2,2,4,2,3,3,1,4,2,3,3,3,3,3,3,3,3,4,2,4,4,3,3,2,4,2,3,3,3,2,3,4,4,4,5,3,3,3,8,4,3,4,3,5,6,4,4,4,4,3,4,3,4,3,4,4,4,4,3,5,4,5,4,5,3,3,3,2,3,4,4,4,3,2,3,4,2,3,3,2,4,2,4,4,3,3,3,4,4,5,4,3,2,2,3,1,2,1,1,2,2,5,3,4,4,3,4,3,3,3,3,3,4,3,5,3,2,4,2,3,2,4,2,4,4,4,4,3,2,3,4,4,4,2,4,5,3,4,3,6,3,4,4,3,2,4,4,3,4,3,2,2,3,5,3,3,3,4,3,3,3,3,3,3,4,3,4,3,3,4,4,3,4,3,4,4,3,4,4,3,3,5,3,2,2,3,3,3,3,3,3,2,3,2,2,5,3,4,5,5,3,3,5,3,3,5,8,4,5,5,5,3,4,4,4,3,4,3,3,3,4,4,2,3,4,4,4,5,3,4,2,4,4,4,7,3,4,2,4,4,3,3,3,3,4,3,4,3,4,3,4,3,4,3,2,3,3,4,3,3,2,5,5,3,3,3,3,4,4,4,4,2,3,4,3,3,5,6,3,3,3,2,3,4,2,2,3,1,3,4,5,4,4,4,5,4,5,4,5,4,3,4,3,4,3,4,3,4,5,4,4,3,2,2,3,3,3,3,4,3,2,2,2,2,4,3,3,4,3,2,4,3,4,3,3,2,4,3,3,3,3,3,4,4,3,2,4,2,3,3,3,3,3,3,3,3,3,4,4,3,3,3,3,4,3,3,3,2,3,3,3,3,3,3,4,2,2,2,1,4,5,3,5,4,4,3,5,4,4,4,5,3,4,4,3,3,4,4,3,5,4,4,3,3,3,5,4,4,4,3,3,2,3,2,3,4,4,2,3,4,2,3,3,3,2,3,3,3,4,4,3,2,4,3,4,3,3,3,3,4,3,3,3,4,3,3,3,3,3,3,2,3,2,4,3,3,3,2,3,5,4,3,4,4,3,3,4,5,5,4,3,3,3,4,4,3,2,3,3,4,3,3,3,3,3,4,3,3,4,2,2,2,2,3,3,3,3,4,3,5,4,4,3,3,3,4,4,3,2,4,4,3,1,3,3,3,3,3,3,3,1,3,4,3,2,3,4,2,5,3,3,1,3,4,4,5,4,7,4,3,4,3,3,4,4,4,3,4,5,4,3,5,3,4,2,3,3,4,4,3,4,1,4,3,3,2,5,3,3,4,3,3,3,2,3,4,2,2,3,3,4,3,4,3,4,3,3,3,3,4,3,3,2,3,3,3,4,5,3,4,2,4,5,3,4,5,4,5,4,4,4,5,4,3,4,3,3,4,3,4,4,2,4,3,3,3,3,4,4,3,3,3,4,2,3,6,4,4,5,2,3,3,4,2,3,4,4,3,3,4,3,1,2,3,4,3,3,3,3,3,4,3,3,4,4,4,3,3,3,4,2,3,2,2,3,4,2,2,4,3,3,3,3,3,3,4,4,3,4,3,3,3,3,3,3,2,3,3,3,5,4,3,4,4,4,3,4,5,3,4,4,4,4,5,3,3,4,3,3,3,3,3,4,3,4,4,3,4,4,3,4,7,4,3,3,3,3,3,3,2,3,3,2,2,2,4,3,3,4,4,2,2,5,3,3,3,5,4,3,3,4,3,2,5,3,2,3,3,4,3,3,4,2,2,4,3,4,4,2,3,5,3,4,3,3,2,2,2,2,3,2,2,2,3,3,4,3,3,3,3,3,4,2,4,3,3,2,4,3,2,3,3,2,2,4,4,5,5,5,3,5,5,5,4,2,4,4,5,4,5,3,4,4,5,3,3,3,10,4,4,3,4,3,3,2,4,3,5,3,3,1,3,4,4,3,3,4,3,3,3,4,3,3,3,3,2,3,3,4,3,2,3,5,3,5,3,1,4,4,2,4,3,3,3,3,3,3,4,3,3,3,2,5,3,4,3,3,3,3,5,3,4,3,4,3,3,4,4,4,4,3,3,4,5,3,4,5,4,3,3,3,4,4,3,4,4,4,4,3,3,3,5,4,3,3,3,3,3,2,5,4,3,4,2,2,3,2,3,3,4,5,3,3,3,3,2,2,3,3,3,2,2,3,2,3,3,3,2,3,5,2,4,3,4,3,3,5,4,2,4,6,3,3,2,3,3,3,3,2,3,2,5,4,5,3,4,3,3,4,3,3,4,3,5,4,3,4,2,3,3,4,4,3,3,3,3,2,3,3,2,3,3,4,4,4,4,3,3,5,3,4,4,4,3,3,3,4,4,4,3,4,4,3,5,3,3,3,4,4,3,3,2,4,4,5,5,3,3,5,3,3,2,4,3,4,5,3,4,4,4,3,4,4,3,4,3,3,3,2,4,2,3,2,3,2,2,4,5,3,3,5,2,2,3,2,4,3,3,4,3,3,2,3,3,2,3,3,3,2,3,4,3,6,4,3,4,4,5,3,5,3,3,2,3,4,2,4,3,4,3,4,3,4,3,2,4,6,4,4,4,4,3,4,4,3,3,4,3,3,3,2,3,2,4,4,6,3,3,3,4,4,3,3,3,1,3,3,7,4,3,4,4,4,4,3,3,4,3,4,3,2,3,4,3,3,4,4,5,3,2,5,4,4,4,3,4,4,4,3,3,4,4,5,3,5,4,3,5,3,3,4,3,3,3,4,3,3,3,3,2,3,3,2,4,3,3,3,4,4,2,2,3,4,2,2,5,4,2,4,3,3,3,3,4,5,3,4,3,3,3,3,4,2,3,3,3,3,1,3,4,3,4,4,4,5,4,5,2,4,3,4,4,3,3,4,4,4,4,4,2,4,4,2,3,4,2,2,3,3,4,5,4,3,3,3,3,2,3,4,2,3,3,5,3,3,4,4,4,4,3,4,3,4,4,3,4,1,2,2,2,3,3,3,4,2,3,3,2,2,3,2,3,3,2,3,2,3,6,4,4,4,4,4,3,4,4,4,3,3,3,4,3,4,4,4,4,3,4,5,4,4,4,4,3,3,3,3,4,5,3,3,4,3,2,4,3,3,4,3,3,3,3,3,4,3,4,3,4,3,3,3,3,3,3,4,4,3,2,3,3,2,3,3,3,3,2,3,2,3,3,2,5,3,3,4,3,3,3,3,3,5,5,3,3,3,4,4,4,3,4,4,2,4,2,4,3,3,3,3,3,2,4,5,3,4,4,3,3,3,3,3,5,4,4,5,4,3,2,3,3,3,2,2,4,5,3,2,3,3,3,4,3,2,4,3,2,3,4,3,3,3,3,4,5,3,4,4,3,2,3,2,3,3,3,3,3,3,2,2,2,4,3,5,5,4,4,4,5,3,4,4,5,3,5,5,3,3,4,4,3,4,4,5,2,4,4,3,3,4,3,4,4,4,3,3,2,4,3,3,2,3,3,3,3,3,4,3,2,3,3,4,4,5,4,4,2,4,4,4,4,4,4,4,7,4,4,3,4,3,3,2,4,3,4,4,4,5,4,3,5,4,4,2,4,3,6,3,3,3,3,3,3,4,4,3,3,5,2,2,5,3,2,3,3,2,3,4,3,3,2,5,3,3,2,4,2,3,4,3,3,3,4,3,3,4,3,2,3,2,3,3,2,5,3,4,3,4,5,2,3,4,4,4,2,5,2,4,4,3,4,4,2,3,3,3,3,3,3,3,3,5,4,2,3,5,4,3,3,4,3,3,2,4,3,3,3,2,3,3,2,4,3,3,6,2,4,3,4,3,3,2,3,2,4,3,3,4,2,6,2,5,3,2,4,3,4,4,4,2,3,3,2,2,2,3,4,4,3,2,2,2,3,3,3,3,3,3,1,3,3,2,2,4,4,4,4,3,5,3,4,5,4,5,4,3,3,3,5,3,3,3,4,2,3,4,4,4,4,3,3,3,5,4,4,2,3,3,4,5,4,3,3,2,6,5,4,5,2,5,3,3,5,3,4,2,4,3,3,3,3,3,3,3,1,2,3,3,1,3,3,2,5,4,4,6,4,3,4,4,4,4,3,4,3,4,5,4,4,4,4,3,3,3,6,4,4,3,4,5,4,4,3,3,3,3,4,5,5,4,3,2,4,3,4,5,3,2,3,4,3,2,4,2,3,4,4,3,3,3,2,4,3,3,3,3,4,4,4,4,1,4,2,4,3,4,3,3,2,3,2,2,2,3,3,3,3,3,3,3,3,5,3,5,3,4,3,4,4,3,5,3,4,3,3,4,4,4,6,4,4,3,3,3,5,5,3,3,5,2,4,5,4,3,5,2,2,4,3,2,4,2,3,3,2,4,3,4,4,3,3,3,3,3,2,3,3,3,4,5,3,3,3,4,3,3,3,2,3,3,3,3,3,3,4,2,4,3,3,3,3,3,4,3,3,1,2,4,4,3,4,3,3,2,4,4,3,3,3,4,4,3,3,3,4,1,4,4,4,3,3,3,3,2,4,5,3,3,3,3,4,3,5,4,2,3,3,4,3,3,3,2,3,3,3,2,2,3,3,4,3,4,3,3,4,3,3,3,3,3,1,1,3,2,4,3,3,4,3,2,3,3,4,3,2,2,3,2,2,3,4,5,4,4,4,5,3,4,5,5,4,5,4,4,4,2,4,5,3,2,3,2,4,3,5,3,5,4,3,2,4,2,2,4,3,3,3,4,2,3,4,2,4,3,3,3,3,4,3,3,4,4,4,3,3,2,4,3,4,3,3,3,3,3,3,2,4,3,4,4,3,4,2,3,2,2,3,2,2,3,3,3,2,3,2,4,6,4,3,5,5,4,4,3,4,4,3,5,3,4,2,4,4,3,3,4,5,3,4,5,4,5,4,5,2,3,3,3,3,4,3,3,2,3,2,4,3,4,3,5,3,4,2,3,4,4,4,2,4,3,3,2,3,3,3,4,3,6,2,4,4,4,4,3,3,3,4,3,2,3,3,2,2,3,3,3,3,3,3,4,2,4,3,2,3,3,3,2,3,5,4,3,6,5,4,5,3,4,5,4,4,4,3,3,3,3,4,4,4,3,3,4,3,4,3,2,4,4,3,3,3,3,3,2,3,3,3,4,3,3,4,2,4,4,2,3,2,4,3,3,3,3,4,3,4,3,3,4,3,2,3,4,3,2,4,3,3,3,3,3,3,3,2,2,2,3,3,4,4,5,4,5,3,5,3,4,3,3,4,4,4,4,3,4,6,2,3,4,3,8,4,3,2,2,3,4,4,4,4,4,4,3,3,3,4,2,3,3,2,4,3,4,4,2,3,3,2,6,4,1,3,3,4,3,2,2,4,3,3,4,1,4,3,2,3,3,2,2,4,4,4,5,4,3,3,4,5,4,4,4,4,3,2,3,3,3,3,3,4,3,1,2,3,4,3,2,3,4,5,4,5,5,3,3,3,3,3,3,4,3,3,2,3,3,1,4,3,4,3,3,3,5,4,3,6,5,4,4,4,4,4,4,4,5,2,3,3,6,4,3,3,5,3,3,4,4,3,3,4,3,4,4,2,4,4,3,4,4,4,2,5,3,4,4,3,3,4,3,3,2,4,3,4,2,2,3,3,3,2,3,4,3,4,3,3,4,3,3,5,3,4,2,3,3,2,4,3,3,4,5,2,3,3,3,3,3,3,3,2,4,3,2,4,2,3,3,3,4,6,4,4,4,4,3,3,3,3,3,3,2,5,4,6,4,3,5,6,4,3,4,4,3,2,3,4,3,3,2,3,3,4,4,3,3,3,2,5,3,4,4,4,6,3,2,3,3,3,3,2,3,3,3,3,4,4,4,3,3,3,3,3,5,4,3,2,2,2,3,2,3,2,4,2,2,3,3,5,3,3,3,3,3,3,3,2,2,3,6,3,3,4,3,3,3,4,4,5,5,5,4,4,3,6,3,3,4,3,3,3,4,4,3,3,3,2,2,3,3,5,3,4,3,3,4,3,2,3,3,2,2,3,2,4,4,3,3,2,4,3,3,3,5,4,4,4,4,2,2,4,1,4,3,2,3,4,3,3,4,3,4,3,3,4,4,4,3,2,3,3,3,3,3,2,5,5,5,4,4,3,4,5,3,3,2,2,4,4,2,4,4,3,3,5,4,3,8,3,3,4,3,4,3,4,3,3,3,4,2,5,4,2,1,2,4,4,3,3,4,5,3,3,3,4,3,3,4,4,5,4,3,3,3,2,3,3,3,3,3,3,3,4,3,5,4,4,3,4,4,4,4,3,4,3,4,3,3,3,2,2,5,3,3,5,3,2,2,5,2,2,2,4,5,5,4,3,3,3,4,4,4,4,3,4,4,4,4,4,2,3,3,2,3,3,4,3,3,3,2,2,2,3,3,3,2,4,2,3,3,6,4,4,4,5,5,5,4,3,5,4,4,3,5,4,4,4,4,5,4,4,5,4,3,3,3,3,3,3,2,3,4,4,4,3,4,3,2,4,3,3,4,2,3,4,5,4,2,2,3,3,3,4,4,4,3,3,4,3,3,4,2,4,2,3,1,4,3,3,2,3,3,2,2,4,3,5,4,4,5,5,4,4,4,5,6,2,3,4,4,4,6,4,5,4,4,4,4,3,3,3,4,3,3,3,3,4,4,5,2,2,3,4,4,3,3,2,3,6,4,5,2,3,4,3,4,3,2,3,3,4,3,2,5,4,4,2,4,4,3,3,2,3,4,4,3,3,3,3,3,3,3,2,5,4,4,3,5,3,3,4,3,4,3,3,4,4,4,3,3,3,4,3,3,3,3,3,3,3,3,3,3,3,5,3,4,1,5,5,4,3,3,3,4,4,4,5,3,3,5,4,4,6,3,3,3,3,4,2,4,3,2,4,3,4,5,3,4,3,4,3,3,3,3,3,3,3,5,5,4,4,5,4,3,3,3,4,4,3,3,4,4,3,3,3,3,3,3,4,3,3,2,4,2,3,4,3,4,2,2,2,3,4,4,3,2,3,4,8,4,3,3,2,2,3,4,4,5,3,3,3,2,4,3,3,3,4,3,3,2,3,3,3,3,4,3,4,4,3,3,3,2,3,4,5,4,3,4,5,4,4,4,4,4,3,3,4,5,4,4,4,2,3,4,4,2,3,3,4,4,4,3,4,4,3,2,2,3,3,3,4,5,3,4,4,3,4,4,5,4,3,3,3,4,2,4,4,3,3,4,2,2,4,3,3,5,3,2,2,3,3,2,4,4,3,3,4,2,3,4,4,3,5,3,3,3,4,4,5,4,4,5,2,4,4,4,2,5,3,4,4,6,3,4,3,3,4,5,3,2,3,3,3,2,4,2,4,3,3,4,4,4,3,4,4,4,2,2,3,2,3,2,4,2,3,3,3,3,3,4,3,3,3,2,2,3,4,4,2,3,3,3,3,4,4,2,3,3,3,4,4,4,5,4,5,4,5,2,3,6,4,2,5,2,3,4,4,2,4,4,3,4,4,3,3,4,1,3,4,4,3,3,3,4,3,4,4,3,4,4,3,3,4,3,3,2,3,3,2,2,3,3,4,4,3,4,3,1,2,2,3,3,3,3,3,3,3,3,3,4,4,3,6,4,4,4,4,4,4,3,4,4,4,4,6,4,1,3,3,4,2,3,3,4,4,3,3,3,4,4,4,2,2,4,3,4,3,4,4,3,3,3,3,3,2,2,3,4,2,3,4,2,4,3,3,3,3,2,4,3,5,4,3,4,4,3,4,4,5,4,3,4,4,4,3,5,4,4,2,2,3,3,2,3,4,3,3,3,3,3,4,3,3,2,3,3,2,3,3,3,5,2,3,3,4,3,3,2,3,3,2,4,3,3,3,5,1,4,3,2,3,3,2,4,3,4,3,3,2,4,4,3,3,8,3,4,4,4,3,5,3,3,3,3,2,4,3,1,3,2,3,3,2,3,3,2,3,3,3,3,4,3,3,3,3,2,4,3,4,3,3,4,3,2,4,2,4,4,5,4,2,5,3,4,3,4,3,5,3,3,3,5,4,4,4,4,6,3,5,3,3,4,4,5,3,3,3,4,3,5,2,3,4,3,4,4,3,3,3,4,4,2,3,4,5,4,2,3,4,2,3,3,4,3,2,3,3,3,4,3,4,3,4,3,3,1,3,2,4,4,4,4,4,3,4,4,4,3,4,4,3,3,1,6,4,4,4,3,5,2,4,3,4,3,3,4,3,2,3,3,4,4,3,3,3,5,3,3,4,4,4,4,3,2,3,4,4,3,3,5,3,3,3,3,3,3,3,3,3,3,5,4,4,3,5,4,2,2,3,2,4,5,3,2,3,3,3,4,3,4,2,3,3,2,2,3,3,3,3,2,3,4,6,4,5,4,4,4,4,3,3,4,4,3,3,3,3,4,5,3,2,4,3,4,3,3,2,3,2,4,6,3,4,3,4,2,3,4,3,4,3,5,5,4,5,4,4,4,4,3,3,4,5,6,10,2,4,5,3,3,4,4,5,2,3,5,3,5,3,3,3,5,3,4,3,3,5,2,3,4,3,4,4,3,2,3,3,3,4,3,5,3,2,3,3,3,4,3,2,3,2,2,3,3,3,3,4,5,4,5,3,3,4,4,3,3,4,6,4,4,2,3,4,3,4,3,3,3,4,3,4,3,4,3,3,3,4,5,1,2,6,3,2,3,3,3,4,2,4,3,3,3,3,4,3,3,3,4,4,5,6,3,3,3,3,4,5,4,4,4,3,3,3,4,3,3,3,3,3,3,3,4,3,4,3,3,3,3,2,3,2,4,3],\"type\":\"pie\",\"textinfo\":\"percent+label\",\"textposition\":\"inside\"}],                        {\"template\":{\"data\":{\"histogram2dcontour\":[{\"type\":\"histogram2dcontour\",\"colorbar\":{\"outlinewidth\":0,\"ticks\":\"\"},\"colorscale\":[[0.0,\"#0d0887\"],[0.1111111111111111,\"#46039f\"],[0.2222222222222222,\"#7201a8\"],[0.3333333333333333,\"#9c179e\"],[0.4444444444444444,\"#bd3786\"],[0.5555555555555556,\"#d8576b\"],[0.6666666666666666,\"#ed7953\"],[0.7777777777777778,\"#fb9f3a\"],[0.8888888888888888,\"#fdca26\"],[1.0,\"#f0f921\"]]}],\"choropleth\":[{\"type\":\"choropleth\",\"colorbar\":{\"outlinewidth\":0,\"ticks\":\"\"}}],\"histogram2d\":[{\"type\":\"histogram2d\",\"colorbar\":{\"outlinewidth\":0,\"ticks\":\"\"},\"colorscale\":[[0.0,\"#0d0887\"],[0.1111111111111111,\"#46039f\"],[0.2222222222222222,\"#7201a8\"],[0.3333333333333333,\"#9c179e\"],[0.4444444444444444,\"#bd3786\"],[0.5555555555555556,\"#d8576b\"],[0.6666666666666666,\"#ed7953\"],[0.7777777777777778,\"#fb9f3a\"],[0.8888888888888888,\"#fdca26\"],[1.0,\"#f0f921\"]]}],\"heatmap\":[{\"type\":\"heatmap\",\"colorbar\":{\"outlinewidth\":0,\"ticks\":\"\"},\"colorscale\":[[0.0,\"#0d0887\"],[0.1111111111111111,\"#46039f\"],[0.2222222222222222,\"#7201a8\"],[0.3333333333333333,\"#9c179e\"],[0.4444444444444444,\"#bd3786\"],[0.5555555555555556,\"#d8576b\"],[0.6666666666666666,\"#ed7953\"],[0.7777777777777778,\"#fb9f3a\"],[0.8888888888888888,\"#fdca26\"],[1.0,\"#f0f921\"]]}],\"heatmapgl\":[{\"type\":\"heatmapgl\",\"colorbar\":{\"outlinewidth\":0,\"ticks\":\"\"},\"colorscale\":[[0.0,\"#0d0887\"],[0.1111111111111111,\"#46039f\"],[0.2222222222222222,\"#7201a8\"],[0.3333333333333333,\"#9c179e\"],[0.4444444444444444,\"#bd3786\"],[0.5555555555555556,\"#d8576b\"],[0.6666666666666666,\"#ed7953\"],[0.7777777777777778,\"#fb9f3a\"],[0.8888888888888888,\"#fdca26\"],[1.0,\"#f0f921\"]]}],\"contourcarpet\":[{\"type\":\"contourcarpet\",\"colorbar\":{\"outlinewidth\":0,\"ticks\":\"\"}}],\"contour\":[{\"type\":\"contour\",\"colorbar\":{\"outlinewidth\":0,\"ticks\":\"\"},\"colorscale\":[[0.0,\"#0d0887\"],[0.1111111111111111,\"#46039f\"],[0.2222222222222222,\"#7201a8\"],[0.3333333333333333,\"#9c179e\"],[0.4444444444444444,\"#bd3786\"],[0.5555555555555556,\"#d8576b\"],[0.6666666666666666,\"#ed7953\"],[0.7777777777777778,\"#fb9f3a\"],[0.8888888888888888,\"#fdca26\"],[1.0,\"#f0f921\"]]}],\"surface\":[{\"type\":\"surface\",\"colorbar\":{\"outlinewidth\":0,\"ticks\":\"\"},\"colorscale\":[[0.0,\"#0d0887\"],[0.1111111111111111,\"#46039f\"],[0.2222222222222222,\"#7201a8\"],[0.3333333333333333,\"#9c179e\"],[0.4444444444444444,\"#bd3786\"],[0.5555555555555556,\"#d8576b\"],[0.6666666666666666,\"#ed7953\"],[0.7777777777777778,\"#fb9f3a\"],[0.8888888888888888,\"#fdca26\"],[1.0,\"#f0f921\"]]}],\"mesh3d\":[{\"type\":\"mesh3d\",\"colorbar\":{\"outlinewidth\":0,\"ticks\":\"\"}}],\"scatter\":[{\"fillpattern\":{\"fillmode\":\"overlay\",\"size\":10,\"solidity\":0.2},\"type\":\"scatter\"}],\"parcoords\":[{\"type\":\"parcoords\",\"line\":{\"colorbar\":{\"outlinewidth\":0,\"ticks\":\"\"}}}],\"scatterpolargl\":[{\"type\":\"scatterpolargl\",\"marker\":{\"colorbar\":{\"outlinewidth\":0,\"ticks\":\"\"}}}],\"bar\":[{\"error_x\":{\"color\":\"#2a3f5f\"},\"error_y\":{\"color\":\"#2a3f5f\"},\"marker\":{\"line\":{\"color\":\"#E5ECF6\",\"width\":0.5},\"pattern\":{\"fillmode\":\"overlay\",\"size\":10,\"solidity\":0.2}},\"type\":\"bar\"}],\"scattergeo\":[{\"type\":\"scattergeo\",\"marker\":{\"colorbar\":{\"outlinewidth\":0,\"ticks\":\"\"}}}],\"scatterpolar\":[{\"type\":\"scatterpolar\",\"marker\":{\"colorbar\":{\"outlinewidth\":0,\"ticks\":\"\"}}}],\"histogram\":[{\"marker\":{\"pattern\":{\"fillmode\":\"overlay\",\"size\":10,\"solidity\":0.2}},\"type\":\"histogram\"}],\"scattergl\":[{\"type\":\"scattergl\",\"marker\":{\"colorbar\":{\"outlinewidth\":0,\"ticks\":\"\"}}}],\"scatter3d\":[{\"type\":\"scatter3d\",\"line\":{\"colorbar\":{\"outlinewidth\":0,\"ticks\":\"\"}},\"marker\":{\"colorbar\":{\"outlinewidth\":0,\"ticks\":\"\"}}}],\"scattermapbox\":[{\"type\":\"scattermapbox\",\"marker\":{\"colorbar\":{\"outlinewidth\":0,\"ticks\":\"\"}}}],\"scatterternary\":[{\"type\":\"scatterternary\",\"marker\":{\"colorbar\":{\"outlinewidth\":0,\"ticks\":\"\"}}}],\"scattercarpet\":[{\"type\":\"scattercarpet\",\"marker\":{\"colorbar\":{\"outlinewidth\":0,\"ticks\":\"\"}}}],\"carpet\":[{\"aaxis\":{\"endlinecolor\":\"#2a3f5f\",\"gridcolor\":\"white\",\"linecolor\":\"white\",\"minorgridcolor\":\"white\",\"startlinecolor\":\"#2a3f5f\"},\"baxis\":{\"endlinecolor\":\"#2a3f5f\",\"gridcolor\":\"white\",\"linecolor\":\"white\",\"minorgridcolor\":\"white\",\"startlinecolor\":\"#2a3f5f\"},\"type\":\"carpet\"}],\"table\":[{\"cells\":{\"fill\":{\"color\":\"#EBF0F8\"},\"line\":{\"color\":\"white\"}},\"header\":{\"fill\":{\"color\":\"#C8D4E3\"},\"line\":{\"color\":\"white\"}},\"type\":\"table\"}],\"barpolar\":[{\"marker\":{\"line\":{\"color\":\"#E5ECF6\",\"width\":0.5},\"pattern\":{\"fillmode\":\"overlay\",\"size\":10,\"solidity\":0.2}},\"type\":\"barpolar\"}],\"pie\":[{\"automargin\":true,\"type\":\"pie\"}]},\"layout\":{\"autotypenumbers\":\"strict\",\"colorway\":[\"#636efa\",\"#EF553B\",\"#00cc96\",\"#ab63fa\",\"#FFA15A\",\"#19d3f3\",\"#FF6692\",\"#B6E880\",\"#FF97FF\",\"#FECB52\"],\"font\":{\"color\":\"#2a3f5f\"},\"hovermode\":\"closest\",\"hoverlabel\":{\"align\":\"left\"},\"paper_bgcolor\":\"white\",\"plot_bgcolor\":\"#E5ECF6\",\"polar\":{\"bgcolor\":\"#E5ECF6\",\"angularaxis\":{\"gridcolor\":\"white\",\"linecolor\":\"white\",\"ticks\":\"\"},\"radialaxis\":{\"gridcolor\":\"white\",\"linecolor\":\"white\",\"ticks\":\"\"}},\"ternary\":{\"bgcolor\":\"#E5ECF6\",\"aaxis\":{\"gridcolor\":\"white\",\"linecolor\":\"white\",\"ticks\":\"\"},\"baxis\":{\"gridcolor\":\"white\",\"linecolor\":\"white\",\"ticks\":\"\"},\"caxis\":{\"gridcolor\":\"white\",\"linecolor\":\"white\",\"ticks\":\"\"}},\"coloraxis\":{\"colorbar\":{\"outlinewidth\":0,\"ticks\":\"\"}},\"colorscale\":{\"sequential\":[[0.0,\"#0d0887\"],[0.1111111111111111,\"#46039f\"],[0.2222222222222222,\"#7201a8\"],[0.3333333333333333,\"#9c179e\"],[0.4444444444444444,\"#bd3786\"],[0.5555555555555556,\"#d8576b\"],[0.6666666666666666,\"#ed7953\"],[0.7777777777777778,\"#fb9f3a\"],[0.8888888888888888,\"#fdca26\"],[1.0,\"#f0f921\"]],\"sequentialminus\":[[0.0,\"#0d0887\"],[0.1111111111111111,\"#46039f\"],[0.2222222222222222,\"#7201a8\"],[0.3333333333333333,\"#9c179e\"],[0.4444444444444444,\"#bd3786\"],[0.5555555555555556,\"#d8576b\"],[0.6666666666666666,\"#ed7953\"],[0.7777777777777778,\"#fb9f3a\"],[0.8888888888888888,\"#fdca26\"],[1.0,\"#f0f921\"]],\"diverging\":[[0,\"#8e0152\"],[0.1,\"#c51b7d\"],[0.2,\"#de77ae\"],[0.3,\"#f1b6da\"],[0.4,\"#fde0ef\"],[0.5,\"#f7f7f7\"],[0.6,\"#e6f5d0\"],[0.7,\"#b8e186\"],[0.8,\"#7fbc41\"],[0.9,\"#4d9221\"],[1,\"#276419\"]]},\"xaxis\":{\"gridcolor\":\"white\",\"linecolor\":\"white\",\"ticks\":\"\",\"title\":{\"standoff\":15},\"zerolinecolor\":\"white\",\"automargin\":true,\"zerolinewidth\":2},\"yaxis\":{\"gridcolor\":\"white\",\"linecolor\":\"white\",\"ticks\":\"\",\"title\":{\"standoff\":15},\"zerolinecolor\":\"white\",\"automargin\":true,\"zerolinewidth\":2},\"scene\":{\"xaxis\":{\"backgroundcolor\":\"#E5ECF6\",\"gridcolor\":\"white\",\"linecolor\":\"white\",\"showbackground\":true,\"ticks\":\"\",\"zerolinecolor\":\"white\",\"gridwidth\":2},\"yaxis\":{\"backgroundcolor\":\"#E5ECF6\",\"gridcolor\":\"white\",\"linecolor\":\"white\",\"showbackground\":true,\"ticks\":\"\",\"zerolinecolor\":\"white\",\"gridwidth\":2},\"zaxis\":{\"backgroundcolor\":\"#E5ECF6\",\"gridcolor\":\"white\",\"linecolor\":\"white\",\"showbackground\":true,\"ticks\":\"\",\"zerolinecolor\":\"white\",\"gridwidth\":2}},\"shapedefaults\":{\"line\":{\"color\":\"#2a3f5f\"}},\"annotationdefaults\":{\"arrowcolor\":\"#2a3f5f\",\"arrowhead\":0,\"arrowwidth\":1},\"geo\":{\"bgcolor\":\"white\",\"landcolor\":\"#E5ECF6\",\"subunitcolor\":\"white\",\"showland\":true,\"showlakes\":true,\"lakecolor\":\"white\"},\"title\":{\"x\":0.05},\"mapbox\":{\"style\":\"light\"}}},\"legend\":{\"tracegroupgap\":0},\"title\":{\"text\":\"Number of Bedrooms Distribution\"}},                        {\"responsive\": true}                    ).then(function(){\n",
              "                            \n",
              "var gd = document.getElementById('3b44ea8b-0e23-451d-bf57-5284624bce60');\n",
              "var x = new MutationObserver(function (mutations, observer) {{\n",
              "        var display = window.getComputedStyle(gd).display;\n",
              "        if (!display || display === 'none') {{\n",
              "            console.log([gd, 'removed!']);\n",
              "            Plotly.purge(gd);\n",
              "            observer.disconnect();\n",
              "        }}\n",
              "}});\n",
              "\n",
              "// Listen for the removal of the full notebook cells\n",
              "var notebookContainer = gd.closest('#notebook-container');\n",
              "if (notebookContainer) {{\n",
              "    x.observe(notebookContainer, {childList: true});\n",
              "}}\n",
              "\n",
              "// Listen for the clearing of the current output cell\n",
              "var outputEl = gd.closest('.output');\n",
              "if (outputEl) {{\n",
              "    x.observe(outputEl, {childList: true});\n",
              "}}\n",
              "\n",
              "                        })                };                            </script>        </div>\n",
              "</body>\n",
              "</html>"
            ]
          },
          "metadata": {}
        }
      ]
    },
    {
      "cell_type": "code",
      "source": [
        "#graph for no of bathroom\n",
        "\n",
        "fig = px.histogram(data, x=\"number of bathrooms\", nbins=10, title=\"Distribution of Number of Bathrooms\")\n",
        "fig.update_layout(\n",
        "    xaxis_title=\"Number of Bathrooms\",\n",
        "    yaxis_title=\"Count\",\n",
        ")\n",
        "fig.show()\n"
      ],
      "metadata": {
        "colab": {
          "base_uri": "https://localhost:8080/",
          "height": 542
        },
        "id": "djyPF6LcDpPz",
        "outputId": "4d9729f0-d924-4a0f-8fea-dab279cf80f0"
      },
      "execution_count": 45,
      "outputs": [
        {
          "output_type": "display_data",
          "data": {
            "text/html": [
              "<html>\n",
              "<head><meta charset=\"utf-8\" /></head>\n",
              "<body>\n",
              "    <div>            <script src=\"https://cdnjs.cloudflare.com/ajax/libs/mathjax/2.7.5/MathJax.js?config=TeX-AMS-MML_SVG\"></script><script type=\"text/javascript\">if (window.MathJax && window.MathJax.Hub && window.MathJax.Hub.Config) {window.MathJax.Hub.Config({SVG: {font: \"STIX-Web\"}});}</script>                <script type=\"text/javascript\">window.PlotlyConfig = {MathJaxConfig: 'local'};</script>\n",
              "        <script charset=\"utf-8\" src=\"https://cdn.plot.ly/plotly-2.24.1.min.js\"></script>                <div id=\"48dfbc92-3c2d-45e4-8755-93c72eb7d866\" class=\"plotly-graph-div\" style=\"height:525px; width:100%;\"></div>            <script type=\"text/javascript\">                                    window.PLOTLYENV=window.PLOTLYENV || {};                                    if (document.getElementById(\"48dfbc92-3c2d-45e4-8755-93c72eb7d866\")) {                    Plotly.newPlot(                        \"48dfbc92-3c2d-45e4-8755-93c72eb7d866\",                        [{\"alignmentgroup\":\"True\",\"bingroup\":\"x\",\"hovertemplate\":\"number of bathrooms=%{x}\\u003cbr\\u003ecount=%{y}\\u003cextra\\u003e\\u003c\\u002fextra\\u003e\",\"legendgroup\":\"\",\"marker\":{\"color\":\"#636efa\",\"pattern\":{\"shape\":\"\"}},\"name\":\"\",\"nbinsx\":10,\"offsetgroup\":\"\",\"orientation\":\"v\",\"showlegend\":false,\"x\":[2.5,2.5,2.75,2.5,2.0,2.5,3.25,1.75,2.5,2.25,2.5,2.0,2.0,2.75,2.25,2.5,3.25,1.75,2.5,2.5,1.75,2.5,2.5,1.75,2.5,1.75,1.75,1.0,2.5,2.5,1.75,2.5,2.5,2.5,2.25,1.0,2.5,2.25,2.5,1.0,1.5,2.25,1.5,2.5,2.0,2.5,3.25,1.75,3.0,1.0,2.0,2.0,2.25,1.0,1.5,1.0,2.5,2.5,3.0,2.5,2.5,1.75,1.5,2.0,1.75,1.5,1.0,2.75,1.0,2.5,1.0,2.5,2.5,2.0,2.5,2.5,8.0,2.5,3.5,2.5,2.75,1.0,4.25,3.5,3.0,2.75,3.0,2.5,1.75,2.5,2.5,1.75,2.5,2.0,2.5,1.75,2.5,2.5,2.5,2.5,2.5,1.0,1.5,2.5,2.25,1.75,2.0,1.75,1.75,1.75,1.0,1.0,2.25,2.5,2.5,1.0,2.5,2.75,3.0,1.75,1.75,2.5,1.0,2.5,2.75,1.75,3.0,2.5,2.0,2.0,2.5,2.0,2.5,2.25,2.25,2.25,3.0,1.75,1.0,2.5,2.5,1.75,3.0,1.0,1.5,1.0,2.5,2.75,2.5,2.0,1.0,2.0,1.75,1.0,1.5,1.5,1.0,2.0,1.0,1.75,4.0,5.0,3.25,2.25,2.75,2.5,2.5,3.5,2.0,2.5,2.5,2.5,2.5,2.5,1.0,3.5,1.5,3.5,2.0,3.0,2.5,2.5,2.25,3.25,1.75,3.0,2.25,2.0,2.5,2.75,2.5,2.5,2.5,1.5,2.5,2.5,2.5,1.75,2.0,2.0,1.75,2.5,3.0,1.0,2.25,2.25,2.5,2.0,2.0,2.25,1.75,2.0,1.75,3.75,1.0,1.75,1.75,2.0,1.5,1.5,2.25,2.0,1.0,2.5,1.0,1.0,2.5,1.0,2.0,2.25,2.5,1.75,1.75,2.5,1.0,1.75,1.0,1.75,1.75,1.5,1.0,1.5,1.0,4.5,4.5,2.5,3.0,4.0,1.5,3.5,2.25,3.75,2.0,2.0,2.75,2.75,2.75,2.5,2.0,1.75,4.0,2.5,3.0,2.5,2.25,2.5,3.0,2.5,4.5,1.75,2.0,2.0,2.0,3.0,2.0,5.75,1.75,2.5,1.0,2.0,2.25,1.75,2.5,2.75,1.0,2.5,1.0,2.75,2.5,2.0,2.5,1.0,2.0,1.75,2.0,2.5,1.5,2.25,2.25,3.0,2.75,2.25,1.75,1.0,2.5,2.75,1.0,2.5,1.0,2.25,1.0,2.0,1.0,1.75,1.75,1.75,1.75,2.5,1.0,2.5,2.5,1.5,2.25,1.75,1.0,1.0,1.75,1.0,1.5,2.0,2.5,1.75,1.5,1.0,1.0,1.0,3.0,1.75,3.25,3.25,3.0,1.0,2.75,2.5,3.25,2.5,2.0,3.0,2.75,1.75,2.5,2.5,2.5,1.0,1.75,1.75,1.75,1.0,2.5,3.0,2.25,2.0,2.5,2.25,2.25,1.75,2.5,2.5,1.0,1.75,2.75,2.25,1.0,1.75,1.5,2.5,2.25,2.0,1.5,1.0,1.75,1.75,2.5,1.0,2.75,2.5,1.75,2.25,1.5,1.75,1.75,2.5,1.5,2.0,2.5,1.25,1.75,2.0,1.75,2.5,2.5,2.5,2.5,1.5,1.75,1.75,1.5,1.0,1.75,1.0,2.5,1.75,1.0,1.0,1.0,1.5,1.0,2.25,6.5,4.5,2.75,4.25,2.25,3.0,2.5,3.5,2.75,3.25,2.5,3.5,2.75,2.25,2.75,2.5,3.0,2.5,2.25,3.25,2.5,2.5,2.25,2.25,2.5,2.5,1.75,1.75,3.0,2.5,2.0,2.5,1.75,1.0,2.0,2.5,1.0,1.75,2.0,2.0,2.25,1.0,2.25,2.5,2.25,3.25,2.0,1.0,2.25,1.75,2.5,2.25,1.5,2.25,2.75,2.25,1.75,2.25,2.25,1.5,2.5,1.75,2.0,1.5,1.5,2.0,2.0,2.5,1.0,1.0,2.5,1.0,1.75,3.0,1.0,2.5,1.0,1.5,1.0,1.0,2.0,2.75,2.5,2.5,1.0,2.5,2.5,2.75,1.75,3.5,3.25,3.75,4.5,2.25,1.75,2.5,3.75,3.25,2.5,3.0,2.25,2.75,2.75,2.0,3.25,2.5,3.25,2.5,1.75,2.75,4.5,3.25,1.75,2.5,2.5,2.5,2.5,2.5,3.0,2.5,2.5,2.5,2.0,1.5,1.75,3.0,1.75,2.0,2.25,2.25,1.75,2.5,2.25,1.0,2.5,1.5,2.5,1.5,2.5,2.25,2.5,3.0,2.5,1.0,2.0,2.5,1.0,1.5,1.0,2.5,3.0,1.75,2.25,1.5,1.75,1.0,1.0,1.0,1.0,1.0,1.5,2.5,1.0,1.0,1.5,1.0,1.0,2.5,4.0,4.5,2.25,3.25,3.25,4.25,1.5,3.25,2.5,2.5,2.5,2.75,3.0,1.75,3.25,2.25,3.25,1.5,2.5,2.5,3.0,2.0,3.5,2.5,2.5,2.5,1.75,2.0,3.5,1.0,1.75,2.25,1.75,2.0,1.75,2.0,1.0,2.0,4.0,2.0,1.75,3.0,3.5,2.5,1.5,2.5,2.5,4.75,2.5,1.5,2.5,2.25,2.5,2.75,2.25,2.0,2.25,1.75,1.0,1.75,2.0,1.0,2.5,1.75,2.5,2.5,1.75,2.5,2.0,1.0,1.0,2.5,2.25,1.0,1.5,2.25,1.75,1.0,0.75,1.5,1.5,1.0,1.0,1.0,1.0,2.75,2.5,3.5,2.25,2.0,4.5,2.25,2.5,2.5,2.5,2.5,1.0,2.75,2.5,5.0,2.5,2.5,2.25,3.25,1.5,1.75,2.5,2.75,2.5,1.75,1.5,2.5,1.5,1.75,2.5,2.0,1.75,1.75,2.75,1.75,2.5,1.75,2.0,2.75,2.75,2.5,2.5,1.0,2.5,2.75,2.5,1.0,1.0,1.0,1.75,2.5,1.0,1.75,3.5,3.0,2.25,2.25,1.0,2.0,2.5,2.5,2.5,1.0,1.0,1.5,1.75,1.5,1.0,1.75,1.0,2.5,2.0,2.0,2.5,2.0,1.75,1.0,1.0,1.0,1.0,1.0,1.75,2.5,3.5,3.25,4.25,2.5,1.75,1.0,3.5,2.75,2.5,1.75,3.75,2.5,3.0,2.5,3.0,2.5,3.25,2.0,2.5,2.0,2.5,1.75,2.75,2.5,1.0,2.5,2.25,2.5,2.5,2.5,2.0,3.5,1.0,1.5,1.75,2.5,1.0,2.0,1.75,2.0,1.5,1.5,1.0,1.5,2.5,2.5,1.75,2.5,1.75,1.0,2.5,2.5,1.75,2.25,1.75,2.25,2.5,1.0,2.25,1.75,1.0,1.5,1.0,2.5,1.0,2.25,2.5,2.5,2.0,1.0,1.75,2.0,2.0,1.0,1.0,2.0,1.0,1.0,1.0,1.0,4.25,3.0,2.0,2.75,1.5,3.25,2.0,2.5,2.5,2.75,2.0,1.0,2.5,3.25,2.5,2.25,2.5,2.5,2.5,1.0,2.25,2.25,2.0,1.0,1.5,2.5,2.5,2.0,1.0,2.5,1.75,2.25,2.25,3.0,2.5,2.5,1.75,2.5,2.5,2.5,1.75,3.25,2.25,1.5,2.5,1.5,1.75,1.0,2.5,1.0,1.0,2.5,1.0,1.5,2.0,2.5,2.25,2.5,1.0,2.5,2.0,1.5,2.0,2.25,3.5,1.0,1.0,1.0,2.25,2.0,1.75,1.0,1.0,2.0,2.0,2.5,2.5,2.0,2.5,2.25,2.5,3.75,3.25,3.5,2.5,3.0,1.75,1.5,2.75,3.25,3.5,2.5,2.5,2.0,2.5,2.5,1.75,2.0,2.25,2.5,1.75,2.0,2.25,2.5,2.25,2.25,1.0,3.5,1.75,1.75,2.5,2.0,1.0,2.25,1.75,2.25,3.5,2.5,1.0,2.5,1.75,1.5,1.75,1.0,2.75,1.75,1.5,2.5,2.5,1.0,2.75,2.5,2.5,2.5,1.5,1.0,2.75,1.0,2.25,2.5,2.0,2.5,1.75,1.0,1.75,3.0,2.75,2.5,1.5,1.75,1.5,2.5,2.5,1.0,1.5,2.25,2.0,1.0,2.25,1.0,1.0,1.0,1.0,1.0,3.5,3.75,1.75,3.5,2.0,3.5,3.0,2.0,2.75,3.5,2.25,2.25,2.75,1.5,3.5,2.25,2.25,1.75,2.0,2.5,2.5,1.0,1.0,2.5,3.0,2.25,2.5,2.5,2.5,2.5,2.75,2.5,2.25,1.75,1.75,2.5,2.5,1.5,3.5,2.0,2.5,2.0,2.5,3.5,1.75,1.0,3.5,1.75,2.75,2.5,1.75,2.25,2.25,1.0,1.5,1.75,1.5,2.0,1.75,2.5,1.75,1.0,2.25,2.5,2.5,1.0,1.5,2.25,1.0,2.25,1.5,2.5,3.0,1.75,1.0,1.75,2.25,3.5,1.5,1.0,1.0,1.0,2.5,2.5,2.5,3.0,2.25,1.75,2.25,1.0,1.0,2.5,1.0,1.0,5.25,1.0,1.75,1.75,2.5,2.5,1.0,1.0,1.75,2.5,2.0,1.0,2.0,1.5,1.0,1.5,1.75,2.0,1.0,1.0,1.0,1.75,4.75,3.25,2.5,3.25,2.5,2.25,3.25,1.75,4.0,2.75,4.0,3.25,3.75,3.0,2.75,2.75,2.5,2.5,2.5,3.25,2.75,2.5,3.5,2.25,2.5,2.75,2.5,2.25,2.5,2.5,2.25,3.0,3.25,1.75,2.0,2.5,1.0,2.75,1.0,2.5,2.5,3.5,2.0,2.0,1.0,2.25,1.0,2.75,2.5,1.0,2.0,1.75,1.75,2.25,2.0,2.25,1.75,2.5,0.75,2.5,1.5,2.75,2.5,2.25,1.0,1.0,2.25,1.0,2.5,1.0,2.25,1.75,2.5,1.75,2.0,2.5,1.5,2.0,1.0,1.5,1.75,2.0,1.0,1.0,2.5,1.0,1.0,1.0,2.0,1.75,1.0,1.75,1.75,1.0,5.5,2.5,1.75,2.75,4.5,3.0,3.25,2.5,3.75,3.0,2.75,1.5,3.25,3.25,2.75,2.5,2.5,2.0,2.5,2.5,2.5,1.75,2.5,1.75,2.5,1.75,2.5,2.75,1.75,3.0,1.75,2.25,2.25,1.75,1.75,2.0,2.25,2.25,2.25,2.25,2.75,3.5,3.0,2.5,2.25,1.0,1.0,2.5,1.0,2.5,3.5,1.0,2.75,1.0,1.5,1.75,2.25,1.0,1.0,2.5,1.0,1.0,2.25,3.5,2.5,2.25,2.0,2.25,1.0,1.5,1.75,3.0,2.0,2.5,2.0,0.75,3.0,1.5,2.5,2.75,1.0,2.0,2.5,2.25,1.0,1.0,1.0,1.0,1.5,2.5,1.0,3.5,3.0,3.5,4.0,3.0,3.25,2.0,2.25,3.5,3.5,2.75,2.5,2.5,2.5,2.0,2.75,1.75,4.0,2.75,1.75,2.5,1.0,1.0,2.75,1.5,2.0,2.5,2.5,2.0,1.0,2.5,2.0,3.0,2.5,1.75,0.75,1.75,1.0,2.0,1.0,1.75,2.75,1.75,1.75,1.0,2.0,2.0,2.5,2.5,1.75,1.5,2.0,3.0,2.0,1.75,2.5,1.0,1.0,1.75,2.5,2.0,2.0,2.0,1.0,2.5,2.5,1.0,1.0,2.5,1.0,1.5,1.75,2.0,1.0,2.5,1.0,1.0,1.0,1.0,1.0,1.0,1.0,1.0,0.75,4.0,4.25,2.5,1.0,2.5,1.0,2.5,1.75,1.5,1.75,1.0,3.0,2.5,3.5,2.5,1.75,2.0,2.5,1.5,1.5,2.5,2.5,1.0,1.0,3.25,4.5,3.5,3.25,3.75,3.75,3.0,2.75,2.5,2.25,3.0,3.75,4.0,2.25,3.0,2.5,2.5,3.0,2.5,2.5,2.0,2.75,2.5,2.0,2.5,1.5,2.5,3.0,2.5,2.5,3.5,2.25,1.75,1.75,4.5,4.25,1.0,2.5,1.0,1.75,3.0,2.5,2.25,3.5,2.25,2.5,2.5,1.0,2.75,2.0,3.5,1.0,2.0,3.5,1.75,2.5,2.0,3.25,2.5,2.5,1.75,1.0,1.0,2.25,1.5,1.75,1.0,1.0,3.0,2.5,2.0,1.75,1.5,2.25,1.0,1.0,2.25,1.5,2.0,1.0,1.0,1.0,1.0,1.75,1.75,2.5,1.5,1.0,1.0,1.0,2.5,3.0,2.5,2.5,1.0,1.75,2.0,2.5,2.5,2.0,1.0,1.0,2.5,1.0,3.0,3.5,3.25,3.25,2.5,2.75,2.5,1.75,4.0,2.75,2.25,2.5,2.75,1.5,2.75,2.0,2.75,2.5,1.75,2.5,2.25,3.0,3.5,1.75,1.75,2.25,2.5,1.75,3.5,2.5,1.0,2.5,2.5,2.5,2.5,2.25,2.0,1.75,2.75,2.0,1.0,2.0,4.5,2.5,1.0,2.5,2.5,2.5,2.5,1.75,1.5,2.5,2.5,2.0,3.25,3.25,2.25,3.0,1.0,1.75,1.75,3.75,1.75,2.75,1.75,2.5,2.0,1.0,2.5,1.5,2.5,1.0,2.5,1.0,2.0,2.75,2.5,2.0,1.0,2.5,1.0,1.0,1.0,1.0,1.5,1.75,2.5,1.5,1.0,2.0,2.0,1.75,2.5,1.75,2.25,2.0,2.5,1.5,1.0,1.0,1.75,1.5,2.0,2.0,1.0,1.0,1.0,1.0,1.0,1.0,1.0,4.25,3.25,3.5,4.25,3.5,3.5,2.5,2.25,3.25,3.0,2.25,2.5,2.5,1.75,2.25,2.75,2.5,2.75,2.5,3.25,1.75,2.0,2.5,1.75,2.0,2.5,2.0,1.5,2.5,1.0,2.5,3.0,1.5,2.0,1.0,1.0,2.5,2.25,2.0,2.75,1.75,1.0,1.75,2.0,1.75,1.0,1.5,2.75,2.0,2.0,1.0,1.0,1.0,2.5,1.75,2.25,1.5,2.25,1.0,1.0,2.5,2.5,1.75,1.75,2.25,1.5,1.0,1.0,1.5,2.0,1.0,1.75,1.0,1.0,1.0,3.5,3.25,3.5,2.75,2.5,2.5,1.75,3.5,2.25,4.5,2.5,2.25,1.75,2.75,3.75,3.0,1.75,2.5,2.5,2.5,2.25,2.5,1.0,2.5,2.5,3.25,2.0,1.5,2.5,2.5,2.75,1.75,2.5,2.0,2.25,1.75,2.5,2.75,1.75,1.75,2.25,1.75,1.0,2.5,2.0,1.0,2.5,1.0,2.0,2.25,1.0,2.5,1.0,2.5,1.75,2.5,2.0,1.0,1.0,1.75,1.0,2.0,2.0,2.25,1.5,2.5,2.25,2.25,2.5,2.75,2.5,3.0,3.5,2.0,1.75,1.75,1.0,1.75,3.5,3.25,2.5,2.5,1.75,2.5,2.25,2.75,3.0,1.75,1.5,2.5,3.0,2.0,2.5,3.25,1.5,2.25,2.5,2.5,2.25,2.5,2.5,2.5,2.0,2.5,2.5,2.75,2.5,2.75,2.75,2.0,2.5,1.5,1.75,2.5,2.5,2.0,1.75,2.0,1.0,1.75,1.0,1.0,1.0,2.75,2.0,1.5,2.5,1.0,2.75,1.75,1.75,1.5,2.5,1.0,2.25,1.0,1.75,2.5,1.75,2.5,1.5,2.5,2.25,1.0,1.5,1.0,2.5,2.5,2.5,2.5,2.0,1.0,2.5,2.0,1.0,1.0,3.5,3.75,2.0,3.75,2.25,2.75,3.0,3.5,2.5,2.5,2.25,1.75,1.0,2.75,3.0,2.25,2.5,2.5,1.0,2.0,1.5,2.0,2.5,2.75,2.5,2.5,2.75,2.5,2.5,2.5,2.75,2.0,2.5,2.5,4.25,2.5,2.25,2.75,1.0,2.25,1.75,2.5,2.5,1.75,1.75,2.5,1.75,2.25,2.75,2.5,2.25,2.5,2.75,1.0,2.25,2.0,1.75,2.5,2.0,2.25,3.0,2.25,2.25,2.5,1.75,1.75,3.25,1.5,2.25,2.0,1.5,2.5,2.5,2.5,1.75,2.0,3.25,2.5,2.5,2.25,2.75,1.0,1.75,1.5,1.75,2.0,1.75,1.75,2.25,1.75,1.0,2.0,1.0,1.0,1.0,2.0,1.0,1.0,2.0,1.0,1.0,1.5,2.5,1.0,3.25,4.5,2.5,2.5,3.5,2.75,1.75,3.5,2.5,2.75,1.75,3.25,2.5,2.25,1.75,2.0,3.0,2.0,2.5,2.75,1.0,2.25,3.25,2.5,2.25,2.5,2.25,2.5,3.5,2.5,2.5,2.75,2.25,2.5,2.5,2.25,2.5,1.0,2.5,2.5,1.75,2.0,3.25,1.0,3.0,2.5,1.5,2.5,2.0,1.0,1.75,2.5,1.75,2.5,2.5,2.5,1.75,1.75,2.0,1.5,2.5,2.25,1.0,1.75,1.0,1.5,1.0,2.5,1.75,1.75,2.75,1.0,1.75,1.0,1.5,1.0,2.0,0.75,1.75,2.0,2.5,1.0,2.5,1.0,2.25,1.5,2.0,2.0,1.75,1.75,2.25,1.0,1.5,2.0,1.0,1.0,1.75,1.0,1.0,1.0,4.5,5.25,4.5,2.25,4.75,4.25,2.0,3.5,2.5,3.5,3.5,2.25,2.75,2.5,2.75,1.75,2.5,2.75,2.5,1.75,1.75,3.75,2.25,1.75,1.75,2.0,2.5,2.75,1.75,2.5,2.75,2.5,2.5,1.0,1.75,2.25,2.25,3.25,2.5,2.5,2.5,3.5,3.0,3.75,2.5,1.0,2.25,2.5,1.75,1.75,1.0,2.5,2.5,1.0,2.75,2.5,1.75,3.0,2.0,2.0,2.25,2.75,1.75,1.5,2.5,1.0,2.5,2.5,2.5,2.0,2.5,2.25,1.75,2.5,2.5,2.0,2.0,2.5,3.0,1.5,1.0,1.0,2.5,2.75,2.5,2.5,1.0,1.0,1.0,2.5,1.5,1.0,1.0,3.5,2.25,4.0,3.5,1.5,2.75,3.25,2.5,2.75,3.0,2.75,2.75,2.0,2.0,2.5,2.5,3.0,2.5,2.5,2.25,1.75,2.5,2.5,2.5,2.5,2.5,2.5,1.5,2.5,2.5,2.0,1.5,2.75,1.75,1.5,1.0,1.0,2.5,2.25,2.25,1.75,1.75,2.5,2.0,2.75,1.0,2.0,1.75,1.75,2.0,2.0,2.5,1.5,1.0,1.0,1.75,1.75,1.5,2.5,2.0,1.0,2.5,2.25,1.0,1.0,1.0,1.0,2.5,2.5,3.0,2.5,3.25,2.25,2.5,2.5,3.0,2.75,2.25,1.0,1.0,2.5,3.25,3.5,3.25,2.5,2.5,2.5,3.75,2.5,2.25,2.5,2.5,3.25,2.5,2.5,3.0,2.5,2.5,2.5,2.0,1.75,2.5,2.5,2.5,2.5,3.5,1.75,2.0,1.75,2.5,1.5,1.75,2.5,2.5,2.5,1.75,2.5,2.25,2.5,3.0,1.75,1.75,3.5,1.75,2.75,2.5,1.75,2.5,1.75,2.25,1.0,2.0,1.0,1.0,1.0,2.5,1.0,1.0,3.5,2.5,1.75,1.75,1.5,1.0,1.75,2.75,2.5,3.0,1.75,1.75,2.5,1.5,1.75,1.75,2.0,2.5,2.5,2.0,1.0,3.0,1.5,2.25,1.75,2.75,1.0,1.0,2.25,1.5,1.0,1.75,1.0,1.0,1.75,1.5,1.75,2.0,3.25,2.5,3.0,2.5,3.75,3.0,3.25,4.0,3.75,2.5,2.5,2.5,2.25,3.25,1.0,3.25,2.5,3.5,2.0,2.75,2.75,2.5,3.5,1.75,1.75,2.5,1.75,2.25,2.75,4.5,2.0,3.0,1.75,2.75,2.0,2.0,2.75,2.75,2.0,2.5,2.5,2.25,1.0,2.0,2.5,2.0,1.75,2.5,1.75,1.75,1.0,1.5,2.25,1.75,1.5,3.25,1.0,1.0,2.5,1.0,2.5,1.0,2.75,1.75,1.5,1.5,2.5,2.5,1.75,2.0,1.75,0.75,1.75,1.75,2.5,1.0,1.75,1.0,2.5,1.0,1.5,2.5,2.0,2.5,2.5,1.0,1.75,2.0,1.75,1.0,1.75,1.0,1.0,1.75,1.5,1.0,1.0,1.0,4.5,6.25,2.5,3.5,2.5,2.5,3.0,2.5,2.5,2.5,2.75,2.5,3.75,1.5,3.5,1.75,2.5,2.75,1.75,2.75,2.75,3.0,2.75,1.0,2.0,2.75,2.5,2.0,2.75,2.5,2.5,3.5,2.5,1.25,2.25,1.75,1.75,1.75,3.5,2.5,1.75,5.0,1.5,1.0,2.25,1.75,2.5,2.5,2.0,2.5,2.5,2.5,1.0,2.5,2.0,1.0,1.5,1.5,2.0,1.0,1.75,1.0,1.75,3.25,2.5,2.25,1.0,2.5,2.5,1.75,1.0,2.5,3.5,2.75,1.0,1.75,2.5,2.5,1.0,1.5,1.5,1.5,1.5,2.0,2.0,1.0,1.75,1.0,1.0,1.0,4.25,2.5,3.75,2.25,4.0,2.5,2.5,2.5,2.5,3.25,2.25,2.25,3.25,2.25,3.0,2.5,2.0,2.5,3.5,1.75,2.5,2.75,2.5,2.5,2.0,2.5,3.0,2.0,3.5,1.0,2.25,2.25,2.75,1.75,2.5,2.0,2.5,1.0,2.25,1.75,1.0,2.5,1.0,1.75,1.75,2.75,2.5,2.0,2.25,2.5,2.5,2.0,1.5,1.0,1.75,1.0,1.0,2.75,1.75,1.0,3.5,1.75,1.0,1.75,1.0,3.25,2.25,1.0,2.0,2.25,2.5,1.0,1.0,2.5,1.5,3.0,2.5,3.25,2.5,2.5,2.5,0.75,1.5,2.5,1.75,1.0,1.75,1.5,1.0,2.5,2.25,2.25,3.75,1.5,2.5,2.75,2.5,2.5,2.25,2.5,2.5,2.0,2.75,3.5,1.75,2.5,3.5,2.0,2.5,2.5,2.0,2.75,2.5,2.5,2.75,1.75,2.5,3.0,2.0,1.0,2.5,1.75,3.0,1.75,3.0,1.0,1.0,2.75,1.0,2.5,2.25,1.75,2.0,2.25,2.25,1.75,2.0,2.5,2.5,2.25,2.5,2.5,2.25,1.0,2.5,1.5,1.75,1.5,2.5,2.5,2.5,1.5,1.0,2.5,1.75,1.75,1.75,2.5,2.25,1.75,1.0,1.0,1.75,1.0,1.0,2.0,1.0,1.0,2.5,2.75,2.75,2.5,2.75,1.0,2.0,1.75,3.25,2.5,1.75,2.0,3.0,1.0,2.5,2.5,2.25,3.25,4.0,2.75,3.5,1.5,2.5,3.5,2.5,3.25,3.5,1.5,2.5,2.75,2.5,1.75,2.5,3.25,3.5,1.75,3.5,2.75,1.5,1.75,2.75,2.5,2.5,2.5,2.5,2.25,2.75,3.5,1.0,2.5,2.5,2.5,2.5,1.0,2.25,2.5,2.75,1.75,1.75,2.5,1.5,1.5,2.5,2.25,1.75,1.5,1.0,1.5,2.25,1.75,2.5,2.0,2.5,2.5,3.0,1.5,2.0,2.0,1.75,1.75,2.0,2.5,1.0,2.5,2.0,2.0,2.5,1.0,2.0,1.75,2.25,2.5,1.5,1.0,2.25,1.75,2.0,3.0,1.75,1.75,2.5,1.0,1.0,1.0,1.5,1.75,2.5,2.0,1.75,1.5,1.5,1.0,6.75,3.25,3.75,3.0,3.5,2.25,4.0,3.5,2.75,2.5,3.25,3.5,2.75,1.75,3.75,4.25,3.5,2.75,3.5,2.75,4.25,2.5,2.5,2.0,2.5,2.5,1.0,2.75,2.5,1.75,2.75,2.0,2.0,2.5,2.5,2.25,2.0,1.0,2.0,1.0,1.75,2.5,1.0,2.25,2.25,2.75,2.5,1.75,2.5,1.75,2.75,2.25,2.25,1.0,2.5,2.5,2.75,2.0,1.5,2.5,2.5,2.0,1.0,2.25,2.0,1.0,2.5,2.0,1.5,1.5,2.25,2.5,2.5,2.5,3.5,1.75,2.0,2.5,2.75,2.5,2.5,1.0,2.5,2.5,2.5,1.0,2.0,2.25,2.5,2.5,2.25,2.0,1.5,1.75,1.5,2.0,1.75,1.5,1.5,2.5,1.75,1.75,1.75,1.0,1.75,2.0,1.0,1.0,1.75,1.5,1.5,1.0,0.75,3.0,4.25,5.0,2.0,2.75,3.25,3.5,2.5,2.5,3.0,2.25,3.5,3.5,2.5,2.25,2.5,2.5,2.5,1.75,3.25,3.0,1.75,1.75,1.5,2.75,2.5,2.5,2.25,2.5,3.25,2.5,3.5,2.0,3.0,1.0,1.75,2.25,2.5,2.5,1.75,1.75,2.0,2.5,2.5,3.5,3.25,1.75,2.5,3.25,1.75,2.5,1.75,3.25,1.75,1.75,2.5,2.0,1.75,2.5,2.0,1.5,2.5,1.75,3.25,1.0,2.5,2.5,1.0,2.5,2.75,2.5,2.5,2.5,2.25,2.5,1.0,2.5,2.0,2.5,1.0,1.75,2.25,2.25,1.5,1.75,1.75,2.0,1.0,2.0,1.0,1.75,1.0,1.0,1.5,1.0,1.0,2.25,1.0,1.0,4.75,3.0,3.25,3.5,2.5,4.5,3.5,3.0,3.5,2.5,2.5,2.0,2.5,2.25,1.75,3.0,2.5,2.75,2.5,2.25,3.5,2.5,2.5,2.5,2.75,2.0,2.0,2.5,3.0,2.5,2.5,3.25,3.25,2.0,2.25,1.5,2.5,2.25,2.5,2.25,1.75,2.25,3.75,1.75,2.75,2.5,2.5,1.0,2.5,2.5,1.75,2.25,2.5,2.0,1.0,1.75,2.5,1.75,1.75,1.0,1.75,2.5,2.75,1.0,1.0,2.25,1.0,2.25,1.75,2.25,2.5,2.5,2.5,2.0,1.0,2.0,2.5,2.0,2.5,2.5,1.0,1.75,1.5,2.0,1.0,2.0,1.75,1.75,1.75,1.0,2.0,2.0,1.75,1.0,2.25,2.0,1.5,1.0,2.0,1.75,1.0,4.5,2.25,3.5,3.25,2.25,3.5,4.0,5.5,3.25,4.25,3.0,4.5,1.5,2.75,2.5,3.25,2.0,2.75,3.25,3.5,2.25,3.0,2.25,2.25,3.25,2.75,1.75,2.25,2.5,2.5,3.25,1.75,3.5,2.5,2.75,2.25,3.25,3.25,2.5,1.75,2.5,2.5,2.5,2.5,1.0,2.75,3.5,2.75,2.5,2.25,1.0,2.0,2.25,3.0,1.0,1.75,2.5,1.5,2.25,2.25,2.0,2.5,2.5,2.75,3.0,2.5,2.25,2.75,3.0,1.0,1.0,1.0,1.75,2.25,2.5,1.0,1.0,1.5,2.5,2.5,2.25,2.25,2.5,1.0,1.75,2.5,3.0,2.0,2.25,2.5,1.0,1.5,2.0,2.0,2.0,1.0,1.0,0.75,1.0,2.0,2.5,2.0,1.0,1.0,2.25,1.0,1.0,2.5,2.5,2.0,1.75,2.25,1.75,1.5,1.0,3.5,2.5,1.75,2.5,2.5,1.75,2.5,2.5,2.25,2.5,2.5,2.5,4.5,3.5,2.75,2.5,2.5,3.75,2.5,3.25,3.5,1.0,2.5,2.5,2.5,2.25,3.0,3.5,2.5,2.0,2.25,1.75,2.5,2.5,1.0,1.5,2.5,2.5,3.0,3.25,2.5,2.5,1.75,3.5,2.0,2.75,2.5,2.5,2.5,2.5,2.0,2.25,2.5,2.5,2.5,1.75,1.0,3.25,2.5,1.0,2.25,2.0,2.5,2.5,2.25,2.25,1.75,2.5,2.5,2.5,2.0,1.75,1.75,2.25,2.5,1.0,1.75,2.5,1.75,1.5,1.75,1.0,2.25,2.0,2.5,1.0,2.25,1.0,0.75,1.75,1.75,1.75,1.75,3.25,2.75,2.5,2.0,1.5,2.5,1.5,3.0,1.75,2.0,1.0,1.75,2.5,3.75,1.0,1.5,1.75,1.0,1.5,2.5,1.0,1.75,2.25,2.5,1.5,3.0,2.5,2.5,2.5,1.0,1.0,2.0,1.0,2.75,2.5,1.0,1.0,1.0,2.5,1.75,1.0,1.75,1.75,2.5,2.0,1.75,1.0,1.75,1.0,3.0,1.75,1.0,2.25,1.0,1.75,2.0,1.0,1.5,2.5,1.0,1.5,5.0,2.75,4.75,2.5,3.75,2.5,2.0,2.25,2.25,1.75,3.0,2.5,2.5,2.25,3.5,3.0,2.0,2.5,3.5,3.5,2.75,3.25,2.5,2.5,1.75,1.75,1.5,3.5,2.75,2.25,2.5,2.5,1.0,2.5,2.5,1.0,1.75,1.75,3.25,2.75,2.5,2.5,2.5,2.25,1.0,2.5,1.5,1.75,2.75,2.25,2.0,2.5,1.75,1.75,2.25,2.5,1.5,1.75,1.75,1.75,2.5,2.5,1.5,2.5,1.75,2.5,2.5,2.75,1.0,2.0,2.5,2.5,1.75,2.5,2.25,2.5,1.0,1.75,1.75,1.75,1.5,2.25,1.0,3.0,2.5,1.5,1.75,1.75,2.0,1.0,1.0,1.0,1.5,1.0,1.5,2.5,2.5,1.75,2.25,2.0,1.0,1.0,1.0,1.75,2.5,1.0,1.0,2.0,2.25,2.75,1.75,1.75,1.0,1.5,1.0,1.0,1.0,1.5,1.0,3.25,3.5,1.5,1.5,3.5,3.5,1.75,2.0,2.25,3.25,4.5,4.5,3.0,3.25,2.25,3.5,1.0,2.75,3.25,2.5,1.0,2.5,3.5,2.5,1.5,2.5,2.5,2.5,2.5,2.5,2.5,2.0,1.5,2.75,2.5,2.75,2.75,1.75,2.5,2.5,2.25,4.0,1.75,2.25,2.75,3.0,2.75,2.5,2.5,2.25,2.5,1.75,2.5,0.75,1.75,2.5,2.75,2.25,2.5,2.5,1.75,1.5,2.5,3.5,1.0,1.5,2.75,1.0,1.75,1.0,2.5,2.25,1.5,2.5,2.25,2.5,2.25,2.5,2.25,1.75,1.0,2.25,2.0,2.5,2.0,1.0,1.0,1.75,1.0,2.25,2.5,2.5,2.0,1.0,2.5,1.0,2.0,2.5,1.75,1.0,2.5,1.0,2.0,1.0,1.75,2.5,1.0,2.25,1.0,2.5,1.0,1.5,1.0,1.5,2.5,2.5,2.25,2.5,2.25,2.0,2.25,2.0,1.0,1.0,1.0,1.0,2.0,1.0,0.75,1.0,1.0,3.0,2.25,3.0,3.0,3.5,3.0,2.5,3.5,3.5,3.5,3.75,1.75,3.5,3.5,2.75,2.5,2.5,2.0,2.75,2.75,1.75,2.5,3.25,2.75,2.5,2.5,2.75,2.75,3.0,3.25,2.75,3.5,2.5,1.5,2.5,1.75,1.75,2.5,2.0,1.0,2.0,1.75,3.5,2.0,2.5,1.75,3.0,1.75,1.75,2.5,3.0,2.5,3.0,2.0,2.75,3.5,1.75,1.75,1.75,2.5,2.5,2.75,1.5,1.75,1.5,1.5,2.5,1.5,2.5,2.75,2.5,2.0,1.75,1.0,2.5,2.5,1.0,3.0,3.25,2.5,1.5,2.0,1.75,1.5,1.5,2.75,2.5,2.25,1.0,2.5,3.0,1.0,1.0,2.0,2.5,2.5,1.75,2.25,1.0,2.25,1.0,2.25,1.75,2.25,1.0,2.5,1.5,2.0,2.0,1.0,1.0,2.0,2.5,1.0,1.0,2.0,2.5,1.0,1.75,2.0,1.5,1.75,1.5,1.0,1.75,1.0,1.0,1.75,1.5,1.75,1.0,4.5,3.0,2.75,4.25,2.25,2.75,2.5,2.25,3.0,3.0,2.25,2.5,1.5,1.5,2.5,2.5,2.75,2.25,1.0,2.5,2.5,2.5,2.5,1.75,3.25,1.75,2.5,3.5,1.75,0.75,1.75,1.25,1.5,1.5,1.0,2.5,2.75,1.0,2.5,2.5,2.25,2.5,3.0,2.75,1.0,1.0,2.5,1.0,2.25,1.75,2.5,2.75,2.0,1.0,2.5,1.0,2.5,2.5,2.25,1.75,1.75,1.75,1.75,2.75,2.5,4.0,1.5,1.0,2.0,1.0,1.0,2.5,1.0,1.0,1.75,2.25,2.5,3.0,1.75,1.75,1.5,1.0,1.75,1.75,1.0,1.75,1.0,1.0,1.0,1.0,1.0,1.0,4.25,4.25,2.5,1.0,2.5,2.5,2.5,1.5,1.0,1.75,1.0,1.0,1.75,2.25,1.0,2.75,3.5,2.0,2.75,1.0,3.75,4.25,3.5,3.25,2.5,1.75,2.0,3.0,2.75,1.75,3.25,2.5,2.5,2.75,2.5,2.75,1.5,2.5,2.5,3.0,2.5,2.25,2.5,2.0,2.25,2.25,1.5,2.5,1.0,2.25,2.5,3.0,1.75,2.25,2.25,3.0,3.0,1.75,2.5,2.5,2.25,1.5,2.5,2.5,2.0,2.0,1.75,1.5,3.25,1.0,2.5,1.75,2.5,1.0,2.75,2.25,1.0,1.0,2.5,2.5,2.5,2.25,1.0,1.0,2.5,2.25,2.0,2.0,1.75,1.0,2.0,1.0,2.75,1.5,1.0,1.0,1.0,5.5,2.25,4.75,2.75,3.25,2.75,3.5,2.75,3.5,2.5,3.25,2.75,2.5,3.5,1.0,1.75,1.5,5.5,3.5,3.5,3.25,2.75,2.25,2.25,3.5,2.5,2.25,2.5,1.75,2.5,2.5,2.0,2.5,2.0,2.5,2.25,2.5,3.0,1.75,2.5,2.25,1.0,2.5,2.0,1.0,2.5,2.5,1.0,2.5,2.5,1.75,2.5,1.75,2.5,2.5,2.5,1.0,1.75,1.75,2.75,2.25,1.0,3.25,2.75,2.25,1.75,2.25,2.25,3.0,2.5,1.0,1.75,1.75,2.5,2.5,1.5,2.5,1.5,2.5,2.5,1.0,1.0,2.0,2.5,2.25,1.75,1.75,1.0,3.5,2.0,1.0,2.25,2.5,2.5,1.75,2.5,2.0,1.0,2.25,2.75,2.5,1.0,0.75,2.5,1.0,2.25,2.0,2.0,1.5,1.75,1.75,1.0,1.0,1.0,1.0,6.25,2.5,3.25,3.5,2.5,1.75,2.5,3.5,1.75,4.5,4.5,2.25,1.75,3.25,3.0,2.5,1.5,1.0,3.75,2.25,3.0,2.5,1.5,2.25,2.5,2.0,1.75,2.5,3.0,2.25,2.25,2.0,3.5,2.25,1.75,2.0,2.5,2.5,2.75,2.0,2.25,1.75,1.75,1.75,2.25,1.75,1.0,3.0,2.5,2.25,2.0,2.5,2.5,2.5,2.0,2.75,2.0,2.5,1.0,2.0,2.5,1.75,1.75,2.5,2.5,2.5,1.5,2.5,2.5,1.0,2.5,1.0,1.0,1.0,2.25,2.25,1.5,3.0,1.0,2.0,2.5,2.0,2.25,1.0,2.25,1.75,2.0,1.0,2.5,1.0,4.25,3.25,2.0,3.25,3.0,2.5,2.5,2.5,3.75,5.0,3.5,3.25,2.5,2.75,2.0,2.5,2.0,4.25,2.5,1.5,4.0,1.5,2.25,2.5,2.0,1.75,2.5,2.5,2.25,3.0,1.75,2.5,2.5,2.5,1.0,3.0,3.25,1.5,2.5,1.75,2.5,2.5,1.5,1.5,2.5,2.75,2.25,1.75,1.75,2.75,2.0,1.0,1.0,2.5,2.5,1.0,2.75,1.75,1.75,1.0,1.0,2.5,2.5,2.5,1.0,2.0,1.0,2.25,1.5,1.75,1.75,1.0,1.75,0.75,1.5,2.5,2.25,2.5,2.25,3.0,2.5,1.75,2.5,1.75,1.75,2.5,3.25,3.0,2.25,2.5,2.5,1.5,3.0,3.25,2.75,2.75,2.0,3.25,2.25,3.25,1.75,2.75,3.0,2.5,2.0,2.5,2.0,2.75,2.0,2.5,1.0,2.0,2.0,1.5,1.0,2.5,2.25,1.5,1.75,3.5,2.5,2.5,2.25,2.0,2.5,2.5,1.0,2.5,2.25,2.5,2.5,1.75,2.0,1.75,2.0,1.75,2.25,2.25,2.25,2.5,1.0,2.5,1.5,1.75,1.5,2.5,2.5,1.5,2.0,1.0,1.75,1.0,3.0,1.0,2.5,2.5,1.75,1.5,2.25,1.0,1.0,1.75,1.0,1.0,1.5,1.0,1.0,1.0,5.25,2.75,2.5,2.25,3.5,3.5,2.5,4.0,2.25,2.5,2.0,3.75,2.75,2.5,2.75,2.5,2.5,2.75,3.5,2.75,3.5,2.75,2.5,3.5,2.5,4.0,2.75,2.25,3.0,2.75,2.5,2.5,2.75,3.0,2.5,2.5,1.75,2.0,2.25,2.5,2.0,2.0,2.5,2.5,2.25,1.75,2.25,2.25,3.5,1.75,2.5,2.5,1.5,2.5,2.25,1.0,1.0,2.75,1.5,2.5,2.5,3.5,2.5,2.0,2.25,2.0,2.75,2.5,2.0,1.0,1.75,1.75,2.25,2.5,2.0,1.5,1.75,1.75,2.25,2.5,2.5,1.75,1.0,1.75,1.75,3.0,1.75,2.75,2.25,2.25,2.5,2.5,2.5,2.25,2.25,1.0,1.0,1.0,3.25,1.0,2.5,2.5,1.0,2.25,1.5,1.0,1.0,1.75,1.75,1.5,2.25,2.5,2.5,1.0,1.5,1.75,2.0,1.0,1.0,1.0,1.0,1.0,1.0,1.0,1.0,1.0,2.0,3.0,4.75,5.25,4.5,3.5,2.5,3.5,3.75,3.5,4.5,2.5,2.0,1.75,2.25,1.75,2.5,2.75,2.75,2.75,2.5,2.5,1.75,2.25,3.25,2.5,1.0,3.5,2.75,2.0,2.75,1.0,2.5,2.75,2.5,1.75,1.0,1.75,2.0,2.5,3.25,2.5,3.25,2.5,2.5,2.5,1.75,3.75,3.25,2.5,2.5,2.5,1.0,2.0,1.75,1.0,2.5,2.5,2.5,2.75,1.75,2.5,1.75,1.75,2.0,2.5,2.5,2.75,2.25,2.5,2.5,2.5,2.5,2.25,1.5,2.5,1.0,1.75,1.5,3.5,1.75,3.25,2.0,2.75,1.0,2.75,1.0,2.5,2.25,1.5,2.5,1.0,1.0,1.0,1.5,2.25,1.0,1.5,1.75,2.5,1.0,1.5,1.5,1.75,1.5,2.0,1.0,2.5,1.75,1.0,2.5,1.75,1.5,2.25,1.0,1.5,1.75,1.0,1.0,1.0,0.75,1.0,4.5,3.0,2.75,4.25,4.25,3.0,3.5,2.5,2.5,3.0,2.25,2.0,3.25,3.5,2.75,2.5,2.75,2.5,1.5,1.5,2.5,1.75,1.75,2.5,2.25,2.5,3.5,1.75,2.5,2.5,2.0,2.5,2.25,2.0,2.75,2.5,3.5,1.0,2.0,2.0,2.5,2.0,3.25,1.75,1.5,1.0,1.75,1.75,2.0,2.5,1.0,2.0,2.5,2.5,1.75,1.0,2.0,2.0,1.5,2.5,2.5,1.0,2.5,2.0,2.5,1.75,1.5,2.25,2.5,1.5,2.5,2.0,1.0,2.25,1.0,2.5,2.5,2.5,2.5,1.75,2.5,2.0,1.0,1.0,2.25,2.0,1.0,1.0,1.0,1.0,4.75,2.75,3.5,3.25,3.5,4.5,2.75,2.5,2.5,2.25,3.5,2.5,3.5,1.75,2.25,1.0,2.75,3.25,1.5,3.0,2.25,2.5,2.5,2.75,2.25,1.75,2.0,1.75,1.5,2.25,1.5,3.0,1.5,2.5,3.0,2.75,3.25,2.5,2.5,2.5,2.5,1.75,2.25,1.0,1.75,1.5,2.5,2.5,2.5,2.0,1.0,1.0,1.75,2.5,2.5,2.5,2.25,2.5,2.25,1.75,1.5,1.75,1.75,2.25,2.5,2.5,1.0,1.75,2.5,2.0,1.0,1.0,1.75,2.5,1.5,1.75,1.5,1.0,1.0,1.0,1.0,1.5,2.75,2.5,1.0,1.0,2.5,2.25,1.0,1.5,1.75,2.25,2.5,1.75,4.5,2.25,3.5,4.25,3.25,2.5,3.0,2.5,3.25,3.5,4.0,3.25,2.5,2.0,3.25,3.25,2.5,3.5,3.25,3.0,2.25,1.75,2.75,2.5,2.75,3.0,2.75,1.0,2.5,1.75,2.5,1.75,1.75,2.5,2.5,1.0,2.5,2.5,2.5,1.75,1.75,2.75,2.0,2.5,1.5,2.5,1.75,2.0,2.5,1.0,1.5,2.5,2.25,2.5,1.75,2.5,1.75,1.75,1.75,1.75,2.0,2.5,2.5,1.75,2.5,2.0,1.5,2.25,2.5,1.75,1.0,1.5,2.5,2.5,2.0,2.5,1.5,2.0,2.0,1.75,1.75,2.5,2.25,1.0,1.0,2.5,1.0,2.25,1.0,1.0,2.25,2.25,2.5,1.75,2.0,1.75,2.5,2.75,1.0,1.0,1.75,1.5,1.0,2.5,1.75,1.0,1.5,1.0,1.0,1.0,1.0,0.75,1.5,1.0,1.0,1.5,2.25,4.0,1.0,2.5,2.5,3.5,3.0,2.25,2.5,1.75,2.5,3.25,2.25,2.5,1.5,1.5,1.75,2.25,2.5,2.5,2.5,2.75,1.0,2.5,2.0,2.5,2.0,1.5,2.75,1.0,1.0,2.5,2.5,2.5,2.5,2.5,2.0,2.5,2.75,2.75,2.5,1.75,2.25,2.5,3.25,2.25,1.5,1.0,1.75,2.0,2.5,2.0,2.5,1.75,2.25,1.5,1.75,1.75,2.0,1.75,2.75,1.75,1.75,1.75,2.5,2.0,1.0,3.0,1.75,1.75,2.0,1.75,2.5,1.0,1.5,1.0,2.75,1.0,1.75,2.5,2.25,1.5,1.75,2.0,2.0,1.75,1.75,1.0,2.75,2.0,1.0,1.0,1.0,1.5,1.0,1.0,2.5,1.75,1.0,1.0,1.5,0.75,3.5,2.5,3.25,3.25,2.5,1.75,2.5,2.5,2.5,2.5,2.5,2.5,3.0,2.5,3.25,1.75,2.5,3.0,1.75,2.5,2.75,2.0,1.75,3.0,2.5,1.75,1.0,3.5,1.5,2.25,3.0,1.0,2.5,1.0,2.5,1.5,2.5,2.5,2.25,1.75,1.0,2.25,1.0,2.5,2.25,2.5,2.5,2.5,2.5,1.75,1.0,1.75,1.0,2.0,1.75,2.0,1.5,1.5,1.75,2.25,1.0,1.0,2.0,2.5,2.5,2.5,1.75,1.75,2.5,1.0,1.0,1.75,1.75,1.0,1.0,2.5,1.75,1.0,1.0,1.0,1.0,2.25,2.75,1.0,2.5,1.75,2.75,2.5,2.0,2.5,1.0,1.5,1.0,1.75,2.25,1.75,1.75,2.5,1.75,1.0,1.0,1.75,1.0,1.5,1.5,1.0,2.75,1.0,1.75,1.0,1.0,3.0,3.5,3.25,3.25,2.75,2.5,2.5,2.0,2.75,1.75,2.5,2.75,3.5,3.5,1.5,2.5,1.75,2.25,2.5,2.5,1.75,2.5,2.0,2.25,2.25,2.5,3.5,2.75,1.75,2.25,1.75,2.25,1.5,3.25,3.0,2.25,1.75,2.5,2.0,2.5,1.0,1.0,2.5,3.0,1.75,1.75,2.0,1.5,3.0,2.25,1.0,1.0,3.5,1.0,2.5,2.0,1.75,1.75,2.5,2.0,2.0,3.0,2.25,4.0,2.25,1.0,2.5,1.0,1.75,2.25,1.5,2.0,1.75,2.0,1.0,1.0,1.5,2.0,1.0,1.0,2.25,1.75,1.75,1.75,1.0,1.0,3.25,4.25,2.75,2.25,2.75,2.5,3.5,2.5,2.5,2.5,3.0,2.5,2.5,1.75,3.25,2.25,1.75,2.5,2.25,1.5,1.75,2.5,1.75,2.5,2.0,2.5,2.5,2.5,1.75,2.75,2.5,2.0,2.5,2.25,2.75,2.75,2.25,1.75,2.75,2.5,3.0,2.5,2.25,3.0,1.75,2.5,1.0,2.25,2.25,1.75,1.5,2.5,1.75,2.5,2.5,1.75,2.5,1.75,2.0,2.5,2.25,1.75,2.5,1.0,1.75,2.5,1.75,2.5,1.0,1.0,2.0,2.5,1.0,2.25,2.75,1.75,1.5,1.75,2.5,2.5,1.5,2.5,1.0,2.5,1.0,1.0,2.0,1.5,2.5,1.0,1.0,1.0,1.0,2.0,1.0,1.0,1.0,1.0,1.0,1.0,1.75,1.0,2.5,2.5,1.0,3.75,2.5,3.5,2.5,2.0,3.5,1.75,1.0,2.5,2.25,2.5,3.0,3.5,3.0,2.25,3.75,1.0,2.5,2.5,3.0,2.5,2.75,1.5,2.0,3.25,3.5,2.5,2.5,2.5,2.0,2.25,2.5,2.5,2.5,2.5,2.5,2.0,2.5,1.0,1.75,2.5,2.5,1.75,2.25,2.75,1.0,2.5,2.75,2.5,2.0,2.5,2.5,2.25,2.5,1.0,3.5,1.0,1.75,1.0,2.0,1.75,2.5,2.5,1.5,2.5,1.0,1.75,1.75,2.75,2.25,2.5,3.25,2.5,1.5,2.25,2.5,1.5,1.0,1.75,2.75,2.5,2.75,1.0,1.5,1.0,1.0,1.5,2.5,1.0,1.0,2.0,1.0,2.0,2.0,1.0,1.0,1.5,1.0,2.0,1.0,1.5,1.0,2.0,1.0,1.0,3.75,2.5,2.5,3.5,1.75,3.75,2.5,2.5,3.5,2.0,2.5,1.0,1.75,1.0,2.25,3.5,2.5,2.5,2.5,2.5,3.25,2.5,2.5,1.75,2.5,2.5,1.75,1.0,2.25,3.25,2.75,2.25,2.25,1.75,1.75,2.5,2.5,4.5,4.5,3.0,1.5,1.75,2.75,2.0,2.5,2.5,3.25,2.0,2.0,3.0,2.5,2.0,2.75,1.75,2.0,1.5,2.0,1.0,1.75,2.5,1.0,1.75,2.5,2.0,2.5,2.5,2.5,1.0,2.5,1.0,2.0,2.25,2.5,2.5,2.5,1.0,1.0,1.0,2.5,2.5,1.0,2.25,1.75,1.5,1.0,2.0,1.0,2.25,2.0,1.75,2.5,1.75,2.0,1.5,2.75,1.0,2.25,1.75,1.75,1.0,2.25,1.0,2.5,1.5,1.0,2.25,3.25,3.0,3.25,3.0,2.5,2.75,3.5,2.75,4.0,3.75,2.0,1.0,3.0,2.5,2.0,2.0,2.75,2.75,2.75,2.5,2.5,1.75,2.5,2.5,2.5,2.0,2.5,2.0,1.0,2.5,2.5,2.25,3.0,2.5,2.25,1.5,2.0,3.5,1.0,2.75,3.5,2.5,4.5,2.25,2.5,2.5,2.5,2.5,3.0,2.5,2.25,2.5,2.75,2.5,2.5,1.0,3.0,2.0,2.75,1.0,2.75,1.75,2.5,1.75,1.75,2.25,2.5,2.0,1.0,2.5,2.5,2.25,2.5,1.5,1.0,1.0,1.0,2.5,1.75,2.5,2.0,2.5,1.0,2.5,2.25,2.25,2.25,2.5,1.0,1.0,2.5,1.0,1.0,1.5,2.25,1.75,1.0,1.0,2.0,2.5,2.0,1.75,1.75,1.75,1.0,1.5,4.0,3.75,3.25,2.5,3.25,2.5,2.75,2.5,3.5,2.5,4.0,2.25,3.0,3.25,2.75,2.75,2.75,2.5,2.5,2.5,2.5,2.5,2.5,2.5,2.5,2.75,2.75,2.5,1.75,2.75,2.25,1.0,2.0,2.5,1.0,1.0,2.5,2.5,2.0,2.75,2.25,1.0,3.0,2.75,2.75,2.5,2.5,1.75,2.5,1.75,1.75,2.75,2.5,1.5,1.0,2.5,2.5,2.25,2.75,1.0,1.0,2.75,1.0,1.0,1.75,2.5,1.75,1.75,1.0,3.0,1.75,2.0,1.75,2.5,2.5,1.75,1.75,1.0,2.5,2.5,1.5,1.0,2.5,2.0,1.75,1.0,1.0,2.25,1.5,1.0,1.75,2.25,1.0,1.0,4.25,3.0,3.5,2.5,4.0,2.75,1.75,2.5,3.5,2.25,2.5,2.0,2.5,2.25,2.25,2.25,3.0,1.75,2.5,1.0,2.5,2.5,2.5,2.25,2.0,2.5,2.5,1.75,2.5,2.0,1.5,2.5,3.25,2.0,2.75,2.75,2.25,3.0,2.5,2.5,1.0,1.0,1.5,1.75,2.25,1.5,2.25,2.75,2.0,2.25,3.5,1.75,2.25,2.5,1.0,2.25,2.5,2.0,1.75,1.5,1.0,1.0,2.5,2.0,2.0,2.75,2.25,2.0,1.75,2.5,2.5,2.5,1.0,2.25,2.5,2.75,1.0,1.5,2.0,1.0,1.75,1.0,1.75,2.75,2.25,2.5,1.0,1.5,2.5,2.0,2.5,1.0,1.0,1.0,1.5,2.5,2.25,1.0,1.0,1.0,1.0,1.0,1.75,2.25,1.0,1.0,3.25,1.75,1.0,1.0,1.5,3.5,3.5,3.5,2.75,2.5,2.75,2.5,2.5,4.5,3.5,1.75,3.25,2.25,3.0,2.5,2.5,2.5,1.0,2.75,2.0,3.0,1.75,2.5,1.75,3.25,2.5,2.5,1.0,2.75,1.75,2.5,2.5,1.0,1.75,3.0,2.0,2.75,1.0,2.0,1.75,2.75,2.25,1.5,1.0,2.5,1.75,1.5,3.5,2.5,2.25,2.5,2.5,2.25,2.5,1.75,2.5,2.0,1.75,2.5,3.25,1.75,2.5,3.25,1.75,3.0,2.5,1.0,1.75,1.0,2.5,2.0,1.0,2.5,2.5,2.0,2.5,2.0,1.75,1.75,2.5,2.5,2.75,1.0,2.5,1.0,2.0,0.75,2.0,1.0,1.0,1.0,1.5,2.25,1.5,5.25,2.5,5.25,2.25,3.75,3.25,2.25,2.0,2.25,2.5,3.0,3.25,1.75,3.0,2.75,2.5,1.5,2.5,2.5,2.5,2.5,1.75,2.5,3.5,2.5,1.5,1.75,2.25,2.0,2.25,2.0,2.25,2.75,2.0,2.5,2.5,2.75,3.5,2.5,2.5,2.5,2.25,1.75,2.5,2.5,2.0,2.5,1.75,2.5,2.5,2.0,2.5,1.75,1.75,1.0,2.5,2.0,2.25,2.5,2.5,2.5,2.5,2.5,1.0,1.75,2.5,2.5,2.0,1.75,1.0,1.75,2.75,2.5,2.25,2.0,1.0,1.0,1.75,1.75,2.5,1.75,1.0,2.5,2.5,1.75,1.0,2.0,2.0,2.5,2.5,2.5,2.5,2.0,2.0,2.25,2.75,2.5,2.25,2.5,1.75,2.0,1.0,1.75,1.75,1.75,2.0,2.0,1.0,1.75,1.0,1.0,1.0,4.75,3.5,3.5,4.0,2.75,3.5,2.5,3.5,3.5,1.75,2.5,4.0,2.5,2.5,2.5,3.0,2.5,2.0,2.0,1.75,2.25,2.5,2.5,2.5,1.0,2.5,1.5,1.0,2.25,1.75,2.25,2.0,1.75,2.5,1.5,1.75,1.5,1.0,1.0,2.25,1.5,2.5,1.75,1.0,1.5,1.5,2.5,3.0,3.5,2.25,1.75,1.75,1.0,2.5,1.5,1.0,3.0,2.5,2.5,1.75,2.0,2.0,2.25,1.75,1.0,1.0,1.75,2.0,1.75,2.0,2.0,1.0,1.0,1.0,1.0,2.5,2.75,3.5,2.75,2.5,2.75,3.5,3.75,4.25,1.75,2.5,3.5,1.75,2.75,1.75,2.75,2.25,2.5,1.0,2.5,3.0,2.5,2.5,2.5,2.0,2.5,2.0,2.0,2.5,1.5,2.5,3.25,2.25,1.75,2.5,1.75,2.5,2.0,1.75,2.5,1.0,1.0,2.5,2.0,2.0,3.0,2.0,2.0,1.75,2.25,1.0,2.0,2.5,2.5,2.0,2.5,1.75,1.0,2.75,2.5,1.0,2.0,2.5,1.75,4.5,2.5,1.75,1.5,2.25,1.0,1.5,1.75,1.5,2.25,1.5,2.0,1.0,1.0,1.5,1.5,1.5,1.0,1.0,3.0,4.0,3.75,2.0,2.5,2.5,2.5,2.5,2.5,3.25,2.75,2.75,2.5,2.5,1.75,1.5,3.5,2.75,2.5,2.5,2.25,2.5,1.75,1.75,2.5,2.25,2.75,1.75,3.5,2.25,2.5,1.0,2.25,1.75,2.5,2.5,1.75,2.5,2.0,4.0,2.25,3.0,2.25,2.0,2.5,2.5,1.0,2.5,2.5,1.75,1.75,2.5,2.25,2.25,2.5,2.5,1.75,2.5,3.5,1.5,2.5,1.0,2.5,3.0,1.75,1.0,3.0,1.0,1.5,2.5,1.0,1.75,1.75,1.0,2.5,1.0,2.0,2.5,1.75,1.0,1.75,3.25,2.5,1.0,2.5,2.5,1.0,5.75,2.5,3.25,2.5,2.75,2.75,3.25,1.75,3.25,1.5,3.25,3.5,3.5,2.5,2.5,1.75,1.0,2.5,2.5,2.25,1.75,3.75,2.5,2.25,1.75,2.25,2.5,2.5,2.0,1.5,2.5,2.25,1.0,2.5,1.75,2.5,1.0,2.5,3.5,2.5,1.75,2.5,2.5,2.5,2.5,2.5,2.25,1.0,1.0,1.5,2.5,2.5,1.75,1.5,1.0,1.0,2.0,1.75,1.0,2.25,1.75,2.5,2.0,1.0,1.5,1.0,1.75,2.5,1.75,1.0,1.75,2.5,1.0,1.75,3.25,2.5,1.75,2.5,1.75,1.0,1.75,1.0,1.75,1.0,1.0,1.0,1.0,1.5,1.0,1.0,1.0,2.5,3.25,3.0,3.75,4.0,2.25,2.75,1.75,4.5,2.0,3.5,3.0,2.5,2.75,3.25,2.5,2.5,2.25,2.5,2.5,3.25,2.5,1.5,2.5,1.75,3.25,2.5,2.0,2.5,2.5,1.75,2.5,3.5,2.5,2.5,3.25,2.5,1.5,2.5,2.0,3.0,1.0,2.5,2.25,2.25,2.75,2.0,2.5,1.0,2.75,1.75,2.5,1.75,2.5,2.25,2.25,2.0,3.25,2.5,2.25,1.5,2.25,2.5,2.5,1.75,1.75,2.5,2.75,2.0,2.25,1.0,1.5,2.5,1.5,1.5,1.5,2.5,2.5,1.75,2.75,1.75,1.75,2.25,1.5,2.5,1.0,2.0,1.0,1.0,1.5,1.75,2.0,2.0,1.0,1.0,2.0,1.75,1.75,1.75,2.0,1.0,1.0,1.75,1.75,2.0,1.75,1.75,1.5,2.0,3.25,3.5,5.0,2.25,2.5,2.5,3.25,1.75,3.0,2.5,1.75,2.75,1.75,2.75,1.75,2.5,2.5,1.75,3.25,2.25,2.75,2.5,2.5,2.75,1.0,2.5,2.5,2.5,2.25,2.0,1.75,2.5,2.5,2.25,1.75,2.0,1.0,2.0,3.25,2.75,2.5,3.25,2.25,2.5,2.25,1.0,1.75,1.0,1.75,2.5,2.5,2.5,1.75,3.0,1.75,2.0,1.0,1.0,3.25,2.0,1.0,1.75,1.75,2.5,1.5,2.5,2.5,1.75,2.5,2.5,1.0,1.0,2.5,2.5,2.5,1.75,1.75,1.0,2.25,1.5,1.5,1.0,1.0,1.0,1.0,2.5,2.25,3.25,1.5,2.75,3.5,2.5,2.25,2.5,2.25,2.0,3.0,2.0,2.25,2.5,2.5,1.0,1.5,1.75,1.5,1.75,2.5,2.25,2.5,1.75,3.25,1.0,2.5,2.0,1.75,2.5,2.5,2.25,1.75,1.75,2.5,2.5,1.0,1.0,2.75,2.5,2.5,1.0,2.0,1.5,1.5,2.75,2.5,2.25,1.0,2.5,1.5,1.0,1.0,1.0,1.0,1.0,1.0,0.75,1.0,1.75,1.0,4.75,3.25,3.5,3.25,2.5,4.5,2.5,3.75,2.5,3.25,4.0,2.75,2.75,2.5,2.25,3.5,1.0,2.25,2.5,2.5,1.75,2.5,2.5,2.5,1.75,1.75,1.0,2.75,2.25,2.5,2.5,2.5,2.25,2.75,1.5,1.75,2.5,2.25,2.5,1.0,3.5,3.5,1.5,1.0,1.0,1.0,2.0,1.0,2.25,3.0,1.75,2.5,2.5,2.5,2.5,3.0,2.5,2.5,2.5,1.0,1.5,1.0,2.5,2.25,1.75,2.0,2.5,2.5,2.25,1.75,2.5,1.0,1.0,1.75,1.0,1.0,1.0,1.0,3.25,1.75,2.5,2.5,2.25,3.5,5.0,2.25,3.0,3.5,3.25,2.25,3.5,3.5,1.75,1.75,3.0,2.75,2.75,2.0,2.25,2.75,2.5,4.0,2.5,2.5,2.25,2.5,2.25,2.5,2.5,2.75,2.0,2.75,2.25,2.5,1.75,2.5,2.25,2.5,1.75,1.75,1.75,1.75,2.5,2.25,1.75,3.0,1.0,2.5,2.5,2.5,2.5,2.75,1.0,1.0,2.5,1.75,2.5,1.75,2.75,7.5,1.0,2.5,3.25,3.0,2.75,2.75,2.5,1.75,1.0,2.5,3.0,1.0,2.5,1.75,2.5,2.25,2.0,2.5,2.25,1.5,2.5,2.0,2.5,2.0,1.0,1.0,2.5,2.5,2.5,2.5,2.25,1.75,2.5,2.5,1.5,2.0,1.0,1.5,1.75,2.5,1.0,1.0,1.0,1.0,1.5,2.0,1.0,1.5,1.0,1.0,3.25,3.25,4.5,3.5,2.5,3.0,1.75,2.5,1.5,2.25,2.75,1.0,3.5,2.25,3.5,0.75,1.0,2.5,2.5,3.5,1.75,1.75,1.0,2.25,2.5,1.75,3.0,2.75,2.25,2.25,1.75,1.0,3.5,1.0,1.0,2.5,2.25,1.5,2.5,3.0,2.5,1.0,2.0,2.5,1.0,1.0,1.0,2.5,1.75,1.5,2.75,2.75,1.75,2.5,2.75,2.5,2.5,2.0,1.75,2.5,1.75,2.5,2.5,3.25,1.75,2.25,1.0,2.5,2.5,2.5,1.0,2.25,2.5,2.25,2.5,2.5,2.25,1.75,2.25,2.5,1.5,2.25,1.75,3.5,2.0,1.0,1.0,1.0,2.0,2.5,1.5,2.25,1.5,1.0,1.0,2.0,1.5,1.0,1.0,1.0,3.25,2.75,2.75,4.5,2.5,2.0,2.5,2.5,2.0,3.0,2.75,1.75,1.0,2.75,2.75,2.75,2.5,2.75,2.25,3.75,3.0,2.5,2.5,2.75,1.75,2.0,2.5,2.0,2.75,1.75,2.5,2.5,1.0,2.75,2.5,2.0,3.5,2.5,1.75,1.75,1.0,2.5,1.0,2.5,2.25,2.5,1.75,3.5,2.0,1.75,1.0,2.5,3.0,2.5,2.5,1.5,2.0,1.75,2.0,2.5,2.25,2.25,1.75,1.75,1.75,2.75,2.0,2.0,1.75,2.5,2.0,2.5,1.75,1.0,1.75,2.5,1.75,1.0,2.5,1.75,2.25,1.75,1.5,1.75,2.25,1.0,1.75,1.0,2.25,1.75,1.0,1.0,2.5,1.0,1.75,1.0,2.25,3.25,3.75,4.0,2.75,5.25,3.0,2.75,2.25,3.0,2.5,2.5,2.5,3.5,3.25,2.25,1.75,1.75,3.5,2.5,3.0,3.75,3.0,2.5,2.5,2.75,2.75,2.5,2.75,2.5,2.25,3.5,2.25,1.75,2.0,2.5,1.75,1.75,2.5,3.0,2.25,2.5,2.25,1.75,1.0,1.0,2.25,1.75,2.5,2.5,1.75,2.5,1.5,2.5,2.5,2.5,1.75,1.0,2.0,2.5,2.0,2.5,1.5,2.5,1.75,1.0,2.5,1.0,0.75,2.5,1.75,1.0,2.5,2.5,2.5,2.5,2.5,1.0,1.5,1.75,2.0,0.5,2.25,1.75,1.0,2.0,3.0,1.0,1.5,1.0,1.0,2.0,3.75,3.5,3.5,3.5,2.5,3.0,3.25,2.75,2.0,3.5,3.25,2.5,2.0,2.75,2.5,1.75,2.5,1.75,2.5,2.75,1.0,1.75,2.0,1.0,2.25,2.0,2.25,1.5,2.5,1.75,1.0,1.5,1.75,3.0,1.75,2.5,2.5,2.5,2.0,1.5,2.0,1.0,2.5,1.0,1.0,2.5,2.0,1.5,2.5,1.0,1.0,1.5,1.0,2.0,2.0,1.0,1.0,1.0,1.75,1.0,3.75,2.5,1.0,1.0,2.5,2.5,2.5,1.75,3.0,4.25,2.5,2.5,3.5,2.0,2.5,2.5,2.0,2.0,2.5,2.0,3.25,2.5,1.75,1.5,1.0,1.75,2.5,2.5,1.0,1.75,2.5,3.0,2.5,2.25,1.5,1.0,1.5,1.0,3.25,1.0,2.5,2.25,1.0,2.75,2.0,2.5,2.0,2.25,1.0,1.0,1.0,1.0,1.75,2.0,1.5,1.75,1.0,2.5,1.75,1.0,1.0,1.0,1.0,2.25,2.5,2.5,1.0,1.75,1.0,1.0,1.75,1.0,1.75,1.0,2.25,2.0,1.0,1.75,1.0,1.0,1.75,1.0,1.5,4.0,1.0,1.5,1.75,3.0,1.75,1.0,1.75,1.0,3.25,3.25,2.75,3.5,1.5,2.0,2.5,3.5,2.5,4.5,2.5,1.75,2.75,2.5,2.5,2.25,3.5,2.5,2.5,2.0,3.5,2.5,3.0,2.5,2.25,1.75,1.5,2.5,1.5,2.5,1.75,2.5,2.75,2.75,2.5,1.75,2.5,1.0,1.75,1.75,1.5,1.75,2.25,2.0,1.75,1.75,1.0,2.25,1.75,1.75,2.5,1.0,2.25,2.0,2.0,1.0,1.0,2.5,2.5,1.75,2.5,2.5,1.75,2.5,2.25,1.0,2.5,1.0,2.5,1.0,2.5,2.25,2.0,2.25,2.5,1.75,2.0,2.5,2.5,2.0,1.75,2.0,1.0,1.0,2.0,1.0,1.0,1.0,1.75,1.75,1.0,2.0,1.5,3.5,5.5,3.5,2.5,2.5,1.75,3.0,2.0,2.5,3.5,2.5,1.5,2.5,2.5,2.5,2.5,1.75,2.75,2.75,2.5,1.75,2.5,2.5,2.0,1.75,2.25,2.5,2.0,1.5,1.75,2.0,1.75,1.75,2.5,2.5,1.75,1.75,2.75,3.0,2.75,2.0,3.25,2.75,2.5,1.0,2.25,2.25,1.0,2.25,2.5,2.0,2.25,2.5,1.5,3.25,2.5,1.75,2.5,2.25,1.75,1.75,2.25,1.0,2.5,1.0,2.5,2.0,2.5,2.5,2.0,2.0,3.25,2.5,3.0,2.5,1.0,1.0,2.25,1.0,2.5,1.0,1.0,1.0,2.0,1.0,1.0,0.75,1.75,2.0,2.0,1.5,1.0,1.75,2.5,1.5,1.75,2.5,2.5,1.75,1.75,2.75,1.0,1.5,2.0,1.75,1.0,1.0,1.0,1.5,1.0,1.75,2.0,1.5,1.0,3.25,2.25,2.5,2.25,3.25,3.0,3.0,2.5,2.5,2.25,2.25,2.5,2.5,2.5,2.5,2.25,2.5,4.0,2.0,1.75,2.5,2.25,2.5,2.5,2.5,2.0,3.0,3.0,2.75,2.0,2.5,2.25,1.0,2.5,1.75,1.5,2.25,2.5,1.75,2.5,1.75,2.25,1.0,2.5,2.5,2.5,1.0,1.0,1.0,3.5,2.5,1.0,1.75,2.25,2.25,2.0,1.0,2.0,1.5,1.75,2.25,3.5,1.75,1.0,1.5,2.0,2.0,1.75,2.25,2.5,2.5,2.5,1.75,1.75,1.5,1.0,1.0,1.75,2.0,1.0,2.0,1.75,1.0,1.0,1.0,1.0,1.0,3.5,6.0,2.25,2.25,3.5,3.25,1.75,2.75,2.75,2.75,2.75,2.5,2.75,2.0,3.25,2.5,2.25,2.0,1.75,2.5,2.25,1.75,1.5,2.5,3.25,1.0,2.5,1.75,3.5,2.5,2.5,2.5,2.5,1.75,2.5,1.75,2.0,1.75,2.0,2.5,2.0,2.25,1.0,1.0,2.0,1.5,1.75,2.5,2.5,2.5,2.5,1.5,2.0,3.25,2.5,2.0,2.5,1.0,1.75,3.0,2.5,1.75,2.5,2.25,1.0,1.5,2.0,1.5,2.0,1.75,1.0,2.0,1.0,1.0,1.0,2.5,1.0,2.5,2.5,2.0,2.25,2.25,1.0,2.75,2.25,1.0,1.0,2.0,2.5,2.5,2.25,2.25,1.0,1.0,1.0,1.0,1.5,1.75,2.0,1.0,1.0,1.0,2.5,2.25,2.5,3.0,1.75,3.0,2.5,2.0,1.75,2.5,3.0,2.0,4.0,2.75,4.0,3.25,3.0,1.5,2.5,2.5,2.25,2.5,2.0,3.5,2.75,2.5,2.5,2.5,2.5,1.5,1.75,2.25,2.75,3.0,1.75,2.5,3.0,2.5,2.0,1.0,2.5,2.5,2.0,2.0,1.5,3.5,1.0,2.0,1.75,1.75,2.5,2.5,2.0,1.75,2.0,2.25,2.25,2.5,1.0,2.25,2.5,2.5,1.5,2.75,1.75,1.5,2.0,1.5,1.75,2.5,1.75,2.0,2.25,1.75,2.5,1.0,1.0,1.0,1.5,3.0,2.75,2.5,2.5,1.75,2.0,1.0,2.0,2.5,2.5,1.75,2.5,2.0,2.5,2.25,2.5,1.0,2.5,2.5,1.0,1.75,2.25,1.5,1.5,2.25,1.5,1.75,1.0,2.0,2.5,1.5,1.5,1.0,1.75,2.5,1.0,1.0,1.5,1.5,0.75,4.0,2.75,3.0,3.25,3.75,3.0,4.5,2.75,2.5,2.5,2.5,2.0,2.25,1.75,2.5,2.5,2.0,2.25,3.25,3.5,2.0,2.5,2.5,3.5,1.0,2.0,2.75,2.0,2.5,2.5,2.5,1.0,2.5,2.0,2.0,2.5,2.5,2.5,2.5,2.25,2.25,2.5,1.75,1.0,2.25,2.5,2.75,2.0,1.0,1.75,2.75,1.0,3.0,2.0,1.75,1.5,2.5,1.0,1.5,1.0,2.5,2.25,2.5,1.5,2.5,2.0,2.5,1.75,1.75,1.0,3.0,2.5,1.5,2.5,1.75,1.5,3.25,2.0,2.5,1.0,2.0,2.25,1.75,2.5,2.25,2.0,1.75,1.0,2.5,2.5,2.25,2.0,2.5,1.75,2.25,1.75,1.0,2.0,1.0,2.0,1.0,2.25,2.0,2.25,2.5,1.75,1.0,1.0,1.0,1.0,1.0,1.75,1.0,1.0,0.75,1.0,1.0,3.5,3.0,3.75,3.5,3.0,3.5,2.5,3.75,2.5,3.25,2.0,2.5,3.5,3.5,3.0,1.0,2.5,2.75,2.5,1.75,2.25,2.5,2.5,1.75,2.25,1.5,2.5,1.75,2.5,2.5,2.5,2.5,2.5,2.75,2.5,2.0,3.75,2.25,2.5,2.0,2.5,2.75,2.25,2.0,1.75,2.25,2.25,2.5,1.75,2.0,2.5,1.75,3.0,3.0,2.5,1.75,1.0,2.0,2.0,2.0,1.0,3.25,2.25,2.5,2.5,1.0,2.25,1.75,2.5,2.25,2.5,2.5,3.0,1.75,1.75,2.0,1.75,1.0,2.5,2.5,1.0,1.75,1.0,1.0,2.25,1.75,1.75,2.25,2.75,2.25,1.0,1.0,1.0,2.5,1.75,2.0,1.0,1.5,2.0,1.0,1.75,1.0,3.5,4.5,2.5,5.25,3.25,2.5,2.25,2.0,3.25,2.5,2.5,2.5,2.75,2.5,2.5,3.75,2.5,2.0,2.5,2.5,2.5,2.5,1.0,2.5,2.5,2.5,1.75,2.75,1.75,2.25,1.75,1.75,2.0,2.25,2.0,2.5,2.25,1.75,2.0,2.75,1.75,1.75,1.75,3.0,2.0,1.0,1.75,2.5,1.5,2.5,1.0,1.75,2.5,1.75,2.75,2.5,1.75,1.75,3.0,1.75,1.0,1.75,1.0,2.5,2.5,1.5,2.0,2.25,1.5,1.5,2.5,2.0,1.5,1.0,1.0,1.0,1.0,1.5,3.5,2.25,2.5,3.5,1.75,2.0,2.5,2.5,2.75,2.5,2.5,2.25,3.0,2.5,1.75,3.0,2.0,2.5,2.75,2.5,1.5,1.75,1.0,1.0,1.75,1.5,1.0,2.5,2.25,1.0,1.0,2.0,2.25,2.25,1.5,2.5,2.5,2.5,2.5,1.75,2.0,2.25,1.0,1.75,2.5,1.75,2.5,1.75,2.25,1.5,2.0,1.75,1.75,1.0,1.0,1.75,1.75,1.0,3.25,1.75,2.5,2.0,2.25,2.5,2.25,1.5,2.25,3.25,5.0,3.75,2.0,1.5,2.25,2.0,3.25,3.5,3.5,2.5,2.75,1.0,1.75,2.75,3.5,2.5,2.5,2.0,1.0,3.5,3.0,3.0,2.25,2.5,2.25,3.5,2.75,2.5,1.5,1.5,2.5,1.0,2.5,3.0,2.5,1.0,1.0,1.0,1.5,1.0,1.75,1.0,2.25,1.75,2.5,2.5,2.5,3.0,2.25,1.0,2.25,1.0,2.25,2.5,3.25,1.0,3.0,2.25,3.0,1.0,1.0,1.75,2.5,2.0,2.5,2.5,1.75,2.75,1.75,1.5,2.5,1.0,1.0,3.0,1.0,1.0,2.5,1.0,1.0,2.25,3.25,3.25,2.5,2.5,2.75,2.5,2.5,3.0,1.75,2.25,2.5,2.75,3.0,1.75,3.25,1.75,3.5,2.5,1.75,2.5,2.5,2.25,1.75,2.5,2.5,2.5,2.5,1.75,1.0,1.0,2.5,2.5,1.25,2.0,2.0,2.5,2.25,2.5,2.25,1.5,3.0,1.5,2.25,2.5,1.5,1.0,1.5,2.25,2.25,2.5,2.5,1.5,1.0,1.0,1.0,2.5,1.0,2.0,2.25,2.25,1.0,2.25,3.25,1.0,2.5,2.5,2.5,2.25,1.0,2.25,2.25,2.25,3.5,1.0,2.25,1.75,1.75,3.0,2.0,2.5,1.0,1.0,2.5,1.0,4.75,3.75,3.25,3.0,4.25,2.25,2.5,2.0,2.25,2.5,2.5,1.75,2.5,2.5,2.0,1.75,2.75,3.0,3.5,1.75,1.75,2.5,3.5,1.75,2.5,3.0,3.5,2.5,1.0,1.75,2.0,1.75,2.25,2.5,1.0,1.5,2.5,2.5,2.25,3.5,1.0,2.5,2.25,2.5,2.0,1.75,2.0,2.0,1.0,1.75,1.0,1.75,2.75,2.5,2.75,2.25,2.25,1.0,1.75,1.0,1.0,1.0,2.5,2.0,1.0,2.25,1.5,2.25,2.25,2.0,1.0,2.0,2.0,1.5,1.0,1.0,1.0,1.0,1.0,3.75,3.25,2.75,2.75,3.25,3.25,3.75,2.5,1.0,2.5,1.75,2.5,2.75,3.25,4.0,2.25,2.0,2.5,3.75,3.25,3.0,1.5,2.5,2.5,2.0,2.0,1.75,3.0,1.75,2.5,2.25,2.5,3.0,2.5,1.5,2.0,2.75,1.75,2.5,2.25,2.5,4.5,1.0,1.75,1.0,2.25,2.5,2.5,2.25,2.5,2.25,1.0,2.5,2.5,3.0,2.0,2.5,1.75,2.0,1.75,2.25,1.75,2.25,2.5,2.25,1.0,1.75,1.0,2.5,2.5,1.75,2.5,1.0,1.75,2.0,1.0,2.5,2.25,2.25,1.5,1.0,2.5,1.5,1.0,1.0,1.0,1.0,1.5,1.0,1.75,1.0,1.0,2.5,3.0,3.5,2.5,3.0,2.5,2.75,2.5,2.5,3.5,2.25,2.75,1.75,2.5,2.75,1.75,2.5,2.0,2.25,1.0,2.5,1.5,1.75,1.75,2.5,3.0,2.75,2.5,2.5,1.5,2.5,2.5,2.5,2.5,2.5,2.25,2.5,2.25,1.75,2.25,1.0,2.25,1.75,2.5,1.0,1.0,2.25,1.0,2.25,1.75,2.25,1.0,1.0,2.0,2.5,1.75,2.5,1.5,1.75,2.25,1.0,1.75,1.0,1.5,2.5,1.5,1.0,2.0,1.75,1.0,1.75,1.0,1.0,1.0,1.0,4.75,4.25,3.25,2.5,1.75,4.0,1.75,2.5,3.0,2.5,2.25,1.75,3.5,3.5,2.5,3.25,2.0,2.5,2.5,2.5,2.75,3.0,2.5,2.75,2.5,1.75,3.5,2.5,3.5,2.5,2.5,3.5,1.75,4.25,3.0,1.5,3.25,2.5,1.75,1.75,2.5,1.75,2.5,2.5,4.0,2.5,2.0,2.5,4.0,1.75,2.0,2.5,1.0,1.75,1.5,1.75,1.75,2.0,1.75,1.0,2.25,4.0,2.5,2.75,2.5,2.5,1.75,2.75,1.0,1.75,2.0,2.5,1.0,1.5,1.75,1.75,2.0,1.5,1.0,1.0,1.5,1.0,2.0,1.0,1.0,1.0,1.5,1.0,1.0,1.0,2.0,1.0,2.5,1.0,3.5,4.5,3.25,2.75,1.0,2.0,2.5,2.5,1.75,3.25,1.75,2.0,2.25,3.25,2.75,2.5,2.0,2.5,2.25,2.5,3.0,3.0,1.0,2.5,2.5,2.25,1.75,1.0,1.75,1.75,2.5,3.0,1.75,2.0,2.5,1.75,3.75,1.0,1.0,2.5,2.5,1.75,1.0,2.5,2.5,3.25,1.0,1.0,3.5,3.5,1.75,1.0,2.5,1.5,1.5,2.5,2.5,1.0,2.5,1.0,1.0,2.5,2.5,2.75,2.5,2.25,2.25,1.0,1.0,1.5,2.75,1.0,1.5,1.0,1.0,3.0,1.0,1.0,1.0,1.0,1.0,1.0,1.0,2.0,1.75,1.0,4.25,3.25,2.75,2.75,3.25,3.5,2.5,3.0,3.25,3.75,2.5,3.5,1.75,3.5,2.75,3.5,2.0,2.25,2.5,2.5,2.5,2.5,3.5,2.25,2.5,2.5,1.0,2.5,2.0,2.0,3.0,1.75,2.25,2.25,2.5,2.5,2.25,2.5,3.5,2.5,3.0,2.5,1.75,3.0,1.0,2.25,3.5,3.5,2.25,1.75,2.5,2.25,1.75,2.75,3.0,2.5,1.75,2.5,1.0,2.5,2.5,1.0,1.0,2.25,2.25,2.75,1.75,1.0,2.75,1.0,2.0,2.0,2.5,1.0,1.0,1.0,2.25,2.5,1.0,2.25,2.5,1.0,2.5,2.5,1.0,1.0,2.5,1.0,4.25,4.25,3.25,3.25,3.5,2.75,2.5,2.5,2.5,2.5,1.75,3.5,2.5,2.75,3.5,3.25,2.5,2.5,2.5,2.75,2.5,1.75,3.0,1.0,2.25,1.75,2.5,3.0,2.0,1.75,3.5,2.25,2.5,2.0,2.5,1.75,2.5,2.5,2.5,2.5,2.5,1.5,2.5,1.75,1.5,2.5,2.0,2.5,2.5,1.5,2.5,2.25,2.0,1.5,1.0,2.5,2.0,1.0,1.5,1.0,1.75,2.0,1.0,1.5,1.75,2.5,2.5,2.0,1.75,3.5,2.5,3.5,2.25,3.75,3.0,3.25,2.5,3.0,1.0,2.5,1.75,1.0,3.25,3.0,1.75,1.75,2.25,2.5,2.5,1.75,2.5,2.5,1.75,3.5,2.25,2.25,3.5,1.75,1.5,2.75,2.25,1.75,2.0,2.5,1.75,1.75,2.75,2.5,2.5,2.5,1.75,1.0,2.5,2.0,1.5,2.5,3.5,1.75,1.75,3.0,1.5,1.0,1.75,3.75,1.0,2.75,2.5,1.0,1.0,1.75,1.75,2.5,1.0,1.75,2.5,2.25,1.0,2.5,2.25,2.0,1.75,2.0,1.0,2.0,1.0,1.0,2.5,3.25,2.5,3.0,1.75,3.0,3.5,2.0,1.5,2.25,2.5,2.5,2.5,1.75,2.0,2.75,2.75,3.25,2.5,1.5,3.5,1.75,1.75,1.75,2.5,1.5,0.75,2.5,2.5,1.5,2.0,2.0,2.25,1.75,1.75,1.75,2.25,2.75,2.0,2.5,2.25,1.0,3.25,1.0,2.25,2.25,2.0,2.5,1.0,1.75,1.0,1.0,2.25,2.5,2.25,2.75,2.75,2.5,1.75,1.0,1.75,1.0,1.75,2.5,2.5,2.5,1.0,2.0,1.0,1.0,1.5,3.0,2.5,1.75,1.5,2.5,1.0,2.75,1.0,1.0,1.75,2.5,1.0,1.0,1.75,2.0,1.5,1.0,1.0,1.0,1.0,1.0,1.0,3.25,2.5,2.5,3.25,2.75,2.5,3.0,4.0,2.5,3.0,1.5,2.5,1.75,2.25,3.5,2.5,3.0,2.5,2.5,3.25,2.5,1.0,2.5,3.25,2.75,2.25,2.0,2.0,1.75,2.25,1.5,2.75,2.5,1.5,2.75,1.5,1.75,1.75,2.0,2.0,1.5,2.0,1.75,1.75,4.5,1.75,1.0,0.75,1.75,2.5,1.0,1.0,1.0,3.0,2.5,2.25,1.0,2.75,1.0,3.0,1.0,2.75,1.0,2.25,1.0,2.5,2.5,2.25,1.5,1.75,2.0,1.0,2.75,2.5,4.75,2.25,2.5,3.25,1.75,3.5,2.5,2.75,2.0,2.5,2.5,2.5,3.5,3.5,3.5,2.75,1.0,1.5,1.0,2.25,2.5,1.5,2.75,1.75,1.75,2.5,3.0,2.25,2.5,2.5,1.75,2.25,1.0,1.75,1.5,2.75,2.25,2.5,2.25,1.5,2.0,2.5,2.25,1.0,1.0,2.5,2.5,2.5,2.5,1.75,1.0,2.5,2.0,2.5,3.0,1.0,2.0,2.25,2.25,1.0,1.5,1.5,2.25,2.5,2.25,1.0,1.75,1.75,1.0,2.0,1.75,2.0,1.0,2.25,1.0,1.0,1.0,1.5,1.0,7.75,2.25,1.75,2.5,1.0,3.25,2.75,2.5,3.5,2.0,1.5,2.5,1.0,2.75,3.5,3.5,1.75,1.75,2.25,2.0,1.75,1.0,2.0,2.75,2.75,2.5,3.0,1.75,2.25,1.5,2.25,3.25,2.5,1.75,1.75,2.25,2.0,2.25,3.0,2.5,2.5,2.5,1.0,1.0,2.5,2.5,1.75,2.5,2.5,1.75,2.5,1.0,1.5,2.5,1.0,2.5,1.75,2.5,3.0,2.5,2.5,1.5,2.5,1.0,3.0,2.5,2.5,2.5,1.0,1.5,1.0,2.5,1.0,1.0,2.0,1.0,1.5,2.0,2.5,1.75,1.5,2.25,2.0,2.5,3.25,1.0,3.5,4.5,2.5,2.25,2.75,2.5,3.25,1.0,2.5,2.75,4.0,2.5,2.75,3.5,3.5,3.25,3.25,2.0,3.0,2.75,2.25,2.0,2.0,2.5,2.25,4.0,2.0,2.5,2.5,2.25,2.25,1.75,1.0,2.25,2.5,2.0,1.75,1.75,2.5,2.5,2.5,2.5,2.5,1.75,1.5,1.75,2.25,1.5,2.25,2.5,1.75,2.25,1.5,1.75,1.0,1.5,2.0,1.0,2.25,2.5,1.5,1.5,2.25,3.25,1.0,2.5,2.5,2.5,1.0,2.0,2.5,2.5,1.5,2.25,2.25,2.5,1.0,1.0,1.75,1.0,1.75,1.75,2.5,2.5,2.5,1.75,1.75,2.5,1.5,1.0,1.0,5.0,3.75,3.25,2.5,4.0,2.5,4.0,3.5,2.75,2.5,2.5,1.75,3.5,2.5,3.5,2.5,2.75,2.75,2.0,2.5,3.25,2.75,2.5,1.75,2.0,3.25,2.5,2.5,2.5,2.75,2.5,3.0,2.75,2.75,2.75,2.5,2.5,2.5,1.5,1.5,1.5,2.0,2.0,2.5,1.75,3.5,2.5,2.25,2.5,2.25,2.5,2.5,1.5,2.75,1.75,2.0,2.75,2.5,2.5,1.0,2.5,2.0,1.75,1.0,1.75,1.0,2.5,3.25,2.25,1.75,1.75,1.0,2.5,2.75,1.0,2.75,2.5,1.0,1.75,2.25,2.25,0.75,1.5,2.0,1.75,1.5,1.75,1.5,1.0,2.5,2.5,2.25,2.5,1.75,1.0,1.5,1.0,1.5,1.0,1.0,1.0,2.25,1.0,3.5,2.25,3.25,1.75,2.5,2.5,1.75,1.0,3.5,4.5,4.25,1.5,2.5,2.5,1.75,1.75,1.5,2.75,2.25,3.5,2.25,2.5,1.5,4.5,3.0,2.5,2.25,2.0,1.0,2.75,2.5,1.0,3.0,3.0,2.25,1.0,2.0,3.0,2.5,1.0,2.5,2.25,2.5,1.0,2.0,2.5,1.0,2.5,1.5,1.75,2.5,1.0,1.5,2.0,1.75,2.0,3.0,1.0,2.0,1.5,2.25,2.25,2.25,3.5,2.0,2.75,1.0,2.5,1.75,2.0,2.75,2.0,2.5,1.0,2.0,2.5,1.0,2.0,1.75,1.0,2.5,2.5,1.75,2.25,1.75,1.75,1.75,2.75,1.0,1.75,2.0,1.75,1.75,1.75,1.0,1.0,1.0,1.0,1.0,3.0,2.5,2.5,2.75,2.5,3.5,1.5,2.0,3.0,2.5,2.25,2.75,1.5,2.5,2.5,2.5,2.0,3.0,2.5,1.75,1.0,1.5,2.5,1.75,2.0,2.0,2.5,1.0,2.5,2.25,2.25,2.5,3.0,1.0,2.5,1.0,3.5,2.5,1.0,1.5,1.0,1.0,2.5,1.0,1.5,2.5,1.75,2.25,1.75,2.5,1.75,1.0,1.75,1.0,1.5,2.5,1.0,2.5,2.25,1.75,1.0,1.0,2.5,2.5,2.5,2.0,3.75,1.75,1.5,1.75,1.0,1.5,1.0,1.75,1.0,1.0,1.0,1.0,1.0,3.0,3.75,3.5,3.0,2.0,2.5,3.25,2.5,3.5,2.5,1.75,2.75,2.0,2.75,2.5,2.5,2.25,1.75,3.5,1.0,2.25,3.0,1.75,2.75,2.5,1.75,1.0,1.75,2.5,2.5,2.0,2.5,1.75,1.0,2.5,3.0,2.25,2.5,2.0,2.5,2.75,1.75,2.5,2.5,2.0,2.0,1.0,1.0,2.25,1.0,2.5,2.5,2.0,2.5,1.0,1.75,2.0,2.25,1.0,1.0,2.5,2.5,2.5,1.75,2.25,1.0,1.0,1.5,2.5,2.25,1.0,1.5,2.5,1.0,2.5,2.5,1.0,2.0,2.0,2.25,1.0,1.75,1.0,2.0,2.5,2.0,1.0,1.0,1.0,2.0,2.75,3.5,2.75,1.0,2.0,2.75,2.5,1.75,5.5,2.5,1.5,2.75,2.0,2.25,3.5,2.5,2.5,3.5,2.5,2.0,2.25,2.5,3.5,3.0,2.75,2.5,3.5,2.5,2.5,2.25,2.5,2.5,2.75,1.75,1.0,2.25,4.75,2.25,1.75,2.0,3.5,2.25,2.0,1.5,2.5,2.5,2.5,1.75,2.5,1.0,2.25,2.5,1.0,1.75,2.5,1.75,1.0,3.0,2.5,2.5,2.5,1.0,2.5,2.0,2.5,2.25,1.75,2.5,2.0,1.0,1.0,1.0,2.5,1.0,1.0,1.75,1.0,2.75,1.0,2.5,1.0,1.75,1.0,1.75,2.5,2.5,1.0,2.0,2.25,1.0,1.0,4.25,2.5,1.5,2.75,2.0,2.5,2.5,2.5,2.75,2.5,2.5,2.25,2.25,2.25,1.0,1.0,2.5,1.0,2.25,2.0,3.25,1.0,2.0,1.75,1.0,2.5,2.25,1.75,2.5,1.75,2.5,2.25,2.5,1.0,2.0,3.0,1.5,2.75,2.75,1.75,1.75,1.0,1.0,2.25,1.5,1.5,1.75,1.5,1.0,1.0,1.75,1.0,1.5,1.0,0.75,3.25,3.25,3.5,2.75,3.25,3.25,2.25,3.25,2.5,1.75,3.5,3.0,2.5,1.0,3.5,1.5,2.5,2.5,1.75,1.5,2.5,2.0,1.0,1.5,2.75,1.75,1.0,2.5,1.0,1.0,1.75,1.5,4.0,2.5,1.75,2.5,1.75,3.5,2.25,2.25,1.75,2.0,1.75,2.5,2.5,2.5,1.0,2.25,1.0,2.25,2.75,1.5,1.0,1.0,1.5,2.5,1.5,1.0,2.5,2.5,2.5,1.0,2.5,2.5,1.0,1.0,2.25,2.5,1.75,2.0,3.0,2.5,2.5,2.25,1.0,2.75,1.0,1.0,1.0,1.5,2.0,1.5,1.0,1.5,1.0,1.0,3.25,3.5,2.5,3.5,2.25,2.75,2.25,2.75,2.75,2.5,2.0,1.0,2.5,2.5,3.0,2.75,2.5,2.25,2.5,2.75,2.75,1.75,2.75,1.0,4.25,1.0,2.25,1.75,3.5,1.5,2.25,2.25,1.75,1.75,2.5,1.0,2.5,1.5,1.0,3.25,1.5,2.5,1.75,1.75,2.5,1.75,2.5,2.5,2.0,1.75,2.25,1.0,2.25,2.5,1.0,1.75,2.5,1.75,1.0,2.5,1.75,1.0,2.5,2.75,2.0,2.0,2.25,2.25,1.0,2.75,1.0,1.0,1.0,3.25,3.5,4.5,1.75,3.5,1.5,2.75,2.5,1.75,2.5,1.75,2.75,2.25,2.5,1.75,3.25,2.5,3.0,1.5,2.5,2.0,1.75,1.5,2.5,2.5,2.75,2.75,2.5,1.0,1.75,2.5,3.5,1.75,1.5,2.25,2.25,2.5,1.5,2.5,1.0,2.75,2.75,1.0,1.0,1.75,1.5,1.75,1.0,1.75,1.0,2.25,1.5,2.0,0.5,2.0,1.5,1.0,1.0,2.0,1.5,1.0,1.0,1.75,1.0,1.5,1.5,0.75,1.75,1.75,1.0,1.75,2.75,1.75,1.0,3.25,3.0,3.5,3.75,4.25,3.0,2.5,2.5,1.75,2.5,3.5,2.5,2.5,3.5,2.25,2.5,2.5,2.0,2.0,2.5,2.25,2.75,1.0,2.5,2.5,2.5,1.5,2.5,3.25,2.0,2.5,2.5,1.75,1.75,2.5,2.5,2.5,2.5,1.0,3.0,1.5,3.0,2.25,1.75,1.5,1.5,2.0,2.25,2.5,1.75,1.0,2.25,1.0,2.5,1.0,2.75,2.5,2.5,2.0,1.75,1.0,1.5,2.25,1.5,1.0,2.0,2.5,1.0,2.0,5.0,6.0,2.75,4.75,2.5,5.0,2.5,3.5,2.5,4.5,6.75,2.75,2.75,2.0,1.75,2.5,2.0,1.0,1.75,4.5,2.25,1.75,1.5,3.5,2.75,2.5,1.75,2.0,2.0,1.5,2.75,2.5,1.5,2.75,2.25,1.0,2.5,2.5,4.0,3.0,1.0,1.5,2.0,2.0,1.0,2.5,2.5,1.75,1.5,2.25,1.75,1.75,2.5,1.75,1.75,2.0,2.5,1.75,2.5,2.25,2.5,1.0,2.0,1.5,2.5,3.0,2.25,1.75,1.75,1.75,3.0,1.0,1.0,2.25,2.5,1.0,1.0,2.5,1.75,1.5,1.0,2.5,1.0,1.75,1.75,2.5,1.0,1.0,1.75,1.5,1.0,3.5,2.5,3.5,2.25,2.25,3.5,3.5,1.5,2.25,2.25,1.75,2.5,2.5,3.25,3.0,2.5,2.5,2.25,2.25,1.75,2.5,1.0,3.25,2.5,1.75,1.75,2.5,2.25,1.0,3.5,3.5,2.5,2.0,2.25,2.0,2.25,2.25,1.5,2.5,2.5,1.5,1.0,2.25,1.75,2.5,2.5,1.0,1.0,2.0,1.0,1.75,1.0,1.0,2.5,3.0,2.0,1.5,2.0,2.5,2.5,3.5,1.0,1.5,1.0,2.5,2.5,1.75,1.5,1.0,1.0,1.75,1.0,2.25,1.5,1.75,4.5,4.5,2.5,3.25,3.25,2.0,2.25,3.25,3.0,1.0,3.0,3.5,2.75,1.5,2.75,3.5,1.75,2.0,3.0,1.75,2.75,1.75,2.5,1.5,2.5,2.25,2.5,1.75,1.75,3.0,2.0,1.75,2.25,2.5,2.75,3.5,2.5,2.0,1.0,2.25,2.5,1.0,2.5,1.0,2.0,2.5,1.0,2.0,2.25,1.0,1.75,2.25,1.5,1.75,3.0,1.0,2.5,0.75,1.0,2.5,1.0,1.75,1.0,1.75,1.75,1.0,1.0,1.0,1.0,2.5,1.5,1.0,1.5,1.0,1.0,1.75,2.5,1.0,1.0,3.25,2.5,1.75,3.5,2.5,3.25,2.5,2.5,1.75,3.75,2.0,2.25,1.5,1.0,2.25,2.75,1.75,2.25,3.75,2.75,1.0,2.75,2.25,3.25,2.75,2.5,2.25,2.5,2.5,2.25,1.0,1.75,1.5,1.5,2.0,2.75,1.75,1.75,2.25,2.5,1.75,3.5,3.0,1.75,1.0,1.0,2.5,1.75,2.5,1.5,1.75,2.5,1.75,3.25,1.0,2.0,1.75,1.75,1.75,1.75,1.5,2.5,1.0,2.0,2.25,2.25,1.0,1.0,2.5,1.75,1.0,1.0,2.0,1.75,2.25,2.5,1.0,2.75,1.0,1.0,1.0,1.0,1.75,1.0,1.0,1.0,6.0,1.0,2.5,2.5,1.5,8.0,3.0,3.5,3.25,1.75,2.25,2.5,2.25,4.0,2.5,2.5,3.5,2.0,2.5,2.5,2.5,2.5,1.0,1.75,2.25,2.5,2.0,2.75,3.0,1.75,2.5,2.5,3.0,1.0,2.5,2.0,2.0,3.5,1.0,1.5,1.0,2.5,1.75,1.0,2.5,1.75,1.5,1.0,1.75,2.25,1.0,2.25,1.75,2.5,1.0,1.5,1.0,1.0,1.0,1.75,1.0,2.5,2.5,2.0,2.0,1.0,1.0,2.5,5.5,2.5,2.25,1.75,3.25,3.5,3.5,2.75,1.75,2.25,1.75,3.0,3.5,1.75,2.75,1.75,2.0,2.75,2.25,1.5,2.5,3.0,3.25,2.75,3.0,2.0,2.5,3.0,2.5,2.5,2.75,2.5,3.0,1.75,1.75,2.75,2.5,2.0,2.5,3.0,1.5,2.25,1.75,1.5,1.0,2.0,1.75,2.0,1.75,2.0,1.0,2.5,1.0,2.75,1.75,2.5,1.5,1.0,2.25,1.75,3.25,1.75,1.75,2.5,1.0,2.0,2.5,1.0,2.5,2.5,2.25,2.75,1.75,2.5,2.5,1.75,2.25,2.5,1.5,1.0,2.0,2.5,1.0,2.25,1.75,1.0,1.0,1.0,1.0,4.5,3.25,2.75,3.25,3.75,2.5,2.25,3.5,2.25,3.25,2.5,2.25,3.75,2.75,2.75,1.75,2.75,2.5,2.5,3.25,2.75,2.75,2.5,1.0,3.5,2.5,2.5,3.25,3.0,2.5,2.5,1.75,1.75,2.75,2.5,1.75,1.75,2.0,2.5,3.0,1.75,1.0,2.0,2.5,2.5,1.5,1.75,1.75,2.75,5.0,2.0,2.5,2.0,2.5,1.75,2.25,2.5,2.5,0.75,3.25,1.75,1.0,2.5,1.0,1.75,2.5,1.5,1.0,2.5,2.5,1.5,1.0,2.5,1.0,1.75,1.75,1.75,1.0,1.0,3.0,1.0,3.5,3.5,1.0,1.0,2.5,2.75,3.5,3.5,3.0,2.25,1.75,1.0,4.0,3.25,3.5,1.0,2.0,2.5,4.25,1.5,2.5,1.75,2.0,1.5,3.0,1.5,2.5,1.0,2.25,2.25,2.0,2.5,1.0,1.75,2.5,2.75,1.75,2.75,2.25,2.75,1.0,1.5,2.0,1.75,2.0,3.0,2.25,1.0,3.25,1.75,1.75,1.0,1.0,2.25,3.5,1.5,2.5,2.0,1.0,2.5,1.5,1.75,2.75,2.5,1.0,1.75,1.0,1.0,1.75,0.75,1.0,1.0,1.5,1.5,1.75,1.5,1.5,2.5,2.0,1.5,2.25,2.25,2.25,2.5,2.25,2.5,1.75,2.0,2.25,1.0,1.75,2.0,1.0,3.0,1.0,3.5,2.25,3.5,2.75,2.5,3.5,1.0,1.0,2.5,2.25,1.75,3.5,2.5,4.0,2.5,1.0,1.75,2.5,2.0,2.5,2.5,2.5,2.5,1.0,2.5,1.75,2.0,3.0,1.75,1.0,1.0,2.5,2.25,2.25,1.75,2.25,2.0,2.5,2.5,2.0,2.5,1.75,1.75,1.0,2.5,2.0,1.0,1.0,2.75,2.5,2.0,2.5,2.0,2.5,1.75,2.5,2.0,2.0,2.25,2.5,2.75,1.75,2.0,1.0,1.75,2.0,1.5,2.0,1.0,1.0,2.5,1.0,1.0,1.0,3.25,2.5,3.5,2.75,3.25,2.0,1.75,3.5,2.0,1.75,5.25,4.0,2.5,3.5,4.5,3.25,3.0,2.0,3.0,2.5,2.0,2.5,1.75,2.25,1.0,2.5,3.5,1.0,2.5,2.75,2.5,2.0,2.25,2.5,1.5,1.0,2.25,2.75,2.5,2.25,2.25,2.5,1.0,2.25,1.0,2.5,3.5,1.0,1.75,1.75,1.75,2.25,1.5,2.5,1.0,1.75,1.5,2.75,1.0,2.25,2.5,2.5,1.75,1.75,2.25,2.25,2.0,2.5,1.0,2.25,2.5,1.75,2.5,2.5,2.5,1.75,1.75,1.0,2.5,1.75,1.0,1.5,2.5,2.0,2.25,1.5,1.0,1.75,1.75,1.0,1.0,1.0,1.0,1.0,4.25,3.5,3.75,2.75,2.5,3.75,3.5,3.5,3.25,3.0,2.5,2.5,3.0,2.5,2.75,2.5,2.75,2.5,2.5,2.0,2.5,2.5,2.25,1.75,2.0,2.5,2.75,1.75,1.0,2.5,1.75,2.25,1.0,2.75,2.25,2.75,2.5,1.75,3.0,3.25,1.0,2.75,1.75,2.25,1.0,3.5,2.5,2.5,2.5,1.75,2.25,2.5,3.25,2.5,1.75,1.75,1.0,2.5,1.0,1.0,1.5,1.0,1.5,2.25,2.25,1.75,1.75,2.5,2.0,2.0,1.5,1.5,1.0,1.75,2.25,2.0,1.75,1.75,1.0,2.5,2.0,1.5,1.0,1.75,1.5,1.0,1.0,1.0,1.0,1.0,3.25,4.25,1.5,2.75,2.5,3.5,2.25,3.5,2.5,3.25,2.75,1.75,2.5,1.5,3.5,2.5,2.25,3.5,1.75,2.5,1.0,2.0,2.25,1.0,2.5,2.0,1.75,3.0,2.5,2.5,2.5,1.75,1.0,2.0,1.0,2.25,2.25,2.5,1.75,2.25,2.25,1.0,2.75,1.75,1.75,1.75,1.75,2.5,1.0,2.5,2.5,1.0,0.75,2.5,2.5,3.0,2.0,3.25,1.0,1.5,3.0,2.5,2.25,1.0,2.25,2.25,2.0,2.5,1.5,2.0,1.5,1.75,1.0,1.0,2.5,2.5,1.5,0.75,0.75,1.0,3.0,3.5,2.5,2.5,2.5,2.25,3.0,3.75,3.25,2.25,2.5,3.5,2.5,2.25,2.5,2.5,1.0,1.0,1.5,3.25,1.0,1.5,2.0,2.25,2.5,2.5,2.0,2.25,2.5,2.5,1.5,1.0,1.0,1.0,1.75,1.75,2.0,1.0,1.0,1.75,2.5,2.5,3.0,0.75,2.5,2.5,2.0,2.5,2.0,1.0,2.5,1.0,1.75,2.25,2.0,2.25,2.5,2.25,2.5,2.5,2.5,1.0,1.75,2.0,2.0,1.0,1.5,2.0,1.0,1.75,1.0,1.75,1.0,1.5,1.0,3.5,3.0,3.25,3.75,2.5,2.0,2.75,2.0,2.5,2.5,3.0,2.5,3.5,2.5,1.75,2.5,2.5,2.5,2.5,2.25,1.75,1.0,1.75,2.5,2.25,2.25,3.25,1.0,2.5,2.5,2.5,1.5,1.5,2.5,1.75,1.75,2.25,1.75,2.75,1.0,1.0,2.5,1.0,1.0,2.25,1.75,2.5,1.75,1.0,2.25,2.0,1.5,1.75,1.0,1.75,1.0,1.5,1.75,1.0,1.75,2.5,2.5,1.5,3.25,2.5,3.25,1.0,3.25,2.0,2.25,2.25,3.25,3.5,4.5,3.75,2.75,2.75,2.25,2.0,1.5,1.0,2.0,1.0,1.75,1.75,2.5,2.25,1.0,2.25,3.5,2.5,2.0,2.5,2.5,1.0,1.75,2.5,1.5,2.0,1.75,2.5,3.25,1.0,1.5,2.0,1.0,1.75,2.5,2.5,2.75,2.5,3.75,1.0,2.0,1.5,1.75,1.5,0.75,1.0,1.75,2.25,0.75,2.5,2.5,2.5,1.75,2.5,3.25,2.0,2.75,2.5,2.5,1.75,1.75,1.75,2.25,1.0,2.25,1.0,1.0,1.5,2.5,1.0,1.5,2.25,1.75,2.25,1.75,3.0,1.25,2.5,3.0,2.5,2.0,1.0,1.5,2.25,1.0,1.75,1.0,1.5,1.0,1.0,2.0,3.5,3.25,3.0,2.75,2.5,2.5,2.75,2.25,2.25,2.5,3.0,4.0,2.75,2.5,2.25,3.0,2.5,1.5,2.0,2.0,2.25,2.5,2.75,2.75,2.5,2.5,2.5,1.75,1.0,2.75,3.0,2.75,2.5,1.5,2.75,2.25,2.5,2.5,1.75,2.5,2.5,1.5,2.5,2.5,1.75,1.0,1.75,2.5,2.25,1.0,3.0,2.75,1.0,1.0,2.0,2.0,2.25,2.25,2.5,2.5,2.0,1.75,2.5,1.0,1.75,2.0,1.0,1.0,2.0,2.0,2.5,2.5,1.75,2.5,1.0,1.0,2.0,1.75,2.25,2.5,1.0,2.0,2.5,2.25,3.0,2.5,1.75,1.0,2.25,1.0,1.0,1.0,1.0,1.75,1.0,1.75,1.75,3.5,2.25,2.25,2.0,2.0,1.75,1.75,2.0,1.75,2.0,2.25,2.0,1.5,1.75,1.0,1.75,1.0,1.0,1.0,3.5,3.75,4.25,3.75,2.5,3.25,4.0,3.0,4.0,2.5,1.0,2.5,1.75,3.5,3.25,3.0,2.5,2.5,2.75,2.0,2.5,2.0,1.75,2.0,1.5,2.5,1.0,2.25,2.5,2.5,1.75,1.5,1.75,1.75,2.5,2.5,1.5,2.5,2.25,2.25,1.5,2.5,2.5,2.25,2.25,2.5,2.5,2.5,3.0,1.75,2.5,2.5,2.5,2.25,2.5,2.75,1.0,3.25,1.75,1.5,3.5,1.75,1.0,2.25,3.25,1.0,2.5,3.0,2.25,1.75,2.5,1.0,3.25,2.5,1.0,1.0,2.0,1.5,2.75,2.5,1.0,2.25,2.0,3.5,1.0,1.75,2.0,1.75,1.0,1.5,1.0,1.0,4.25,3.5,2.5,2.5,2.25,2.5,2.5,2.25,2.5,3.5,3.25,3.0,2.5,1.75,3.0,2.5,2.5,2.0,2.5,2.25,2.25,2.5,2.0,2.5,1.75,2.5,1.75,3.25,3.0,2.25,1.5,1.75,1.0,3.25,1.0,1.75,2.5,1.0,1.0,2.75,1.0,1.0,1.75,2.25,2.75,2.25,1.75,1.0,2.5,2.5,1.0,2.25,2.5,2.5,1.0,2.25,2.5,1.0,1.75,2.0,1.75,1.0,2.5,2.75,1.0,2.5,2.0,2.5,1.0,1.0,2.0,2.0,2.0,2.5,3.0,1.0,1.75,1.0,1.75,1.0,1.0,2.25,1.75,1.0,1.0,2.75,4.5,3.25,2.75,2.5,2.25,2.5,1.0,2.0,2.25,3.25,3.5,2.75,2.5,1.75,2.5,2.25,2.5,2.5,2.5,2.5,2.5,2.5,3.0,1.75,2.5,1.0,2.5,1.0,2.0,1.75,2.75,2.5,2.5,2.75,1.75,2.25,2.0,1.75,2.0,2.75,2.5,2.5,2.5,1.75,2.5,4.0,4.25,2.25,2.75,2.5,1.75,2.5,2.5,2.25,2.5,2.0,2.5,2.25,2.25,1.5,2.75,2.5,2.25,2.25,1.75,1.0,2.5,1.5,2.0,1.0,2.25,3.5,2.0,1.75,3.25,2.0,2.5,2.5,1.75,2.5,1.75,1.75,2.75,2.25,2.5,2.5,2.5,1.75,1.5,1.0,2.0,1.0,1.5,2.0,2.5,1.75,1.75,1.0,2.25,2.0,1.0,2.5,1.75,2.25,1.0,2.25,2.25,1.0,2.25,1.0,2.0,2.5,1.0,1.0,2.0,1.0,1.0,1.0,3.5,2.5,3.25,3.5,3.5,2.5,1.5,1.75,2.0,2.75,2.25,2.5,1.0,2.25,2.25,1.0,2.5,1.0,2.0,2.5,2.5,1.75,1.75,2.5,1.0,2.5,4.0,1.75,2.0,3.25,1.5,2.25,2.5,1.75,1.75,2.0,2.5,1.5,1.75,2.5,1.0,2.5,1.0,1.75,1.75,3.5,1.75,1.75,1.0,1.75,1.75,1.0,2.0,1.75,1.0,1.0,1.75,1.0,1.75,1.75,2.5,2.0,1.75,2.25,1.75,1.0,2.0,2.5,2.75,2.0,1.0,1.0,3.25,2.75,1.75,3.5,3.25,2.75,2.5,2.0,2.5,4.0,2.75,2.75,2.25,2.5,2.5,2.25,2.0,2.5,2.5,2.5,2.0,1.5,3.25,1.75,2.0,2.25,2.5,2.5,1.75,2.5,2.25,3.0,2.5,2.5,2.5,2.75,2.5,2.0,2.0,1.75,1.0,2.5,1.5,1.0,1.75,2.75,1.0,1.0,1.75,2.5,1.75,1.75,1.0,2.0,2.5,2.0,2.25,1.0,1.0,2.5,1.75,1.0,2.5,2.25,2.25,1.0,1.5,2.25,2.5,1.5,1.0,1.0,1.75,1.5,1.0,1.0,1.0,3.0,2.75,4.25,2.5,3.5,2.5,3.5,2.0,2.5,2.75,3.0,2.75,2.5,1.75,1.75,3.5,3.5,2.5,1.0,2.5,1.0,2.5,1.5,1.0,2.5,1.75,1.75,1.0,2.5,1.75,1.5,2.25,2.5,2.0,1.75,2.5,2.5,1.0,1.0,2.0,1.0,2.0,3.0,1.75,2.0,2.0,2.5,2.5,2.5,1.75,2.5,2.5,3.25,1.75,1.75,1.75,2.75,1.0,1.5,2.0,1.0,1.0,1.0,1.0,1.0,1.0,1.75,2.5,1.0,1.0,2.0,1.0,1.0,1.75,1.0,1.0,1.0,1.0,2.25,3.5,3.5,3.5,2.5,3.25,1.0,3.0,3.5,3.25,3.0,2.5,2.5,2.5,2.0,2.5,4.0,3.0,2.5,1.0,2.5,2.25,2.5,2.25,1.75,2.5,2.0,2.0,2.25,2.5,2.5,2.75,2.5,1.75,3.25,1.5,1.5,2.5,1.0,2.0,1.5,1.75,2.5,2.5,2.5,1.0,2.25,1.75,1.5,2.5,2.5,1.0,1.5,1.75,1.75,2.5,1.0,2.5,1.5,2.0,2.0,1.75,1.0,1.0,1.75,1.0,1.0,1.75,1.0,1.75,1.0,1.5,1.0,1.0,3.75,1.75,1.5,2.25,2.5,2.5,2.5,1.75,3.25,4.5,3.75,3.0,2.5,2.5,2.5,3.75,2.75,2.5,1.0,3.0,1.75,2.25,1.0,2.5,2.75,2.0,1.75,2.0,1.0,1.0,3.5,2.5,2.5,2.5,1.5,1.0,1.0,1.75,2.5,1.75,1.5,2.0,2.5,1.5,2.0,2.0,1.75,2.5,2.25,2.5,1.75,2.0,2.5,2.5,1.75,1.0,1.0,2.5,3.5,1.75,1.0,1.0,2.75,1.75,1.0,1.0,2.5,2.0,1.75,1.75,1.0,2.5,1.75,2.5,2.5,2.25,2.5,1.5,1.5,1.5,2.5,1.0,1.0,1.0,1.5,2.0,1.75,1.0,1.0,2.5,3.25,1.75,3.25,3.5,1.75,2.5,3.5,2.5,2.25,2.5,3.25,3.0,2.5,3.0,2.25,1.5,3.25,2.5,2.0,1.75,2.0,3.5,1.5,3.5,2.5,1.75,1.75,2.5,1.75,2.5,2.75,2.0,2.5,1.75,2.0,3.0,2.5,2.5,1.0,2.25,2.5,2.5,2.5,1.75,2.25,1.75,1.75,1.0,1.0,3.5,2.5,3.25,3.25,2.25,2.5,3.25,2.25,3.5,1.75,2.5,2.5,2.5,2.75,2.75,2.5,2.5,3.0,2.5,2.5,2.5,2.0,2.5,2.5,3.0,1.75,3.0,2.5,1.75,1.0,2.5,2.75,2.5,2.5,2.25,1.75,2.25,1.75,1.75,2.0,2.25,3.25,2.5,3.0,2.0,2.0,3.0,1.0,1.75,2.5,1.75,1.0,1.0,1.0,1.5,2.0,2.0,1.0,2.25,1.5,2.5,1.0,1.0,1.0,2.5,1.0,2.5,2.5,1.0,1.0,1.0,2.5,1.5,2.0,2.0,1.5,1.0,1.0,1.0,1.0,1.0,1.0,4.0,2.25,4.5,3.25,2.75,2.25,2.5,1.0,2.75,2.5,2.5,2.25,2.5,1.0,2.25,2.5,2.25,1.75,2.5,2.0,1.75,2.5,2.5,2.25,2.0,2.5,2.5,1.75,1.0,2.5,1.0,1.75,3.75,2.5,1.75,2.25,1.75,1.75,2.5,1.75,2.5,2.5,2.5,2.5,1.0,2.5,2.5,1.5,1.0,3.5,1.5,2.0,2.5,1.75,1.0,2.75,1.5,1.5,1.5,1.5,1.0,1.5,1.5,2.5,1.0,1.0,2.75,1.0,2.75,2.5,1.5,3.0,2.25,2.0,1.75,2.25,1.0,2.0,1.5,1.0,1.0,1.5,2.0,1.0,1.5,2.0,1.5,2.0,1.0,1.5,1.0,1.75,1.0,1.0,1.0,0.75,1.0,1.75,1.0,1.0,4.25,2.25,4.5,2.75,3.5,3.5,1.5,2.5,2.75,2.25,4.5,3.0,2.5,2.0,3.25,2.75,2.5,2.5,2.5,2.5,2.5,2.5,3.0,2.5,1.75,2.5,2.5,1.0,1.0,2.75,2.25,1.75,1.0,1.75,2.0,2.5,2.5,2.5,2.0,1.75,1.0,2.0,2.5,2.0,2.5,1.0,2.0,2.25,2.5,1.75,1.5,2.5,1.5,2.5,1.0,2.0,2.5,2.25,1.0,2.5,2.5,1.0,1.0,1.75,1.0,1.0,1.5,1.0,1.75,4.0,1.75,2.5,3.0,1.75,3.0,5.25,3.75,3.75,2.75,1.75,2.75,2.5,1.75,3.5,2.75,2.5,2.75,3.25,1.75,2.0,2.5,3.0,2.25,2.75,2.5,1.75,2.5,2.5,2.75,1.75,1.0,2.5,1.75,2.5,2.0,3.5,1.75,1.75,1.5,1.0,1.75,2.5,1.0,1.0,1.0,2.5,2.0,1.0,1.5,3.0,1.0,1.5,2.0,2.0,1.0,1.75,1.0,1.0,2.25,1.5,2.75,1.75,2.25,2.5,2.0,2.5,2.0,1.0,2.5,1.0,2.5,1.5,1.75,2.75,2.25,1.0,1.5,1.0,1.5,1.0,2.0,1.5,2.5,2.5,1.0,1.5,1.0,3.25,4.5,1.25,3.25,2.5,2.25,1.5,2.25,2.75,2.0,1.0,2.25,2.5,2.5,2.25,2.5,2.0,2.5,5.25,2.5,2.5,1.0,1.5,3.25,2.75,3.25,1.75,1.75,2.5,1.5,2.25,3.25,2.5,2.5,2.0,2.5,1.0,2.25,2.5,2.5,2.25,2.0,2.0,1.75,1.0,2.0,1.75,2.25,2.5,2.5,2.5,1.75,2.5,2.5,1.0,2.5,1.5,1.5,2.5,1.75,1.5,1.0,2.0,2.25,2.0,1.0,2.5,2.5,1.0,1.0,2.5,1.0,1.75,2.5,1.75,1.0,1.75,3.0,1.0,2.0,1.5,1.0,2.25,1.5,1.5,1.0,1.0,3.75,2.5,3.0,3.5,2.75,2.5,1.0,2.5,2.5,1.0,2.5,1.75,1.75,2.0,2.5,2.0,1.75,2.0,2.25,2.5,2.5,2.5,2.25,1.75,2.5,2.5,1.0,1.5,1.75,3.0,1.0,2.5,1.75,1.5,2.5,1.0,2.5,1.5,2.5,1.0,1.75,1.0,1.75,1.5,1.0,1.75,1.75,2.0,1.5,2.5,2.5,2.5,2.5,2.5,2.5,2.25,1.5,2.5,1.5,1.75,2.5,2.5,1.5,2.0,1.0,1.0,1.5,2.75,2.0,2.0,1.0,2.5,1.5,2.0,1.0,2.0,1.5,1.0,1.0,1.0,1.0,1.0,2.5,4.0,4.25,2.5,3.25,2.5,2.75,2.75,2.5,3.5,4.25,2.75,3.0,3.0,2.25,2.5,1.75,2.0,3.5,3.0,2.25,3.5,1.0,2.0,2.0,2.0,2.25,3.0,2.25,1.75,2.25,2.0,1.75,2.0,1.5,1.75,2.25,1.0,2.5,2.5,1.75,2.25,1.0,2.5,2.0,1.0,3.25,2.25,2.5,1.75,2.75,2.75,1.0,3.5,2.25,1.5,1.75,2.5,1.75,3.0,2.25,2.5,2.75,2.5,2.5,2.25,1.75,1.75,2.0,2.75,1.75,1.75,2.5,1.5,1.75,2.0,1.5,2.25,1.0,2.5,2.5,1.5,1.75,1.0,1.5,1.0,4.5,3.5,4.0,2.75,3.0,3.5,2.75,2.5,3.25,1.75,3.5,1.75,3.5,3.5,2.0,2.0,2.5,2.0,3.25,3.5,2.5,3.5,2.5,2.5,3.25,2.5,2.75,2.5,2.25,1.75,1.75,2.5,1.5,2.5,1.75,2.75,1.75,1.0,1.75,2.25,1.75,1.0,2.0,2.75,2.5,2.5,3.25,1.0,1.75,3.0,1.75,2.5,1.5,3.25,2.25,1.0,1.0,2.5,1.0,2.5,2.25,2.5,2.75,1.0,2.5,2.5,2.25,2.5,2.25,2.5,2.5,2.25,1.0,1.0,1.75,1.0,2.5,2.0,1.0,1.75,1.0,1.5,2.25,2.75,1.75,2.5,1.0,1.75,1.0,1.0,2.5,2.0,0.75,3.5,4.75,3.5,2.5,3.5,3.25,1.75,2.0,1.5,3.0,2.75,2.25,2.5,2.5,2.5,2.5,2.25,2.0,2.5,1.75,2.5,2.0,2.5,1.75,2.0,2.75,2.25,1.0,2.5,1.75,1.5,1.0,1.0,2.5,2.25,1.75,1.0,1.75,1.5,2.5,2.0,2.5,2.5,1.0,2.0,2.5,1.0,1.5,1.75,2.5,2.0,1.75,1.75,1.75,1.0,1.0,1.75,2.25,2.25,2.5,2.0,2.0,3.0,1.75,1.0,1.0,2.0,2.0,1.75,1.0,1.0,1.5,1.0,1.0,1.0,1.0,1.0,1.0,1.0,3.75,3.75,3.0,4.25,2.25,1.5,3.5,1.75,1.75,2.0,2.75,2.75,1.75,2.25,1.75,1.75,2.0,2.5,2.25,2.5,2.25,1.75,3.0,1.75,3.25,3.0,1.0,2.0,2.5,2.5,2.5,2.0,4.5,2.0,1.0,2.25,1.75,2.25,1.5,2.0,1.0,2.0,3.25,1.5,2.75,2.5,1.0,1.0,2.0,1.0,1.75,2.5,1.0,1.0,1.0,1.75,1.5,2.25,1.0,2.5,2.0,2.0,3.0,2.0,1.0,2.5,1.0,1.75,1.0,1.0,1.0,2.75,3.5,2.75,2.5,3.75,1.5,1.5,2.5,3.25,3.5,2.75,2.75,2.25,3.0,2.5,2.0,2.75,3.0,2.5,1.75,2.5,2.0,1.0,1.75,2.0,3.5,2.25,1.5,1.75,2.25,2.75,2.5,2.5,2.75,1.5,1.0,2.5,2.5,2.5,1.75,3.0,2.0,1.75,1.0,1.75,1.5,1.0,3.5,2.5,2.5,1.0,1.0,2.25,3.5,4.25,3.5,3.5,3.5,2.75,2.25,3.25,2.5,4.0,4.0,2.5,3.0,1.5,2.25,1.75,4.25,3.5,2.75,1.75,2.75,1.0,1.0,1.5,2.5,2.25,1.5,1.5,1.75,1.75,2.0,1.75,2.75,1.75,2.5,1.75,2.25,2.5,1.0,2.75,1.5,2.5,3.0,1.75,1.0,2.5,1.75,1.75,1.0,2.25,2.5,2.75,1.0,1.5,1.75,1.75,1.0,1.5,2.75,1.75,2.5,2.5,3.25,1.5,1.0,2.5,2.5,2.5,1.0,2.25,1.75,2.25,1.0,1.0,1.75,1.75,2.5,2.5,2.75,1.5,1.75,2.5,2.25,2.0,2.0,2.0,1.0,1.0,2.5,1.0,1.0,2.5,2.5,1.0,1.0,1.5,2.25,2.25,2.5,2.75,2.5,2.5,1.5,1.0,2.25,2.75,2.5,1.0,2.5,1.75,1.75,2.75,2.0,2.5,2.5,2.5,1.75,2.0,2.5,2.5,3.5,2.0,2.75,2.5,3.0,2.0,1.0,2.5,2.5,2.5,2.25,2.5,2.0,2.25,1.0,2.5,2.25,1.5,2.25,2.5,2.0,2.5,1.0,3.5,1.5,3.25,1.75,1.0,1.75,1.0,2.5,2.5,2.5,2.75,1.0,2.5,2.25,2.75,1.5,1.75,2.75,1.75,1.75,1.5,1.75,1.0,2.25,1.0,2.5,2.25,1.0,1.0,1.0,2.5,1.0,1.5,2.5,1.75,1.75,1.75,2.0,1.0,1.5,2.0,2.25,1.5,1.5,1.0,1.0,2.0,2.0,1.0,1.0,4.25,3.0,3.5,3.0,3.75,2.5,2.5,2.5,2.75,1.75,2.5,3.5,1.75,1.75,1.5,2.5,2.5,2.25,2.25,1.75,1.0,2.0,2.5,2.0,2.5,2.25,2.25,2.5,2.25,2.5,2.25,1.75,3.25,1.75,1.0,1.0,2.25,1.0,1.75,2.5,2.5,2.0,1.0,2.25,2.25,2.5,1.75,2.75,3.0,2.5,1.5,2.0,1.5,1.0,1.0,0.75,2.25,2.0,1.0,1.75,2.0,1.0,2.0,2.75,1.75,2.5,1.75,2.5,1.5,1.0,2.75,2.25,1.5,2.25,1.5,1.0,2.5,1.0,1.0,1.0,3.0,2.75,2.5,3.25,2.5,2.75,2.25,2.5,1.0,2.0,1.0,2.5,2.5,2.0,1.5,3.5,2.75,2.25,2.25,2.25,1.75,5.0,4.0,2.25,1.75,2.0,1.75,1.5,2.0,1.75,2.25,2.0,2.0,1.5,2.0,2.5,1.5,1.0,1.5,2.5,1.0,1.0,1.75,2.5,2.5,1.5,1.0,2.5,2.5,1.5,2.25,2.5,1.0,2.25,2.5,1.0,1.5,2.0,1.0,1.0,2.0,1.0,1.75,1.75,1.0,1.75,4.25,4.5,2.25,2.5,3.25,2.25,2.75,3.0,2.75,2.5,2.25,2.25,1.75,2.75,3.5,2.25,3.25,2.0,1.5,3.0,2.25,2.5,2.5,2.5,2.25,1.0,2.25,1.75,2.75,3.0,2.25,2.5,3.0,2.0,1.75,1.75,3.0,1.5,2.5,3.0,1.75,1.0,2.75,1.75,2.5,1.5,2.5,2.25,2.5,1.0,1.0,1.0,1.0,2.25,1.75,2.75,2.0,1.0,1.0,1.0,2.0,3.5,2.25,1.0,2.25,1.0,2.5,1.75,4.75,3.0,3.0,4.5,3.25,2.25,2.75,2.5,2.0,3.25,2.75,2.5,1.75,2.0,2.5,2.75,2.5,2.25,3.25,2.5,2.25,3.5,2.0,2.0,1.0,2.5,1.75,1.0,2.5,1.0,2.5,2.5,2.5,1.75,1.75,2.75,1.5,2.25,2.25,1.0,2.5,1.75,2.25,2.25,1.0,1.75,2.5,1.0,1.0,2.5,1.5,1.75,2.5,2.0,3.0,2.5,3.25,1.0,1.0,1.75,3.0,1.0,2.5,2.5,1.75,1.0,1.75,1.75,2.0,1.0,1.0,1.0,1.0,1.0,4.0,2.25,3.75,3.5,3.25,3.5,3.5,2.5,2.25,2.25,2.75,4.0,2.5,2.5,2.5,2.5,2.5,2.25,2.5,2.25,2.75,3.0,3.0,2.5,1.75,2.0,2.75,2.75,2.25,2.25,2.5,2.25,1.5,1.75,3.0,1.0,1.0,2.5,3.5,2.25,1.75,2.25,1.75,3.0,2.0,2.5,3.0,1.0,1.75,2.25,2.25,1.75,2.25,2.5,2.5,1.75,2.25,1.75,1.75,2.75,2.0,2.5,2.0,1.75,2.25,2.5,2.5,1.0,1.0,2.5,1.5,1.5,1.75,1.75,1.0,1.5,1.0,1.0,1.75,3.25,2.75,5.25,1.75,3.25,2.5,2.5,2.75,2.5,2.25,1.75,1.5,2.5,2.5,2.5,2.5,2.5,2.25,2.5,2.25,2.25,1.0,1.0,2.5,3.25,3.5,2.5,1.0,1.75,2.25,1.5,2.25,2.5,2.0,2.25,2.75,2.5,2.0,1.75,2.75,2.5,2.5,2.5,2.5,1.0,2.25,1.0,1.0,2.5,3.0,2.5,1.75,2.5,1.0,3.25,1.0,2.5,2.5,2.0,2.25,1.5,1.5,1.75,1.75,1.75,2.0,2.0,1.5,2.0,2.5,1.0,2.25,1.0,1.0,2.75,3.75,2.5,3.25,3.25,4.0,2.5,1.5,2.5,1.5,2.5,2.5,3.5,1.75,2.5,2.25,2.5,1.0,1.0,2.0,2.5,2.5,2.0,2.25,2.0,2.75,1.75,2.5,2.75,2.25,3.5,1.75,1.5,1.0,2.0,2.75,1.75,1.75,1.75,2.25,2.25,3.25,1.0,1.5,3.0,1.0,1.5,2.25,2.5,2.5,2.75,1.5,1.0,2.0,1.0,2.0,3.25,1.75,1.0,2.5,2.25,1.75,2.5,1.0,2.25,2.25,1.75,1.75,2.0,1.5,2.0,1.5,0.75,1.0,1.0,1.0,1.75,5.5,3.25,3.5,2.5,4.25,3.5,2.5,2.5,3.5,2.5,3.5,2.25,3.5,3.0,2.5,1.75,2.5,1.0,1.5,2.75,3.25,2.25,1.75,1.0,2.5,3.0,1.75,2.25,2.75,2.5,1.75,1.0,1.0,1.5,2.5,1.5,3.0,2.75,1.75,1.0,3.25,1.75,1.75,2.5,2.5,2.5,1.0,2.5,1.5,1.0,1.0,0.5,2.0,2.5,1.75,1.75,1.5,1.0,2.0,2.25,1.0,2.5,1.0,1.0,1.0,1.0,1.0,1.0,3.5,3.25,1.75,2.5,1.5,1.0,1.0,2.5,3.5,2.5,2.5,1.0,2.0,3.5,2.5,2.5,4.5,3.5,2.75,3.75,2.75,2.5,2.5,2.25,1.0,2.75,2.5,2.5,2.75,3.25,2.25,2.75,2.5,2.5,1.75,2.25,1.75,1.0,1.75,1.5,2.0,1.0,2.75,1.75,2.0,1.75,1.0,2.25,2.5,1.5,1.75,2.5,2.75,1.75,2.5,1.0,2.25,1.5,2.25,2.25,2.5,2.25,2.25,2.25,2.5,1.0,2.0,2.5,1.0,3.25,1.75,1.0,1.0,1.75,1.75,3.0,2.0,1.5,2.0,2.5,1.5,2.5,1.0,1.75,1.0,1.0,1.0,4.5,3.25,2.75,3.5,3.25,3.25,2.25,4.0,1.5,1.75,3.5,2.5,1.75,4.0,1.0,2.25,2.5,2.75,1.75,1.5,2.25,1.75,2.25,2.5,1.75,2.5,1.0,1.0,2.0,2.5,2.5,2.0,2.25,2.5,1.75,1.75,2.5,2.25,2.5,2.5,2.0,2.25,2.5,2.5,2.0,1.75,1.0,1.5,2.5,1.0,1.0,1.75,2.5,2.75,2.0,2.25,2.25,2.25,1.0,2.25,1.5,1.75,1.5,1.0,1.5,1.0,1.75,1.0,1.0,1.75,3.5,2.75,2.5,3.0,3.25,2.5,2.75,3.75,3.5,2.75,2.5,2.5,2.25,2.5,2.75,2.5,2.25,1.0,2.5,1.0,2.25,1.75,1.75,2.0,2.5,1.75,2.5,1.75,1.5,2.75,2.5,2.75,1.5,1.0,1.75,2.75,2.5,2.5,2.5,2.5,2.0,2.0,1.0,1.0,1.0,1.0,1.0,1.0,1.0,1.75,2.25,2.0,1.0,1.75,1.0,1.0,1.75,1.75,2.25,1.5,1.75,1.5,1.5,3.5,1.75,2.5,3.5,2.75,2.5,3.0,2.5,3.5,2.75,2.5,2.5,1.75,1.0,3.0,2.5,1.75,1.75,2.5,2.0,1.0,2.5,1.75,1.75,2.5,2.5,2.5,2.5,2.75,2.25,1.0,0.75,2.0,1.5,1.5,1.25,1.75,1.75,2.5,2.25,2.5,1.5,2.5,2.5,2.25,1.0,2.5,2.5,1.5,2.5,1.0,2.5,1.0,1.5,1.0,1.75,2.5,1.0,2.5,2.25,1.0,1.5,1.0,2.5,2.0,1.5,1.0,4.0,3.5,1.75,2.0,3.75,2.75,2.5,2.25,2.5,1.5,2.75,2.5,2.0,2.25,2.5,2.25,2.0,1.0,1.0,2.0,1.0,2.0,2.5,1.0,1.5,1.0,1.75,2.0,2.0,2.0,1.0,2.5,1.75,1.5,1.0,1.75,1.5,1.75,1.0,1.75,1.0,1.0,3.0,2.5,1.0,2.75,1.0,2.25,1.5,2.0,3.0,1.0,3.25,2.5,3.25,1.5,2.75,2.5,2.25,2.0,1.0,1.5,2.0,3.0,3.5,2.5,2.25,2.5,1.75,3.5,2.0,1.75,2.75,2.0,2.5,2.25,1.75,1.5,2.0,2.5,2.5,2.25,2.5,2.25,1.0,2.75,2.5,1.75,1.75,2.25,2.5,2.25,1.0,2.75,2.0,1.5,2.75,2.25,2.25,1.75,1.5,1.5,2.5,2.25,2.25,2.0,2.5,1.75,2.25,2.5,2.25,1.75,2.0,1.75,1.5,1.0,1.0,2.0,1.0,3.75,2.5,3.25,3.0,4.5,3.0,2.5,2.0,2.5,1.5,3.25,2.75,2.75,1.75,1.0,3.0,3.5,2.5,0.75,1.75,1.75,1.0,2.5,2.0,2.5,2.5,1.75,2.5,1.75,1.0,2.0,1.5,2.0,2.75,1.75,2.5,1.5,3.0,3.25,2.25,2.5,2.5,2.25,2.25,2.25,1.0,2.5,2.5,2.25,1.5,1.0,2.5,2.25,2.5,1.75,1.5,1.0,1.0,1.5,1.0,1.0,1.0,4.5,2.0,2.5,3.0,3.5,2.25,2.5,1.0,1.5,2.0,2.5,1.75,1.75,1.0,1.75,1.0,2.0,2.5,2.25,1.0,1.0,1.0,2.5,1.0,1.75,2.25,1.5,1.0,2.0,2.0,1.5,4.25,3.0,2.75,3.5,3.25,2.5,2.25,1.5,2.5,2.0,1.0,2.0,2.75,1.75,2.75,2.5,3.0,1.75,1.75,1.0,2.5,2.5,2.5,2.5,1.75,2.0,2.0,2.0,2.5,2.5,1.75,2.0,1.75,2.25,1.0,1.5,1.0,1.0,3.0,2.5,3.25,3.0,2.5,2.75,2.5,2.5,2.75,1.75,3.0,2.5,2.5,2.5,2.5,3.0,1.75,3.5,2.5,2.5,2.5,2.75,1.75,2.75,1.0,2.5,2.0,2.0,2.0,2.25,2.75,1.5,2.5,2.0,2.5,1.0,2.25,1.5,2.25,1.0,2.5,2.0,1.75,2.5,3.5,1.0,2.5,2.0,2.0,2.75,2.25,2.75,2.0,1.0,1.75,2.25,1.0,1.0,1.5,1.0,1.0,1.5,1.0,1.0,1.5,1.75,3.25,4.0,5.0,3.25,4.0,2.0,2.75,2.5,2.5,2.5,2.5,2.0,3.0,2.75,2.5,2.75,2.5,3.0,0.75,2.25,2.25,1.75,1.75,2.0,1.75,2.5,2.5,1.5,1.75,1.0,2.0,2.0,2.5,1.0,1.0,1.5,2.0,2.5,1.0,1.5,2.0,1.0,1.0,2.5,2.5,2.5,1.0,1.5,2.5,3.25,3.25,2.0,2.75,2.5,2.75,3.0,2.5,1.75,1.75,2.5,2.5,2.25,1.75,2.0,2.5,2.5,1.75,2.5,1.5,2.25,2.75,2.0,1.5,1.75,2.5,2.5,2.75,2.0,2.75,1.75,1.0,1.0,1.75,1.5,2.0,1.0,1.0,1.0],\"xaxis\":\"x\",\"yaxis\":\"y\",\"type\":\"histogram\"}],                        {\"template\":{\"data\":{\"histogram2dcontour\":[{\"type\":\"histogram2dcontour\",\"colorbar\":{\"outlinewidth\":0,\"ticks\":\"\"},\"colorscale\":[[0.0,\"#0d0887\"],[0.1111111111111111,\"#46039f\"],[0.2222222222222222,\"#7201a8\"],[0.3333333333333333,\"#9c179e\"],[0.4444444444444444,\"#bd3786\"],[0.5555555555555556,\"#d8576b\"],[0.6666666666666666,\"#ed7953\"],[0.7777777777777778,\"#fb9f3a\"],[0.8888888888888888,\"#fdca26\"],[1.0,\"#f0f921\"]]}],\"choropleth\":[{\"type\":\"choropleth\",\"colorbar\":{\"outlinewidth\":0,\"ticks\":\"\"}}],\"histogram2d\":[{\"type\":\"histogram2d\",\"colorbar\":{\"outlinewidth\":0,\"ticks\":\"\"},\"colorscale\":[[0.0,\"#0d0887\"],[0.1111111111111111,\"#46039f\"],[0.2222222222222222,\"#7201a8\"],[0.3333333333333333,\"#9c179e\"],[0.4444444444444444,\"#bd3786\"],[0.5555555555555556,\"#d8576b\"],[0.6666666666666666,\"#ed7953\"],[0.7777777777777778,\"#fb9f3a\"],[0.8888888888888888,\"#fdca26\"],[1.0,\"#f0f921\"]]}],\"heatmap\":[{\"type\":\"heatmap\",\"colorbar\":{\"outlinewidth\":0,\"ticks\":\"\"},\"colorscale\":[[0.0,\"#0d0887\"],[0.1111111111111111,\"#46039f\"],[0.2222222222222222,\"#7201a8\"],[0.3333333333333333,\"#9c179e\"],[0.4444444444444444,\"#bd3786\"],[0.5555555555555556,\"#d8576b\"],[0.6666666666666666,\"#ed7953\"],[0.7777777777777778,\"#fb9f3a\"],[0.8888888888888888,\"#fdca26\"],[1.0,\"#f0f921\"]]}],\"heatmapgl\":[{\"type\":\"heatmapgl\",\"colorbar\":{\"outlinewidth\":0,\"ticks\":\"\"},\"colorscale\":[[0.0,\"#0d0887\"],[0.1111111111111111,\"#46039f\"],[0.2222222222222222,\"#7201a8\"],[0.3333333333333333,\"#9c179e\"],[0.4444444444444444,\"#bd3786\"],[0.5555555555555556,\"#d8576b\"],[0.6666666666666666,\"#ed7953\"],[0.7777777777777778,\"#fb9f3a\"],[0.8888888888888888,\"#fdca26\"],[1.0,\"#f0f921\"]]}],\"contourcarpet\":[{\"type\":\"contourcarpet\",\"colorbar\":{\"outlinewidth\":0,\"ticks\":\"\"}}],\"contour\":[{\"type\":\"contour\",\"colorbar\":{\"outlinewidth\":0,\"ticks\":\"\"},\"colorscale\":[[0.0,\"#0d0887\"],[0.1111111111111111,\"#46039f\"],[0.2222222222222222,\"#7201a8\"],[0.3333333333333333,\"#9c179e\"],[0.4444444444444444,\"#bd3786\"],[0.5555555555555556,\"#d8576b\"],[0.6666666666666666,\"#ed7953\"],[0.7777777777777778,\"#fb9f3a\"],[0.8888888888888888,\"#fdca26\"],[1.0,\"#f0f921\"]]}],\"surface\":[{\"type\":\"surface\",\"colorbar\":{\"outlinewidth\":0,\"ticks\":\"\"},\"colorscale\":[[0.0,\"#0d0887\"],[0.1111111111111111,\"#46039f\"],[0.2222222222222222,\"#7201a8\"],[0.3333333333333333,\"#9c179e\"],[0.4444444444444444,\"#bd3786\"],[0.5555555555555556,\"#d8576b\"],[0.6666666666666666,\"#ed7953\"],[0.7777777777777778,\"#fb9f3a\"],[0.8888888888888888,\"#fdca26\"],[1.0,\"#f0f921\"]]}],\"mesh3d\":[{\"type\":\"mesh3d\",\"colorbar\":{\"outlinewidth\":0,\"ticks\":\"\"}}],\"scatter\":[{\"fillpattern\":{\"fillmode\":\"overlay\",\"size\":10,\"solidity\":0.2},\"type\":\"scatter\"}],\"parcoords\":[{\"type\":\"parcoords\",\"line\":{\"colorbar\":{\"outlinewidth\":0,\"ticks\":\"\"}}}],\"scatterpolargl\":[{\"type\":\"scatterpolargl\",\"marker\":{\"colorbar\":{\"outlinewidth\":0,\"ticks\":\"\"}}}],\"bar\":[{\"error_x\":{\"color\":\"#2a3f5f\"},\"error_y\":{\"color\":\"#2a3f5f\"},\"marker\":{\"line\":{\"color\":\"#E5ECF6\",\"width\":0.5},\"pattern\":{\"fillmode\":\"overlay\",\"size\":10,\"solidity\":0.2}},\"type\":\"bar\"}],\"scattergeo\":[{\"type\":\"scattergeo\",\"marker\":{\"colorbar\":{\"outlinewidth\":0,\"ticks\":\"\"}}}],\"scatterpolar\":[{\"type\":\"scatterpolar\",\"marker\":{\"colorbar\":{\"outlinewidth\":0,\"ticks\":\"\"}}}],\"histogram\":[{\"marker\":{\"pattern\":{\"fillmode\":\"overlay\",\"size\":10,\"solidity\":0.2}},\"type\":\"histogram\"}],\"scattergl\":[{\"type\":\"scattergl\",\"marker\":{\"colorbar\":{\"outlinewidth\":0,\"ticks\":\"\"}}}],\"scatter3d\":[{\"type\":\"scatter3d\",\"line\":{\"colorbar\":{\"outlinewidth\":0,\"ticks\":\"\"}},\"marker\":{\"colorbar\":{\"outlinewidth\":0,\"ticks\":\"\"}}}],\"scattermapbox\":[{\"type\":\"scattermapbox\",\"marker\":{\"colorbar\":{\"outlinewidth\":0,\"ticks\":\"\"}}}],\"scatterternary\":[{\"type\":\"scatterternary\",\"marker\":{\"colorbar\":{\"outlinewidth\":0,\"ticks\":\"\"}}}],\"scattercarpet\":[{\"type\":\"scattercarpet\",\"marker\":{\"colorbar\":{\"outlinewidth\":0,\"ticks\":\"\"}}}],\"carpet\":[{\"aaxis\":{\"endlinecolor\":\"#2a3f5f\",\"gridcolor\":\"white\",\"linecolor\":\"white\",\"minorgridcolor\":\"white\",\"startlinecolor\":\"#2a3f5f\"},\"baxis\":{\"endlinecolor\":\"#2a3f5f\",\"gridcolor\":\"white\",\"linecolor\":\"white\",\"minorgridcolor\":\"white\",\"startlinecolor\":\"#2a3f5f\"},\"type\":\"carpet\"}],\"table\":[{\"cells\":{\"fill\":{\"color\":\"#EBF0F8\"},\"line\":{\"color\":\"white\"}},\"header\":{\"fill\":{\"color\":\"#C8D4E3\"},\"line\":{\"color\":\"white\"}},\"type\":\"table\"}],\"barpolar\":[{\"marker\":{\"line\":{\"color\":\"#E5ECF6\",\"width\":0.5},\"pattern\":{\"fillmode\":\"overlay\",\"size\":10,\"solidity\":0.2}},\"type\":\"barpolar\"}],\"pie\":[{\"automargin\":true,\"type\":\"pie\"}]},\"layout\":{\"autotypenumbers\":\"strict\",\"colorway\":[\"#636efa\",\"#EF553B\",\"#00cc96\",\"#ab63fa\",\"#FFA15A\",\"#19d3f3\",\"#FF6692\",\"#B6E880\",\"#FF97FF\",\"#FECB52\"],\"font\":{\"color\":\"#2a3f5f\"},\"hovermode\":\"closest\",\"hoverlabel\":{\"align\":\"left\"},\"paper_bgcolor\":\"white\",\"plot_bgcolor\":\"#E5ECF6\",\"polar\":{\"bgcolor\":\"#E5ECF6\",\"angularaxis\":{\"gridcolor\":\"white\",\"linecolor\":\"white\",\"ticks\":\"\"},\"radialaxis\":{\"gridcolor\":\"white\",\"linecolor\":\"white\",\"ticks\":\"\"}},\"ternary\":{\"bgcolor\":\"#E5ECF6\",\"aaxis\":{\"gridcolor\":\"white\",\"linecolor\":\"white\",\"ticks\":\"\"},\"baxis\":{\"gridcolor\":\"white\",\"linecolor\":\"white\",\"ticks\":\"\"},\"caxis\":{\"gridcolor\":\"white\",\"linecolor\":\"white\",\"ticks\":\"\"}},\"coloraxis\":{\"colorbar\":{\"outlinewidth\":0,\"ticks\":\"\"}},\"colorscale\":{\"sequential\":[[0.0,\"#0d0887\"],[0.1111111111111111,\"#46039f\"],[0.2222222222222222,\"#7201a8\"],[0.3333333333333333,\"#9c179e\"],[0.4444444444444444,\"#bd3786\"],[0.5555555555555556,\"#d8576b\"],[0.6666666666666666,\"#ed7953\"],[0.7777777777777778,\"#fb9f3a\"],[0.8888888888888888,\"#fdca26\"],[1.0,\"#f0f921\"]],\"sequentialminus\":[[0.0,\"#0d0887\"],[0.1111111111111111,\"#46039f\"],[0.2222222222222222,\"#7201a8\"],[0.3333333333333333,\"#9c179e\"],[0.4444444444444444,\"#bd3786\"],[0.5555555555555556,\"#d8576b\"],[0.6666666666666666,\"#ed7953\"],[0.7777777777777778,\"#fb9f3a\"],[0.8888888888888888,\"#fdca26\"],[1.0,\"#f0f921\"]],\"diverging\":[[0,\"#8e0152\"],[0.1,\"#c51b7d\"],[0.2,\"#de77ae\"],[0.3,\"#f1b6da\"],[0.4,\"#fde0ef\"],[0.5,\"#f7f7f7\"],[0.6,\"#e6f5d0\"],[0.7,\"#b8e186\"],[0.8,\"#7fbc41\"],[0.9,\"#4d9221\"],[1,\"#276419\"]]},\"xaxis\":{\"gridcolor\":\"white\",\"linecolor\":\"white\",\"ticks\":\"\",\"title\":{\"standoff\":15},\"zerolinecolor\":\"white\",\"automargin\":true,\"zerolinewidth\":2},\"yaxis\":{\"gridcolor\":\"white\",\"linecolor\":\"white\",\"ticks\":\"\",\"title\":{\"standoff\":15},\"zerolinecolor\":\"white\",\"automargin\":true,\"zerolinewidth\":2},\"scene\":{\"xaxis\":{\"backgroundcolor\":\"#E5ECF6\",\"gridcolor\":\"white\",\"linecolor\":\"white\",\"showbackground\":true,\"ticks\":\"\",\"zerolinecolor\":\"white\",\"gridwidth\":2},\"yaxis\":{\"backgroundcolor\":\"#E5ECF6\",\"gridcolor\":\"white\",\"linecolor\":\"white\",\"showbackground\":true,\"ticks\":\"\",\"zerolinecolor\":\"white\",\"gridwidth\":2},\"zaxis\":{\"backgroundcolor\":\"#E5ECF6\",\"gridcolor\":\"white\",\"linecolor\":\"white\",\"showbackground\":true,\"ticks\":\"\",\"zerolinecolor\":\"white\",\"gridwidth\":2}},\"shapedefaults\":{\"line\":{\"color\":\"#2a3f5f\"}},\"annotationdefaults\":{\"arrowcolor\":\"#2a3f5f\",\"arrowhead\":0,\"arrowwidth\":1},\"geo\":{\"bgcolor\":\"white\",\"landcolor\":\"#E5ECF6\",\"subunitcolor\":\"white\",\"showland\":true,\"showlakes\":true,\"lakecolor\":\"white\"},\"title\":{\"x\":0.05},\"mapbox\":{\"style\":\"light\"}}},\"xaxis\":{\"anchor\":\"y\",\"domain\":[0.0,1.0],\"title\":{\"text\":\"Number of Bathrooms\"}},\"yaxis\":{\"anchor\":\"x\",\"domain\":[0.0,1.0],\"title\":{\"text\":\"Count\"}},\"legend\":{\"tracegroupgap\":0},\"title\":{\"text\":\"Distribution of Number of Bathrooms\"},\"barmode\":\"relative\"},                        {\"responsive\": true}                    ).then(function(){\n",
              "                            \n",
              "var gd = document.getElementById('48dfbc92-3c2d-45e4-8755-93c72eb7d866');\n",
              "var x = new MutationObserver(function (mutations, observer) {{\n",
              "        var display = window.getComputedStyle(gd).display;\n",
              "        if (!display || display === 'none') {{\n",
              "            console.log([gd, 'removed!']);\n",
              "            Plotly.purge(gd);\n",
              "            observer.disconnect();\n",
              "        }}\n",
              "}});\n",
              "\n",
              "// Listen for the removal of the full notebook cells\n",
              "var notebookContainer = gd.closest('#notebook-container');\n",
              "if (notebookContainer) {{\n",
              "    x.observe(notebookContainer, {childList: true});\n",
              "}}\n",
              "\n",
              "// Listen for the clearing of the current output cell\n",
              "var outputEl = gd.closest('.output');\n",
              "if (outputEl) {{\n",
              "    x.observe(outputEl, {childList: true});\n",
              "}}\n",
              "\n",
              "                        })                };                            </script>        </div>\n",
              "</body>\n",
              "</html>"
            ]
          },
          "metadata": {}
        }
      ]
    },
    {
      "cell_type": "code",
      "source": [
        "\n",
        "import matplotlib.pyplot as plt\n",
        "import seaborn as sns\n",
        "\n",
        "# Create a figure with 2 rows and 2 columns of subplots\n",
        "fig, axes = plt.subplots(2, 2, figsize=(15, 8))\n",
        "\n",
        "# Create a scatter plot of living area vs price\n",
        "sns.scatterplot(x=\"living area\", y=\"Price\", data=data, ax=axes[0, 0])\n",
        "axes[0, 0].set_title(\"Living Area vs Price\")\n",
        "\n",
        "# Create a scatter plot of number of bedrooms vs price\n",
        "sns.scatterplot(x=\"number of bedrooms\", y=\"Price\", data=data, ax=axes[0, 1])\n",
        "axes[0, 1].set_title(\"Number of Bedrooms vs Price\")\n",
        "\n",
        "# Create a scatter plot of number of bathrooms vs price\n",
        "sns.scatterplot(x=\"number of bathrooms\", y=\"Price\", data=data, ax=axes[1, 0])\n",
        "axes[1, 0].set_title(\"Number of Bathrooms vs Price\")\n",
        "\n",
        "# Create a histogram of prices\n",
        "sns.histplot(data[\"Price\"], ax=axes[1, 1])\n",
        "axes[1, 1].set_title(\"Distribution of Prices\")\n",
        "\n",
        "# Adjust the spacing between subplots\n",
        "plt.tight_layout()\n",
        "\n",
        "# Show the plot\n",
        "plt.show()\n"
      ],
      "metadata": {
        "colab": {
          "base_uri": "https://localhost:8080/",
          "height": 772
        },
        "id": "TtUFdzinFdh6",
        "outputId": "e4664f1a-7ccd-40a0-e349-25a69bc77d41"
      },
      "execution_count": 52,
      "outputs": [
        {
          "output_type": "display_data",
          "data": {
            "text/plain": [
              "<Figure size 1500x800 with 4 Axes>"
            ],
            "image/png": "[encoded data removed]"
          },
          "metadata": {}
        }
      ]
    },
    {
      "cell_type": "code",
      "source": [
        "data.describe()"
      ],
      "metadata": {
        "id": "Z4zjJleO66IH",
        "colab": {
          "base_uri": "https://localhost:8080/",
          "height": 384
        },
        "outputId": "13b0fbf9-5687-4eac-93ab-d2168f933d27"
      },
      "execution_count": 9,
      "outputs": [
        {
          "output_type": "execute_result",
          "data": {
            "text/plain": [
              "                 id          Date  number of bedrooms  number of bathrooms  \\\n",
              "count  1.462000e+04  14620.000000        14620.000000         14620.000000   \n",
              "mean   6.762821e+09  42604.538646            3.379343             2.129583   \n",
              "std    6.237575e+03     67.347991            0.938719             0.769934   \n",
              "min    6.762810e+09  42491.000000            1.000000             0.500000   \n",
              "25%    6.762815e+09  42546.000000            3.000000             1.750000   \n",
              "50%    6.762821e+09  42600.000000            3.000000             2.250000   \n",
              "75%    6.762826e+09  42662.000000            4.000000             2.500000   \n",
              "max    6.762832e+09  42734.000000           33.000000             8.000000   \n",
              "\n",
              "        living area      lot area  number of floors  waterfront present  \\\n",
              "count  14620.000000  1.462000e+04      14620.000000        14620.000000   \n",
              "mean    2098.262996  1.509328e+04          1.502360            0.007661   \n",
              "std      928.275721  3.791962e+04          0.540239            0.087193   \n",
              "min      370.000000  5.200000e+02          1.000000            0.000000   \n",
              "25%     1440.000000  5.010750e+03          1.000000            0.000000   \n",
              "50%     1930.000000  7.620000e+03          1.500000            0.000000   \n",
              "75%     2570.000000  1.080000e+04          2.000000            0.000000   \n",
              "max    13540.000000  1.074218e+06          3.500000            1.000000   \n",
              "\n",
              "       number of views  condition of the house  ...    Built Year  \\\n",
              "count     14620.000000            14620.000000  ...  14620.000000   \n",
              "mean          0.233105                3.430506  ...   1970.926402   \n",
              "std           0.766259                0.664151  ...     29.493625   \n",
              "min           0.000000                1.000000  ...   1900.000000   \n",
              "25%           0.000000                3.000000  ...   1951.000000   \n",
              "50%           0.000000                3.000000  ...   1975.000000   \n",
              "75%           0.000000                4.000000  ...   1997.000000   \n",
              "max           4.000000                5.000000  ...   2015.000000   \n",
              "\n",
              "       Renovation Year    Postal Code     Lattitude     Longitude  \\\n",
              "count     14620.000000   14620.000000  14620.000000  14620.000000   \n",
              "mean         90.924008  122033.062244     52.792848   -114.404007   \n",
              "std         416.216661      19.082418      0.137522      0.141326   \n",
              "min           0.000000  122003.000000     52.385900   -114.709000   \n",
              "25%           0.000000  122017.000000     52.707600   -114.519000   \n",
              "50%           0.000000  122032.000000     52.806400   -114.421000   \n",
              "75%           0.000000  122048.000000     52.908900   -114.315000   \n",
              "max        2015.000000  122072.000000     53.007600   -113.505000   \n",
              "\n",
              "       living_area_renov  lot_area_renov  Number of schools nearby  \\\n",
              "count       14620.000000    14620.000000              14620.000000   \n",
              "mean         1996.702257    12753.500068                  2.012244   \n",
              "std           691.093366    26058.414467                  0.817284   \n",
              "min           460.000000      651.000000                  1.000000   \n",
              "25%          1490.000000     5097.750000                  1.000000   \n",
              "50%          1850.000000     7620.000000                  2.000000   \n",
              "75%          2380.000000    10125.000000                  3.000000   \n",
              "max          6110.000000   560617.000000                  3.000000   \n",
              "\n",
              "       Distance from the airport         Price  \n",
              "count               14620.000000  1.462000e+04  \n",
              "mean                   64.950958  5.389322e+05  \n",
              "std                     8.936008  3.675324e+05  \n",
              "min                    50.000000  7.800000e+04  \n",
              "25%                    57.000000  3.200000e+05  \n",
              "50%                    65.000000  4.500000e+05  \n",
              "75%                    73.000000  6.450000e+05  \n",
              "max                    80.000000  7.700000e+06  \n",
              "\n",
              "[8 rows x 23 columns]"
            ],
            "text/html": [
              "\n",
              "  <div id=\"df-042a3177-5db5-4cb2-b166-fa0076ed7bda\" class=\"colab-df-container\">\n",
              "    <div>\n",
              "<style scoped>\n",
              "    .dataframe tbody tr th:only-of-type {\n",
              "        vertical-align: middle;\n",
              "    }\n",
              "\n",
              "    .dataframe tbody tr th {\n",
              "        vertical-align: top;\n",
              "    }\n",
              "\n",
              "    .dataframe thead th {\n",
              "        text-align: right;\n",
              "    }\n",
              "</style>\n",
              "<table border=\"1\" class=\"dataframe\">\n",
              "  <thead>\n",
              "    <tr style=\"text-align: right;\">\n",
              "      <th></th>\n",
              "      <th>id</th>\n",
              "      <th>Date</th>\n",
              "      <th>number of bedrooms</th>\n",
              "      <th>number of bathrooms</th>\n",
              "      <th>living area</th>\n",
              "      <th>lot area</th>\n",
              "      <th>number of floors</th>\n",
              "      <th>waterfront present</th>\n",
              "      <th>number of views</th>\n",
              "      <th>condition of the house</th>\n",
              "      <th>...</th>\n",
              "      <th>Built Year</th>\n",
              "      <th>Renovation Year</th>\n",
              "      <th>Postal Code</th>\n",
              "      <th>Lattitude</th>\n",
              "      <th>Longitude</th>\n",
              "      <th>living_area_renov</th>\n",
              "      <th>lot_area_renov</th>\n",
              "      <th>Number of schools nearby</th>\n",
              "      <th>Distance from the airport</th>\n",
              "      <th>Price</th>\n",
              "    </tr>\n",
              "  </thead>\n",
              "  <tbody>\n",
              "    <tr>\n",
              "      <th>count</th>\n",
              "      <td>1.462000e+04</td>\n",
              "      <td>14620.000000</td>\n",
              "      <td>14620.000000</td>\n",
              "      <td>14620.000000</td>\n",
              "      <td>14620.000000</td>\n",
              "      <td>1.462000e+04</td>\n",
              "      <td>14620.000000</td>\n",
              "      <td>14620.000000</td>\n",
              "      <td>14620.000000</td>\n",
              "      <td>14620.000000</td>\n",
              "      <td>...</td>\n",
              "      <td>14620.000000</td>\n",
              "      <td>14620.000000</td>\n",
              "      <td>14620.000000</td>\n",
              "      <td>14620.000000</td>\n",
              "      <td>14620.000000</td>\n",
              "      <td>14620.000000</td>\n",
              "      <td>14620.000000</td>\n",
              "      <td>14620.000000</td>\n",
              "      <td>14620.000000</td>\n",
              "      <td>1.462000e+04</td>\n",
              "    </tr>\n",
              "    <tr>\n",
              "      <th>mean</th>\n",
              "      <td>6.762821e+09</td>\n",
              "      <td>42604.538646</td>\n",
              "      <td>3.379343</td>\n",
              "      <td>2.129583</td>\n",
              "      <td>2098.262996</td>\n",
              "      <td>1.509328e+04</td>\n",
              "      <td>1.502360</td>\n",
              "      <td>0.007661</td>\n",
              "      <td>0.233105</td>\n",
              "      <td>3.430506</td>\n",
              "      <td>...</td>\n",
              "      <td>1970.926402</td>\n",
              "      <td>90.924008</td>\n",
              "      <td>122033.062244</td>\n",
              "      <td>52.792848</td>\n",
              "      <td>-114.404007</td>\n",
              "      <td>1996.702257</td>\n",
              "      <td>12753.500068</td>\n",
              "      <td>2.012244</td>\n",
              "      <td>64.950958</td>\n",
              "      <td>5.389322e+05</td>\n",
              "    </tr>\n",
              "    <tr>\n",
              "      <th>std</th>\n",
              "      <td>6.237575e+03</td>\n",
              "      <td>67.347991</td>\n",
              "      <td>0.938719</td>\n",
              "      <td>0.769934</td>\n",
              "      <td>928.275721</td>\n",
              "      <td>3.791962e+04</td>\n",
              "      <td>0.540239</td>\n",
              "      <td>0.087193</td>\n",
              "      <td>0.766259</td>\n",
              "      <td>0.664151</td>\n",
              "      <td>...</td>\n",
              "      <td>29.493625</td>\n",
              "      <td>416.216661</td>\n",
              "      <td>19.082418</td>\n",
              "      <td>0.137522</td>\n",
              "      <td>0.141326</td>\n",
              "      <td>691.093366</td>\n",
              "      <td>26058.414467</td>\n",
              "      <td>0.817284</td>\n",
              "      <td>8.936008</td>\n",
              "      <td>3.675324e+05</td>\n",
              "    </tr>\n",
              "    <tr>\n",
              "      <th>min</th>\n",
              "      <td>6.762810e+09</td>\n",
              "      <td>42491.000000</td>\n",
              "      <td>1.000000</td>\n",
              "      <td>0.500000</td>\n",
              "      <td>370.000000</td>\n",
              "      <td>5.200000e+02</td>\n",
              "      <td>1.000000</td>\n",
              "      <td>0.000000</td>\n",
              "      <td>0.000000</td>\n",
              "      <td>1.000000</td>\n",
              "      <td>...</td>\n",
              "      <td>1900.000000</td>\n",
              "      <td>0.000000</td>\n",
              "      <td>122003.000000</td>\n",
              "      <td>52.385900</td>\n",
              "      <td>-114.709000</td>\n",
              "      <td>460.000000</td>\n",
              "      <td>651.000000</td>\n",
              "      <td>1.000000</td>\n",
              "      <td>50.000000</td>\n",
              "      <td>7.800000e+04</td>\n",
              "    </tr>\n",
              "    <tr>\n",
              "      <th>25%</th>\n",
              "      <td>6.762815e+09</td>\n",
              "      <td>42546.000000</td>\n",
              "      <td>3.000000</td>\n",
              "      <td>1.750000</td>\n",
              "      <td>1440.000000</td>\n",
              "      <td>5.010750e+03</td>\n",
              "      <td>1.000000</td>\n",
              "      <td>0.000000</td>\n",
              "      <td>0.000000</td>\n",
              "      <td>3.000000</td>\n",
              "      <td>...</td>\n",
              "      <td>1951.000000</td>\n",
              "      <td>0.000000</td>\n",
              "      <td>122017.000000</td>\n",
              "      <td>52.707600</td>\n",
              "      <td>-114.519000</td>\n",
              "      <td>1490.000000</td>\n",
              "      <td>5097.750000</td>\n",
              "      <td>1.000000</td>\n",
              "      <td>57.000000</td>\n",
              "      <td>3.200000e+05</td>\n",
              "    </tr>\n",
              "    <tr>\n",
              "      <th>50%</th>\n",
              "      <td>6.762821e+09</td>\n",
              "      <td>42600.000000</td>\n",
              "      <td>3.000000</td>\n",
              "      <td>2.250000</td>\n",
              "      <td>1930.000000</td>\n",
              "      <td>7.620000e+03</td>\n",
              "      <td>1.500000</td>\n",
              "      <td>0.000000</td>\n",
              "      <td>0.000000</td>\n",
              "      <td>3.000000</td>\n",
              "      <td>...</td>\n",
              "      <td>1975.000000</td>\n",
              "      <td>0.000000</td>\n",
              "      <td>122032.000000</td>\n",
              "      <td>52.806400</td>\n",
              "      <td>-114.421000</td>\n",
              "      <td>1850.000000</td>\n",
              "      <td>7620.000000</td>\n",
              "      <td>2.000000</td>\n",
              "      <td>65.000000</td>\n",
              "      <td>4.500000e+05</td>\n",
              "    </tr>\n",
              "    <tr>\n",
              "      <th>75%</th>\n",
              "      <td>6.762826e+09</td>\n",
              "      <td>42662.000000</td>\n",
              "      <td>4.000000</td>\n",
              "      <td>2.500000</td>\n",
              "      <td>2570.000000</td>\n",
              "      <td>1.080000e+04</td>\n",
              "      <td>2.000000</td>\n",
              "      <td>0.000000</td>\n",
              "      <td>0.000000</td>\n",
              "      <td>4.000000</td>\n",
              "      <td>...</td>\n",
              "      <td>1997.000000</td>\n",
              "      <td>0.000000</td>\n",
              "      <td>122048.000000</td>\n",
              "      <td>52.908900</td>\n",
              "      <td>-114.315000</td>\n",
              "      <td>2380.000000</td>\n",
              "      <td>10125.000000</td>\n",
              "      <td>3.000000</td>\n",
              "      <td>73.000000</td>\n",
              "      <td>6.450000e+05</td>\n",
              "    </tr>\n",
              "    <tr>\n",
              "      <th>max</th>\n",
              "      <td>6.762832e+09</td>\n",
              "      <td>42734.000000</td>\n",
              "      <td>33.000000</td>\n",
              "      <td>8.000000</td>\n",
              "      <td>13540.000000</td>\n",
              "      <td>1.074218e+06</td>\n",
              "      <td>3.500000</td>\n",
              "      <td>1.000000</td>\n",
              "      <td>4.000000</td>\n",
              "      <td>5.000000</td>\n",
              "      <td>...</td>\n",
              "      <td>2015.000000</td>\n",
              "      <td>2015.000000</td>\n",
              "      <td>122072.000000</td>\n",
              "      <td>53.007600</td>\n",
              "      <td>-113.505000</td>\n",
              "      <td>6110.000000</td>\n",
              "      <td>560617.000000</td>\n",
              "      <td>3.000000</td>\n",
              "      <td>80.000000</td>\n",
              "      <td>7.700000e+06</td>\n",
              "    </tr>\n",
              "  </tbody>\n",
              "</table>\n",
              "<p>8 rows × 23 columns</p>\n",
              "</div>\n",
              "    <div class=\"colab-df-buttons\">\n",
              "\n",
              "  <div class=\"colab-df-container\">\n",
              "    <button class=\"colab-df-convert\" onclick=\"convertToInteractive('df-042a3177-5db5-4cb2-b166-fa0076ed7bda')\"\n",
              "            title=\"Convert this dataframe to an interactive table.\"\n",
              "            style=\"display:none;\">\n",
              "\n",
              "  <svg xmlns=\"http://www.w3.org/2000/svg\" height=\"24px\" viewBox=\"0 -960 960 960\">\n",
              "    <path d=\"M120-120v-720h720v720H120Zm60-500h600v-160H180v160Zm220 220h160v-160H400v160Zm0 220h160v-160H400v160ZM180-400h160v-160H180v160Zm440 0h160v-160H620v160ZM180-180h160v-160H180v160Zm440 0h160v-160H620v160Z\"/>\n",
              "  </svg>\n",
              "    </button>\n",
              "\n",
              "  <style>\n",
              "    .colab-df-container {\n",
              "      display:flex;\n",
              "      gap: 12px;\n",
              "    }\n",
              "\n",
              "    .colab-df-convert {\n",
              "      background-color: #E8F0FE;\n",
              "      border: none;\n",
              "      border-radius: 50%;\n",
              "      cursor: pointer;\n",
              "      display: none;\n",
              "      fill: #1967D2;\n",
              "      height: 32px;\n",
              "      padding: 0 0 0 0;\n",
              "      width: 32px;\n",
              "    }\n",
              "\n",
              "    .colab-df-convert:hover {\n",
              "      background-color: #E2EBFA;\n",
              "      box-shadow: 0px 1px 2px rgba(60, 64, 67, 0.3), 0px 1px 3px 1px rgba(60, 64, 67, 0.15);\n",
              "      fill: #174EA6;\n",
              "    }\n",
              "\n",
              "    .colab-df-buttons div {\n",
              "      margin-bottom: 4px;\n",
              "    }\n",
              "\n",
              "    [theme=dark] .colab-df-convert {\n",
              "      background-color: #3B4455;\n",
              "      fill: #D2E3FC;\n",
              "    }\n",
              "\n",
              "    [theme=dark] .colab-df-convert:hover {\n",
              "      background-color: #434B5C;\n",
              "      box-shadow: 0px 1px 3px 1px rgba(0, 0, 0, 0.15);\n",
              "      filter: drop-shadow(0px 1px 2px rgba(0, 0, 0, 0.3));\n",
              "      fill: #FFFFFF;\n",
              "    }\n",
              "  </style>\n",
              "\n",
              "    <script>\n",
              "      const buttonEl =\n",
              "        document.querySelector('#df-042a3177-5db5-4cb2-b166-fa0076ed7bda button.colab-df-convert');\n",
              "      buttonEl.style.display =\n",
              "        google.colab.kernel.accessAllowed ? 'block' : 'none';\n",
              "\n",
              "      async function convertToInteractive(key) {\n",
              "        const element = document.querySelector('#df-042a3177-5db5-4cb2-b166-fa0076ed7bda');\n",
              "        const dataTable =\n",
              "          await google.colab.kernel.invokeFunction('convertToInteractive',\n",
              "                                                    [key], {});\n",
              "        if (!dataTable) return;\n",
              "\n",
              "        const docLinkHtml = 'Like what you see? Visit the ' +\n",
              "          '<a target=\"_blank\" href=https://colab.research.google.com/notebooks/data_table.ipynb>data table notebook</a>'\n",
              "          + ' to learn more about interactive tables.';\n",
              "        element.innerHTML = '';\n",
              "        dataTable['output_type'] = 'display_data';\n",
              "        await google.colab.output.renderOutput(dataTable, element);\n",
              "        const docLink = document.createElement('div');\n",
              "        docLink.innerHTML = docLinkHtml;\n",
              "        element.appendChild(docLink);\n",
              "      }\n",
              "    </script>\n",
              "  </div>\n",
              "\n",
              "\n",
              "<div id=\"df-4ffb948b-d00d-4110-a14a-7312d8e16b0a\">\n",
              "  <button class=\"colab-df-quickchart\" onclick=\"quickchart('df-4ffb948b-d00d-4110-a14a-7312d8e16b0a')\"\n",
              "            title=\"Suggest charts\"\n",
              "            style=\"display:none;\">\n",
              "\n",
              "<svg xmlns=\"http://www.w3.org/2000/svg\" height=\"24px\"viewBox=\"0 0 24 24\"\n",
              "     width=\"24px\">\n",
              "    <g>\n",
              "        <path d=\"M19 3H5c-1.1 0-2 .9-2 2v14c0 1.1.9 2 2 2h14c1.1 0 2-.9 2-2V5c0-1.1-.9-2-2-2zM9 17H7v-7h2v7zm4 0h-2V7h2v10zm4 0h-2v-4h2v4z\"/>\n",
              "    </g>\n",
              "</svg>\n",
              "  </button>\n",
              "\n",
              "<style>\n",
              "  .colab-df-quickchart {\n",
              "      --bg-color: #E8F0FE;\n",
              "      --fill-color: #1967D2;\n",
              "      --hover-bg-color: #E2EBFA;\n",
              "      --hover-fill-color: #174EA6;\n",
              "      --disabled-fill-color: #AAA;\n",
              "      --disabled-bg-color: #DDD;\n",
              "  }\n",
              "\n",
              "  [theme=dark] .colab-df-quickchart {\n",
              "      --bg-color: #3B4455;\n",
              "      --fill-color: #D2E3FC;\n",
              "      --hover-bg-color: #434B5C;\n",
              "      --hover-fill-color: #FFFFFF;\n",
              "      --disabled-bg-color: #3B4455;\n",
              "      --disabled-fill-color: #666;\n",
              "  }\n",
              "\n",
              "  .colab-df-quickchart {\n",
              "    background-color: var(--bg-color);\n",
              "    border: none;\n",
              "    border-radius: 50%;\n",
              "    cursor: pointer;\n",
              "    display: none;\n",
              "    fill: var(--fill-color);\n",
              "    height: 32px;\n",
              "    padding: 0;\n",
              "    width: 32px;\n",
              "  }\n",
              "\n",
              "  .colab-df-quickchart:hover {\n",
              "    background-color: var(--hover-bg-color);\n",
              "    box-shadow: 0 1px 2px rgba(60, 64, 67, 0.3), 0 1px 3px 1px rgba(60, 64, 67, 0.15);\n",
              "    fill: var(--button-hover-fill-color);\n",
              "  }\n",
              "\n",
              "  .colab-df-quickchart-complete:disabled,\n",
              "  .colab-df-quickchart-complete:disabled:hover {\n",
              "    background-color: var(--disabled-bg-color);\n",
              "    fill: var(--disabled-fill-color);\n",
              "    box-shadow: none;\n",
              "  }\n",
              "\n",
              "  .colab-df-spinner {\n",
              "    border: 2px solid var(--fill-color);\n",
              "    border-color: transparent;\n",
              "    border-bottom-color: var(--fill-color);\n",
              "    animation:\n",
              "      spin 1s steps(1) infinite;\n",
              "  }\n",
              "\n",
              "  @keyframes spin {\n",
              "    0% {\n",
              "      border-color: transparent;\n",
              "      border-bottom-color: var(--fill-color);\n",
              "      border-left-color: var(--fill-color);\n",
              "    }\n",
              "    20% {\n",
              "      border-color: transparent;\n",
              "      border-left-color: var(--fill-color);\n",
              "      border-top-color: var(--fill-color);\n",
              "    }\n",
              "    30% {\n",
              "      border-color: transparent;\n",
              "      border-left-color: var(--fill-color);\n",
              "      border-top-color: var(--fill-color);\n",
              "      border-right-color: var(--fill-color);\n",
              "    }\n",
              "    40% {\n",
              "      border-color: transparent;\n",
              "      border-right-color: var(--fill-color);\n",
              "      border-top-color: var(--fill-color);\n",
              "    }\n",
              "    60% {\n",
              "      border-color: transparent;\n",
              "      border-right-color: var(--fill-color);\n",
              "    }\n",
              "    80% {\n",
              "      border-color: transparent;\n",
              "      border-right-color: var(--fill-color);\n",
              "      border-bottom-color: var(--fill-color);\n",
              "    }\n",
              "    90% {\n",
              "      border-color: transparent;\n",
              "      border-bottom-color: var(--fill-color);\n",
              "    }\n",
              "  }\n",
              "</style>\n",
              "\n",
              "  <script>\n",
              "    async function quickchart(key) {\n",
              "      const quickchartButtonEl =\n",
              "        document.querySelector('#' + key + ' button');\n",
              "      quickchartButtonEl.disabled = true;  // To prevent multiple clicks.\n",
              "      quickchartButtonEl.classList.add('colab-df-spinner');\n",
              "      try {\n",
              "        const charts = await google.colab.kernel.invokeFunction(\n",
              "            'suggestCharts', [key], {});\n",
              "      } catch (error) {\n",
              "        console.error('Error during call to suggestCharts:', error);\n",
              "      }\n",
              "      quickchartButtonEl.classList.remove('colab-df-spinner');\n",
              "      quickchartButtonEl.classList.add('colab-df-quickchart-complete');\n",
              "    }\n",
              "    (() => {\n",
              "      let quickchartButtonEl =\n",
              "        document.querySelector('#df-4ffb948b-d00d-4110-a14a-7312d8e16b0a button');\n",
              "      quickchartButtonEl.style.display =\n",
              "        google.colab.kernel.accessAllowed ? 'block' : 'none';\n",
              "    })();\n",
              "  </script>\n",
              "</div>\n",
              "\n",
              "    </div>\n",
              "  </div>\n"
            ],
            "application/vnd.google.colaboratory.intrinsic+json": {
              "type": "dataframe"
            }
          },
          "metadata": {},
          "execution_count": 9
        }
      ]
    }
  ]
}